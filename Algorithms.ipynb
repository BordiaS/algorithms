{
 "cells": [
  {
   "cell_type": "code",
   "execution_count": 1,
   "metadata": {},
   "outputs": [
    {
     "name": "stdout",
     "output_type": "stream",
     "text": [
      "[3, 6]\n",
      "[3, 6, 2, 7]\n",
      "[7, 2, 6, 3]\n",
      "[3, 6, 2, 2]\n",
      "[3, 6, 2]\n",
      "[6, 2]\n",
      "[5, 7, 9]\n"
     ]
    }
   ],
   "source": [
    "##Lists \n",
    "a = [] \n",
    "a.append(3) \n",
    "a.append(6) \n",
    "\n",
    "print(a)\n",
    "b = [2,7]\n",
    "c =a + b     #add two lists\n",
    "print(c)\n",
    "print(c[::-1]) #list in reverse\n",
    "c.pop()  #list as stack #remove last item\n",
    "c.append(2)\n",
    "print(c)\n",
    "c.remove(2)  #remove first item of value in ()\n",
    "print(c)\n",
    "c.pop(0) #remove ith item (here first)\n",
    "print(c)\n",
    "\n",
    "#lambda function\n",
    "numbers1 = [1, 2, 3] \n",
    "numbers2 = [4, 5, 6] \n",
    "  \n",
    "result = map(lambda x, y: x + y, numbers1, numbers2) \n",
    "print(list(result))"
   ]
  },
  {
   "cell_type": "code",
   "execution_count": 2,
   "metadata": {},
   "outputs": [
    {
     "name": "stdout",
     "output_type": "stream",
     "text": [
      "1 2\n"
     ]
    }
   ],
   "source": [
    "#Quick swap in python\n",
    "a=2\n",
    "b=1\n",
    "a,b=b,a\n",
    "print(a,b)"
   ]
  },
  {
   "cell_type": "code",
   "execution_count": 3,
   "metadata": {},
   "outputs": [
    {
     "name": "stdout",
     "output_type": "stream",
     "text": [
      "9223372036854775807\n"
     ]
    }
   ],
   "source": [
    "import sys\n",
    "#print(sys.minsize)\n",
    "print(sys.maxsize)\n",
    "#print(sys.maxint)"
   ]
  },
  {
   "cell_type": "code",
   "execution_count": 4,
   "metadata": {},
   "outputs": [
    {
     "name": "stdout",
     "output_type": "stream",
     "text": [
      "[2, 3, 5]\n",
      "[[4, 1], [2, 3]]\n",
      "[4, 1]\n",
      "[2, 3]\n"
     ]
    }
   ],
   "source": [
    "n = [5,2,3,]\n",
    "n.sort()\n",
    "print(n)\n",
    "n = [[2,3],[4,1]]\n",
    "n.sort(key=lambda a: a[1])\n",
    "print(n)\n",
    "for x in n:\n",
    "    print(x)"
   ]
  },
  {
   "cell_type": "code",
   "execution_count": 42,
   "metadata": {},
   "outputs": [
    {
     "data": {
      "text/plain": [
       "2"
      ]
     },
     "execution_count": 42,
     "metadata": {},
     "output_type": "execute_result"
    }
   ],
   "source": [
    "a_set = {1, 2, 3}\n",
    "b_iterator = iter(a_set)\n",
    "next(b_iterator)\n",
    "next(b_iterator)\n"
   ]
  },
  {
   "cell_type": "code",
   "execution_count": 4,
   "metadata": {},
   "outputs": [
    {
     "name": "stdout",
     "output_type": "stream",
     "text": [
      "1\n",
      "2\n",
      "3\n",
      "4\n",
      "1\n"
     ]
    }
   ],
   "source": [
    "import itertools\n",
    "a=[1,2,3,4]\n",
    "for c in a:\n",
    "    print(c)\n",
    "for c in itertools.islice(a,1):    \n",
    "    print(c)"
   ]
  },
  {
   "cell_type": "code",
   "execution_count": 31,
   "metadata": {},
   "outputs": [
    {
     "name": "stdout",
     "output_type": "stream",
     "text": [
      "6\n",
      "{('h', 'b'), ('t', 't'), ('i', 'i')}\n"
     ]
    }
   ],
   "source": [
    "a =6\n",
    "b=8\n",
    "print(a or b)\n",
    "\n",
    "#remove elements from a list while iterating over it\n",
    "#refer to ladderLength example in the notebook\n",
    "\"\"\"\n",
    "for w in wordList[:]:\n",
    "            \n",
    "        if condition:\n",
    "            wordList.remove(w)\n",
    "\"\"\"\n",
    "\n",
    "def hamming_distance(s1, s2):\n",
    "    \"\"\"Return the Hamming distance between equal-length sequences\"\"\"\n",
    "    return sum(el1 != el2 for el1, el2 in zip(s1, s2))\n",
    "\n",
    "print(set(zip(\"hit\",\"bit\")))"
   ]
  },
  {
   "cell_type": "code",
   "execution_count": 4,
   "metadata": {},
   "outputs": [
    {
     "name": "stdout",
     "output_type": "stream",
     "text": [
      "['VW', 'BMW', 'Ford', 'Mitsubishi']\n",
      "[[0, 1], [1, 3], [2, 6], [2, 4], [8, 10]]\n"
     ]
    }
   ],
   "source": [
    "def myFunc(e):\n",
    "  return len(e)\n",
    "\n",
    "cars = ['Ford', 'Mitsubishi', 'BMW', 'VW']\n",
    "\n",
    "cars.sort(key=myFunc)\n",
    "\n",
    "print(cars)\n",
    "\n",
    "def element(l):\n",
    "    return l[0]\n",
    "\n",
    "L= [[1,3],[2,6],[8,10],[0,1],[2,4]]\n",
    "L.sort(key=element)\n",
    "print(L)"
   ]
  },
  {
   "cell_type": "code",
   "execution_count": null,
   "metadata": {},
   "outputs": [],
   "source": [
    "from collections import defaultdict \n",
    "x = defaultdict(list)\n",
    "\n",
    "print(x[0])\n",
    "x = {1:0}\n",
    "print(x[0])"
   ]
  },
  {
   "cell_type": "code",
   "execution_count": 4,
   "metadata": {},
   "outputs": [
    {
     "name": "stdout",
     "output_type": "stream",
     "text": [
      "[None]\n",
      "[None, None]\n"
     ]
    }
   ],
   "source": [
    "arr=[]\n",
    "arr.append(None)\n",
    "print(arr)\n",
    "\n",
    "arr.append(None)\n",
    "print(arr)"
   ]
  },
  {
   "cell_type": "code",
   "execution_count": null,
   "metadata": {},
   "outputs": [],
   "source": [
    "def postorder(root):\n",
    "    \"\"\"\n",
    "    :type root: Node\n",
    "    :rtype: List[int]\n",
    "    \"\"\"\n",
    "    l,stack = [],[]\n",
    "\n",
    "    if (root == None):\n",
    "        return []\n",
    "    stack.append(root)\n",
    "    while stack:\n",
    "\n",
    "        root = stack.pop()\n",
    "        if root is not None:\n",
    "            l.append(root.val)\n",
    "        for x in root.children:\n",
    "            stack.append(x)\n",
    "    return l[::-1]"
   ]
  },
  {
   "cell_type": "code",
   "execution_count": null,
   "metadata": {},
   "outputs": [],
   "source": [
    "    \n",
    "def checkPossibility(self, nums):\n",
    "\"\"\"\n",
    ":type nums: List[int]\n",
    ":rtype: bool\n",
    "\"\"\"\n",
    "    j = 0\n",
    "    p = -1\n",
    "    for i in range(0,len(nums)-1):\n",
    "         if (nums[i]>nums[i+1]):\n",
    "                p = i\n",
    "                j=j+1\n",
    "\n",
    "    if (j<=1):\n",
    "        return (p==-1 or p ==0 or p == len(nums) -2 or nums[p-1]<=nums[p+1] or nums[p]<=nums[p+2] )\n",
    "    else:\n",
    "        return False"
   ]
  },
  {
   "cell_type": "code",
   "execution_count": null,
   "metadata": {},
   "outputs": [],
   "source": []
  },
  {
   "cell_type": "code",
   "execution_count": null,
   "metadata": {},
   "outputs": [],
   "source": [
    "def reverse(x):\n",
    "        \"\"\"\n",
    "        :type x: int\n",
    "        :rtype: int\n",
    "        \"\"\"\n",
    "        new_num =0\n",
    "        \n",
    "        while (x!=0):\n",
    "            dig = (int)(x % 10)\n",
    "            x = (int)(x/10)\n",
    "            new_num  =new_num*10+ dig\n",
    "        return new_num"
   ]
  },
  {
   "cell_type": "code",
   "execution_count": null,
   "metadata": {},
   "outputs": [],
   "source": [
    "reverse(120)"
   ]
  },
  {
   "cell_type": "code",
   "execution_count": null,
   "metadata": {},
   "outputs": [],
   "source": [
    "y = 1534236469\n",
    "print(y)\n",
    "print(pow(2,31))"
   ]
  },
  {
   "cell_type": "code",
   "execution_count": null,
   "metadata": {},
   "outputs": [],
   "source": [
    "\n",
    "def countPrimes(n):\n",
    "    \"\"\"\n",
    "    :type n: int\n",
    "    :rtype: int\n",
    "    \"\"\"\n",
    "    count =0\n",
    "    for i in range(2,n):\n",
    "        if (isprime(i)):\n",
    "            #print(i)\n",
    "            count+=1\n",
    "\n",
    "    return count                \n",
    "\n",
    "def isprime(m):\n",
    "    if (m<=3):\n",
    "        return m>1\n",
    "    else:\n",
    "        if (m % 2 ==0 or m % 3 ==0):\n",
    "            return False\n",
    "    i = 5\n",
    "    while(i*i<=m):\n",
    "        if(m % i ==0 or m %(i+2)==0):\n",
    "            return False\n",
    "        i=i+6\n",
    "    return True    "
   ]
  },
  {
   "cell_type": "code",
   "execution_count": null,
   "metadata": {},
   "outputs": [],
   "source": [
    " def rotate(nums, k):\n",
    "        l = len(nums)\n",
    "        while (k!=0):\n",
    "            k=k-1\n",
    "            num = nums[l-1]\n",
    "            nums.insert(0,num)\n",
    "            nums.pop(l)\n",
    "        "
   ]
  },
  {
   "cell_type": "code",
   "execution_count": null,
   "metadata": {},
   "outputs": [],
   "source": [
    "for i in range(6,1,-1):\n",
    "    print(i)"
   ]
  },
  {
   "cell_type": "code",
   "execution_count": null,
   "metadata": {},
   "outputs": [],
   "source": [
    "def searchRange(nums, target):\n",
    "    \n",
    "    start= 0\n",
    "    end = len(nums)-1\n",
    "    pos =[-1,-1]\n",
    "    while(start<end):\n",
    "        mid = (int)((start + end)/2)\n",
    "        \n",
    "        if(nums[mid]>target):\n",
    "            end = mid\n",
    "\n",
    "        if(nums[mid]<target):\n",
    "            start = mid +1   \n",
    "\n",
    "        if(nums[mid]==target):\n",
    "            pos.pop(0)\n",
    "            pos.pop(0)\n",
    "            pos.append(mid)\n",
    "            print(pos)\n",
    "            k=mid+1\n",
    "            b=mid-1\n",
    "            \n",
    "            while(nums[k]==target):\n",
    "                pos.append(k)\n",
    "                if(k<len(nums)-1):\n",
    "                    \n",
    "                    k=k+1\n",
    "                else:    \n",
    "                    break;\n",
    "\n",
    "            while(nums[b]==target):\n",
    "                \n",
    "                if(b>0):\n",
    "                    pos.insert(0,b)\n",
    "                    b=b-1\n",
    "                else:    \n",
    "                    break;\n",
    "\n",
    "            return pos   \n",
    "\n",
    "    return pos"
   ]
  },
  {
   "cell_type": "code",
   "execution_count": null,
   "metadata": {},
   "outputs": [],
   "source": [
    "nums = [2,2]\n",
    "target = 2\n",
    "print(searchRange(nums, target))"
   ]
  },
  {
   "cell_type": "code",
   "execution_count": null,
   "metadata": {},
   "outputs": [],
   "source": [
    "print(nums[-2])"
   ]
  },
  {
   "cell_type": "code",
   "execution_count": null,
   "metadata": {},
   "outputs": [],
   "source": [
    "print(chr(64),chr(64+26))"
   ]
  },
  {
   "cell_type": "code",
   "execution_count": null,
   "metadata": {},
   "outputs": [],
   "source": [
    "string = 'ABCDEFGHIJKLMNOPQRSTUVWXYZ'\n",
    "print(string[25])"
   ]
  },
  {
   "cell_type": "code",
   "execution_count": null,
   "metadata": {},
   "outputs": [],
   "source": [
    "import collections\n",
    "nums = [1,2,3,4,5,5]\n",
    "dic = collections.Counter(nums)\n",
    "print(dic) #convert array to dic collections"
   ]
  },
  {
   "cell_type": "code",
   "execution_count": null,
   "metadata": {},
   "outputs": [],
   "source": [
    "#k pairs\n",
    "def findPairs(nums, k):\n",
    "    \"\"\"\n",
    "    :type nums: List[int]\n",
    "    :type k: int\n",
    "    :rtype: int\n",
    "    \"\"\"\n",
    "    count=0\n",
    "    dic={}\n",
    "    dic = collections.Counter(nums)\n",
    "\n",
    "    if (k<0):\n",
    "        return 0\n",
    "\n",
    "    if (k==0):\n",
    "        for i in dic:\n",
    "            if (dic[i]>1):\n",
    "                count+=1\n",
    "\n",
    "        return count        \n",
    "    else:                \n",
    "\n",
    "        for i in dic:\n",
    "            p1 = i+k\n",
    "            p2 = i-k\n",
    "            if(p1 in dic and p2 in dic ):\n",
    "                count+=2\n",
    "                continue\n",
    "            if(p1 in dic or p2 in dic ):\n",
    "                count+=1\n",
    "                continue\n",
    "        return count/2\n",
    "#k pairs    \n",
    "#findPairs([1,2,3,4,5],1)"
   ]
  },
  {
   "cell_type": "code",
   "execution_count": 1,
   "metadata": {},
   "outputs": [
    {
     "name": "stdout",
     "output_type": "stream",
     "text": [
      "abs f\n",
      "ABSf\n"
     ]
    },
    {
     "ename": "NameError",
     "evalue": "name 'yourString' is not defined",
     "output_type": "error",
     "traceback": [
      "\u001b[0;31m---------------------------------------------------------------------------\u001b[0m",
      "\u001b[0;31mNameError\u001b[0m                                 Traceback (most recent call last)",
      "\u001b[0;32m<ipython-input-1-2fc269a29c7b>\u001b[0m in \u001b[0;36m<module>\u001b[0;34m()\u001b[0m\n\u001b[1;32m      2\u001b[0m \u001b[0mprint\u001b[0m\u001b[0;34m(\u001b[0m\u001b[0ms\u001b[0m\u001b[0;34m.\u001b[0m\u001b[0mlower\u001b[0m\u001b[0;34m(\u001b[0m\u001b[0;34m)\u001b[0m\u001b[0;34m)\u001b[0m\u001b[0;34m\u001b[0m\u001b[0m\n\u001b[1;32m      3\u001b[0m \u001b[0mprint\u001b[0m\u001b[0;34m(\u001b[0m\u001b[0ms\u001b[0m\u001b[0;34m.\u001b[0m\u001b[0mreplace\u001b[0m\u001b[0;34m(\u001b[0m\u001b[0;34m\" \"\u001b[0m\u001b[0;34m,\u001b[0m\u001b[0;34m\"\"\u001b[0m\u001b[0;34m)\u001b[0m\u001b[0;34m)\u001b[0m\u001b[0;34m\u001b[0m\u001b[0m\n\u001b[0;32m----> 4\u001b[0;31m \u001b[0mresult\u001b[0m \u001b[0;34m=\u001b[0m \u001b[0myourString\u001b[0m\u001b[0;34m.\u001b[0m\u001b[0mreplaceAll\u001b[0m\u001b[0;34m(\u001b[0m\u001b[0;34m\"[-+.^:,]\"\u001b[0m\u001b[0;34m,\u001b[0m\u001b[0;34m\"\"\u001b[0m\u001b[0;34m)\u001b[0m\u001b[0;34m;\u001b[0m\u001b[0;34m\u001b[0m\u001b[0m\n\u001b[0m\u001b[1;32m      5\u001b[0m \u001b[0;34m\u001b[0m\u001b[0m\n\u001b[1;32m      6\u001b[0m \u001b[0ms\u001b[0m \u001b[0;34m=\u001b[0m \u001b[0;34m\"caca a car\"\u001b[0m\u001b[0;34m\u001b[0m\u001b[0m\n",
      "\u001b[0;31mNameError\u001b[0m: name 'yourString' is not defined"
     ]
    }
   ],
   "source": [
    "s='ABS f'\n",
    "print(s.lower())\n",
    "print(s.replace(\" \",\"\"))\n",
    "result = yourString.replaceAll(\"[-+.^:,]\",\"\");\n",
    "\n",
    "s = \"caca a car\" \n",
    "s1 =\"A man, a plan, a canal: Panama\"\n",
    "s2 =\"fhreiufhurefer1232132\"\n",
    "print(s.isalnum())\n",
    "print(s2.isalnum()) #check alpha numeric "
   ]
  },
  {
   "cell_type": "code",
   "execution_count": null,
   "metadata": {},
   "outputs": [],
   "source": [
    "def isPalindrome(s):\n",
    "        \"\"\"\n",
    "        :type s: str\n",
    "        :rtype: bool\n",
    "        \n",
    "        \"\"\"\n",
    "        s=s.lower()\n",
    "        for ch in s:\n",
    "            if(ch.isalnum()!=True):\n",
    "                s=s.replace(ch,\"\")\n",
    "        L =len(s)\n",
    "        start = 0\n",
    "        end = L-1\n",
    "        f=0\n",
    "        while(start<end):\n",
    "            if(s[start]==s[end]):\n",
    "                f=1\n",
    "            else:\n",
    "                f=0\n",
    "                break\n",
    "            start+=1\n",
    "            end=end-1\n",
    "                \n",
    "        return (f==1)\n",
    "            \n",
    "s = \"caca a car\" \n",
    "s1 =\"A man, a plan, a canal: Panama\"\n",
    "s2 =\"fhreiufhurefer1232132\"\n",
    "print(isPalindrome(s))\n",
    "print(isPalindrome(s1))"
   ]
  },
  {
   "cell_type": "code",
   "execution_count": null,
   "metadata": {},
   "outputs": [],
   "source": [
    "\n",
    "def robotSim(commands, obstacles):\n",
    "    \"\"\"\n",
    "    :type commands: List[int]\n",
    "    :type obstacles: List[List[int]]\n",
    "    :rtype: int\n",
    "    \"\"\"\n",
    "    state = [0,0]\n",
    "    T = 'N'\n",
    "    #turns =['N','E','S','W']\n",
    "    for c in commands:\n",
    "\n",
    "        if(c>0):\n",
    "            if (T=='N'):\n",
    "                state[0],state[1]=state[0],state[1]+c                \n",
    "            if (T=='S'):\n",
    "                state[0],state[1]=state[0],state[1]-c\n",
    "            if (T=='W'):\n",
    "                state[0],state[1]=state[0]-c,state[1]\n",
    "            if (T=='E'):\n",
    "                state[0],state[1]=state[0]+c,state[1]\n",
    "\n",
    "        if(c==-1): \n",
    "            \n",
    "            if (T=='N'):\n",
    "                T='E'\n",
    "                \n",
    "            elif (T=='E'):\n",
    "                T='S'\n",
    "            elif (T== 'S'):\n",
    "                T='W'\n",
    "            elif (T== 'W'):\n",
    "                T='N'\n",
    "             \n",
    "        if(c==-2):      \n",
    "            elif (T== 'N'):\n",
    "                T='W'\n",
    "            elif (T=='W'):\n",
    "                T='S'\n",
    "            elif (T== 'S'):\n",
    "                T='E'\n",
    "            elif (T=='E'):\n",
    "                T='N'\n",
    "        \n",
    "    return  state[0]*state[0] + state[1]*state[1]\n",
    "print(robotSim([4,-1,3],[]))"
   ]
  },
  {
   "cell_type": "code",
   "execution_count": null,
   "metadata": {},
   "outputs": [],
   "source": [
    "class Node_S(object):\n",
    "    def __init__(self, data, next_node=None):\n",
    "        self.data=data\n",
    "        self.next_node=next_node\n",
    "        \n",
    "class LinkedList(object):\n",
    "    def __init__(self, head=None):\n",
    "        self.head=head\n",
    "        \n",
    "    def get(self, index):\n",
    "        i = 0\n",
    "        L = 0\n",
    "        temp = self.head\n",
    "        if(self.head == None):\n",
    "            return -1\n",
    "        while(temp.next_node!=None ):\n",
    "            L=L+1\n",
    "            if(index !=i):\n",
    "                temp = temp.next_node\n",
    "                i=i+1\n",
    "            else:\n",
    "                return temp.data\n",
    "        if(index==L):\n",
    "            return temp.data\n",
    "        return -1        \n",
    "        \n",
    "    def addAtTail(self, data): #How Many Args\n",
    "        new_node = Node_S(data) \n",
    "        if (self.head == None):            \n",
    "                self.head = new_node\n",
    "        else:\n",
    "            temp = self.head\n",
    "            while(temp.next_node!=None):\n",
    "                temp = temp.next_node\n",
    "            temp.next_node = new_node\n",
    "            \n",
    "    \n",
    "    def addAtHead(self,data):\n",
    "        new_node = Node_S(data)#,self.head)\n",
    "        new_node.next_node =self.head\n",
    "        self.head =new_node\n",
    "    \n",
    "    def addAtIndex(self,index, data): #How Many Args\n",
    "        new_node = Node_S(data) \n",
    "        i=0\n",
    "        L=0\n",
    "        temp = self.head\n",
    "        prev =None\n",
    "        if(index==0):\n",
    "            self.addAtHead(data)\n",
    "            return\n",
    "        else:\n",
    "            #while(temp.next_node!=None):\n",
    "            while(temp!=None):\n",
    "                L=L+1\n",
    "                if(index !=i):\n",
    "                    prev = temp\n",
    "                    temp = temp.next_node\n",
    "                    i=i+1\n",
    "                if(index ==i):     \n",
    "                    new_node.next_node = temp\n",
    "                    prev.next_node = new_node\n",
    "                    return;\n",
    "        return;     \n",
    "                    \n",
    "\n",
    "    def deleteAtIndex(self, index):\n",
    "        i = 0\n",
    "        L=0\n",
    "        temp = self.head\n",
    "        prev =self.head\n",
    "        if (index==0):\n",
    "            self.head = temp.next_node \n",
    "            return;\n",
    "        else :\n",
    "\n",
    "            while(temp.next_node!=None):\n",
    "                    L=L+1\n",
    "                    if(index !=i):\n",
    "                        prev = temp\n",
    "                        temp = temp.next_node\n",
    "                        i=i+1\n",
    "                    if(index ==i):     \n",
    "                        \n",
    "                        prev.next_node = temp.next_node\n",
    "                        temp.next_node =None\n",
    "                        return;\n",
    "        \n",
    "    def show(self):\n",
    "        temp = self.head\n",
    "        while(temp.next_node!=None):\n",
    "            print(temp.data)\n",
    "            temp=temp.next_node\n",
    "        print(temp.data)    \n",
    "        \n",
    "obj = LinkedList()\n",
    "print(obj.get(0))\n",
    "obj.addAtIndex(1,2)\n",
    "print(obj.get(0))\n",
    "print(obj.get(1))\n",
    "obj.addAtIndex(0,1)\n",
    "print(obj.get(0))\n",
    "print(obj.get(1))\n",
    "obj = LinkedList()\n",
    "obj.addAtTail(4)\n",
    "obj.addAtTail(5)\n",
    "obj.addAtTail(6)\n",
    "obj.addAtHead(3)\n",
    "obj.addAtIndex(1,2)\n",
    "print(obj.get(0))\n",
    "#obj.show()"
   ]
  },
  {
   "cell_type": "code",
   "execution_count": null,
   "metadata": {},
   "outputs": [],
   "source": [
    "s = \"Shikha\"\n",
    "import collections\n",
    "Dict = collections.Counter(s)\n",
    "print(Dict)\n",
    "print(s[0:3])"
   ]
  },
  {
   "cell_type": "code",
   "execution_count": null,
   "metadata": {},
   "outputs": [],
   "source": [
    "l,r=0,0\n",
    "maxlen =0 \n",
    "def longestPalindrome(s):\n",
    "    \"\"\"\n",
    "    :type s: str\n",
    "    :rtype: str\n",
    "    \"\"\"\n",
    "    global maxlen, l,r\n",
    "    if (len(s)<2):\n",
    "        return s\n",
    "    for i in range(len(s)):\n",
    "        extendPalindrome(i,i)\n",
    "        extendPalindrome(i,i+1)\n",
    "    print(maxlen,l,r)\n",
    "    return s[l:r+1]\n",
    "\n",
    "def extendPalindrome(i,j):\n",
    "    global maxlen, l,r\n",
    "    while(i>=0 and j<len(s) and s[i]==s[j]):\n",
    "        i=i-1\n",
    "        j=j+1\n",
    "        print(i,j)\n",
    "    \n",
    "    if(maxlen < j-i+1):\n",
    "       # print(\"m: \",i,j)\n",
    "        l,r=i+1,j+1\n",
    "        maxlen = j-i+1"
   ]
  },
  {
   "cell_type": "code",
   "execution_count": 2,
   "metadata": {},
   "outputs": [
    {
     "name": "stdout",
     "output_type": "stream",
     "text": [
      "aba\n",
      "aba\n"
     ]
    }
   ],
   "source": [
    "def longestPalindrome(s):\n",
    "    \"\"\"\n",
    "    :type s: str\n",
    "    :rtype: str\n",
    "    \"\"\"\n",
    "    l,r,maxlen =0,0,0\n",
    "    if (len(s)<2):\n",
    "        return s\n",
    "    for i in range(len(s)):\n",
    "        l,r,maxlen=extendPalindrome(s,i,i,l,r,maxlen)\n",
    "        l,r,maxlen=extendPalindrome(s,i,i+1,l,r,maxlen)\n",
    "    return s[l:r+1]\n",
    "\n",
    "def extendPalindrome(s,i,j,l,r,maxlen):\n",
    "    while(i>=0 and j<len(s) and s[i]==s[j]):\n",
    "        i=i-1\n",
    "        j=j+1\n",
    "\n",
    "    if(maxlen <= j-i+1):\n",
    "        l,r=i+1,j-1\n",
    "        maxlen = j-i+1\n",
    "\n",
    "    return l,r,maxlen    \n",
    "print(longestPalindrome(\"abac\"))\n",
    "print(longestPalindrome(\"babad\"))\n"
   ]
  },
  {
   "cell_type": "code",
   "execution_count": 9,
   "metadata": {},
   "outputs": [
    {
     "name": "stdout",
     "output_type": "stream",
     "text": [
      "[0, 1]\n",
      "[3, 4]\n"
     ]
    }
   ],
   "source": [
    " def twoSum(nums, target):\n",
    "        d ={}\n",
    "        for i in range(len(nums)):\n",
    "            p1 = nums[i]\n",
    "            po = target - p1\n",
    "            if (po in d):\n",
    "                return [d[po],i]\n",
    "            \n",
    "            d[nums[i]] = i\n",
    "        return [-1,-1]\n",
    "print(twoSum([3,3],6))            \n",
    "\n",
    "\n",
    "\n",
    "\n",
    "print(twoSum([3,1,3,4,7],11))"
   ]
  },
  {
   "cell_type": "code",
   "execution_count": null,
   "metadata": {},
   "outputs": [],
   "source": [
    "def mostCommonWord( paragraph, banned):\n",
    "    \"\"\"\n",
    "    :type paragraph: str\n",
    "    :type banned: List[str]\n",
    "    :rtype: str\n",
    "    \"\"\"\n",
    "    para=\"\"\n",
    "    for e in paragraph:\n",
    "        if e.isalnum():\n",
    "            para = para+e\n",
    "        else:\n",
    "            para = para+\" \"\n",
    "    para = para.lower()\n",
    "    \n",
    "               \n",
    "    dic = collections.Counter(para.split())\n",
    "    max_count = float('-inf')\n",
    "    mc=''\n",
    "    print(dic)\n",
    "    for word in dic:\n",
    "      \n",
    "        if max_count < dic[word] and word not in banned:\n",
    "            max_count = dic[word]\n",
    "            mc=word\n",
    "            \n",
    "\n",
    "    return mc                \n",
    "\n",
    "\n",
    "paragraph = \"Bob hit a ball, the hit BALL flew far after it was hit.\"\n",
    "banned = [\"hit\"]\n",
    "paragraph =\"a, a, a, a, b,b,b,c, c\"\n",
    "banned=[\"a\"]\n",
    "paragraph =[\"bob\"]\n",
    "banned=[]\n",
    "#print(mostCommonWord( paragraph, banned))"
   ]
  },
  {
   "cell_type": "code",
   "execution_count": null,
   "metadata": {},
   "outputs": [],
   "source": [
    "a = \"a\"\n",
    "b= ','.join(a)"
   ]
  },
  {
   "cell_type": "code",
   "execution_count": null,
   "metadata": {},
   "outputs": [],
   "source": [
    "b=[4]\n",
    "b.append(5)\n",
    "print(b)"
   ]
  },
  {
   "cell_type": "code",
   "execution_count": null,
   "metadata": {},
   "outputs": [],
   "source": [
    "  def climbStairs(n):\n",
    "        \"\"\"\n",
    "        :type n: int\n",
    "        :rtype: int\n",
    "        \"\"\"\n",
    "        if n<=2:\n",
    "            return n\n",
    "        \n",
    "        return (climbStairs(n-1) +climbStairs(n-2))\n",
    "    \n",
    "print(climbStairs(38))\n",
    "        \n",
    "            "
   ]
  },
  {
   "cell_type": "code",
   "execution_count": 15,
   "metadata": {},
   "outputs": [
    {
     "name": "stdout",
     "output_type": "stream",
     "text": [
      "-2\n"
     ]
    }
   ],
   "source": [
    "def maxSubArray(nums):\n",
    "        max_sum = nums[0]\n",
    "        rec_sum = 0\n",
    "        for i in range(0,len(nums)):\n",
    "            rec_sum = rec_sum +nums[i]\n",
    "                \n",
    "            if(rec_sum > max_sum):\n",
    "                 max_sum =rec_sum\n",
    "                    \n",
    "            if (rec_sum < 0) :\n",
    "                rec_sum = 0\n",
    "            \n",
    "                    \n",
    "        return max_sum                    \n",
    "\n",
    "print(maxSubArray([-2]))            \n",
    "            "
   ]
  },
  {
   "cell_type": "code",
   "execution_count": null,
   "metadata": {},
   "outputs": [],
   "source": [
    "#Maximum Product Subarray \n",
    "    \n",
    "def maxProduct(nums):\n",
    " \n",
    "        max_prod = nums[0]\n",
    "        rec_prod1=1\n",
    "        rec_prod2=1\n",
    "        for i in range(0,len(nums)):\n",
    "            rec_prod1= rec_prod1*nums[i]  #2\n",
    "            #rec_prod2= rec_prod2*nums[i]\n",
    "            max_prod = max(rec_prod1,max_prod)#,rec_prod2)\n",
    "            if(nums[i]==0 or rec_prod1<0):\n",
    "                rec_prod1 =1\n",
    "           # if(nums[i]==0 and rec_prod2>0):\n",
    "                rec_prod2=1\n",
    "        rec_prod1=1\n",
    "        \n",
    "        #rec_prod2=1\n",
    "               \n",
    "        for i in range(len(nums)-1,-1,-1):\n",
    "            rec_prod1= rec_prod1*nums[i]  #2\n",
    "           # rec_prod2= rec_prod2*nums[i]\n",
    "            max_prod = max(rec_prod1,max_prod)#,rec_prod2)\n",
    "            if(nums[i]==0 or rec_prod1<0):\n",
    "                rec_prod1 =1\n",
    "           # if(nums[i]==0 and rec_prod2>0):\n",
    "            #    rec_prod2=1\n",
    "        return max_prod   \n",
    "    \n",
    "nums = [2,3,-2,4,5]\n",
    "print(maxProduct(nums))\n",
    "nums = [-2]\n",
    "print(maxProduct(nums))\n",
    "nums = [-4,-3]\n",
    "print(maxProduct(nums))\n",
    "nums = [-2,0,-1]\n",
    "print(maxProduct(nums))\n",
    "nums = [0,2]\n",
    "print(maxProduct(nums))\n",
    "nums = [3,-1,4]\n",
    "print(maxProduct(nums))\n",
    "nums =[2,-5,-2,-4,3]\n",
    "print(maxProduct(nums))"
   ]
  },
  {
   "cell_type": "code",
   "execution_count": null,
   "metadata": {},
   "outputs": [],
   "source": [
    "max(2,3)"
   ]
  },
  {
   "cell_type": "code",
   "execution_count": null,
   "metadata": {},
   "outputs": [],
   "source": [
    " def maxProduct(nums):\n",
    "        max_prod = nums[0]\n",
    "        rec_prod1=1\n",
    "        rec_prod2=1\n",
    "        for i in range(0,len(nums)):\n",
    "            rec_prod1= rec_prod1*nums[i]  #2\n",
    "            rec_prod2= rec_prod2*nums[i]\n",
    "            max_prod = max(rec_prod1,max_prod,rec_prod2)\n",
    "            if(nums[i]==0 or rec_prod1<0):\n",
    "                rec_prod1 =1\n",
    "            if(nums[i]==0 and rec_prod2>0):\n",
    "                rec_prod2=1\n",
    "        rec_prod1=1\n",
    "        \n",
    "        rec_prod2=1\n",
    "               \n",
    "        for i in range(len(nums)-1,-1,-1):\n",
    "            rec_prod1= rec_prod1*nums[i]  #2\n",
    "            rec_prod2= rec_prod2*nums[i]\n",
    "            max_prod = max(rec_prod1,max_prod,rec_prod2)\n",
    "            if(nums[i]==0 or rec_prod1<0):\n",
    "                rec_prod1 =1\n",
    "            if(nums[i]==0 and rec_prod2>0):\n",
    "                rec_prod2=1\n",
    "        return max_prod   \n",
    "    \n",
    "nums = [2,3,-2,4,5]\n",
    "print(maxProduct(nums))\n",
    "nums = [-2]\n",
    "print(maxProduct(nums))\n",
    "nums = [-4,-3]\n",
    "print(maxProduct(nums))\n",
    "nums = [-2,0,-1]\n",
    "print(maxProduct(nums))\n",
    "nums = [0,2]\n",
    "print(maxProduct(nums))\n",
    "nums = [3,-1,4]\n",
    "print(maxProduct(nums))\n",
    "nums =[2,-5,-2,-4,3]\n",
    "print(maxProduct(nums))"
   ]
  },
  {
   "cell_type": "code",
   "execution_count": null,
   "metadata": {},
   "outputs": [],
   "source": [
    "l = [2,3,4]    \n",
    "\n",
    "\n",
    "from numpy import prod\n",
    "print(prod(l))"
   ]
  },
  {
   "cell_type": "code",
   "execution_count": null,
   "metadata": {},
   "outputs": [],
   "source": [
    "\n",
    "\n",
    "class Solution(object):\n",
    "    def prod(self,l):\n",
    "            pro=1\n",
    "            for i in range(len(l)):\n",
    "                pro=pro*l[i]\n",
    "            return pro                \n",
    "    def maxProduct(self,nums):\n",
    "        max1 = nums[0]\n",
    "        prod1=1\n",
    "        prod2=1\n",
    "        pdt = self.prod(nums)\n",
    "        l = len(nums)\n",
    "        if(l==1):\n",
    "            return nums[0]\n",
    "        if(pdt>0):\n",
    "            return pdt\n",
    "        if(pdt<0):\n",
    "             for i in range(len(nums)):\n",
    "                    prod1=prod1*nums[i]\n",
    "                    prod2=prod2*nums[l-1-i]\n",
    "                    max1 = max(prod1,prod2,max1)\n",
    "        if(pdt==0):\n",
    "            for i in range(len(nums)):\n",
    "                    prod1=prod1*nums[i]\n",
    "                    prod2=prod2*nums[l-1-i]\n",
    "                    max1 = max(prod1,prod2,max1)\n",
    "                    if (nums[i]==0):\n",
    "                        prod1=1\n",
    "                        max1 = max(max1,0)\n",
    "                    if nums[l-1-i] ==0 :\n",
    "                        prod2=1\n",
    "                        max1 = max(max1,0)\n",
    "        \n",
    "        return max1   \n",
    "\n",
    "nums = [2,3,-2,4,5]\n",
    "print(maxProduct(nums))\n",
    "nums = [-2]\n",
    "print(maxProduct(nums))\n",
    "nums = [-4,-3]\n",
    "print(maxProduct(nums))\n",
    "nums = [-2,0,-1]\n",
    "print(maxProduct(nums))\n",
    "nums = [0,2]\n",
    "print(maxProduct(nums))\n",
    "nums = [3,-1,4]\n",
    "print(maxProduct(nums))\n",
    "nums =[2,-5,-2,-4,3]\n",
    "print(maxProduct(nums))\n",
    "nums = [-3,0,1,-2]\n",
    "print(maxProduct(nums))"
   ]
  },
  {
   "cell_type": "code",
   "execution_count": null,
   "metadata": {},
   "outputs": [],
   "source": [
    "import collections\n",
    "def maxSubArrayLen(nums, k):\n",
    "    C=[]\n",
    "    s=0\n",
    "    D ={0:-1}\n",
    "    L=0\n",
    "    for i in range(len(nums)):\n",
    "        s=nums[i]+s\n",
    "        C.append(s)\n",
    "        \n",
    "    for i in range(len(C)):\n",
    "        \n",
    "        p1 = C[i]\n",
    "        p0 = C[i] - k\n",
    "        \n",
    "        if p0 in D:\n",
    "            L = max(L,i-D[p0])\n",
    "            \n",
    "        if p1 not in D:\n",
    "            D[C[i]]=i \n",
    "        \n",
    "    return L\n",
    "\n",
    "# nums = [1, -1, 5, -2, 3]\n",
    "# k= 3         \n",
    "\n",
    "# print(\"ans:\",maxSubArrayLen( nums, k))\n",
    "# nums = [1, 2, 5, 1,-1, 3,4]\n",
    "# k= 7\n",
    "\n",
    "# print(\"ans:\",maxSubArrayLen( nums, k))\n",
    "# nums = [1, -1, 5, 0,3,4]\n",
    "# k= 5\n",
    "# nums=[1,-1,5,-2,3]\n",
    "# k=3\n",
    "# print(\"ans:\",maxSubArrayLen( nums, k))\n",
    "\n",
    "#optimized in one loop\n",
    "def maxSubArrayLen( nums, k):\n",
    "    ans, acc = 0, 0               # answer and the accumulative value of nums\n",
    "    mp = {0:-1}                 #key is acc value, and value is the index\n",
    "    for i in range(len(nums)):\n",
    "        acc += nums[i]\n",
    "        if acc not in mp:\n",
    "            mp[acc] = i \n",
    "        if acc-k in mp:\n",
    "            ans = max(ans, i-mp[acc-k])\n",
    "    return ans"
   ]
  },
  {
   "cell_type": "code",
   "execution_count": null,
   "metadata": {},
   "outputs": [],
   "source": [
    "def minWindow(s, t):\n",
    "    S,T={},{}\n",
    "    count=0\n",
    "    for ch in t:\n",
    "        if ch not in T:\n",
    "            T[ch]=1\n",
    "        else:\n",
    "            T[ch]=+1\n",
    "        count=+1    \n",
    "    start,end  = 0, 0\n",
    "    min_l = len(s)\n",
    "    i=0\n",
    "    while(end!=len(s)-1 and begin!=len(s)-1):\n",
    "        end = i\n",
    "        if (S[i] in T and T[S[i]]!=0):\n",
    "            count=-1\n",
    "            T[S[i]]=T[S[i]]-1\n",
    "        \n",
    "        if (count==0):\n",
    "            min_l = min(min_l,end - start +1)\n",
    "            \n",
    "        \n",
    "        i=+1\n",
    "\n",
    "            "
   ]
  },
  {
   "cell_type": "code",
   "execution_count": null,
   "metadata": {},
   "outputs": [],
   "source": [
    "def minWindow(s, t):\n",
    "    S,T={},{}\n",
    "    count=0\n",
    "    for ch in t:\n",
    "        if ch not in T:\n",
    "            T[ch]=1\n",
    "        else:\n",
    "            T[ch]=+1\n",
    "        count=+1  \n",
    "    \n",
    "    start,end  = 0, 0\n",
    "    min_l = len(s)\n",
    "    i=0\n",
    "    found =0\n",
    "    while(end!=len(s)):\n",
    "        print(start,end)\n",
    "        print(T)\n",
    "        ch_e = s[end]\n",
    "        ch_b= s[start]\n",
    "        \n",
    "       \n",
    "        if(ch_e in T):\n",
    "            count=-1\n",
    "            found+=1\n",
    "        end+=1\n",
    "        \n",
    "        if (ch_e in T and found==0):\n",
    "            count=-1\n",
    "            T[ch_e]=T[ch_e]-1\n",
    "            found=+1\n",
    "            #start = start\n",
    "        \n",
    "        if (count==0):\n",
    "            min_l = min(min_l,end - start +1)\n",
    "            start=+1\n",
    "            T[ch_b]+=1\n",
    "            count+=1\n",
    "            found+=1\n",
    "            continue\n",
    "            \n",
    "        \n",
    "        \n",
    "        \n",
    "        \n",
    "    return min_l\n",
    "            \n",
    "            \n",
    "s = \"ADOBECODEBANC\"         \n",
    "t=\"ABC\"\n",
    "print(minWindow(s, t))\n"
   ]
  },
  {
   "cell_type": "code",
   "execution_count": 5,
   "metadata": {},
   "outputs": [
    {
     "name": "stdout",
     "output_type": "stream",
     "text": [
      "0 0 3\n",
      "{'A': 1, 'B': 1, 'C': 1}\n",
      "f1\n",
      "0 1 2\n",
      "{'A': 0, 'B': 1, 'C': 1}\n",
      "f3\n",
      "0 2 2\n",
      "{'A': 0, 'B': 1, 'C': 1}\n",
      "f3\n",
      "0 3 2\n",
      "{'A': 0, 'B': 1, 'C': 1}\n",
      "f2\n",
      "0 4 1\n",
      "{'A': 0, 'B': 1, 'C': 1}\n",
      "f3\n",
      "0 5 1\n",
      "{'A': 0, 'B': 1, 'C': 1}\n",
      "f2\n",
      "f4\n",
      "1 6 1\n",
      "{'A': 1, 'B': 1, 'C': 1}\n",
      "f3\n",
      "1 7 1\n",
      "{'A': 1, 'B': 1, 'C': 1}\n",
      "f3\n",
      "1 8 1\n",
      "{'A': 1, 'B': 1, 'C': 1}\n",
      "f3\n",
      "1 9 1\n",
      "{'A': 1, 'B': 1, 'C': 1}\n",
      "f2\n",
      "f4\n"
     ]
    },
    {
     "ename": "KeyError",
     "evalue": "'D'",
     "output_type": "error",
     "traceback": [
      "\u001b[0;31m---------------------------------------------------------------------------\u001b[0m",
      "\u001b[0;31mKeyError\u001b[0m                                  Traceback (most recent call last)",
      "\u001b[0;32m<ipython-input-5-3654aef4bd41>\u001b[0m in \u001b[0;36m<module>\u001b[0;34m()\u001b[0m\n\u001b[1;32m     50\u001b[0m \u001b[0ms\u001b[0m \u001b[0;34m=\u001b[0m \u001b[0;34m\"ADOBECODEBANC\"\u001b[0m\u001b[0;34m\u001b[0m\u001b[0m\n\u001b[1;32m     51\u001b[0m \u001b[0mt\u001b[0m\u001b[0;34m=\u001b[0m\u001b[0;34m\"ABC\"\u001b[0m\u001b[0;34m\u001b[0m\u001b[0m\n\u001b[0;32m---> 52\u001b[0;31m \u001b[0mprint\u001b[0m\u001b[0;34m(\u001b[0m\u001b[0mminWindow\u001b[0m\u001b[0;34m(\u001b[0m\u001b[0ms\u001b[0m\u001b[0;34m,\u001b[0m \u001b[0mt\u001b[0m\u001b[0;34m)\u001b[0m\u001b[0;34m)\u001b[0m\u001b[0;34m\u001b[0m\u001b[0m\n\u001b[0m",
      "\u001b[0;32m<ipython-input-5-3654aef4bd41>\u001b[0m in \u001b[0;36mminWindow\u001b[0;34m(s, t)\u001b[0m\n\u001b[1;32m     43\u001b[0m             \u001b[0mmin_l\u001b[0m \u001b[0;34m=\u001b[0m \u001b[0mmin\u001b[0m\u001b[0;34m(\u001b[0m\u001b[0mmin_l\u001b[0m\u001b[0;34m,\u001b[0m\u001b[0mend\u001b[0m \u001b[0;34m-\u001b[0m \u001b[0mstart\u001b[0m \u001b[0;34m+\u001b[0m\u001b[0;36m1\u001b[0m\u001b[0;34m)\u001b[0m\u001b[0;34m\u001b[0m\u001b[0m\n\u001b[1;32m     44\u001b[0m             \u001b[0mstart\u001b[0m\u001b[0;34m+=\u001b[0m\u001b[0;36m1\u001b[0m\u001b[0;34m\u001b[0m\u001b[0m\n\u001b[0;32m---> 45\u001b[0;31m             \u001b[0mT\u001b[0m\u001b[0;34m[\u001b[0m\u001b[0mch_b\u001b[0m\u001b[0;34m]\u001b[0m\u001b[0;34m+=\u001b[0m\u001b[0;36m1\u001b[0m\u001b[0;34m\u001b[0m\u001b[0m\n\u001b[0m\u001b[1;32m     46\u001b[0m             \u001b[0mcount\u001b[0m\u001b[0;34m+=\u001b[0m\u001b[0;36m1\u001b[0m\u001b[0;34m\u001b[0m\u001b[0m\n\u001b[1;32m     47\u001b[0m             \u001b[0mfound\u001b[0m\u001b[0;34m+=\u001b[0m\u001b[0;36m1\u001b[0m\u001b[0;34m\u001b[0m\u001b[0m\n",
      "\u001b[0;31mKeyError\u001b[0m: 'D'"
     ]
    }
   ],
   "source": [
    "def minWindow(s, t):\n",
    "    S,T={},{}\n",
    "    count=0\n",
    "    for ch in t:\n",
    "        if ch not in T:\n",
    "            T[ch]=1\n",
    "        else:\n",
    "            T[ch]+=1\n",
    "        count+=1  \n",
    "    \n",
    "    start,end  = 0, 0\n",
    "    min_l = len(s)\n",
    "    i=0\n",
    "    found =0\n",
    "    while(end!=len(s)):\n",
    "        print(start,end,count)\n",
    "        print(T)\n",
    "        ch_e = s[end]\n",
    "        ch_b= s[start]\n",
    "        \n",
    "        if (ch_e in T and found==0):\n",
    "            print(\"f1\")\n",
    "            count-=1\n",
    "            #print(count)\n",
    "            T[ch_e]=T[ch_e]-1\n",
    "            found+=1\n",
    "            start = end\n",
    "            end = end+1\n",
    "            #print(count)\n",
    "            continue\n",
    "            \n",
    "        if(ch_e in T):\n",
    "            print(\"f2\")\n",
    "            count-=1\n",
    "            found+=1\n",
    "            end+=1\n",
    "        if(ch_e not in T):\n",
    "            print(\"f3\")\n",
    "            end+=1\n",
    "        \n",
    "        if (count==0):\n",
    "            print(\"f4\")\n",
    "            min_l = min(min_l,end - start +1)\n",
    "            start+=1\n",
    "            T[ch_b]+=1\n",
    "            count+=1\n",
    "            found+=1\n",
    "            continue\n",
    "    return min_l\n",
    "s = \"ADOBECODEBANC\"         \n",
    "t=\"ABC\"\n",
    "print(minWindow(s, t))"
   ]
  },
  {
   "cell_type": "code",
   "execution_count": 6,
   "metadata": {},
   "outputs": [
    {
     "name": "stdout",
     "output_type": "stream",
     "text": [
      "{0: 1}\n",
      "3\n",
      "{0: 1, 1: 3}\n",
      "{0: 1, 1: 2}\n"
     ]
    }
   ],
   "source": [
    "x ={0:1}\n",
    "x.get(1,3)+1\n",
    "print(x)\n",
    "x[1]=x.get(1,3)\n",
    "print(x.get(2,3))\n",
    "print(x)\n",
    "x[1]=x.pop(1,0)-1\n",
    "print(x)\n",
    "#print(x.pop(2))"
   ]
  },
  {
   "cell_type": "code",
   "execution_count": 4,
   "metadata": {},
   "outputs": [
    {
     "name": "stdout",
     "output_type": "stream",
     "text": [
      "[0, 6]\n",
      "[0, 1, 2]\n"
     ]
    }
   ],
   "source": [
    "import collections\n",
    "def findAnagrams( s, p):\n",
    "    P = collections.Counter(p)\n",
    "    L = sum(P.values())\n",
    "    S = collections.Counter(s[0:L])\n",
    "    res =[]\n",
    "    if(S==P):\n",
    "        res.append(0)\n",
    "    end = L    \n",
    "    while(end<len(s)):\n",
    "        pos = end-L+1\n",
    "        ch = s[pos]\n",
    "        \n",
    "        if(S[s[end-L]]==1):\n",
    "            del S[s[end-L]]\n",
    "        else:\n",
    "            S[s[end-L]]=S[s[end-L]]-1\n",
    "        \n",
    "        S[s[end]] = S.get(s[end],0)+1\n",
    "        \n",
    "        end+=1\n",
    "        if (S==P):\n",
    "            res.append(pos)\n",
    "            \n",
    "    return res   \n",
    "s= \"cbaebabacd\" \n",
    "p= \"abc\"\n",
    "\n",
    "print(findAnagrams(s, p))\n",
    "s= \"abab\" \n",
    "p= \"ab\"\n",
    "\n",
    "\n",
    "print(findAnagrams(s, p))    "
   ]
  },
  {
   "cell_type": "code",
   "execution_count": null,
   "metadata": {},
   "outputs": [],
   "source": [
    "V = [[1,2],[2,3],[4,5]]\n",
    "print(V[0][1])\n",
    "nodes = [[ i for i in range(2)] for j in range(3)]\n",
    "print(nodes, len(V[0]),range(len(V)))\n",
    "nodes = [ [V[j][i] for i in range(len(V[0]))] for j in range(len(V))]\n",
    "print(nodes)"
   ]
  },
  {
   "cell_type": "code",
   "execution_count": null,
   "metadata": {},
   "outputs": [],
   "source": [
    "\n",
    "V =[]\n",
    "V.append([1,2])"
   ]
  },
  {
   "cell_type": "code",
   "execution_count": 1,
   "metadata": {},
   "outputs": [
    {
     "name": "stdout",
     "output_type": "stream",
     "text": [
      "4\n"
     ]
    }
   ],
   "source": [
    "print(0 or 4)"
   ]
  },
  {
   "cell_type": "code",
   "execution_count": null,
   "metadata": {},
   "outputs": [],
   "source": [
    "#islands #connected components in an undirected graph\n",
    "class Node(object):\n",
    "    def __init__(self, num):\n",
    "        self.num=num\n",
    "        self.start = -1\n",
    "        self.visit =\"\"\n",
    "        self.finish = -1\n",
    "\n",
    "class Graph(object):\n",
    "    def __init__(self, V):\n",
    "        self.V = V\n",
    "        self.nodes = [ [Node(V[i][j])for j in range(len(V[0]))] for i in range(len(V))]\n",
    "    \n",
    "    def DFS(self):\n",
    "        time=0\n",
    "        land =0\n",
    "        V=self.V\n",
    "        for i in range(len(V)):\n",
    "            for j in range(len(V[0])):\n",
    "                self.nodes[i][j].visit=\"white\"\n",
    "        for i in range(len(V)):\n",
    "            for j in range(len(V[0])):\n",
    "                if (self.nodes[i][j].visit==\"white\" and self.nodes[i][j].num ==1):\n",
    "                        self.DFS_visit(i,j,time)\n",
    "                        \n",
    "                        land+=1\n",
    "                        \n",
    "        return land                \n",
    "\n",
    "        \n",
    "    def DFS_visit(self,i,j,time):\n",
    "        time +=1\n",
    "        \n",
    "        self.nodes[i][j].start = time\n",
    "        self.nodes[i][j].visit = \"grey\"\n",
    "        \n",
    "        surrounding_nodes = self.sn(i,j)\n",
    "        for n in surrounding_nodes:\n",
    "            x,y = n[0],n[1]\n",
    "            \n",
    "            if (self.nodes[x][y].visit==\"white\" and self.nodes[x][y].num ==1):\n",
    "                self.DFS_visit(x,y,time)\n",
    "                \n",
    "        self.nodes[i][j].visit =\"black\"\n",
    "        time +=1\n",
    "        self.nodes[i][j].finish = time\n",
    "\n",
    "    def sn(self,i,j):\n",
    "        l1 = [i-1,i,i+1]\n",
    "        l2 = [j-1,j,j+1]\n",
    "        surrounding_nodes=[[i-1,j],[i+1,j],[i,j+1],[i,j-1]]\n",
    "        eligible_sn =[]\n",
    "        V=self.V\n",
    "        for k in range(len(surrounding_nodes)):\n",
    "            nodes=surrounding_nodes[k]\n",
    "            x = nodes[0]\n",
    "            y = nodes[1]\n",
    "            if(x>=0 and y>=0  and y<=len(V[0])-1 and x<=len(V)-1):\n",
    "                if (self.nodes[x][y].num ==1):\n",
    "                    eligible_sn.append([x,y])\n",
    "                    continue\n",
    "        return eligible_sn\n",
    "    \n",
    "def numIslands(grid):\n",
    "    graph = Graph(grid)        \n",
    "    land = graph.DFS()\n",
    "    return land\n",
    "\n",
    "grid=[[1,1,0,0,0],[1,1,0,0,0],[0,0,1,0,0],[0,0,0,1,1]]\n",
    "grid = [[\"1\",\"1\",\"1\",\"1\",\"0\"],[\"1\",\"1\",\"0\",\"1\",\"0\"],[\"1\",\"1\",\"0\",\"0\",\"0\"],[\"0\",\"0\",\"0\",\"0\",\"0\"]]\n",
    "print(numIslands(grid))\n",
    "\n",
    "# 11000\n",
    "# 11000\n",
    "# 00100\n",
    "# 00011"
   ]
  },
  {
   "cell_type": "code",
   "execution_count": 2,
   "metadata": {},
   "outputs": [
    {
     "name": "stdout",
     "output_type": "stream",
     "text": [
      "3\n"
     ]
    }
   ],
   "source": [
    "##islands #optimized code #connected components in an undirected graph\n",
    "def DFS_visit(i,j,V):\n",
    "    if(i>=0 and i<len(V) and j>=0 and j<len(V[0])):\n",
    "        if(V[i][j]==1):\n",
    "            V[i][j]=0\n",
    "            DFS_visit(i-1,j,V)\n",
    "            DFS_visit(i+1,j,V)\n",
    "            DFS_visit(i,j-1,V)\n",
    "            DFS_visit(i,j+1,V)\n",
    "\n",
    "def numIslands(V):\n",
    "    land=0\n",
    "    for i in range(len(V)):\n",
    "        for j in range(len(V[0])):\n",
    "            if (V[i][j]==1):\n",
    "                    DFS_visit(i,j,V)\n",
    "                    land+=1\n",
    "    return land\n",
    "\n",
    "grid=[[1,1,0,0,0],[1,1,0,0,0],[0,0,1,0,0],[0,0,0,1,1]]\n",
    "#grid = [[\"1\",\"1\",\"1\",\"1\",\"0\"],[\"1\",\"1\",\"0\",\"1\",\"0\"],[\"1\",\"1\",\"0\",\"0\",\"0\"],[\"0\",\"0\",\"0\",\"0\",\"0\"]]\n",
    "print(numIslands(grid))\n",
    "\n",
    "# 11000\n",
    "# 11000\n",
    "# 00100\n",
    "# 00011\n"
   ]
  },
  {
   "cell_type": "code",
   "execution_count": null,
   "metadata": {},
   "outputs": [],
   "source": [
    "#connected components in an undirected graph\n",
    "class Node(object):\n",
    "    def __init__(self, num):\n",
    "        self.num=num\n",
    "        self.start = -1\n",
    "        self.visit =\"\"\n",
    "        self.finish = -1\n",
    "\n",
    "class Graph(object):\n",
    "    def __init__(self, V):\n",
    "        self.V = V\n",
    "        self.nodes = [ [Node(V[i][j])for j in range(len(V[0]))] for i in range(len(V))]\n",
    "    \n",
    "    def DFS(self):\n",
    "        time=0\n",
    "        land =0\n",
    "        V=self.V\n",
    "        for i in range(len(V)):\n",
    "            for j in range(len(V[0])):\n",
    "                self.nodes[i][j].visit=\"white\"\n",
    "        for i in range(len(V)):\n",
    "            for j in range(len(V[0])):\n",
    "                if (self.nodes[i][j].visit==\"white\" and self.nodes[i][j].num ==1):\n",
    "                        self.DFS_visit(i,j,time)\n",
    "                        \n",
    "                        land+=1\n",
    "                        \n",
    "        return land                \n",
    "\n",
    "        \n",
    "    def DFS_visit(self,i,j,time):\n",
    "        time +=1\n",
    "        \n",
    "        self.nodes[i][j].start = time\n",
    "        self.nodes[i][j].visit = \"grey\"\n",
    "        \n",
    "        surrounding_nodes = self.sn(i,j)\n",
    "        for n in surrounding_nodes:\n",
    "            x,y = n[0],n[1]\n",
    "            \n",
    "            if (self.nodes[x][y].visit==\"white\" and self.nodes[x][y].num ==1):\n",
    "                self.DFS_visit(x,y,time)\n",
    "                \n",
    "        self.nodes[i][j].visit =\"black\"\n",
    "        time +=1\n",
    "        self.nodes[i][j].finish = time\n",
    "\n",
    "    def sn(self,i,j):\n",
    "        l1 = [i-1,i,i+1]\n",
    "        l2 = [j-1,j,j+1]\n",
    "        surrounding_nodes=[[i-1,j],[i+1,j],[i,j+1],[i,j-1]]\n",
    "        eligible_sn =[]\n",
    "        V=self.V\n",
    "        for k in range(len(surrounding_nodes)):\n",
    "            nodes=surrounding_nodes[k]\n",
    "            x = nodes[0]\n",
    "            y = nodes[1]\n",
    "            if(x>=0 and y>=0  and y<=len(V[0])-1 and x<=len(V)-1):\n",
    "                if (self.nodes[x][y].num ==1):\n",
    "                    eligible_sn.append([x,y])\n",
    "                    continue\n",
    "        return eligible_sn\n",
    "    \n",
    "def numIslands(grid):\n",
    "    graph = Graph(grid)        \n",
    "    land = graph.DFS()\n",
    "    return land\n",
    "\n",
    "grid=[[1,1,0,0,0],[1,1,0,0,0],[0,0,1,0,0],[0,0,0,1,1]]\n",
    "grid = [[\"1\",\"1\",\"1\",\"1\",\"0\"],[\"1\",\"1\",\"0\",\"1\",\"0\"],[\"1\",\"1\",\"0\",\"0\",\"0\"],[\"0\",\"0\",\"0\",\"0\",\"0\"]]\n",
    "print(numIslands(grid))\n",
    "\n",
    "# 11000\n",
    "# 11000\n",
    "# 00100\n",
    "# 00011\n"
   ]
  },
  {
   "cell_type": "code",
   "execution_count": null,
   "metadata": {},
   "outputs": [],
   "source": [
    "def multiply( num1, num2):\n",
    "    \n",
    "    n1 =convertToNum(num1)\n",
    "    n2 =convertToNum(num2)\n",
    "    n = n1*n2\n",
    "    s = convertToString(n)\n",
    "    return s\n",
    "    \n",
    "def convertToNum(num):\n",
    "    n=0\n",
    "    L = len(num)\n",
    "    for i in range(len(num)-1,-1,-1):\n",
    "        n = int(num[i])*(10**(L-i-1)) + n \n",
    "    return n    \n",
    "\n",
    "def convertToString(n):\n",
    "    L=n\n",
    "    s=\"\"\n",
    "    while(n!=0):\n",
    "        r= n%10\n",
    "        n=n//10\n",
    "        s=str(r)+s\n",
    "        \n",
    "    return s\n",
    "\n",
    "\n",
    "print(convertToNum(\"678\"))\n",
    "int(\"4\")    "
   ]
  },
  {
   "cell_type": "code",
   "execution_count": 1,
   "metadata": {},
   "outputs": [
    {
     "name": "stdout",
     "output_type": "stream",
     "text": [
      "0\n",
      "1\n",
      "3\n",
      "3\n",
      "5\n"
     ]
    }
   ],
   "source": [
    "#initialize \n",
    "#i...j\n",
    "#if ch in D..reinitialize D and i==j , update max\n",
    "#if not D[]\n",
    "\n",
    "def lengthOfLongestSubstring(s):\n",
    "        i,j= 0,0\n",
    "        max_l = j-i+1\n",
    "        D={}\n",
    "        if(len(s)==0):\n",
    "            return 0\n",
    "        while(j<len(s)):\n",
    "            ch = s[j]\n",
    "            if ch in D:\n",
    "                \n",
    "                max_l=max(max_l,j-i)\n",
    "                i=D[ch]+1\n",
    "                for c in list(D):\n",
    "                    if D[c] <=i-1:\n",
    "                        del D[c]\n",
    "            else:\n",
    "                max_l = max(max_l,j-i+1)\n",
    "            D[ch]=j\n",
    "            #print(j,ch,max_l,D,i)\n",
    "            j=j+1\n",
    "            \n",
    "            \n",
    "        return max_l\n",
    "print(lengthOfLongestSubstring(\"\"))   \n",
    "print(lengthOfLongestSubstring(\"w\"))        \n",
    "print(lengthOfLongestSubstring(\"pwwkew\"))    \n",
    "print(lengthOfLongestSubstring(\"dvdf\"))\n",
    "print(lengthOfLongestSubstring(\"nfpdmpi\"))"
   ]
  },
  {
   "cell_type": "code",
   "execution_count": null,
   "metadata": {},
   "outputs": [],
   "source": [
    "def mergeTwoLists( l1, l2):\n",
    "    prev = ListNode(-1)\n",
    "    head = prev \n",
    "    if (l1==None and l2==None):\n",
    "        return None\n",
    "    while(l1!=None and l2!=None):\n",
    "        if(l1.val <= l2.val):\n",
    "            prev.next = l1\n",
    "            l1 = l1.next\n",
    "        else: \n",
    "            prev.next = l2\n",
    "            l2 = l2.next\n",
    "        prev=prev.next\n",
    "    prev.next =l1 or l2        \n",
    "    head = head.next \n",
    "    return head\n",
    "\n",
    "\n",
    "# recursively    \n",
    "def mergeTwoLists2(self, l1, l2):\n",
    "    if not l1 or not l2:\n",
    "        return l1 or l2\n",
    "    if l1.val < l2.val:\n",
    "        l1.next = self.mergeTwoLists(l1.next, l2)\n",
    "        return l1\n",
    "    else:\n",
    "        l2.next = self.mergeTwoLists(l1, l2.next)\n",
    "        return l2\n",
    "        \n",
    "# in-place, iteratively        \n",
    "def mergeTwoLists(self, l1, l2):\n",
    "    if None in (l1, l2):\n",
    "        return l1 or l2\n",
    "    dummy = cur = ListNode(0)\n",
    "    dummy.next = l1\n",
    "    while l1 and l2:\n",
    "        if l1.val < l2.val:\n",
    "            l1 = l1.next\n",
    "        else:\n",
    "            nxt = cur.next\n",
    "            cur.next = l2\n",
    "            tmp = l2.next\n",
    "            l2.next = nxt\n",
    "            l2 = tmp\n",
    "        cur = cur.next\n",
    "    cur.next = l1 or l2\n",
    "    return dummy.next"
   ]
  },
  {
   "cell_type": "code",
   "execution_count": null,
   "metadata": {},
   "outputs": [],
   "source": [
    "def myPow(x, n):\n",
    "    if n==0:\n",
    "        return 1\n",
    "    if n==1:\n",
    "        return x\n",
    "    \n",
    "    prod = myPow(x,n//2)\n",
    "    m = myPow(x,n%2)\n",
    "    return prod*prod*m\n",
    "print(myPow(2,10))"
   ]
  },
  {
   "cell_type": "code",
   "execution_count": 105,
   "metadata": {},
   "outputs": [
    {
     "name": "stdout",
     "output_type": "stream",
     "text": [
      "0 6\n",
      "0 2\n",
      "0 0\n",
      "0\n"
     ]
    }
   ],
   "source": [
    "def search( nums, target):\n",
    "        i =0 \n",
    "        j = len(nums) -1\n",
    "        mid=0\n",
    "        \n",
    "        \n",
    "        while(i<=j):\n",
    "            print(i,j)\n",
    "            mid = (i+j)//2\n",
    "#             if(last==mid):\n",
    "#                 return -1\n",
    "            if (nums[i])==target:\n",
    "                return i\n",
    "            if (nums[j])==target:\n",
    "                return j\n",
    "            if(nums[mid]==target):\n",
    "                return mid\n",
    "\n",
    "            if (target >nums[i]):\n",
    "                if(target<nums[mid]):\n",
    "                    j=mid-1\n",
    "                    i=i+1\n",
    "                if(target>nums[mid]):\n",
    "                    i=mid+1\n",
    "                    j=j-1\n",
    "            else :\n",
    "                if (target < nums[i]):\n",
    "                    if(target >nums[mid]):\n",
    "                        i=mid+1\n",
    "                        j=j-1\n",
    "                    if(target < nums[mid]):\n",
    "                        j=mid-1\n",
    "                        \n",
    "           \n",
    "            \n",
    "        return mid\n",
    "            \n",
    "nums =[4,5,6,7,0,1,2]\n",
    "target =0\n",
    "print(search( nums, target))"
   ]
  },
  {
   "cell_type": "code",
   "execution_count": null,
   "metadata": {},
   "outputs": [],
   "source": [
    "def threeSum( nums):\n",
    "    \"\"\"\n",
    "    :type nums: List[int]\n",
    "    :rtype: List[List[int]]\n",
    "    \"\"\"\n",
    "    res =[]\n",
    "    nums.sort()\n",
    "    for i in range(len(nums)):\n",
    "\n",
    "        tar1 = 0-nums[i]\n",
    "        D ={}\n",
    "        for j in range(i+1,len(nums)):\n",
    "\n",
    "            p1 = nums[j]\n",
    "            p0 = tar1-nums[j]\n",
    "\n",
    "            if p0 in D:\n",
    "                triplet =  [nums[j],nums[i],p0]\n",
    "                triplet.sort()\n",
    "\n",
    "                if triplet not in res:\n",
    "                    res.append(triplet)\n",
    "\n",
    "            if p1 not in D:\n",
    "                D[p1] = j\n",
    "\n",
    "    return res"
   ]
  },
  {
   "cell_type": "code",
   "execution_count": 3,
   "metadata": {},
   "outputs": [
    {
     "name": "stdout",
     "output_type": "stream",
     "text": [
      "5\n",
      "6\n"
     ]
    }
   ],
   "source": [
    "#trapping rain water\n",
    "def trap(height):\n",
    "    #print(height)\n",
    "    L= len(height)\n",
    "    d_left,d_right = [0]*L, [0]*L\n",
    "    \n",
    "    depth=[0]*L\n",
    "    ml=0\n",
    "    mr=0\n",
    "    for i in range(L):\n",
    "        ml = max(ml,height[i])\n",
    "        mr = max(mr,height[L-i-1])\n",
    "        d_left[i] = ml - height[i]\n",
    "        d_right[L-i-1] = mr - height[L-i-1]\n",
    "   # print(d_left)\n",
    "   # print(d_right)\n",
    "    for i in range(L):\n",
    "        \n",
    "        depth[i] = min(d_left[i],d_right[i])\n",
    "        #depth[L-i-1] = max(0,d[L-i-1])\n",
    "            \n",
    "    #print(depth)\n",
    "    return sum(depth)         \n",
    "\n",
    "height = [0,1,2,1,0,1,3,2,1,2,1]\n",
    "print(trap(height))        \n",
    "height = [0,1,0,2,1,0,1,3,2,1,2,1]\n",
    "print(trap(height))        \n",
    "\n",
    "\n",
    "        "
   ]
  },
  {
   "cell_type": "code",
   "execution_count": null,
   "metadata": {},
   "outputs": [],
   "source": [
    "#paranthesis\n",
    "s =\"[{}{}(())]\"\n",
    "\n",
    "def isValid( s):\n",
    "    stack=[]\n",
    "    mapping1 = { '{':'}','(':')','[':']'}\n",
    "    mapping2 = { '}':'{',')':'(',']':'['}\n",
    "    for x in s:\n",
    "        if x in mapping1:\n",
    "            stack.append(x)\n",
    "            \n",
    "        if x not in mapping1:\n",
    "            b=stack.pop()\n",
    "            if(mapping1[b]!=x):\n",
    "                return False\n",
    "            \n",
    "       \n",
    "    return (stack==[])\n",
    "isValid(s)          "
   ]
  },
  {
   "cell_type": "code",
   "execution_count": null,
   "metadata": {},
   "outputs": [],
   "source": [
    "l=[1,2,3]\n",
    "x=l.pop()\n",
    "print(l)"
   ]
  },
  {
   "cell_type": "code",
   "execution_count": 14,
   "metadata": {},
   "outputs": [
    {
     "name": "stdout",
     "output_type": "stream",
     "text": [
      "5\n",
      "0\n",
      "6\n",
      "0\n"
     ]
    }
   ],
   "source": [
    "def maxProfit(prices):\n",
    "    Min,Max,max_price = float('inf'),float('-inf'),-1\n",
    "    D={}\n",
    "    \n",
    "    L=len(prices)\n",
    "    min_array,max_array=[0]*L,[0]*L\n",
    "    for i in range(len(prices)):\n",
    "        Min=min(Min,prices[i])\n",
    "        min_array[i]=Min\n",
    "        Max=max(Max,prices[L-i-1])\n",
    "        max_array[L-i-1]=Max\n",
    "    \n",
    "    for i in range(len(prices)):\n",
    "        \n",
    "        max_price=max(max_price,max_array[i]-min_array[i])\n",
    "    return max_price\n",
    "\n",
    "\n",
    "prices =[7,1,5,3,6,4]\n",
    "print(maxProfit(prices))\n",
    "prices =[7,6,5,4,3,2,1]\n",
    "print(maxProfit(prices))\n",
    "prices =[7,2,8,1,6,4]\n",
    "print(maxProfit(prices))\n",
    "prices =[10,8,7,6,5]\n",
    "print(maxProfit(prices))"
   ]
  },
  {
   "cell_type": "code",
   "execution_count": null,
   "metadata": {},
   "outputs": [],
   "source": [
    "#quantum \n",
    "# n=10\n",
    "# import pandas as pd\n",
    "# data = pd.read_csv('sample.csv')\n",
    "# data['Typical Price'] = (data['Low']+data['Close'] +data['High'])/3\n",
    "# for i in range(1, len(data)):\n",
    "#     if (data.loc[i, 'Typical Price']-data.loc[i-1, 'Typical Price']>0):\n",
    "#         data.loc[i, 'Positive Money Flow'] = data.loc[i, 'Typical Price'] * data.loc[i, 'Volume'] \n",
    "#         data.loc[i, 'Negative Money Flow'] = 0\n",
    "        \n",
    "#    # if (data.loc[i, 'Typical Price']-data.loc[i-1, 'Typical Price']>0):\n",
    "#     else:\n",
    "#         data.loc[i, 'Negative Money Flow'] = data.loc[i, 'Typical Price'] * data.loc[i, 'Volume'] \n",
    "#         data.loc[i, 'Positive Money Flow'] = 0\n",
    "# #for i in range(11, len(data)):\n",
    "# data['Positive Money Flow Sum']=data['Positive Money Flow'].rolling(n).sum()\n",
    "# data['Negative Money Flow Sum']=data['Negative Money Flow'].rolling(n).sum()\n",
    "\n",
    "# data['Money Ratio']=data['Positive Money Flow Sum']/data['Negative Money Flow Sum']\n",
    "# data['Money Flow Index']=data['Money Ratio']*100/(1+data['Money Ratio'])\n",
    "        \n",
    "# data=data.drop(columns=['Money Ratio'])\n",
    "# for i in range(1, len(data)):\n",
    "#     if data.loc[i, 'Negative Money Flow'] == 0:\n",
    "#         data.loc[i, 'Negative Money Flow']=''\n",
    "#     if data.loc[i, 'Positive Money Flow'] == 0:\n",
    "#         data.loc[i, 'Positive Money Flow']=''\n",
    "\n",
    "        \n",
    "# data =data.fillna('')"
   ]
  },
  {
   "cell_type": "code",
   "execution_count": 77,
   "metadata": {},
   "outputs": [],
   "source": [
    "def coinchange(target,coins):\n",
    "    S=[sys.maxsize]*(target+1)\n",
    "    S[0]=0\n",
    "    coins.sort(reverse=True)\n",
    "    for i in range(len(coins)):\n",
    "        if coins[i] < target +1:\n",
    "            S[coins[i]]=1\n",
    "    for j in range(1,target+1):\n",
    "        for i in range(len(coins)):\n",
    "            if(coins[i]<j):\n",
    "                S[j]=min(S[j],S[j-coins[i]]+S[coins[i]])\n",
    "    \n",
    "    for j in range(1,target+1):\n",
    "        if (S[j]==sys.maxsize):\n",
    "            S[j]=-1\n",
    "    return S[target]\n"
   ]
  },
  {
   "cell_type": "code",
   "execution_count": null,
   "metadata": {},
   "outputs": [],
   "source": [
    "target =11\n",
    "coins =[1,2,5]\n",
    "print(coinchange(target,coins))\n",
    "target = 11\n",
    "coins =[9,5,6,1]\n",
    "print(coinchange(target,coins))\n",
    "target = 0\n",
    "coins =[1]\n",
    "print(coinchange(target,coins))\n",
    "coins =[1,2147483647]\n",
    "target =2\n",
    "print(coinchange(target,coins))\n",
    "target = 3\n",
    "coins =[2]\n",
    "print(coinchange(target,coins))\n",
    "coins=[186,419,83,408]\n",
    "target = 6249\n",
    "print(coinchange(target,coins))"
   ]
  },
  {
   "cell_type": "code",
   "execution_count": null,
   "metadata": {},
   "outputs": [],
   "source": [
    "# Definition for singly-linked list.\n",
    "class ListNode(object):\n",
    "    def __init__(self, x):\n",
    "        self.val = x\n",
    "        self.next = None\n",
    "\n",
    "\n",
    "def addTwoNumbers(self, l1, l2):\n",
    "    num1 = self.get_num(l1)\n",
    "    num2 = self.get_num(l2)\n",
    "    num = num1+num2\n",
    "    l3 = self.get_l(num)\n",
    "    return l3\n",
    "\n",
    "def get_num(self,node):\n",
    "    num =0\n",
    "    while(node!=None):\n",
    "        num = num + 10*node.val\n",
    "        node = node.next\n",
    "    return num    \n",
    "\n",
    "def get_l(self,num):\n",
    "    head = ListNode(-1)\n",
    "    while(num!=0):\n",
    "        head.next=ListNode(num%10)\n",
    "        num= num//10\n",
    "        head = head.next\n",
    "\n",
    "    return head.next     "
   ]
  },
  {
   "cell_type": "code",
   "execution_count": 129,
   "metadata": {},
   "outputs": [
    {
     "name": "stdout",
     "output_type": "stream",
     "text": [
      "6\n"
     ]
    }
   ],
   "source": [
    "def countSubstrings( s):\n",
    "        p=0\n",
    "        for i in range(len(s)):\n",
    "            n = 1\n",
    "            k,j=i-1,i+1\n",
    "            while(k>=0 and j<len(s) ):\n",
    "                \n",
    "                if(s[k]==s[j]):\n",
    "                    n+=1\n",
    "                    k=k-1\n",
    "                    j=j+1\n",
    "                else:\n",
    "                    break\n",
    "            p=p+n   \n",
    "            \n",
    "            n=0\n",
    "            k,j=i,i+1\n",
    "            while(k>=0 and j<len(s) ):\n",
    "                \n",
    "                if(s[k]==s[j]):\n",
    "                    n+=1\n",
    "                    k=k-1\n",
    "                    j=j+1\n",
    "                \n",
    "                else:\n",
    "                    break\n",
    "            \n",
    "                    \n",
    "            p=p+n\n",
    "            \n",
    "        return p     \n",
    "            \n",
    "s=\"abccccdddvvd\"    \n",
    "print(countSubstrings( s))    \n",
    "s=\"fdsklf\"\n",
    "print(countSubstrings( s))    "
   ]
  },
  {
   "cell_type": "code",
   "execution_count": null,
   "metadata": {},
   "outputs": [],
   "source": [
    "sum([1,8,6,2,5,4,8,3,7])"
   ]
  },
  {
   "cell_type": "code",
   "execution_count": 162,
   "metadata": {},
   "outputs": [
    {
     "name": "stdout",
     "output_type": "stream",
     "text": [
      "102\n"
     ]
    }
   ],
   "source": [
    " def maxArea(height):\n",
    "        \"\"\"\n",
    "        :type height: List[int]\n",
    "        :rtype: int\n",
    "        \"\"\"\n",
    "        L=len(height)\n",
    "        \n",
    "        height_left =0\n",
    "        height_right =0\n",
    "        max_water =0\n",
    "        D_l,D_r ={},{}\n",
    "        i,j=0,L-1\n",
    "        while (i<j):\n",
    "            height_left = height[i]\n",
    "            height_right = height[j]\n",
    "            if( height_left>= height_right):\n",
    "                max_height =height_left\n",
    "                max_water = max((j-i)*min(height_left, height_right),max_water)\n",
    "                j-=1\n",
    "                \n",
    "            else :\n",
    "                max_height =height_right\n",
    "                max_water = max((j-i)*min(height_left, height_right),max_water)\n",
    "                i+=1\n",
    "                \n",
    "        return max_water\n",
    "    \n",
    "print(maxArea([1,8,6,2,5,4,8,3,7,6,6,6,6,6,6,6,6,6,6])  )          "
   ]
  },
  {
   "cell_type": "code",
   "execution_count": 230,
   "metadata": {},
   "outputs": [
    {
     "name": "stdout",
     "output_type": "stream",
     "text": [
      "[1, 1, 1]\n",
      "1\n"
     ]
    }
   ],
   "source": [
    "def  numDecodings(s):\n",
    "    dec=[0]*len(s)\n",
    "    if (int(s[0])>0 ):\n",
    "        dec[0]= 1\n",
    "    else:\n",
    "        return 0\n",
    "    \n",
    "    if (len(s) >1): \n",
    "        num = int(s[0:2])\n",
    "        if(num==10 or num==20):\n",
    "            dec[1]=1\n",
    "            \n",
    "        else:\n",
    "            \n",
    "            if num == 0:\n",
    "                return 0\n",
    "            if(num%10 ==0 and num//10>2):\n",
    "                dec[1]=0\n",
    "            else:\n",
    "                if(num<=26 and num>9):\n",
    "                    dec[1]=2\n",
    "                else:\n",
    "                    dec[1]=1\n",
    "\n",
    "    for i in range(2,len(s)):\n",
    "        if(int(s[i-1:i+1])%10 ==0 and (int(s[i-1:i+1])//10>2 or int(s[i-1:i+1])//10==0)):\n",
    "            \n",
    "            dec[i]=0\n",
    "            continue\n",
    "        if(int(s[i-1:i+1])==10 or int(s[i-1:i+1])==20):\n",
    "                dec[i]=dec[i-2]\n",
    "                continue\n",
    "        \n",
    "        if(int(s[i-1:i+1])<=26 and int(s[i-1:i+1])>9):\n",
    "            #dec[1]=2\n",
    "            dec[i]=dec[i-1]+dec[i-2]\n",
    "        else:\n",
    "            dec[i]=dec[i-1]\n",
    "    print(dec)\n",
    "    return dec[len(s)-1]\n",
    "\n",
    "s=\"101\"\n",
    "print(numDecodings(s))"
   ]
  },
  {
   "cell_type": "code",
   "execution_count": 19,
   "metadata": {},
   "outputs": [],
   "source": [
    "\n",
    "def wordBreak(s, wordDict):\n",
    "    L =len(s)+1\n",
    "    arr = [0]*L\n",
    "    arr[0]=1\n",
    "    for i in range(1,L):\n",
    "        for j in range(i,L):\n",
    "            if arr[i-1]==1 and s[i-1:j] in wordDict:\n",
    "                arr[j]=1\n",
    "                \n",
    "    \n",
    "    return arr[-1]==1"
   ]
  },
  {
   "cell_type": "code",
   "execution_count": 20,
   "metadata": {},
   "outputs": [
    {
     "name": "stdout",
     "output_type": "stream",
     "text": [
      "[1, 0, 0, 0, 1, 0, 0, 0, 1]\n",
      "True\n",
      "[1, 0, 0, 0, 0, 1, 0, 0, 1, 0, 0, 0, 0, 1]\n",
      "True\n",
      "[1, 0, 0, 0, 1, 0, 0, 0, 0, 0]\n"
     ]
    },
    {
     "data": {
      "text/plain": [
       "False"
      ]
     },
     "execution_count": 20,
     "metadata": {},
     "output_type": "execute_result"
    }
   ],
   "source": [
    "s = \"leetcode\"\n",
    "wordDict = [\"leet\", \"code\"]\n",
    "print(wordBreak(s, wordDict))\n",
    "s = \"applepenapple\"\n",
    "wordDict = [\"apple\", \"pen\"]\n",
    "print(wordBreak(s, wordDict))\n",
    "s = \"catsandog\"\n",
    "wordDict = [\"cats\", \"dog\", \"sand\"]\n",
    "wordBreak(s, wordDict)"
   ]
  },
  {
   "cell_type": "code",
   "execution_count": 11,
   "metadata": {},
   "outputs": [
    {
     "name": "stdout",
     "output_type": "stream",
     "text": [
      "[1, 1, 1, 1, 1, 1, 1, 1]\n",
      "1 0 9 10\n",
      "[1, 1, 1, 1, 1, 1, 1, 1]\n",
      "2 0 2 10\n",
      "2 1 2 9\n",
      "[1, 1, 1, 1, 1, 1, 1, 1]\n",
      "3 0 5 10\n",
      "3 1 5 9\n",
      "3 2 5 2\n",
      "[1, 1, 1, 1, 1, 1, 1, 1]\n",
      "4 0 3 10\n",
      "4 1 3 9\n",
      "4 2 3 2\n",
      "4 3 3 5\n",
      "[1, 1, 1, 2, 1, 1, 1, 1]\n",
      "5 0 7 10\n",
      "5 1 7 9\n",
      "5 2 7 2\n",
      "5 3 7 5\n",
      "5 4 7 3\n",
      "[1, 1, 1, 2, 2, 1, 1, 1]\n",
      "6 0 101 10\n",
      "6 1 101 9\n",
      "6 2 101 2\n",
      "6 3 101 5\n",
      "6 4 101 3\n",
      "6 5 101 7\n",
      "[1, 1, 1, 2, 2, 3, 1, 1]\n",
      "7 0 18 10\n",
      "7 1 18 9\n",
      "7 2 18 2\n",
      "7 3 18 5\n",
      "7 4 18 3\n",
      "7 5 18 7\n",
      "7 6 18 101\n",
      "[1, 1, 1, 2, 2, 3, 4, 1]\n",
      "[1, 1, 1, 2, 2, 3, 4, 4]\n",
      "4\n"
     ]
    }
   ],
   "source": [
    "# def lengthOfLIS(nums):\n",
    "#     S = [[1 for i in range(len(nums))] for j in range(len(nums))]\n",
    "#    # print(nums)\n",
    "#     for i in range(len(nums)):\n",
    "#         for j in range(i,len(nums)):\n",
    "#             mx=1\n",
    "#             if nums[j]>nums[i]:\n",
    "#                 mx+=1\n",
    "#                 for k in range(i+1,j):\n",
    "\n",
    "#                     if nums[k]<nums[j]:\n",
    "#                         mx =max(mx,S[i][k]+1)\n",
    "#             S[i][j]=mx\n",
    "#       #  print(S[i])\n",
    "#     maxL=1\n",
    "#     J=len(nums)-1\n",
    "#     for i in range(len(nums)):\n",
    "#         maxL=max(max(S[i]),maxL)\n",
    "    \n",
    "#     return maxL\n",
    "\n",
    "# nums = [10,9,2,5,3,7,101,18]\n",
    "# nums=[1,3,6,7,9,4,10,5,6]\n",
    "# print(lengthOfLIS(nums))\n",
    "# print(lengthOfLIS([10,9,2,5,3,4]))\n",
    "# print(lengthOfLIS([-2,-1]))\n",
    "\n",
    "\n",
    "def lengthOfLIS(nums):\n",
    "\n",
    "    if (len(nums))==0:\n",
    "        return 0\n",
    "    S = [1 for i in range(len(nums))]\n",
    "    superMax =1\n",
    "    for i in range(len(nums)):\n",
    "        Max =0\n",
    "        for j in range(i):\n",
    "            print(i,j,nums[i],nums[j])\n",
    "            if nums[i]>nums[j]:\n",
    "                Max = max(Max,S[j])\n",
    "        print(S)\n",
    "        S[i]=Max+1\n",
    "\n",
    "        superMax = max(superMax, S[i])\n",
    "    print(S)\n",
    "    return superMax\n",
    "\n",
    "nums = [10,9,2,5,3,7,101,18]\n",
    "#nums=[1,3,6,7,9,4,10,5,6]\n",
    "print(lengthOfLIS(nums))\n",
    "#print(lengthOfLIS([10,9,2,5,3,4]))\n",
    "#print(lengthOfLIS([-2,-1]))"
   ]
  },
  {
   "cell_type": "code",
   "execution_count": 4,
   "metadata": {},
   "outputs": [],
   "source": [
    "nums= [1,2,3,4,5,6,7,8,9,10,11,12,13,14,15,16,17,18,19,20,21,22,23,24,25,26,27,28,29,30,31,32,33,34,35,36,37,38,39,40,41,42,43,44,45,46,47,48,49,50,51,52,53,54,55,56,57,58,59,60,61,62,63,64,65,66,67,68,69,70,71,72,73,74,75,76,77,78,79,80,81,82,83,84,85,86,87,88,89,90,91,92,93,94,95,96,97,98,99,100,101,102,103,104,105,106,107,108,109,110,111,112,113,114,115,116,117,118,119,120,121,122,123,124,125,126,127,128,129,130,131,132,133,134,135,136,137,138,139,140,141,142,143,144,145,146,147,148,149,150,151,152,153,154,155,156,157,158,159,160,161,162,163,164,165,166,167,168,169,170,171,172,173,174,175,176,177,178,179,180,181,182,183,184,185,186,187,188,189,190,191,192,193,194,195,196,197,198,199,200,201,202,203,204,205,206,207,208,209,210,211,212,213,214,215,216,217,218,219,220,221,222,223,224,225,226,227,228,229,230,231,232,233,234,235,236,237,238,239,240,241,242,243,244,245,246,247,248,249,250,251,252,253,254,255,256,257,258,259,260,261,262,263,264,265,266,267,268,269,270,271,272,273,274,275,276,277,278,279,280,281,282,283,284,285,286,287,288,289,290,291,292,293,294,295,296,297,298,299,300,301,302,303,304,305,306,307,308,309,310,311,312,313,314,315,316,317,318,319,320,321,322,323,324,325,326,327,328,329,330,331,332,333,334,335,336,337,338,339,340,341,342,343,344,345,346,347,348,349,350,351,352,353,354,355,356,357,358,359,360,361,362,363,364,365,366,367,368,369,370,371,372,373,374,375,376,377,378,379,380,381,382,383,384,385,386,387,388,389,390,391,392,393,394,395,396,397,398,399,400,401,402,403,404,405,406,407,408,409,410,411,412,413,414,415,416,417,418,419,420,421,422,423,424,425,426,427,428,429,430,431,432,433,434,435,436,437,438,439,440,441,442,443,444,445,446,447,448,449,450,451,452,453,454,455,456,457,458,459,460,461,462,463,464,465,466,467,468,469,470,471,472,473,474,475,476,477,478,479,480,481,482,483,484,485,486,487,488,489,490,491,492,493,494,495,496,497,498,499,500,501,502,503,504,505,506,507,508,509,510,511,512,513,514,515,516,517,518,519,520,521,522,523,524,525,526,527,528,529,530,531,532,533,534,535,536,537,538,539,540,541,542,543,544,545,546,547,548,549,550,551,552,553,554,555,556,557,558,559,560,561,562,563,564,565,566,567,568,569,570,571,572,573,574,575,576,577,578,579,580,581,582,583,584,585,586,587,588,589,590,591,592,593,594,595,596,597,598,599,600,601,602,603,604,605,606,607,608,609,610,611,612,613,614,615,616,617,618,619,620,621,622,623,624,625,626,627,628,629,630,631,632,633,634,635,636,637,638,639,640,641,642,643,644,645,646,647,648,649,650,651,652,653,654,655,656,657,658,659,660,661,662,663,664,665,666,667,668,669,670,671,672,673,674,675,676,677,678,679,680,681,682,683,684,685,686,687,688,689,690,691,692,693,694,695,696,697,698,699,700,701,702,703,704,705,706,707,708,709,710,711,712,713,714,715,716,717,718,719,720,721,722,723,724,725,726,727,728,729,730,731,732,733,734,735,736,737,738,739,740,741,742,743,744,745,746,747,748,749,750,751,752,753,754,755,756,757,758,759,760,761,762,763,764,765,766,767,768,769,770,771,772,773,774,775,776,777,778,779,780,781,782,783,784,785,786,787,788,789,790,791,792,793,794,795,796,797,798,799,800,801,802,803,804,805,806,807,808,809,810,811,812,813,814,815,816,817,818,819,820,821,822,823,824,825,826,827,828,829,830,831,832,833,834,835,836,837,838,839,840,841,842,843,844,845,846,847,848,849,850,851,852,853,854,855,856,857,858,859,860,861,862,863,864,865,866,867,868,869,870,871,872,873,874,875,876,877,878,879,880,881,882,883,884,885,886,887,888,889,890,891,892,893,894,895,896,897,898,899,900,901,902,903,904,905,906,907,908,909,910,911,912,913,914,915,916,917,918,919,920,921,922,923,924,925,926,927,928,929,930,931,932,933,934,935,936,937,938,939,940,941,942,943,944,945,946,947,948,949,950,951,952,953,954,955,956,957,958,959,960,961,962,963,964,965,966,967,968,969,970,971,972,973,974,975,976,977,978,979,980,981,982,983,984,985,986,987,988,989,990,991,992,993,994,995,996,997,998,999,1000,1001,1002,1003,1004,1005,1006,1007,1008,1009,1010,1011,1012,1013,1014,1015,1016,1017,1018,1019,1020,1021,1022,1023,1024,1025,1026,1027,1028,1029,1030,1031,1032,1033,1034,1035,1036,1037,1038,1039,1040,1041,1042,1043,1044,1045,1046,1047,1048,1049,1050,1051,1052,1053,1054,1055,1056,1057,1058,1059,1060,1061,1062,1063,1064,1065,1066,1067,1068,1069,1070,1071,1072,1073,1074,1075,1076,1077,1078,1079,1080,1081,1082,1083,1084,1085,1086,1087,1088,1089,1090,1091,1092,1093,1094,1095,1096,1097,1098,1099,1100,1101,1102,1103,1104,1105,1106,1107,1108,1109,1110,1111,1112,1113,1114,1115,1116,1117,1118,1119,1120,1121,1122,1123,1124,1125,1126,1127,1128,1129,1130,1131,1132,1133,1134,1135,1136,1137,1138,1139,1140,1141,1142,1143,1144,1145,1146,1147,1148,1149,1150,1151,1152,1153,1154,1155,1156,1157,1158,1159,1160,1161,1162,1163,1164,1165,1166,1167,1168,1169,1170,1171,1172,1173,1174,1175,1176,1177,1178,1179,1180,1181,1182,1183,1184,1185,1186,1187,1188,1189,1190,1191,1192,1193,1194,1195,1196,1197,1198,1199,1200,1201,1202,1203,1204,1205,1206,1207,1208,1209,1210,1211,1212,1213,1214,1215,1216,1217,1218,1219,1220,1221,1222,1223,1224,1225,1226,1227,1228,1229,1230,1231,1232,1233,1234,1235,1236,1237,1238,1239,1240,1241,1242,1243,1244,1245,1246,1247,1248,1249,1250,1251,1252,1253,1254,1255,1256,1257,1258,1259,1260,1261,1262,1263,1264,1265,1266,1267,1268,1269,1270,1271,1272,1273,1274,1275,1276,1277,1278,1279,1280,1281,1282,1283,1284,1285,1286,1287,1288,1289,1290,1291,1292,1293,1294,1295,1296,1297,1298,1299,1300,1301,1302,1303,1304,1305,1306,1307,1308,1309,1310,1311,1312,1313,1314,1315,1316,1317,1318,1319,1320,1321,1322,1323,1324,1325,1326,1327,1328,1329,1330,1331,1332,1333,1334,1335,1336,1337,1338,1339,1340,1341,1342,1343,1344,1345,1346,1347,1348,1349,1350,1351,1352,1353,1354,1355,1356,1357,1358,1359,1360,1361,1362,1363,1364,1365,1366,1367,1368,1369,1370,1371,1372,1373,1374,1375,1376,1377,1378,1379,1380,1381,1382,1383,1384,1385,1386,1387,1388,1389,1390,1391,1392,1393,1394,1395,1396,1397,1398,1399,1400,1401,1402,1403,1404,1405,1406,1407,1408,1409,1410,1411,1412,1413,1414,1415,1416,1417,1418,1419,1420,1421,1422,1423,1424,1425,1426,1427,1428,1429,1430,1431,1432,1433,1434,1435,1436,1437,1438,1439,1440,1441,1442,1443,1444,1445,1446,1447,1448,1449,1450,1451,1452,1453,1454,1455,1456,1457,1458,1459,1460,1461,1462,1463,1464,1465,1466,1467,1468,1469,1470,1471,1472,1473,1474,1475,1476,1477,1478,1479,1480,1481,1482,1483,1484,1485,1486,1487,1488,1489,1490,1491,1492,1493,1494,1495,1496,1497,1498,1499,1500,1501,1502,1503,1504,1505,1506,1507,1508,1509,1510,1511,1512,1513,1514,1515,1516,1517,1518,1519,1520,1521,1522,1523,1524,1525,1526,1527,1528,1529,1530,1531,1532,1533,1534,1535,1536,1537,1538,1539,1540,1541,1542,1543,1544,1545,1546,1547,1548,1549,1550,1551,1552,1553,1554,1555,1556,1557,1558,1559,1560,1561,1562,1563,1564,1565,1566,1567,1568,1569,1570,1571,1572,1573,1574,1575,1576,1577,1578,1579,1580,1581,1582,1583,1584,1585,1586,1587,1588,1589,1590,1591,1592,1593,1594,1595,1596,1597,1598,1599,1600,1601,1602,1603,1604,1605,1606,1607,1608,1609,1610,1611,1612,1613,1614,1615,1616,1617,1618,1619,1620,1621,1622,1623,1624,1625,1626,1627,1628,1629,1630,1631,1632,1633,1634,1635,1636,1637,1638,1639,1640,1641,1642,1643,1644,1645,1646,1647,1648,1649,1650,1651,1652,1653,1654,1655,1656,1657,1658,1659,1660,1661,1662,1663,1664,1665,1666,1667,1668,1669,1670,1671,1672,1673,1674,1675,1676,1677,1678,1679,1680,1681,1682,1683,1684,1685,1686,1687,1688,1689,1690,1691,1692,1693,1694,1695,1696,1697,1698,1699,1700,1701,1702,1703,1704,1705,1706,1707,1708,1709,1710,1711,1712,1713,1714,1715,1716,1717,1718,1719,1720,1721,1722,1723,1724,1725,1726,1727,1728,1729,1730,1731,1732,1733,1734,1735,1736,1737,1738,1739,1740,1741,1742,1743,1744,1745,1746,1747,1748,1749,1750,1751,1752,1753,1754,1755,1756,1757,1758,1759,1760,1761,1762,1763,1764,1765,1766,1767,1768,1769,1770,1771,1772,1773,1774,1775,1776,1777,1778,1779,1780,1781,1782,1783,1784,1785,1786,1787,1788,1789,1790,1791,1792,1793,1794,1795,1796,1797,1798,1799,1800,1801,1802,1803,1804,1805,1806,1807,1808,1809,1810,1811,1812,1813,1814,1815,1816,1817,1818,1819,1820,1821,1822,1823,1824,1825,1826,1827,1828,1829,1830,1831,1832,1833,1834,1835,1836,1837,1838,1839,1840,1841,1842,1843,1844,1845,1846,1847,1848,1849,1850,1851,1852,1853,1854,1855,1856,1857,1858,1859,1860,1861,1862,1863,1864,1865,1866,1867,1868,1869,1870,1871,1872,1873,1874,1875,1876,1877,1878,1879,1880,1881,1882,1883,1884,1885,1886,1887,1888,1889,1890,1891,1892,1893,1894,1895,1896,1897,1898,1899,1900,1901,1902,1903,1904,1905,1906,1907,1908,1909,1910,1911,1912,1913,1914,1915,1916,1917,1918,1919,1920,1921,1922,1923,1924,1925,1926,1927,1928,1929,1930,1931,1932,1933,1934,1935,1936,1937,1938,1939,1940,1941,1942,1943,1944,1945,1946,1947,1948,1949,1950,1951,1952,1953,1954,1955,1956,1957,1958,1959,1960,1961,1962,1963,1964,1965,1966,1967,1968,1969,1970,1971,1972,1973,1974,1975,1976,1977,1978,1979,1980,1981,1982,1983,1984,1985,1986,1987,1988,1989,1990,1991,1992,1993,1994,1995,1996,1997,1998,1999,2000,2001,2002,2003,2004,2005,2006,2007,2008,2009,2010,2011,2012,2013,2014,2015,2016,2017,2018,2019,2020,2021,2022,2023,2024,2025,2026,2027,2028,2029,2030,2031,2032,2033,2034,2035,2036,2037,2038,2039,2040,2041,2042,2043,2044,2045,2046,2047,2048,2049,2050,2051,2052,2053,2054,2055,2056,2057,2058,2059,2060,2061,2062,2063,2064,2065,2066,2067,2068,2069,2070,2071,2072,2073,2074,2075,2076,2077,2078,2079,2080,2081,2082,2083,2084,2085,2086,2087,2088,2089,2090,2091,2092,2093,2094,2095,2096,2097,2098,2099,2100,2101,2102,2103,2104,2105,2106,2107,2108,2109,2110,2111,2112,2113,2114,2115,2116,2117,2118,2119,2120,2121,2122,2123,2124,2125,2126,2127,2128,2129,2130,2131,2132,2133,2134,2135,2136,2137,2138,2139,2140,2141,2142,2143,2144,2145,2146,2147,2148,2149,2150,2151,2152,2153,2154,2155,2156,2157,2158,2159,2160,2161,2162,2163,2164,2165,2166,2167,2168,2169,2170,2171,2172,2173,2174,2175,2176,2177,2178,2179,2180,2181,2182,2183,2184,2185,2186,2187,2188,2189,2190,2191,2192,2193,2194,2195,2196,2197,2198,2199,2200,2201,2202,2203,2204,2205,2206,2207,2208,2209,2210,2211,2212,2213,2214,2215,2216,2217,2218,2219,2220,2221,2222,2223,2224,2225,2226,2227,2228,2229,2230,2231,2232,2233,2234,2235,2236,2237,2238,2239,2240,2241,2242,2243,2244,2245,2246,2247,2248,2249,2250,2251,2252,2253,2254,2255,2256,2257,2258,2259,2260,2261,2262,2263,2264,2265,2266,2267,2268,2269,2270,2271,2272,2273,2274,2275,2276,2277,2278,2279,2280,2281,2282,2283,2284,2285,2286,2287,2288,2289,2290,2291,2292,2293,2294,2295,2296,2297,2298,2299,2300,2301,2302,2303,2304,2305,2306,2307,2308,2309,2310,2311,2312,2313,2314,2315,2316,2317,2318,2319,2320,2321,2322,2323,2324,2325,2326,2327,2328,2329,2330,2331,2332,2333,2334,2335,2336,2337,2338,2339,2340,2341,2342,2343,2344,2345,2346,2347,2348,2349,2350,2351,2352,2353,2354,2355,2356,2357,2358,2359,2360,2361,2362,2363,2364,2365,2366,2367,2368,2369,2370,2371,2372,2373,2374,2375,2376,2377,2378,2379,2380,2381,2382,2383,2384,2385,2386,2387,2388,2389,2390,2391,2392,2393,2394,2395,2396,2397,2398,2399,2400,2401,2402,2403,2404,2405,2406,2407,2408,2409,2410,2411,2412,2413,2414,2415,2416,2417,2418,2419,2420,2421,2422,2423,2424,2425,2426,2427,2428,2429,2430,2431,2432,2433,2434,2435,2436,2437,2438,2439,2440,2441,2442,2443,2444,2445,2446,2447,2448,2449,2450,2451,2452,2453,2454,2455,2456,2457,2458,2459,2460,2461,2462,2463,2464,2465,2466,2467,2468,2469,2470,2471,2472,2473,2474,2475,2476,2477,2478,2479,2480,2481,2482,2483,2484,2485,2486,2487,2488,2489,2490,2491,2492,2493,2494,2495,2496,2497,2498,2499,2500]"
   ]
  },
  {
   "cell_type": "code",
   "execution_count": 5,
   "metadata": {},
   "outputs": [
    {
     "data": {
      "text/plain": [
       "2500"
      ]
     },
     "execution_count": 5,
     "metadata": {},
     "output_type": "execute_result"
    }
   ],
   "source": [
    "lengthOfLIS(nums)"
   ]
  },
  {
   "cell_type": "code",
   "execution_count": 304,
   "metadata": {},
   "outputs": [
    {
     "name": "stdout",
     "output_type": "stream",
     "text": [
      "[1, 2, 4, 4]\n",
      "4\n",
      "[2, 7, 11, 11, 12]\n",
      "12\n",
      "[1, 2, 4, 4]\n",
      "4\n"
     ]
    }
   ],
   "source": [
    "\n",
    "def rob(nums):\n",
    "    if nums==[]:\n",
    "        return 0\n",
    "    if len(nums)==1:\n",
    "        return nums[0]\n",
    "    if len(nums)==2:\n",
    "        return max(nums[0],nums[1])\n",
    "    money =[0]*len(nums)\n",
    "    money[0],money[1]=nums[0], nums[1]\n",
    "    money[2]= max(money[0]+nums[2],nums[1])\n",
    "    for i in range(3,len(nums)):\n",
    "        money[i] = max(money[i-2]+nums[i],money[i-3]+nums[i],money[i-1])\n",
    "    print(money)\n",
    "    return (money[len(nums)-1])    \n",
    "\n",
    "nums = [1,2,3,1]\n",
    "print(rob(nums))\n",
    "nums =[2,7,9,3,1]\n",
    "print(rob(nums))\n",
    "nums =[1,2,3,1]\n",
    "print(rob(nums))"
   ]
  },
  {
   "cell_type": "code",
   "execution_count": 312,
   "metadata": {},
   "outputs": [
    {
     "name": "stdout",
     "output_type": "stream",
     "text": [
      "[24, 12, 8, 6]\n"
     ]
    }
   ],
   "source": [
    "def productExceptSelf(nums):\n",
    "    \n",
    "        L=len(nums)\n",
    "        prodl,prodr= 1,1\n",
    "        mull=[1]*len(nums)\n",
    "        output=[1]*len(nums)\n",
    "        mulr=[1]*len(nums)\n",
    "        for i in range(1,len(nums)):\n",
    "            \n",
    "            \n",
    "            prodl = prodl*nums[i-1]\n",
    "            mull[i]=prodl\n",
    "            \n",
    "            prodr=prodr*nums[L-i]\n",
    "            mulr[L-i-1]=prodr\n",
    "        \n",
    "        \n",
    "        for i in range(len(nums)): \n",
    "            output[i]=mulr[i]*mull[i]\n",
    "            \n",
    "        return output    \n",
    "    \n",
    "print(productExceptSelf([1,2,3,4]))"
   ]
  },
  {
   "cell_type": "code",
   "execution_count": 78,
   "metadata": {},
   "outputs": [
    {
     "name": "stdout",
     "output_type": "stream",
     "text": [
      "True\n",
      "False\n",
      "True\n"
     ]
    }
   ],
   "source": [
    "def exist(board, word):\n",
    "    \n",
    "    \n",
    "    for i in range(len(board)):\n",
    "        for j in range(len(board[0])):\n",
    "            if (dfs(board,i,j,word)):\n",
    "                return True\n",
    "    return False\n",
    "        \n",
    "def dfs(board,i,j,word):\n",
    "    if len(word) == 0:\n",
    "        return True\n",
    "    \n",
    "    if (i < 0 or i>=len(board) or j<0 or j>=len(board[0]) or word[0]!=board[i][j]):\n",
    "        return False\n",
    "    tmp = board[i][j]  \n",
    "    board[i][j] = \"#\"  \n",
    "    \n",
    "    res = dfs(board, i+1, j, word[1:]) or dfs(board, i-1, j, word[1:]) or dfs(board, i, j+1, word[1:]) or dfs(board, i, j-1, word[1:])\n",
    "    board[i][j] = tmp\n",
    "    return res\n",
    "\n",
    "    \n",
    "board = [\n",
    "  ['A','B','C','E'],\n",
    "  ['S','F','C','S'],\n",
    "  ['A','D','E','E']\n",
    "]    \n",
    "\n",
    "\n",
    "word =\"ABCCED\"\n",
    "print(exist(board, word)   )\n",
    "\n",
    "word = \"AAA\"\n",
    "board = [['A','A']]    \n",
    "print(exist(board, word)   )\n",
    "board=[[\"C\",\"A\",\"A\"],[\"A\",\"A\",\"A\"],[\"B\",\"C\",\"D\"]]\n",
    "word=\"AAB\"\n",
    "print(exist(board, word)   )"
   ]
  },
  {
   "cell_type": "code",
   "execution_count": null,
   "metadata": {},
   "outputs": [],
   "source": [
    "def letterCombinations(digits):\n",
    "    if(len(digits)==0):\n",
    "        return []\n",
    "    D = {2: 'abc',3:'def',4:'ghi',5:'jkl',6:'mno',7:'pqrs',8:'tuv',9:'wxyz'}\n",
    "    tree= build_tree(digits,D)\n",
    "   # print(tree)\n",
    "    S=[]\n",
    "    \n",
    "    S= DFS_Visit(tree,0,0,\"\",len(digits),S)\n",
    "    #for k in range(len(tree[0])):\n",
    "    return S\n",
    "     #   DFS_Visit(tree,0,k,\"\")\n",
    "    \n",
    "def DFS_Visit(tree,i,j,s,L,S):\n",
    "    s=s+str(tree[i][j])\n",
    "    print(s)\n",
    "    \n",
    "    #S=[]\n",
    "    if(i<len(tree)-1):\n",
    "#         if(len(s[2:])==L):\n",
    "#             S.append(s[2:])\n",
    "       for k in range(len(tree[i+1])):\n",
    "            \n",
    "            DFS_Visit(tree,i+1,k,s,L,S)\n",
    "            \n",
    "    if(len(s[2:])==L):\n",
    "        S.append(s[2:])\n",
    "        \n",
    "    return S\n",
    "    #s=s+str(tree[i][j]) \n",
    "    \n",
    "def build_tree(digits,D):\n",
    "    tree=[[-1]]\n",
    "    for i in range(len(digits)):\n",
    "        tree.append(build_list(D[int(digits[i])]))\n",
    "    return tree\n",
    "        \n",
    "        \n",
    "def build_list(s):\n",
    "    List=[]\n",
    "    for i in range(len(s)):\n",
    "        List.append(s[i])\n",
    "    return List    \n",
    "\n",
    "print(letterCombinations(\"23\"))"
   ]
  },
  {
   "cell_type": "code",
   "execution_count": 79,
   "metadata": {},
   "outputs": [],
   "source": [
    "# #BFS Minidepth Solution #All solutions work #first two are iterative \n",
    "def minDepth(self, root):\n",
    "        Q = []\n",
    "        if root:\n",
    "            Q.append(root)\n",
    "        depth=0\n",
    "        while(Q):\n",
    "            depth+=1\n",
    "            for i in range(len(Q)):\n",
    "                \n",
    "                node = Q.pop(0)\n",
    "\n",
    "                if node.left ==None and node.right==None:\n",
    "                    return depth\n",
    "\n",
    "                if(node.left):\n",
    "                    Q.append(node.left)\n",
    "\n",
    "                if (node.right):\n",
    "                    Q.append(node.right)\n",
    "\n",
    "        return depth\n",
    "\n",
    "##anhad     \n",
    "    \n",
    "class Solution(object):\n",
    "    def minDepth(self, root):\n",
    "        \n",
    "        if root==None:\n",
    "            return 0\n",
    "        Q=[root]\n",
    "        last = root\n",
    "        current = None\n",
    "        d=1\n",
    "        while(Q):\n",
    "            pop = Q.pop(0)\n",
    "            \n",
    "            if pop.left==None and pop.right ==None:\n",
    "                return d\n",
    "           \n",
    "            if pop.left:\n",
    "                Q.append(pop.left)\n",
    "                current =pop.left\n",
    "                \n",
    "            if pop.right:\n",
    "                Q.append(pop.right)\n",
    "                current =pop.right\n",
    "            \n",
    "            if pop == last:\n",
    "                \n",
    "                d+=1\n",
    "                last=current\n",
    "                print(last.val)\n",
    "        \n",
    "        return d\n",
    "            \n",
    "            \n",
    "#DFS Minidepth Solution\n",
    "\n",
    "# Definition for a binary tree node.\n",
    "# class TreeNode(object):\n",
    "#     def __init__(self, x):\n",
    "#         self.val = x\n",
    "#         self.left = None\n",
    "#         self.right = None\n",
    "\n",
    "class Solution(object):\n",
    "    def minDepth(self, root):\n",
    "        if root ==None:\n",
    "            return 0\n",
    "            \n",
    "        if not root.left:\n",
    "            return 1+self.minDepth(root.right)\n",
    "        if not root.right:\n",
    "            return 1+self.minDepth(root.left)\n",
    "        \n",
    "        \n",
    "        if root.left and root.right :\n",
    "            return 1 + min(self.minDepth(root.left),self.minDepth(root.right))\n",
    "            \n",
    "#iterative maxdepth\n",
    "            \n",
    "class Solution(object):\n",
    "    def maxDepth(self, root):\n",
    "        if root==None:\n",
    "            return 0\n",
    "        Q=[root]\n",
    "        last = root\n",
    "        current = None\n",
    "        d=0\n",
    "        while(Q):\n",
    "            pop = Q.pop(0)\n",
    "            if pop.left:\n",
    "                Q.append(pop.left)\n",
    "                current =pop.left\n",
    "            if pop.right:\n",
    "                Q.append(pop.right)\n",
    "                current =pop.right\n",
    "            # if pop.left==None and pop.right ==None:\n",
    "            #     return d\n",
    "            if pop == last:\n",
    "                d+=1\n",
    "                last=current\n",
    "        return d\n",
    "\n",
    "            \n",
    "        \n"
   ]
  },
  {
   "cell_type": "code",
   "execution_count": 63,
   "metadata": {},
   "outputs": [
    {
     "name": "stdout",
     "output_type": "stream",
     "text": [
      "most 1\n",
      "mist 2\n",
      "lost 2\n",
      "miss 3\n",
      "fist 3\n",
      "4\n",
      "1\n"
     ]
    }
   ],
   "source": [
    "def hamming_distance(s1, s2):\n",
    "    return sum(el1 != el2 for el1, el2 in zip(s1, s2)) ######\n",
    "\n",
    "\n",
    "def ladderLength( beginWord, endWord, wordList):\n",
    "    #wordList.remove(beginWord)\n",
    "    Q = [[beginWord,1]]\n",
    "    while(Q):\n",
    "        word,pos = Q.pop(0)\n",
    "        if word==endWord:\n",
    "            return pos\n",
    "        for w in wordList[:]:     ##### removes while looping\n",
    "            if hamming_distance(word,w)==1:\n",
    "                print(w,pos)\n",
    "                wordList.remove(w)\n",
    "                Q.append([w,pos+1])\n",
    "                \n",
    "    return 0    \n",
    "\n",
    "beginWord = \"hit\"\n",
    "endWord = \"cog\"\n",
    "wordList = [\"hot\",\"dot\",\"dog\",\"lot\",\"log\"]\n",
    "wordList=[\"hot\",\"dot\",\"dog\",\"lot\",\"log\",\"cog\"]\n",
    "\n",
    "beginWord = \"a\"\n",
    "endWord = \"c\"\n",
    "wordList =[\"a\",\"b\",\"c\"]\n",
    "\n",
    "beginWord = \"lost\"\n",
    "endWord = \"miss\"\n",
    "wordList=[\"most\",\"mist\",\"miss\",\"lost\",\"fist\",\"fish\"]\n",
    "#    print(wordList)\n",
    "print(ladderLength(beginWord, endWord, wordList))\n",
    "\n",
    "beginWord=\"a\"\n",
    "endWord=\"a\"\n",
    "wordList=[\"a\",\"b\",\"c\"]\n",
    "print(ladderLength(beginWord, endWord, wordList))"
   ]
  },
  {
   "cell_type": "code",
   "execution_count": 44,
   "metadata": {},
   "outputs": [
    {
     "name": "stdout",
     "output_type": "stream",
     "text": [
      "6\n"
     ]
    }
   ],
   "source": [
    "x={1:2,3:4}\n",
    "print(sum(x.values()))"
   ]
  },
  {
   "cell_type": "code",
   "execution_count": 13,
   "metadata": {},
   "outputs": [],
   "source": [
    "D={1:4,2:3}\n",
    "D2 = {1:4,2:3}\n",
    "import collections\n",
    "x =\"ads\"\n",
    "D1 = collections.Counter(x)"
   ]
  },
  {
   "cell_type": "code",
   "execution_count": 15,
   "metadata": {},
   "outputs": [
    {
     "ename": "TypeError",
     "evalue": "unsupported operand type(s) for -: 'Counter' and 'dict'",
     "output_type": "error",
     "traceback": [
      "\u001b[0;31m---------------------------------------------------------------------------\u001b[0m",
      "\u001b[0;31mTypeError\u001b[0m                                 Traceback (most recent call last)",
      "\u001b[0;32m<ipython-input-15-e73f94daf963>\u001b[0m in \u001b[0;36m<module>\u001b[0;34m()\u001b[0m\n\u001b[0;32m----> 1\u001b[0;31m \u001b[0mD1\u001b[0m\u001b[0;34m-\u001b[0m\u001b[0mD2\u001b[0m\u001b[0;34m\u001b[0m\u001b[0m\n\u001b[0m",
      "\u001b[0;31mTypeError\u001b[0m: unsupported operand type(s) for -: 'Counter' and 'dict'"
     ]
    }
   ],
   "source": [
    "D1-D2"
   ]
  },
  {
   "cell_type": "code",
   "execution_count": 3,
   "metadata": {},
   "outputs": [
    {
     "name": "stdout",
     "output_type": "stream",
     "text": [
      "blue is sky the\n"
     ]
    }
   ],
   "source": [
    "def reverseWords(s):\n",
    "      return   ' '.join(s.split()[::-1])\n",
    "print(reverseWords(\"the sky is blue\"))    "
   ]
  },
  {
   "cell_type": "code",
   "execution_count": 8,
   "metadata": {},
   "outputs": [
    {
     "name": "stdout",
     "output_type": "stream",
     "text": [
      "bcacc\n"
     ]
    }
   ],
   "source": [
    "a =\"b\"\n",
    "b=\"a\"\n",
    "c=\"c\"\n",
    "c=c.join(a+b+c)\n",
    "print(c)"
   ]
  },
  {
   "cell_type": "markdown",
   "metadata": {},
   "source": [
    "Leap Frog​ Lilypads are arranged into a pathway for frogs to\n",
    "jump. You notice that frogs are able to jump by x 1 , x 2 , ..., x n\n",
    "lilypads at a time.\n",
    "Write an algorithm to compute how many different ways there are\n",
    "for a frog to jump to a certain lilypad when you are given a\n",
    "list of possible jump lengths x 1 , x 2 , ..., x n and a target lilypad\n",
    "number assuming they are numbered starting from 1 and that the\n",
    "frog does not jump back i.e. ∀i, x i ≥ 1 .\n",
    "For example, if a frog can only jump by 1, 3 and 5 lilypads and\n",
    "it has to reach lilypad number 5, here are the different ways he\n",
    "could do it:\n",
    "● Jump 1, 5 times\n",
    "● Jump 3 once then jump 1 t\n",
    "wice\n",
    "● Jump 1 twice and jump 3 once\n",
    "● Jump 1 then 3 then 1\n",
    "● Jump 5 directly\n",
    "Inputs:\n",
    "- List of possible jumps: [j1, j2, j3, ..., jn]\n",
    "- Target lilypad “target”\n",
    "Output:\n",
    "- Number of ways to reach lilypad “target” using the list of\n",
    "jumps\n",
    "E.g.\n",
    "- List of jumps: [1,3,5]\n",
    "- Target: 5\n",
    "- Possible ways:\n",
    "- 1 1 1 1 1\n",
    "- 1 1 3\n",
    "- 1 3 1\n",
    "- 3 1 1\n",
    "- 5\n",
    "- => return 5 because 5 ways\n"
   ]
  },
  {
   "cell_type": "code",
   "execution_count": 27,
   "metadata": {},
   "outputs": [
    {
     "name": "stdout",
     "output_type": "stream",
     "text": [
      "5\n"
     ]
    }
   ],
   "source": [
    "def jump(target,List):\n",
    "    Ways=[0]*(target+1)\n",
    "    Ways[0]=0\n",
    "    Ways[1]=1\n",
    "    Ways[2]=1\n",
    "    Ways[3]=2\n",
    "    Ways[4]=3\n",
    "    Ways[5]=5\n",
    "    Path = []\n",
    "    x=0\n",
    "    for i in range(6,target+1):\n",
    "        x=0\n",
    "        for j in range(len(List)):\n",
    "            \n",
    "            Ways[i] += Ways[i-List[j]]\n",
    "        \n",
    "    return Ways[target] if target<len(Ways) else 0\n",
    "\n",
    "List = [1,3,5]\n",
    "target = 5\n",
    "\n",
    "print(jump(target,List))"
   ]
  },
  {
   "cell_type": "code",
   "execution_count": null,
   "metadata": {},
   "outputs": [],
   "source": [
    "def element(l):\n",
    "    return l[0]\n",
    "\n",
    "def merge(intervals):\n",
    "\n",
    "    intervals.sort(key=element)\n",
    "    print(intervals)\n",
    "    merged=[intervals[0]]\n",
    "    pointer = intervals[0][1]\n",
    "    for r in range(1,len(intervals)):\n",
    "        start = intervals[r][0]\n",
    "        end = intervals[r][1]\n",
    "        \n",
    "        if start > end :\n",
    "            continue\n",
    "        \n",
    "        if start <= pointer:\n",
    "            intervals[r-1][1]=end\n",
    "        else:\n",
    "            \n",
    "            merged.append(intervals[r])\n",
    "            \n",
    "    return merged\n",
    "\n",
    "intervals=[[1,3],[2,6],[8,10],[15,18]]\n",
    "intervals = [[1,4],[0,2],[3,5]]\n",
    "print(merge(intervals))"
   ]
  },
  {
   "cell_type": "code",
   "execution_count": null,
   "metadata": {},
   "outputs": [],
   "source": [
    "# Definition for singly-linked list.\n",
    "class ListNode(object):\n",
    "    def __init__(self, x):\n",
    "        self.val = x\n",
    "        self.next = None\n",
    "def hasCycle(head):\n",
    "    #print(head.val)\n",
    "    \"\"\"\n",
    "    :type head: ListNode\n",
    "    :rtype: bool\n",
    "    \"\"\"\n",
    "    length = -1\n",
    "    D={}\n",
    "    while(head!=None):\n",
    "        if head in D:\n",
    "            return True\n",
    "        \n",
    "        D[head]=head.next\n",
    "        head=head.next\n",
    "        \n",
    "    return False    \n",
    "\n",
    "l1 = ListNode(0)\n",
    "l2 = ListNode(1)\n",
    "l1.next =l2\n",
    "l2.next =l1\n",
    "hasCycle(l1)\n",
    "\n",
    "##Below solution for O(1) space complexity\n",
    "\n",
    "\n",
    "def hasCycle(head):\n",
    "\n",
    "\n",
    "    slow =head\n",
    "\n",
    "    fast=head\n",
    "\n",
    "    while(slow!=None and fast!=None):\n",
    "       # print(slow.val, fast.val)  \n",
    "\n",
    "        slow= slow.next\n",
    "\n",
    "        if fast.next!=None :\n",
    "            fast= fast.next.next    \n",
    "        else :\n",
    "            return False\n",
    "\n",
    "\n",
    "        if(slow==fast):\n",
    "                return True\n",
    "\n",
    "    return False  "
   ]
  },
  {
   "cell_type": "code",
   "execution_count": 49,
   "metadata": {},
   "outputs": [],
   "source": [
    " def lowestCommonAncestor(self, root, p, q):\n",
    "        if root ==None:\n",
    "            return None\n",
    "\n",
    "        if root == p or root== q:\n",
    "            return root\n",
    "\n",
    "        left =self.lowestCommonAncestor(root.left, p, q)\n",
    "        right =self.lowestCommonAncestor(root.right, p, q)\n",
    "\n",
    "        if left!=None and right!=None:\n",
    "            return root\n",
    "\n",
    "        else: \n",
    "            return left or  right"
   ]
  },
  {
   "cell_type": "code",
   "execution_count": 2,
   "metadata": {},
   "outputs": [
    {
     "name": "stdout",
     "output_type": "stream",
     "text": [
      "[['eaat'], ['tea', 'ate'], ['tan', 'nat'], ['bat']]\n"
     ]
    }
   ],
   "source": [
    "def groupAnagrams(strs):\n",
    "    dic = {}\n",
    "    for item in strs:\n",
    "        stored_string = ''.join(sorted(item))\n",
    "\n",
    "        if stored_string not in dic:\n",
    "            dic[stored_string] = [item]\n",
    "        else:\n",
    "            dic[stored_string].append(item)\n",
    "    result = []\n",
    "    for item in dic.values():\n",
    "        result.append(item)\n",
    "    return result\n",
    "    \n",
    "strs = [\"eaat\", \"tea\", \"tan\", \"ate\", \"nat\", \"bat\"]    \n",
    "print(groupAnagrams(strs))\n"
   ]
  },
  {
   "cell_type": "code",
   "execution_count": 3,
   "metadata": {},
   "outputs": [
    {
     "name": "stdout",
     "output_type": "stream",
     "text": [
      "[[7, 4, 1], [8, 5, 2], [9, 6, 3]]\n"
     ]
    }
   ],
   "source": [
    " def rotate(matrix):\n",
    "        \"\"\"\n",
    "        :type matrix: List[List[int]]\n",
    "        :rtype: void Do not return anything, modify matrix in-place instead.\n",
    "        \"\"\"\n",
    "        n = len(matrix)-1\n",
    "        for i in range(n,-1,-1):\n",
    "            for j in range(n+1):\n",
    "                a=matrix[i][j]\n",
    "                matrix[j].append(a)\n",
    "            for j in range(n+1):\n",
    "                matrix[i].pop(0)\n",
    "        return matrix     \n",
    "    \n",
    "matrix = [ [1,2,3],  [4,5,6],  [7,8,9]]\n",
    "print(rotate(matrix))\n",
    "                "
   ]
  },
  {
   "cell_type": "code",
   "execution_count": 21,
   "metadata": {},
   "outputs": [],
   "source": [
    "#def subsets(nums):\n",
    "    "
   ]
  },
  {
   "cell_type": "code",
   "execution_count": 39,
   "metadata": {},
   "outputs": [
    {
     "name": "stdout",
     "output_type": "stream",
     "text": [
      "['the', 'sky', 'is', 'blue']\n",
      "blue is sky the\n"
     ]
    }
   ],
   "source": [
    "def reverseWords(s):\n",
    "    \"\"\"\n",
    "    :type s: str\n",
    "    :rtype: str\n",
    "    \"\"\"\n",
    "    string=s.strip().split()\n",
    "    print(string)\n",
    "    rev=string[-1]\n",
    "    for i in range(len(string)-2,-1,-1):\n",
    "        #print(string[i])\n",
    "        rev=rev+\" \"+string[i]\n",
    "    #rev=\" \".join(string[::-1])\n",
    "    #return \" \".join(s.strip().split()[::-1])\n",
    "    return rev \n",
    "\n",
    "print(reverseWords(\"the sky is blue   \"))"
   ]
  },
  {
   "cell_type": "code",
   "execution_count": 13,
   "metadata": {},
   "outputs": [
    {
     "name": "stdout",
     "output_type": "stream",
     "text": [
      "42\n"
     ]
    }
   ],
   "source": [
    "# a=\"charge\"\n",
    "# b=\"comedo\"\n",
    "# c=[\"shanny\",\"shinny\",\"whinny\",\"whiney\",\"shiver\",\"sharer\",\"scarer\",\"scaler\",\"render\",\"fluxes\",\"teases\",\"starks\",\"clinks\",\"messrs\",\"crewed\",\"donner\",\"blurts\",\"bettye\",\"powell\",\"castes\",\"hackee\",\"hackle\",\"heckle\",\"deckle\",\"decile\",\"defile\",\"define\",\"refine\",\"repine\",\"rapine\",\"ravine\",\"raving\",\"roving\",\"chased\",\"roping\",\"coping\",\"coming\",\"homing\",\"pointy\",\"hominy\",\"homily\",\"homely\",\"comely\",\"comedy\",\"comedo\",\"vagues\",\"crocus\",\"spiked\",\"bobbed\",\"dourer\",\"smells\",\"feared\",\"wooden\",\"stings\",\"loafer\",\"pleads\",\"gaiter\",\"meeter\",\"denser\",\"bather\",\"deaves\",\"wetted\",\"pleats\",\"cadger\",\"curbed\",\"grover\",\"hinged\",\"budget\",\"gables\",\"larked\",\"flunks\",\"fibbed\",\"bricks\",\"bowell\",\"yonder\",\"grimes\",\"clewed\",\"triads\",\"legion\",\"lacier\",\"ridden\",\"bogied\",\"camper\",\"damien\",\"spokes\",\"flecks\",\"goosed\",\"snorer\",\"choked\",\"choler\",\"leakey\",\"vagued\",\"flumes\",\"scanty\",\"bugger\",\"tablet\",\"nilled\",\"julies\",\"roomed\",\"ridges\",\"snared\",\"singes\",\"slicks\",\"toiled\",\"verged\",\"shitty\",\"clicks\",\"farmed\",\"stunts\",\"dowsed\",\"brisks\",\"skunks\",\"linens\",\"hammer\",\"naiver\",\"duster\",\"elates\",\"kooked\",\"whacky\",\"mather\",\"loomed\",\"soured\",\"mosses\",\"keeled\",\"drains\",\"drafty\",\"cricks\",\"glower\",\"brayed\",\"jester\",\"mender\",\"burros\",\"arises\",\"barker\",\"father\",\"creaks\",\"prayed\",\"bulges\",\"heaped\",\"called\",\"volley\",\"girted\",\"forded\",\"huffed\",\"bergen\",\"grated\",\"douses\",\"jagger\",\"grovel\",\"lashes\",\"creeds\",\"bonier\",\"snacks\",\"powder\",\"curled\",\"milker\",\"posers\",\"ribbed\",\"tracts\",\"stoked\",\"russel\",\"bummer\",\"cusses\",\"gouged\",\"nailed\",\"lobbed\",\"novels\",\"stands\",\"caches\",\"swanks\",\"jutted\",\"zinged\",\"wigged\",\"lunges\",\"divers\",\"cranny\",\"pinter\",\"guides\",\"tigers\",\"traces\",\"berber\",\"purges\",\"hoaxer\",\"either\",\"bribed\",\"camped\",\"funked\",\"creaky\",\"noises\",\"paused\",\"splits\",\"morrow\",\"faults\",\"ladies\",\"dinged\",\"smoker\",\"calved\",\"deters\",\"kicker\",\"wisher\",\"ballad\",\"filled\",\"fobbed\",\"tucker\",\"steams\",\"rubber\",\"staled\",\"chived\",\"warred\",\"draped\",\"curfew\",\"chafed\",\"washer\",\"tombed\",\"basket\",\"limned\",\"rapped\",\"swills\",\"gashed\",\"loaner\",\"settee\",\"layers\",\"bootee\",\"rioted\",\"prance\",\"sharps\",\"wigner\",\"ranted\",\"hanker\",\"leaden\",\"groped\",\"dalian\",\"robbed\",\"peeled\",\"larder\",\"spoofs\",\"pushed\",\"hallie\",\"maiden\",\"waller\",\"pashas\",\"grains\",\"pinked\",\"lodged\",\"zipper\",\"sneers\",\"bootie\",\"drives\",\"former\",\"deepen\",\"carboy\",\"snouts\",\"fained\",\"wilmer\",\"trance\",\"bugles\",\"chimps\",\"deeper\",\"bolder\",\"cupped\",\"mauser\",\"pagers\",\"proven\",\"teaser\",\"plucky\",\"curved\",\"shoots\",\"barged\",\"mantes\",\"reefer\",\"coater\",\"clotho\",\"wanner\",\"likens\",\"swamis\",\"troyes\",\"breton\",\"fences\",\"pastas\",\"quirky\",\"boiler\",\"canoes\",\"looted\",\"caries\",\"stride\",\"adorns\",\"dwells\",\"hatred\",\"cloths\",\"rotted\",\"spooks\",\"canyon\",\"lances\",\"denied\",\"beefed\",\"diaper\",\"wiener\",\"rifled\",\"leader\",\"ousted\",\"sprays\",\"ridged\",\"mousey\",\"darken\",\"guiled\",\"gasses\",\"suited\",\"drools\",\"bloody\",\"murals\",\"lassie\",\"babied\",\"fitter\",\"lessee\",\"chiles\",\"wrongs\",\"malian\",\"leaves\",\"redder\",\"funnel\",\"broths\",\"gushes\",\"grants\",\"doyens\",\"simmer\",\"locked\",\"spoors\",\"berger\",\"landed\",\"mosley\",\"scorns\",\"whiten\",\"hurled\",\"routed\",\"careen\",\"chorus\",\"chasms\",\"hopped\",\"cadged\",\"kicked\",\"slewed\",\"shrewd\",\"mauled\",\"saucer\",\"jested\",\"shriek\",\"giblet\",\"gnarls\",\"foaled\",\"roughs\",\"copses\",\"sacked\",\"blends\",\"slurps\",\"cashew\",\"grades\",\"cramps\",\"radius\",\"tamped\",\"truths\",\"cleans\",\"creams\",\"manner\",\"crimps\",\"hauled\",\"cheery\",\"shells\",\"asters\",\"scalps\",\"quotas\",\"clears\",\"clover\",\"weeder\",\"homers\",\"pelted\",\"hugged\",\"marked\",\"moaned\",\"steely\",\"jagged\",\"glades\",\"goshes\",\"masked\",\"ringer\",\"eloped\",\"vortex\",\"gender\",\"spotty\",\"harken\",\"hasten\",\"smiths\",\"mulled\",\"specks\",\"smiles\",\"vainer\",\"patted\",\"harden\",\"nicked\",\"dooley\",\"begged\",\"belief\",\"bushel\",\"rivers\",\"sealed\",\"neuter\",\"legged\",\"garter\",\"freaks\",\"server\",\"crimea\",\"tossed\",\"wilted\",\"cheers\",\"slides\",\"cowley\",\"snotty\",\"willed\",\"bowled\",\"tortes\",\"pranks\",\"yelped\",\"slaved\",\"silver\",\"swords\",\"miners\",\"fairer\",\"trills\",\"salted\",\"copsed\",\"crusts\",\"hogged\",\"seemed\",\"revert\",\"gusted\",\"pixies\",\"tamika\",\"franks\",\"crowed\",\"rocked\",\"fisher\",\"sheers\",\"pushes\",\"drifts\",\"scouts\",\"sables\",\"sallie\",\"shiner\",\"coupes\",\"napped\",\"drowse\",\"traced\",\"scenes\",\"brakes\",\"steele\",\"beater\",\"buries\",\"turned\",\"luther\",\"bowers\",\"lofted\",\"blazer\",\"serves\",\"cagney\",\"hansel\",\"talker\",\"warmed\",\"flirts\",\"braced\",\"yukked\",\"milken\",\"forged\",\"dodder\",\"strafe\",\"blurbs\",\"snorts\",\"jetted\",\"picket\",\"pistil\",\"valved\",\"pewter\",\"crawls\",\"strews\",\"railed\",\"clunks\",\"smiled\",\"dealer\",\"cussed\",\"hocked\",\"spited\",\"cowers\",\"strobe\",\"donned\",\"brawls\",\"minxes\",\"philby\",\"gavels\",\"renter\",\"losses\",\"packet\",\"defied\",\"hazier\",\"twines\",\"balled\",\"gaoled\",\"esther\",\"narrow\",\"soused\",\"crispy\",\"souped\",\"corned\",\"cooley\",\"rioter\",\"talley\",\"keaton\",\"rocker\",\"spades\",\"billie\",\"mattel\",\"billet\",\"horton\",\"navels\",\"sander\",\"stoker\",\"winded\",\"wilder\",\"cloyed\",\"blazed\",\"itched\",\"docked\",\"greene\",\"boozed\",\"ticket\",\"temped\",\"capons\",\"bravos\",\"rinded\",\"brandi\",\"massed\",\"sobbed\",\"shapes\",\"yippee\",\"script\",\"lesion\",\"mallet\",\"seabed\",\"medals\",\"series\",\"phases\",\"grower\",\"vertex\",\"dented\",\"tushed\",\"barron\",\"toffee\",\"bushes\",\"mouser\",\"zenger\",\"quaked\",\"marley\",\"surfed\",\"harmed\",\"mormon\",\"flints\",\"shamed\",\"forgot\",\"jailor\",\"boater\",\"sparer\",\"shards\",\"master\",\"pistol\",\"tooted\",\"banned\",\"drover\",\"spices\",\"gobbed\",\"corals\",\"chucks\",\"kitten\",\"whales\",\"nickel\",\"scrape\",\"hosted\",\"hences\",\"morays\",\"stomps\",\"marcel\",\"hummed\",\"wonder\",\"stoves\",\"distil\",\"coffer\",\"quaker\",\"curler\",\"nurses\",\"cabbed\",\"jigger\",\"grails\",\"manges\",\"larger\",\"zipped\",\"rovers\",\"stints\",\"nudges\",\"marlin\",\"exuded\",\"storey\",\"pester\",\"longer\",\"creeps\",\"meaner\",\"wallop\",\"dewier\",\"rivera\",\"drones\",\"valued\",\"bugled\",\"swards\",\"cortes\",\"charts\",\"benson\",\"wreaks\",\"glares\",\"levels\",\"smithy\",\"slater\",\"suites\",\"paired\",\"fetter\",\"rutted\",\"levied\",\"menses\",\"wither\",\"woolly\",\"weeded\",\"planed\",\"censer\",\"tested\",\"pulled\",\"hitter\",\"slicer\",\"tartar\",\"chunky\",\"whirrs\",\"mewled\",\"astern\",\"walden\",\"hilton\",\"cached\",\"geller\",\"dolled\",\"chores\",\"sorter\",\"soothe\",\"reused\",\"clumps\",\"fueled\",\"hurler\",\"helled\",\"packed\",\"ripped\",\"tanned\",\"binder\",\"flames\",\"teased\",\"punker\",\"jerked\",\"cannon\",\"joists\",\"whited\",\"sagged\",\"heaven\",\"hansen\",\"grayer\",\"turfed\",\"cranks\",\"stater\",\"bunted\",\"horsey\",\"shakes\",\"brands\",\"faints\",\"barber\",\"gorged\",\"creamy\",\"mowers\",\"scrams\",\"gashes\",\"knacks\",\"aeries\",\"sticks\",\"altars\",\"hostel\",\"pumped\",\"reeves\",\"litter\",\"hoaxed\",\"mushed\",\"guided\",\"ripper\",\"bought\",\"gelled\",\"ranker\",\"jennie\",\"blares\",\"saloon\",\"bomber\",\"mollie\",\"scoops\",\"coolie\",\"hollis\",\"shrunk\",\"tattle\",\"sensed\",\"gasket\",\"dodoes\",\"mapped\",\"strips\",\"dodges\",\"sailed\",\"talked\",\"sorted\",\"lodges\",\"livest\",\"pastel\",\"ladles\",\"graded\",\"thrice\",\"thales\",\"sagger\",\"mellon\",\"ganged\",\"maroon\",\"fluked\",\"raised\",\"nannie\",\"dearer\",\"lither\",\"triked\",\"dorset\",\"clamps\",\"lonnie\",\"spates\",\"larded\",\"condor\",\"sinker\",\"narced\",\"quaver\",\"atones\",\"farted\",\"elopes\",\"winger\",\"mottle\",\"loaned\",\"smears\",\"joanne\",\"boozes\",\"waster\",\"digger\",\"swoops\",\"smokey\",\"nation\",\"drivel\",\"ceased\",\"miffed\",\"faiths\",\"pisses\",\"frames\",\"fooled\",\"milled\",\"dither\",\"crazed\",\"darryl\",\"mulder\",\"posses\",\"sumter\",\"weasel\",\"pedals\",\"brawny\",\"charge\",\"welted\",\"spanks\",\"sallow\",\"joined\",\"shaker\",\"blocks\",\"mattie\",\"swirls\",\"driver\",\"belles\",\"chomps\",\"blower\",\"roared\",\"ratted\",\"hailed\",\"taunts\",\"steamy\",\"parrot\",\"deafer\",\"chewed\",\"spaces\",\"cuffed\",\"molded\",\"winked\",\"runnel\",\"hollow\",\"fluted\",\"bedded\",\"crepes\",\"stakes\",\"vested\",\"parley\",\"burton\",\"loiter\",\"massey\",\"carnap\",\"closed\",\"bailed\",\"milder\",\"heists\",\"morale\",\"putter\",\"snyder\",\"damion\",\"conned\",\"little\",\"pooped\",\"ticced\",\"cocked\",\"halves\",\"wishes\",\"francs\",\"goblet\",\"carlin\",\"pecked\",\"julius\",\"raster\",\"shocks\",\"dawned\",\"loosen\",\"swears\",\"buried\",\"peters\",\"treats\",\"noshed\",\"hedges\",\"trumps\",\"rabies\",\"ronnie\",\"forces\",\"ticked\",\"bodies\",\"proved\",\"dadoes\",\"halved\",\"warner\",\"divest\",\"thumbs\",\"fettle\",\"ponies\",\"testis\",\"ranked\",\"clouts\",\"slates\",\"tauted\",\"stools\",\"dodged\",\"chancy\",\"trawls\",\"things\",\"sorrow\",\"levies\",\"glides\",\"battle\",\"sauced\",\"doomed\",\"seller\",\"strove\",\"ballet\",\"bumper\",\"gooses\",\"foiled\",\"plowed\",\"glints\",\"chanel\",\"petals\",\"darted\",\"seared\",\"trunks\",\"hatter\",\"yokels\",\"vanned\",\"tweedy\",\"rubles\",\"crones\",\"nettie\",\"roofed\",\"dusted\",\"dicker\",\"fakers\",\"rusted\",\"bedder\",\"darrin\",\"bigger\",\"baylor\",\"crocks\",\"niches\",\"tented\",\"cashed\",\"splats\",\"quoted\",\"soloed\",\"tessie\",\"stiles\",\"bearer\",\"hissed\",\"soiled\",\"adored\",\"bowery\",\"snakes\",\"wagers\",\"rafter\",\"crests\",\"plaids\",\"cordon\",\"listed\",\"lawson\",\"scared\",\"brazos\",\"horded\",\"greens\",\"marred\",\"mushes\",\"hooper\",\"halter\",\"ration\",\"calked\",\"erodes\",\"plumed\",\"mummer\",\"pinged\",\"curios\",\"slated\",\"ranter\",\"pillow\",\"frills\",\"whaled\",\"bathos\",\"madden\",\"totted\",\"reamed\",\"bellow\",\"golfer\",\"seaman\",\"barred\",\"merger\",\"hipped\",\"silken\",\"hastes\",\"strays\",\"slinks\",\"hooted\",\"convex\",\"singed\",\"leased\",\"bummed\",\"leaner\",\"molted\",\"naught\",\"caters\",\"tidied\",\"forges\",\"sealer\",\"gulled\",\"plumps\",\"racket\",\"fitted\",\"rafted\",\"drapes\",\"nasser\",\"tamara\",\"winced\",\"juliet\",\"ledger\",\"bettie\",\"howell\",\"reeved\",\"spiced\",\"thebes\",\"apices\",\"dorsey\",\"welled\",\"feeler\",\"warded\",\"reader\",\"folded\",\"lepers\",\"cranky\",\"bosses\",\"ledges\",\"player\",\"yellow\",\"lunged\",\"mattes\",\"confer\",\"malign\",\"shared\",\"brandy\",\"filmed\",\"rhinos\",\"pulsed\",\"rouses\",\"stones\",\"mixers\",\"cooped\",\"joiner\",\"papped\",\"liston\",\"capote\",\"salvos\",\"wicker\",\"ciders\",\"hoofed\",\"wefted\",\"locket\",\"picker\",\"nougat\",\"limpid\",\"hooter\",\"jailer\",\"peaces\",\"mashes\",\"custer\",\"wallis\",\"purees\",\"trends\",\"irater\",\"honied\",\"wavers\",\"tanner\",\"change\",\"hinges\",\"tatted\",\"cookie\",\"catnap\",\"carton\",\"crimed\",\"betted\",\"veined\",\"surges\",\"rumped\",\"merlin\",\"convey\",\"placid\",\"harped\",\"dianna\",\"hookey\",\"nobles\",\"carted\",\"elided\",\"whined\",\"glover\",\"bleats\",\"stales\",\"husker\",\"hearer\",\"tartan\",\"weaker\",\"skewer\",\"lumbar\",\"temper\",\"gigged\",\"gawked\",\"mayors\",\"pigged\",\"gather\",\"valves\",\"mitten\",\"largos\",\"boreas\",\"judges\",\"cozens\",\"censor\",\"frilly\",\"dumbed\",\"downer\",\"jogger\",\"scolds\",\"danced\",\"floras\",\"funded\",\"lumped\",\"dashes\",\"azores\",\"quites\",\"chunks\",\"washed\",\"duller\",\"bilges\",\"cruels\",\"brooks\",\"fishes\",\"smoked\",\"leaped\",\"hotter\",\"trials\",\"heaves\",\"rouges\",\"kissed\",\"sleety\",\"manses\",\"spites\",\"starts\",\"banded\",\"clings\",\"titted\",\"vetoed\",\"mister\",\"mildew\",\"wailed\",\"sheets\",\"peeked\",\"passer\",\"felted\",\"broken\",\"lieges\",\"ruffed\",\"bracts\",\"buster\",\"muffed\",\"lanker\",\"breaks\",\"coffey\",\"sighed\",\"charms\",\"balded\",\"kisser\",\"booths\",\"leaven\",\"cheeps\",\"billed\",\"lauder\",\"bumped\",\"career\",\"stocks\",\"airier\",\"limped\",\"jeanie\",\"roamed\",\"carves\",\"lilted\",\"router\",\"bonnie\",\"denver\",\"briggs\",\"steeps\",\"nerves\",\"oinked\",\"bucked\",\"hooves\",\"dancer\",\"burris\",\"parked\",\"swells\",\"collie\",\"perked\",\"cooler\",\"fopped\",\"wedder\",\"malted\",\"sabers\",\"lidded\",\"conner\",\"rogues\",\"fought\",\"dapper\",\"purled\",\"crowds\",\"barnes\",\"bonner\",\"globed\",\"goners\",\"yankee\",\"probes\",\"trains\",\"sayers\",\"jersey\",\"valley\",\"vatted\",\"tauter\",\"dulled\",\"mucked\",\"jotted\",\"border\",\"genres\",\"banked\",\"filter\",\"hitler\",\"dipper\",\"dollie\",\"sieves\",\"joliet\",\"tilted\",\"checks\",\"sports\",\"soughs\",\"ported\",\"causes\",\"gelded\",\"mooter\",\"grills\",\"parred\",\"tipped\",\"placer\",\"slayer\",\"glided\",\"basked\",\"rinses\",\"tamper\",\"bunged\",\"nabbed\",\"climbs\",\"faeces\",\"hanson\",\"brainy\",\"wicket\",\"crowns\",\"calmed\",\"tarred\",\"spires\",\"deanne\",\"gravel\",\"messes\",\"snides\",\"tugged\",\"denier\",\"moslem\",\"erased\",\"mutter\",\"blahed\",\"hunker\",\"fasten\",\"garbed\",\"cracks\",\"braked\",\"rasped\",\"ravens\",\"mutton\",\"tester\",\"tories\",\"pinker\",\"titled\",\"arisen\",\"softer\",\"woolen\",\"disses\",\"likest\",\"dicier\",\"nagged\",\"lipton\",\"plumbs\",\"manged\",\"faulty\",\"sacred\",\"whiter\",\"erases\",\"padres\",\"haired\",\"captor\",\"metals\",\"cardin\",\"yowled\",\"trusts\",\"revels\",\"boxers\",\"toured\",\"spouts\",\"sodded\",\"judged\",\"holley\",\"figged\",\"pricey\",\"lapses\",\"harper\",\"beaned\",\"sewers\",\"caused\",\"willie\",\"farmer\",\"pissed\",\"bevies\",\"bolled\",\"bugler\",\"votive\",\"person\",\"linton\",\"senses\",\"supped\",\"mashed\",\"pincer\",\"wetter\",\"tangos\",\"sticky\",\"lodger\",\"loader\",\"daunts\",\"peaked\",\"moused\",\"sleeps\",\"lasted\",\"tasked\",\"awards\",\"lovely\",\"gushed\",\"spurts\",\"canter\",\"mantis\",\"coaled\",\"groans\",\"dannie\",\"oopses\",\"sneaky\",\"vogues\",\"mobile\",\"plumes\",\"chides\",\"theses\",\"marcia\",\"parser\",\"flexed\",\"stayed\",\"fouler\",\"tusked\",\"quartz\",\"daubed\",\"clancy\",\"rouged\",\"flaked\",\"norton\",\"dunner\",\"corded\",\"shelly\",\"hester\",\"fucker\",\"polled\",\"rodger\",\"yeager\",\"zinced\",\"livens\",\"browne\",\"gonged\",\"pubbed\",\"sapped\",\"thrive\",\"placed\",\"jensen\",\"moises\",\"scopes\",\"stumpy\",\"stocky\",\"heller\",\"levers\",\"morals\",\"wheres\",\"gasped\",\"jobber\",\"leaved\",\"champs\",\"rosier\",\"pallet\",\"shooed\",\"parses\",\"bender\",\"closet\",\"pureed\",\"routes\",\"verges\",\"bulled\",\"foster\",\"rummer\",\"molten\",\"condos\",\"better\",\"cotter\",\"lassos\",\"grafts\",\"vendor\",\"thrace\",\"codded\",\"tinker\",\"bullet\",\"beaker\",\"garden\",\"spiels\",\"popper\",\"skills\",\"plated\",\"farrow\",\"flexes\",\"esters\",\"brains\",\"handel\",\"puller\",\"dickey\",\"creeks\",\"ballot\",\"singer\",\"sicker\",\"spayed\",\"spoils\",\"rubier\",\"missed\",\"framed\",\"bonnet\",\"molder\",\"mugger\",\"waived\",\"taster\",\"robles\",\"tracks\",\"nearer\",\"lister\",\"horsed\",\"drakes\",\"lopped\",\"lubber\",\"busied\",\"button\",\"eluded\",\"ceases\",\"sought\",\"realer\",\"lasers\",\"pollen\",\"crisps\",\"binned\",\"darrel\",\"crafty\",\"gleams\",\"lonely\",\"gordon\",\"harley\",\"damian\",\"whiles\",\"wilton\",\"lesser\",\"mallow\",\"kenyon\",\"wimped\",\"scened\",\"risked\",\"hunter\",\"rooter\",\"ramses\",\"inches\",\"goaded\",\"ferber\",\"freaky\",\"nerved\",\"spoken\",\"lovers\",\"letter\",\"marrow\",\"bulbed\",\"braver\",\"sloped\",\"breads\",\"cannes\",\"bassos\",\"orated\",\"clever\",\"darren\",\"bredes\",\"gouger\",\"servos\",\"trites\",\"troths\",\"flunky\",\"jammed\",\"bugged\",\"watter\",\"motive\",\"humped\",\"writer\",\"pestle\",\"rilled\",\"packer\",\"foists\",\"croats\",\"floury\",\"napier\",\"floors\",\"scotty\",\"sevens\",\"harrow\",\"welter\",\"quacks\",\"daybed\",\"lorded\",\"pulses\",\"pokier\",\"fatten\",\"midges\",\"joints\",\"snoopy\",\"looter\",\"monies\",\"canted\",\"riffed\",\"misses\",\"bunker\",\"piston\",\"yessed\",\"earner\",\"hawked\",\"wedged\",\"brewer\",\"nested\",\"graver\",\"hoaxes\",\"slaves\",\"pricks\",\"magpie\",\"bernie\",\"rapier\",\"roster\",\"poohed\",\"corner\",\"trysts\",\"rogers\",\"whirls\",\"bathed\",\"teasel\",\"opener\",\"minced\",\"sister\",\"dreamy\",\"worker\",\"rinked\",\"panted\",\"triton\",\"mervin\",\"snowed\",\"leafed\",\"thinks\",\"lesson\",\"millet\",\"larson\",\"lagged\",\"likely\",\"stormy\",\"fortes\",\"hordes\",\"wovens\",\"kinked\",\"mettle\",\"seated\",\"shirts\",\"solver\",\"giants\",\"jilted\",\"leaded\",\"mendez\",\"lowers\",\"bidder\",\"greats\",\"pepped\",\"flours\",\"versus\",\"canton\",\"weller\",\"cowper\",\"tapped\",\"dueled\",\"mussed\",\"rubies\",\"bonged\",\"steals\",\"formed\",\"smalls\",\"sculls\",\"docket\",\"ouster\",\"gunned\",\"thumps\",\"curred\",\"withes\",\"putted\",\"buttes\",\"bloats\",\"parsed\",\"galley\",\"preses\",\"tagged\",\"hanger\",\"planes\",\"chords\",\"shafts\",\"carson\",\"posits\",\"zinger\",\"solves\",\"tensed\",\"tastes\",\"rinsed\",\"kenned\",\"bitten\",\"leslie\",\"chanty\",\"candor\",\"daises\",\"baggie\",\"wedded\",\"paints\",\"moored\",\"haloed\",\"hornet\",\"lifted\",\"fender\",\"guiles\",\"swifts\",\"flicks\",\"lancer\",\"spares\",\"pellet\",\"passed\",\"finked\",\"joanna\",\"bidden\",\"swamps\",\"lapped\",\"leered\",\"served\",\"shirrs\",\"choker\",\"limper\",\"marker\",\"nudged\",\"triter\",\"thanks\",\"peered\",\"bruins\",\"loaves\",\"fabled\",\"lathes\",\"pipers\",\"hooped\",\"orates\",\"burned\",\"swines\",\"sprats\",\"warder\",\"colder\",\"crazes\",\"reined\",\"prized\",\"majors\",\"darrow\",\"waifed\",\"rooked\",\"rickey\",\"patter\",\"shrive\",\"gropes\",\"gassed\",\"throve\",\"region\",\"weaken\",\"hettie\",\"walton\",\"galled\",\"convoy\",\"wesson\",\"exudes\",\"tinted\",\"clanks\",\"blinks\",\"slacks\",\"stilts\",\"franny\",\"socket\",\"wished\",\"kidded\",\"knotty\",\"turves\",\"cashes\",\"geared\",\"sunned\",\"glowed\",\"sadden\",\"harlem\",\"testes\",\"sweets\",\"becket\",\"blazes\",\"batter\",\"fellow\",\"clovis\",\"copier\",\"shaped\",\"husked\",\"gimlet\",\"rooney\",\"taints\",\"sashes\",\"bossed\",\"cootie\",\"franck\",\"probed\",\"bagged\",\"smocks\",\"batten\",\"spared\",\"chills\",\"relics\",\"meyers\",\"grader\",\"tromps\",\"dimmer\",\"pasted\",\"pepper\",\"capped\",\"played\",\"junket\",\"easier\",\"palmed\",\"pander\",\"vaguer\",\"bulged\",\"dissed\",\"borges\",\"raises\",\"wallow\",\"jigged\",\"bogged\",\"burped\",\"neater\",\"rammed\",\"fibers\",\"castor\",\"skirts\",\"cancer\",\"tilled\",\"spored\",\"dander\",\"denims\",\"budges\",\"trucks\",\"sowers\",\"yapped\",\"cadges\",\"wrists\",\"hacker\",\"graved\",\"vipers\",\"noshes\",\"minted\",\"lessor\",\"cassia\",\"wrecks\",\"hidden\",\"brando\",\"honeys\",\"chilli\",\"ragged\",\"breded\",\"punier\",\"stacey\",\"sisses\",\"jocked\",\"croaks\",\"dinned\",\"walker\",\"heston\",\"flares\",\"coined\",\"cannot\",\"chocks\",\"leases\",\"wander\",\"balder\",\"warmer\",\"bawled\",\"donnie\",\"damson\",\"header\",\"chilly\",\"models\",\"simper\",\"watery\",\"milked\",\"poises\",\"combed\",\"toilet\",\"gallop\",\"sonnet\",\"loosed\",\"yawned\",\"splays\",\"pauses\",\"bother\",\"graphs\",\"shrews\",\"scones\",\"manuel\",\"milers\",\"hotels\",\"bennie\",\"flores\",\"spells\",\"grimed\",\"tenses\",\"staged\",\"puffer\",\"posies\",\"motion\",\"fudged\",\"fainer\",\"tatter\",\"seraph\",\"nansen\",\"months\",\"muppet\",\"tamera\",\"shaman\",\"falser\",\"becker\",\"lisbon\",\"clefts\",\"weeper\",\"mendel\",\"girder\",\"takers\",\"torsos\",\"forked\",\"dances\",\"stated\",\"yelled\",\"scants\",\"frothy\",\"rolled\",\"yodels\",\"listen\",\"craned\",\"brooms\",\"suffer\",\"easter\",\"shills\",\"craves\",\"bleeps\",\"belled\",\"dished\",\"bordon\",\"zither\",\"jacket\",\"lammer\",\"kirked\",\"shaved\",\"atoned\",\"frumpy\",\"nosier\",\"vender\",\"graced\",\"clingy\",\"chants\",\"wrests\",\"cursed\",\"prunes\",\"tarter\",\"stripe\",\"coffee\",\"veiled\",\"tweeds\",\"shrine\",\"spines\",\"kegged\",\"melvin\",\"gasser\",\"market\",\"marten\",\"peeped\",\"sanger\",\"somber\",\"spider\",\"netted\",\"radium\",\"slings\",\"scarfs\",\"mended\",\"creels\",\"shaves\",\"payers\",\"bunked\",\"movers\",\"beings\",\"conked\",\"cozies\",\"benton\",\"codger\",\"prints\",\"gusset\",\"longed\",\"burner\",\"jambed\",\"mullet\",\"fogged\",\"scores\",\"carbon\",\"sleeks\",\"helped\",\"waxier\",\"gilded\",\"harlot\",\"winces\",\"tenser\",\"lowell\",\"ramsey\",\"kennan\",\"booted\",\"beaver\",\"rested\",\"shouts\",\"hickey\",\"looped\",\"swings\",\"wonted\",\"dilled\",\"defers\",\"lolled\",\"pupped\",\"cruets\",\"solved\",\"romper\",\"defter\",\"chokes\",\"kithed\",\"garnet\",\"bookie\",\"stared\",\"stares\",\"latter\",\"lazies\",\"fanned\",\"wagged\",\"dunces\",\"corked\",\"cloned\",\"prided\",\"baxter\",\"pusses\",\"boomed\",\"masses\",\"warren\",\"weaves\",\"delves\",\"handed\",\"merton\",\"lusher\",\"hepper\",\"gibber\",\"sender\",\"parsec\",\"snares\",\"masher\",\"seamed\",\"sweats\",\"welles\",\"gagged\",\"curter\",\"mother\",\"beeped\",\"vealed\",\"shoved\",\"slaver\",\"hacked\",\"gutted\",\"ranged\",\"bashed\",\"closer\",\"storks\",\"meshed\",\"cortex\",\"copper\",\"severn\",\"gripes\",\"carlos\",\"scares\",\"crates\",\"boiled\",\"ginned\",\"mouses\",\"raided\",\"greyed\",\"verier\",\"slopes\",\"fenced\",\"sniper\",\"priced\",\"flawed\",\"buffed\",\"spacey\",\"favors\",\"platen\",\"miller\",\"walled\",\"cutter\",\"skated\",\"holier\",\"beamed\",\"waiter\",\"drowns\",\"clomps\",\"quarks\",\"bested\",\"frisks\",\"purged\",\"scalds\",\"marian\",\"flower\",\"howled\",\"plover\",\"bikers\",\"trails\",\"hagged\",\"smirks\",\"sitter\",\"carmen\",\"lanced\",\"plants\",\"nobler\",\"yakked\",\"thesis\",\"lassen\",\"margin\",\"wagner\",\"sifter\",\"houses\",\"screws\",\"booker\",\"dormer\",\"meters\",\"padded\",\"loaded\",\"cartel\",\"sutton\",\"willis\",\"chatty\",\"dunked\",\"dreamt\",\"dalton\",\"fables\",\"coveys\",\"muller\",\"shanty\",\"adders\",\"tailor\",\"helper\",\"liters\",\"butted\",\"maiman\",\"hollie\",\"gallon\",\"xavier\",\"shrank\",\"mickey\",\"rather\",\"powers\",\"keened\",\"doused\",\"kisses\",\"flanks\",\"dotted\",\"phased\",\"dumped\",\"linger\",\"kramer\",\"spaced\",\"soften\",\"strife\",\"rowers\",\"hovers\",\"crimes\",\"crooks\",\"carrel\",\"braces\",\"lander\",\"shrove\",\"skulks\",\"banker\",\"itches\",\"dropsy\",\"misted\",\"pulped\",\"cloche\",\"fawned\",\"states\",\"teared\",\"beeper\",\"raider\",\"groves\",\"livery\",\"aerier\",\"keenan\",\"severe\",\"sabres\",\"bogies\",\"coated\",\"harlow\",\"tanked\",\"mellow\",\"cozier\",\"shanks\",\"spooky\",\"blamed\",\"tricks\",\"sleets\",\"punted\",\"jumped\",\"caxton\",\"warped\",\"halley\",\"frisky\",\"shines\",\"skater\",\"lumber\",\"truces\",\"sliced\",\"gibbet\",\"narked\",\"chives\",\"graves\",\"gummed\",\"holler\",\"glazes\",\"nieves\",\"hushed\",\"nought\",\"prated\",\"chored\",\"cloudy\",\"kidder\",\"huston\",\"straws\",\"twined\",\"gifted\",\"rodney\",\"haloes\",\"france\",\"wirier\",\"mercia\",\"rubbed\",\"coaxed\",\"sumner\",\"snipes\",\"nipper\",\"leiden\",\"madman\",\"margie\",\"footed\",\"firmed\",\"budded\",\"froths\",\"senior\",\"hoover\",\"tailed\",\"glider\",\"straps\",\"stalks\",\"billow\",\"racked\",\"javier\",\"zoomed\",\"shades\",\"whores\",\"braids\",\"roused\",\"sudden\",\"dogies\",\"fencer\",\"snaked\",\"flings\",\"traded\",\"gunner\",\"snider\",\"staten\",\"levees\",\"lathed\",\"sailor\",\"waited\",\"muster\",\"clothe\",\"lulled\",\"cargos\",\"revved\",\"sooths\",\"flamed\",\"borers\",\"feller\",\"bladed\",\"oliver\",\"collin\",\"wusses\",\"murder\",\"parted\",\"jailed\",\"frayed\",\"doored\",\"cheeks\",\"misled\",\"belted\",\"winter\",\"merges\",\"shaven\",\"fudges\",\"tabbed\",\"forget\",\"sloths\",\"cachet\",\"mealed\",\"sassed\",\"salter\",\"haunts\",\"ranger\",\"rivets\",\"deeded\",\"reaped\",\"damped\",\"crated\",\"youths\",\"whacks\",\"tamers\",\"misery\",\"seeped\",\"eerier\",\"tiller\",\"busses\",\"gloved\",\"hushes\",\"cronus\",\"pruned\",\"casket\",\"direst\",\"guilds\",\"motley\",\"spools\",\"fevers\",\"snores\",\"greece\",\"elides\",\"waists\",\"rattle\",\"trader\",\"juster\",\"rashes\",\"stoney\",\"pipped\",\"solder\",\"sinner\",\"prides\",\"rugged\",\"steers\",\"gnarly\",\"titter\",\"cities\",\"walter\",\"stolen\",\"steaks\",\"hawker\",\"weaned\",\"jobbed\",\"jacked\",\"pikers\",\"hipper\",\"spoilt\",\"beeves\",\"craved\",\"gotten\",\"balked\",\"sherry\",\"looney\",\"crisis\",\"callie\",\"swiped\",\"fished\",\"rooted\",\"bopped\",\"bowler\",\"escher\",\"chumps\",\"jerrod\",\"lefter\",\"snooty\",\"fillet\",\"scales\",\"comets\",\"lisped\",\"decked\",\"clowns\",\"horned\",\"robber\",\"bottle\",\"reeled\",\"crapes\",\"banter\",\"martel\",\"dowels\",\"brandt\",\"sweeps\",\"heeled\",\"tabled\",\"manors\",\"danger\",\"dionne\",\"prayer\",\"decker\",\"millie\",\"boated\",\"damned\",\"horses\",\"globes\",\"failed\",\"lammed\",\"nigher\",\"joyner\",\"sobers\",\"chided\",\"tipper\",\"parcel\",\"flakes\",\"fugger\",\"elated\",\"hinder\",\"hopper\",\"crafts\",\"wipers\",\"badder\",\"jessie\",\"matted\",\"wafted\",\"pealed\",\"cheats\",\"elites\",\"torres\",\"bushed\",\"sneaks\",\"tidies\",\"brings\",\"stalls\",\"payees\",\"zonked\",\"danker\",\"poshes\",\"smelts\",\"stoops\",\"warden\",\"chicks\",\"ramsay\",\"budged\",\"firmer\",\"glazed\",\"heated\",\"slices\",\"hovels\",\"belied\",\"shifts\",\"pauper\",\"tinges\",\"weston\",\"casted\",\"titles\",\"droves\",\"roomer\",\"modals\",\"seamen\",\"wearer\",\"blonde\",\"berlin\",\"libbed\",\"tensor\",\"hokier\",\"lambed\",\"graped\",\"headed\",\"copped\",\"eroses\",\"fagged\",\"filler\",\"keener\",\"stages\",\"civets\",\"spills\",\"tithed\",\"sullen\",\"sucked\",\"briton\",\"whaler\",\"hooded\",\"tittle\",\"bucket\",\"furled\",\"darned\",\"planet\",\"clucks\",\"batted\",\"dagger\",\"brides\",\"severs\",\"pathos\",\"grainy\",\"relied\",\"carpel\",\"makers\",\"lancet\",\"slowed\",\"messed\",\"ravels\",\"faster\",\"gabbed\",\"chance\",\"grayed\",\"santos\",\"spends\",\"chinos\",\"saints\",\"swirly\",\"dories\",\"wilson\",\"milton\",\"clangs\",\"manual\",\"nodded\",\"signer\",\"stript\",\"etched\",\"vaster\",\"wastes\",\"stored\",\"minces\",\"purred\",\"marvin\",\"pinned\",\"skulls\",\"heaved\",\"wadded\",\"fowled\",\"hashed\",\"mullen\",\"relief\",\"hatted\",\"primed\",\"chaffs\",\"canned\",\"lackey\",\"showed\",\"shandy\",\"chases\",\"maggie\",\"deafen\",\"bussed\",\"differ\",\"worked\",\"marted\",\"ducked\",\"socked\",\"fussed\",\"greyer\",\"herder\",\"trusty\",\"follow\",\"samson\",\"babies\",\"whorls\",\"stanks\",\"manson\",\"cranes\",\"murrow\",\"shrink\",\"genius\",\"holder\",\"lenses\",\"yucked\",\"termed\",\"ruined\",\"junker\",\"belies\",\"joshed\",\"cooled\",\"basted\",\"greeks\",\"fuller\",\"healer\",\"carver\",\"havens\",\"drunks\",\"sucker\",\"lotion\",\"glared\",\"healed\",\"pocked\",\"rifles\",\"weaved\",\"canoed\",\"punter\",\"hinton\",\"settle\",\"boobed\",\"hinted\",\"scored\",\"harder\",\"status\",\"sloven\",\"hayden\",\"golfed\",\"scoots\",\"bloods\",\"slaked\",\"jugged\",\"louses\",\"cassie\",\"shaded\",\"rushed\",\"pitied\",\"barked\",\"honked\",\"rasher\",\"forced\",\"shaver\",\"vowels\",\"holden\",\"pelvis\",\"blades\",\"chests\",\"preyer\",\"floods\",\"deanna\",\"cation\",\"mapper\",\"falter\",\"dabbed\",\"mocker\",\"nestle\",\"shucks\",\"heeded\",\"ticker\",\"binges\",\"summer\",\"slumps\",\"lusted\",\"scampi\",\"crofts\",\"gorges\",\"pardon\",\"torses\",\"smokes\",\"lashed\",\"bailey\",\"jabbed\",\"calmer\",\"preset\",\"forbes\",\"hasted\",\"wormed\",\"winged\",\"minors\",\"banner\",\"grazed\",\"hewers\",\"kernel\",\"jolted\",\"sniped\",\"clunky\",\"ratios\",\"blinds\",\"ganges\",\"misers\",\"spikes\",\"riders\",\"hallow\",\"grumpy\",\"barren\",\"summed\",\"infers\",\"places\",\"jarred\",\"killer\",\"plaint\",\"goofed\",\"subbed\",\"prudes\",\"sipped\",\"kookie\",\"whines\",\"droopy\",\"palled\",\"cherry\",\"proves\",\"mobbed\",\"spaded\",\"cheese\",\"pluses\",\"bathes\",\"motels\",\"spewed\",\"soaked\",\"howler\",\"puffed\",\"malled\",\"shrike\",\"slided\",\"fulled\",\"pouted\",\"shames\",\"lessen\",\"ringed\",\"teemed\",\"grands\",\"linked\",\"wooten\",\"feuded\",\"deaden\",\"scents\",\"flutes\",\"salton\"]\n",
    "# print(ladderLength(a,b,c))\n"
   ]
  },
  {
   "cell_type": "code",
   "execution_count": 24,
   "metadata": {},
   "outputs": [
    {
     "ename": "RecursionError",
     "evalue": "maximum recursion depth exceeded in comparison",
     "output_type": "error",
     "traceback": [
      "\u001b[0;31m---------------------------------------------------------------------------\u001b[0m",
      "\u001b[0;31mRecursionError\u001b[0m                            Traceback (most recent call last)",
      "\u001b[0;32m<ipython-input-24-621a46539a38>\u001b[0m in \u001b[0;36m<module>\u001b[0;34m()\u001b[0m\n\u001b[1;32m     42\u001b[0m \u001b[0ms\u001b[0m \u001b[0;34m=\u001b[0m \u001b[0;34m\"catsanddog\"\u001b[0m\u001b[0;34m\u001b[0m\u001b[0m\n\u001b[1;32m     43\u001b[0m \u001b[0mwordDict\u001b[0m \u001b[0;34m=\u001b[0m \u001b[0;34m[\u001b[0m\u001b[0;34m\"cat\"\u001b[0m\u001b[0;34m,\u001b[0m \u001b[0;34m\"cats\"\u001b[0m\u001b[0;34m,\u001b[0m \u001b[0;34m\"and\"\u001b[0m\u001b[0;34m,\u001b[0m \u001b[0;34m\"sand\"\u001b[0m\u001b[0;34m,\u001b[0m \u001b[0;34m\"dog\"\u001b[0m\u001b[0;34m]\u001b[0m\u001b[0;34m\u001b[0m\u001b[0m\n\u001b[0;32m---> 44\u001b[0;31m \u001b[0mwordBreak\u001b[0m\u001b[0;34m(\u001b[0m \u001b[0ms\u001b[0m\u001b[0;34m,\u001b[0m \u001b[0mwordDict\u001b[0m\u001b[0;34m)\u001b[0m\u001b[0;34m\u001b[0m\u001b[0m\n\u001b[0m",
      "\u001b[0;32m<ipython-input-24-621a46539a38>\u001b[0m in \u001b[0;36mwordBreak\u001b[0;34m(s, wordList)\u001b[0m\n\u001b[1;32m     16\u001b[0m                 \u001b[0marr\u001b[0m\u001b[0;34m[\u001b[0m\u001b[0mj\u001b[0m\u001b[0;34m]\u001b[0m\u001b[0;34m=\u001b[0m\u001b[0;36m1\u001b[0m\u001b[0;34m\u001b[0m\u001b[0m\n\u001b[1;32m     17\u001b[0m \u001b[0;34m\u001b[0m\u001b[0m\n\u001b[0;32m---> 18\u001b[0;31m     \u001b[0mDFS\u001b[0m\u001b[0;34m(\u001b[0m\u001b[0mD\u001b[0m\u001b[0;34m,\u001b[0m\u001b[0ms\u001b[0m\u001b[0;34m)\u001b[0m\u001b[0;34m\u001b[0m\u001b[0m\n\u001b[0m\u001b[1;32m     19\u001b[0m \u001b[0;34m\u001b[0m\u001b[0m\n\u001b[1;32m     20\u001b[0m \u001b[0;32mdef\u001b[0m \u001b[0mDFS\u001b[0m\u001b[0;34m(\u001b[0m\u001b[0mD\u001b[0m\u001b[0;34m,\u001b[0m\u001b[0ms\u001b[0m\u001b[0;34m)\u001b[0m\u001b[0;34m:\u001b[0m\u001b[0;34m\u001b[0m\u001b[0m\n",
      "\u001b[0;32m<ipython-input-24-621a46539a38>\u001b[0m in \u001b[0;36mDFS\u001b[0;34m(D, s)\u001b[0m\n\u001b[1;32m     23\u001b[0m         \u001b[0mcat\u001b[0m\u001b[0;34m=\u001b[0m\u001b[0;34m\"\"\u001b[0m\u001b[0;34m\u001b[0m\u001b[0m\n\u001b[1;32m     24\u001b[0m         \u001b[0;32mif\u001b[0m \u001b[0mnodes\u001b[0m\u001b[0;34m[\u001b[0m\u001b[0mn\u001b[0m\u001b[0;34m]\u001b[0m\u001b[0;34m==\u001b[0m\u001b[0;36m0\u001b[0m\u001b[0;34m:\u001b[0m\u001b[0;34m\u001b[0m\u001b[0m\n\u001b[0;32m---> 25\u001b[0;31m             \u001b[0mx\u001b[0m\u001b[0;34m=\u001b[0m \u001b[0mDFS_visit\u001b[0m\u001b[0;34m(\u001b[0m\u001b[0mnodes\u001b[0m\u001b[0;34m,\u001b[0m\u001b[0mn\u001b[0m\u001b[0;34m,\u001b[0m\u001b[0mD\u001b[0m\u001b[0;34m,\u001b[0m\u001b[0ms\u001b[0m\u001b[0;34m,\u001b[0m\u001b[0mcat\u001b[0m\u001b[0;34m)\u001b[0m\u001b[0;34m\u001b[0m\u001b[0m\n\u001b[0m\u001b[1;32m     26\u001b[0m         \u001b[0moutput\u001b[0m\u001b[0;34m.\u001b[0m\u001b[0mappend\u001b[0m\u001b[0;34m(\u001b[0m\u001b[0mx\u001b[0m\u001b[0;34m)\u001b[0m\u001b[0;34m\u001b[0m\u001b[0m\n\u001b[1;32m     27\u001b[0m \u001b[0;34m\u001b[0m\u001b[0m\n",
      "\u001b[0;32m<ipython-input-24-621a46539a38>\u001b[0m in \u001b[0;36mDFS_visit\u001b[0;34m(nodes, n, D, s, cat)\u001b[0m\n\u001b[1;32m     33\u001b[0m     \u001b[0;32mfor\u001b[0m \u001b[0mx\u001b[0m \u001b[0;32min\u001b[0m \u001b[0mD\u001b[0m\u001b[0;34m[\u001b[0m\u001b[0mn\u001b[0m\u001b[0;34m]\u001b[0m\u001b[0;34m:\u001b[0m\u001b[0;34m\u001b[0m\u001b[0m\n\u001b[1;32m     34\u001b[0m         \u001b[0;32mif\u001b[0m \u001b[0mnodes\u001b[0m\u001b[0;34m[\u001b[0m\u001b[0mx\u001b[0m\u001b[0;34m]\u001b[0m\u001b[0;34m==\u001b[0m\u001b[0;36m0\u001b[0m\u001b[0;34m:\u001b[0m\u001b[0;34m\u001b[0m\u001b[0m\n\u001b[0;32m---> 35\u001b[0;31m             \u001b[0mcat\u001b[0m\u001b[0;34m=\u001b[0m\u001b[0mcat\u001b[0m\u001b[0;34m+\u001b[0m\u001b[0;34m\" \"\u001b[0m\u001b[0;34m+\u001b[0m\u001b[0mDFS_visit\u001b[0m\u001b[0;34m(\u001b[0m\u001b[0mnodes\u001b[0m\u001b[0;34m,\u001b[0m\u001b[0mn\u001b[0m\u001b[0;34m,\u001b[0m\u001b[0mD\u001b[0m\u001b[0;34m,\u001b[0m\u001b[0ms\u001b[0m\u001b[0;34m[\u001b[0m\u001b[0mn\u001b[0m\u001b[0;34m:\u001b[0m\u001b[0mx\u001b[0m\u001b[0;34m]\u001b[0m\u001b[0;34m,\u001b[0m\u001b[0mcat\u001b[0m\u001b[0;34m)\u001b[0m\u001b[0;34m\u001b[0m\u001b[0m\n\u001b[0m\u001b[1;32m     36\u001b[0m \u001b[0;34m\u001b[0m\u001b[0m\n\u001b[1;32m     37\u001b[0m     \u001b[0mnodes\u001b[0m\u001b[0;34m[\u001b[0m\u001b[0mn\u001b[0m\u001b[0;34m]\u001b[0m\u001b[0;34m=\u001b[0m\u001b[0;36m1\u001b[0m\u001b[0;34m\u001b[0m\u001b[0m\n",
      "... last 1 frames repeated, from the frame below ...\n",
      "\u001b[0;32m<ipython-input-24-621a46539a38>\u001b[0m in \u001b[0;36mDFS_visit\u001b[0;34m(nodes, n, D, s, cat)\u001b[0m\n\u001b[1;32m     33\u001b[0m     \u001b[0;32mfor\u001b[0m \u001b[0mx\u001b[0m \u001b[0;32min\u001b[0m \u001b[0mD\u001b[0m\u001b[0;34m[\u001b[0m\u001b[0mn\u001b[0m\u001b[0;34m]\u001b[0m\u001b[0;34m:\u001b[0m\u001b[0;34m\u001b[0m\u001b[0m\n\u001b[1;32m     34\u001b[0m         \u001b[0;32mif\u001b[0m \u001b[0mnodes\u001b[0m\u001b[0;34m[\u001b[0m\u001b[0mx\u001b[0m\u001b[0;34m]\u001b[0m\u001b[0;34m==\u001b[0m\u001b[0;36m0\u001b[0m\u001b[0;34m:\u001b[0m\u001b[0;34m\u001b[0m\u001b[0m\n\u001b[0;32m---> 35\u001b[0;31m             \u001b[0mcat\u001b[0m\u001b[0;34m=\u001b[0m\u001b[0mcat\u001b[0m\u001b[0;34m+\u001b[0m\u001b[0;34m\" \"\u001b[0m\u001b[0;34m+\u001b[0m\u001b[0mDFS_visit\u001b[0m\u001b[0;34m(\u001b[0m\u001b[0mnodes\u001b[0m\u001b[0;34m,\u001b[0m\u001b[0mn\u001b[0m\u001b[0;34m,\u001b[0m\u001b[0mD\u001b[0m\u001b[0;34m,\u001b[0m\u001b[0ms\u001b[0m\u001b[0;34m[\u001b[0m\u001b[0mn\u001b[0m\u001b[0;34m:\u001b[0m\u001b[0mx\u001b[0m\u001b[0;34m]\u001b[0m\u001b[0;34m,\u001b[0m\u001b[0mcat\u001b[0m\u001b[0;34m)\u001b[0m\u001b[0;34m\u001b[0m\u001b[0m\n\u001b[0m\u001b[1;32m     36\u001b[0m \u001b[0;34m\u001b[0m\u001b[0m\n\u001b[1;32m     37\u001b[0m     \u001b[0mnodes\u001b[0m\u001b[0;34m[\u001b[0m\u001b[0mn\u001b[0m\u001b[0;34m]\u001b[0m\u001b[0;34m=\u001b[0m\u001b[0;36m1\u001b[0m\u001b[0;34m\u001b[0m\u001b[0m\n",
      "\u001b[0;31mRecursionError\u001b[0m: maximum recursion depth exceeded in comparison"
     ]
    }
   ],
   "source": [
    "def wordBreak( s, wordList):\n",
    "    arr=[0]*(len(s)+1)\n",
    "    arr[0]=1\n",
    "    D={}\n",
    "    output=[]\n",
    "    for i in range(1,len(arr)):\n",
    "        \n",
    "        for j in range(i,len(arr)):\n",
    "            #print(s[i-1:j])\n",
    "            if s[i-1:j] in wordList and arr[i-1]==1:\n",
    "                \n",
    "                if i-1 in D:\n",
    "                    D[i-1].append(j)\n",
    "                else:\n",
    "                    D[i-1]=[j]\n",
    "                arr[j]=1\n",
    "                \n",
    "    DFS(D,s)\n",
    "    \n",
    "def DFS(D,s):\n",
    "    nodes = [0]*len(s)\n",
    "    for n in D:\n",
    "        cat=\"\"\n",
    "        if nodes[n]==0:\n",
    "            x= DFS_visit(nodes,n,D,s,cat)\n",
    "        output.append(x)\n",
    "        \n",
    "    print(output)    \n",
    "            \n",
    "def DFS_visit(nodes,n,D,s,cat):\n",
    "    \n",
    "    \n",
    "    for x in D[n]:\n",
    "        if nodes[x]==0:\n",
    "            cat=cat+\" \"+DFS_visit(nodes,n,D,s[n:x],cat)\n",
    "        \n",
    "    nodes[n]=1\n",
    "    \n",
    "    return cat\n",
    "    \n",
    "    \n",
    "s = \"catsanddog\"\n",
    "wordDict = [\"cat\", \"cats\", \"and\", \"sand\", \"dog\"]\n",
    "wordBreak( s, wordDict)"
   ]
  },
  {
   "cell_type": "code",
   "execution_count": null,
   "metadata": {},
   "outputs": [],
   "source": [
    "def zigzagLevelOrder(root):\n",
    "    out=[]\n",
    "    while(root!=None):\n",
    "        \n",
    "        \n",
    "    "
   ]
  },
  {
   "cell_type": "code",
   "execution_count": 5,
   "metadata": {},
   "outputs": [],
   "source": [
    "# Definition for a binary tree node.\n",
    "# class TreeNode(object):\n",
    "#     def __init__(self, x):\n",
    "#         self.val = x\n",
    "#         self.left = None\n",
    "#         self.right = None\n",
    "\n",
    "class Solution(object):\n",
    "    def levelOrder(self, root):\n",
    "        node = root\n",
    "        out = []\n",
    "        if node!=None:\n",
    "            out.append([node])\n",
    "            res=[[node.val]]\n",
    "        else :\n",
    "            return []\n",
    "       \n",
    "\n",
    "        while(out!=[]):\n",
    "            nodes=out.pop(0)\n",
    "            l,r=[],[]\n",
    "            for node in nodes:\n",
    "                left = node.left\n",
    "                right = node.right\n",
    "\n",
    "                if left!=None:\n",
    "                     l.append(left)\n",
    "                     r.append(left.val)\n",
    "\n",
    "                if right!=None:\n",
    "                    l.append(right)\n",
    "                    r.append(right.val)\n",
    "            res.append(r)\n",
    "            out.append(l)\n",
    "            return res\n",
    "\n"
   ]
  },
  {
   "cell_type": "code",
   "execution_count": 3,
   "metadata": {},
   "outputs": [
    {
     "ename": "SyntaxError",
     "evalue": "invalid syntax (<ipython-input-3-6f16910f27a2>, line 14)",
     "output_type": "error",
     "traceback": [
      "\u001b[0;36m  File \u001b[0;32m\"<ipython-input-3-6f16910f27a2>\"\u001b[0;36m, line \u001b[0;32m14\u001b[0m\n\u001b[0;31m    if left ! =None :\u001b[0m\n\u001b[0m            ^\u001b[0m\n\u001b[0;31mSyntaxError\u001b[0m\u001b[0;31m:\u001b[0m invalid syntax\n"
     ]
    }
   ],
   "source": [
    "# def levelOrder(root):\n",
    "#     out = []\n",
    "#     Q = []\n",
    "#     if root!=None:\n",
    "#         out.append([root])\n",
    "    \n",
    "#     while out[0]!=None:\n",
    "#         Q.append(out.pop(0))\n",
    "#         node = \n",
    "#         left = root.left\n",
    "#         right = root.right\n",
    "#         if left!=None and right!=None:\n",
    "#             out.append([root.left,root.right])  \n",
    "            \n",
    "#         if left ! =None :\n",
    "#                out.append([left])\n",
    "\n",
    "#         if right ! =None :\n",
    "#                out.append([right])\n",
    "\n",
    "#     for i in range(len(Q),-1,-1):\n",
    "#         l=[]\n",
    "#         for x in Q[i]:\n",
    "#             l.append(x.val)\n",
    "#         out.append(l)    \n",
    "        \n",
    "#     return out"
   ]
  },
  {
   "cell_type": "code",
   "execution_count": 7,
   "metadata": {},
   "outputs": [
    {
     "name": "stdout",
     "output_type": "stream",
     "text": [
      "0 [2, 3]\n"
     ]
    }
   ],
   "source": [
    "y=[0,2,3]\n",
    "x=y.pop(0)\n",
    "print(x,y)"
   ]
  },
  {
   "cell_type": "code",
   "execution_count": 11,
   "metadata": {},
   "outputs": [
    {
     "name": "stdout",
     "output_type": "stream",
     "text": [
      "[1, -1]\n"
     ]
    }
   ],
   "source": [
    "nums=[1,-1]\n",
    "k=1\n",
    "def maxSlidingWindow(nums, k):\n",
    "    \"\"\"\n",
    "    :type nums: List[int]\n",
    "    :type k: int\n",
    "    :rtype: List[int]\n",
    "    \"\"\"\n",
    "    if (len(nums)==0):\n",
    "        return []\n",
    "   # if k ==1:\n",
    "    #    return nums\n",
    "    \n",
    "    Max =  float('-inf')\n",
    "    maxArray=[]\n",
    "    pos= -1\n",
    "    for i in range(k):\n",
    "        if Max < nums[i]:\n",
    "            Max = nums[i]\n",
    "            pos = i\n",
    "   \n",
    "    maxArray.append(Max)    \n",
    "    \n",
    "    for i in range(k, len(nums)):\n",
    "        \n",
    "        if nums[i]>Max:\n",
    "            pos = i \n",
    "            Max =nums[i]\n",
    "\n",
    "        else :\n",
    "            if pos ==i-k:\n",
    "                m=float('-inf')\n",
    "                for j in range(i-k+1,i+1):\n",
    "                    if nums[j]>m:\n",
    "                        m = nums[j]\n",
    "                        pos=j\n",
    "                Max=m\n",
    "        maxArray.append(Max)\n",
    "\n",
    "\n",
    "    return maxArray                    \n",
    "\n",
    "print(maxSlidingWindow(nums, k))"
   ]
  },
  {
   "cell_type": "code",
   "execution_count": 12,
   "metadata": {},
   "outputs": [
    {
     "name": "stdout",
     "output_type": "stream",
     "text": [
      "0x6\n"
     ]
    }
   ],
   "source": [
    "print(hex(6))"
   ]
  },
  {
   "cell_type": "code",
   "execution_count": 22,
   "metadata": {},
   "outputs": [
    {
     "name": "stdout",
     "output_type": "stream",
     "text": [
      "0\n",
      "https://leetcode.com/problems/design-tinyurl\n"
     ]
    }
   ],
   "source": [
    "urls=[]\n",
    "def encode(longUrl):\n",
    "    \n",
    "    urls.append(longUrl)\n",
    "    return \"https://www.tinyurl.com/\" + str(hex(len(urls) - 1))\n",
    "\n",
    "def decode(shortUrl):\n",
    "    print(int('0x0', base=16))\n",
    "    return urls[int(shortUrl.split('/')[-1], base=16)]\n",
    "\n",
    "print(decode((encode(\"https://leetcode.com/problems/design-tinyurl\"))))"
   ]
  },
  {
   "cell_type": "code",
   "execution_count": 23,
   "metadata": {},
   "outputs": [
    {
     "name": "stdout",
     "output_type": "stream",
     "text": [
      "shikha\n"
     ]
    }
   ],
   "source": [
    "def numUniqueEmails(self, emails):\n",
    "    \"\"\"\n",
    "    :type emails: List[str]\n",
    "    :rtype: int\n",
    "    \"\"\"\n",
    "    dic = {}\n",
    "\n",
    "    for email in emails:\n",
    "\n",
    "        at_split=email.split('@')\n",
    "        pre=at_split[0].split('+')[0]\n",
    "        user = ''.join(pre.split('.'))\n",
    "\n",
    "        email = user+at_split[1]\n",
    "\n",
    "        if email not in dic:\n",
    "            dic[email]=1\n",
    "\n",
    "    return len(dic)        "
   ]
  },
  {
   "cell_type": "code",
   "execution_count": 55,
   "metadata": {},
   "outputs": [
    {
     "data": {
      "text/plain": [
       "2"
      ]
     },
     "execution_count": 55,
     "metadata": {},
     "output_type": "execute_result"
    }
   ],
   "source": [
    "intervals =[[5,10],[15,20]]\n",
    "#intervals = [[7,10],[2,4]]\n",
    "intervals = [[2,15],[36,45],[9,29],[16,23],[4,9]]\n",
    "def minMeetingRooms(intervals):\n",
    "    \"\"\"\n",
    "    :type intervals: List[Interval]\n",
    "    :rtype: int\n",
    "    \"\"\"\n",
    "\n",
    "    intervals.sort(key=lambda m:m[0])\n",
    "   # print(intervals)\n",
    "    prev=[0,0]\n",
    "    p =0\n",
    "    while(intervals!=[]):\n",
    "        prev=[0,0]\n",
    "        for meet in list(intervals):\n",
    "            #print(\"m\",meet)\n",
    "            if meet[0] >=prev[1]:\n",
    "               # print(\"mr\",meet)\n",
    "                intervals.remove(meet)\n",
    "                prev = meet\n",
    "        #print(\"i\", intervals)\n",
    "        p+=1        \n",
    "\n",
    "    return p\n",
    "\n",
    "minMeetingRooms(intervals)"
   ]
  },
  {
   "cell_type": "code",
   "execution_count": 58,
   "metadata": {},
   "outputs": [
    {
     "name": "stdout",
     "output_type": "stream",
     "text": [
      "[2, 5] [6, 7]\n",
      "2\n",
      "[2, 5] [6, 7]\n",
      "2\n"
     ]
    }
   ],
   "source": [
    "\n",
    "def minMeetingRooms(intervals):\n",
    "        starts = []\n",
    "        ends = []\n",
    "        for i in intervals:\n",
    "            starts.append(i[0])\n",
    "            ends.append(i[1])\n",
    "        \n",
    "        starts.sort()\n",
    "        ends.sort()\n",
    "        print(starts, ends)\n",
    "        s = e = 0\n",
    "        numRooms = available = 0\n",
    "        while s < len(starts):\n",
    "            if starts[s] < ends[e]:\n",
    "                if available == 0:\n",
    "                    numRooms += 1\n",
    "                else:\n",
    "                    available -= 1\n",
    "                    \n",
    "                s += 1\n",
    "            else:\n",
    "                available += 1\n",
    "                e += 1\n",
    "        \n",
    "        return numRooms\n",
    "intervals =[[2,7],[5,6]]    \n",
    "print(minMeetingRooms(intervals))\n",
    "intervals =[[2,6],[5,7]]    \n",
    "print(minMeetingRooms(intervals))"
   ]
  },
  {
   "cell_type": "code",
   "execution_count": 17,
   "metadata": {},
   "outputs": [
    {
     "name": "stdout",
     "output_type": "stream",
     "text": [
      "[[1, 2, 3, 4], 1, [2, 3, 4], 2, [3, 4], 3, [4], 4, 4, [3], 3, 3, [2, 4], 2, [4], 4, 4, [2], 2, 4, [2, 3], 2, [3], 3, 3, [2], 2, 2, [1, 3, 4], 1, [3, 4], 3, [4], 4, 4, [3], 3, 3, [1, 4], 1, [4], 4, 4, [1], 1, 4, [1, 3], 1, [3], 3, 3, [1], 1, 3, [1, 2, 4], 1, [2, 4], 2, [4], 4, 4, [2], 2, 2, [1, 4], 1, [4], 4, 4, [1], 1, 4, [1, 2], 1, [2], 2, 2, [1], 1, 4, [1, 2, 3], 1, [2, 3], 2, [3], 3, 3, [2], 2, 2, [1, 3], 1, [3], 3, 3, [1], 1, 3, [1, 2], 1, [2], 2, 2, [1], 1]\n"
     ]
    }
   ],
   "source": [
    "nums =[1,2,3,4]\n",
    "def subsets(nums):\n",
    "    if len(nums)==0:\n",
    "        return []\n",
    "    s=[nums]\n",
    "    for i in range(len(nums)):\n",
    "        #print(i,nums)\n",
    "        e1 =nums[i]\n",
    "        e2 = list(nums)\n",
    "        #print(e2)\n",
    "        e2.pop(i)\n",
    "        #print(nums)\n",
    "        #s.append([e1])\n",
    "        s = s+[e1] + subsets(e2)\n",
    "\n",
    "    return s  \n",
    "\n",
    "print(subsets(nums))"
   ]
  },
  {
   "cell_type": "code",
   "execution_count": 74,
   "metadata": {},
   "outputs": [
    {
     "name": "stdout",
     "output_type": "stream",
     "text": [
      "[[], [1], [2], [1, 2], [3], [1, 3], [2, 3], [1, 2, 3], [4], [1, 4], [2, 4], [1, 2, 4], [3, 4], [1, 3, 4], [2, 3, 4], [1, 2, 3, 4]]\n"
     ]
    }
   ],
   "source": [
    "nums =[1,2,3,4]\n",
    "def subsets(nums):\n",
    "    s=[[]]\n",
    "    for i in range(len(nums)):\n",
    "        temp =[]\n",
    "        for j in range(len(s)):\n",
    "            temp.append(s[j] +[nums[i]])\n",
    "        s = s+temp\n",
    "    \n",
    "    return s  \n",
    "\n",
    "print(subsets(nums))"
   ]
  },
  {
   "cell_type": "code",
   "execution_count": 2,
   "metadata": {},
   "outputs": [],
   "source": [
    "def nextPermutation(nums):\n",
    "    \n",
    "    \n",
    "    def decreasing(L):\n",
    "        return all(x>=y for x, y in zip(L, L[1:]))\n",
    "\n",
    "    def increasing(L):\n",
    "        return all(x<=y for x, y in zip(L, L[1:]))\n",
    "    \n",
    "    if decreasing(nums):\n",
    "        return nums[::-1]\n",
    "    l = len(nums)\n",
    "\n",
    "    for i in range(l-2, -1, -1):\n",
    "        if nums[i]<nums[i+1]:\n",
    "            tmp = nums[i]\n",
    "            nums[i]=nums[i+1]\n",
    "            nums[i+1]=tmp\n",
    "            \n",
    "            nums = nums[0:i+2]+num[i+2][::-1]\n",
    "            break\n",
    "    return nums"
   ]
  },
  {
   "cell_type": "code",
   "execution_count": null,
   "metadata": {},
   "outputs": [],
   "source": [
    "def strictlyincreasing(L):\n",
    "    return all(x<y for x, y in zip(L, L[1:]))\n",
    "\n",
    "def strictly_decreasing(L):\n",
    "    return all(x>y for x, y in zip(L, L[1:]))\n",
    "\n",
    "def non_increasing(L):\n",
    "    return all(x>=y for x, y in zip(L, L[1:]))\n",
    "\n",
    "def non_decreasing(L):\n",
    "    return all(x<=y for x, y in zip(L, L[1:]))\n",
    "\n",
    "def monotonic(L):\n",
    "    return non_increasing(L) or non_decreasing(L)"
   ]
  },
  {
   "cell_type": "code",
   "execution_count": 3,
   "metadata": {},
   "outputs": [
    {
     "name": "stdout",
     "output_type": "stream",
     "text": [
      "[1, 3, 2]\n",
      "[2, 1, 3]\n",
      "[2, 1, 3]\n"
     ]
    }
   ],
   "source": [
    "def get_nums(a):\n",
    "    print(a)\n",
    "    Min = float('-inf')\n",
    "    Max = a[0]\n",
    "    pos =-1\n",
    "    for i in range(1,len(a)):\n",
    "        if (a[0]<a[i] and a[i]>Min):\n",
    "                Max=a[i]\n",
    "                pos = i\n",
    "    a[pos], a[0]= a[0],a[pos]\n",
    "    return [a[0]]+sorted(a[1:])\n",
    "\n",
    "\n",
    "def nextPermutation(nums):\n",
    "    l = len(nums)\n",
    "    for i in range(l-2, -1, -1):\n",
    "        \n",
    "        if nums[i]<nums[i+1]:\n",
    "            n = get_nums(nums[i:])\n",
    "            print(n)\n",
    "            nums=nums[:i]+n\n",
    "            return nums\n",
    "    nums=nums[::-1]\n",
    "    return nums\n",
    "    \n",
    "            \n",
    "\n",
    "print(nextPermutation([1,3,2]))#,5,2,1]))"
   ]
  },
  {
   "cell_type": "code",
   "execution_count": 51,
   "metadata": {},
   "outputs": [
    {
     "name": "stdout",
     "output_type": "stream",
     "text": [
      "[3, 2, 1]\n",
      "[1, 2, 3]\n",
      "[3, 2, 1]\n"
     ]
    }
   ],
   "source": [
    "a = [1,2,3,2,1]\n",
    "print(a[2:])\n",
    "print(sorted(a[2:]))\n",
    "print(a[2:])"
   ]
  },
  {
   "cell_type": "code",
   "execution_count": 12,
   "metadata": {},
   "outputs": [],
   "source": [
    "#     def decreasing(L):\n",
    "#         return all(x>=y for x, y in zip(L, L[1:]))\n",
    "\n",
    "#     def increasing(L):\n",
    "#         return all(x<=y for x, y in zip(L, L[1:]))\n",
    "\n",
    "#     if decreasing(nums):\n",
    "#         nums = nums[::-1]\n",
    "#         return \n",
    "\n",
    "     \n",
    "# #         if increasing(nums):\n",
    "# #             if nums[l-2]!= nums[l-1]:\n",
    "# #                 nums[l-2], nums[l-1]= nums[l-1], nums[l-2]\n",
    "    "
   ]
  },
  {
   "cell_type": "code",
   "execution_count": 1,
   "metadata": {},
   "outputs": [
    {
     "data": {
      "text/plain": [
       "[[1, 2, 3, 4],\n",
       " [1, 2, 4, 3],\n",
       " [1, 3, 2, 4],\n",
       " [1, 3, 4, 2],\n",
       " [1, 4, 2, 3],\n",
       " [1, 4, 3, 2],\n",
       " [2, 1, 3, 4],\n",
       " [2, 1, 4, 3],\n",
       " [2, 3, 1, 4],\n",
       " [2, 3, 4, 1],\n",
       " [2, 4, 1, 3],\n",
       " [2, 4, 3, 1],\n",
       " [3, 1, 2, 4],\n",
       " [3, 1, 4, 2],\n",
       " [3, 2, 1, 4],\n",
       " [3, 2, 4, 1],\n",
       " [3, 4, 1, 2],\n",
       " [3, 4, 2, 1],\n",
       " [4, 1, 2, 3],\n",
       " [4, 1, 3, 2],\n",
       " [4, 2, 1, 3],\n",
       " [4, 2, 3, 1],\n",
       " [4, 3, 1, 2],\n",
       " [4, 3, 2, 1]]"
      ]
     },
     "execution_count": 1,
     "metadata": {},
     "output_type": "execute_result"
    }
   ],
   "source": [
    "def permute(nums):\n",
    "   # print(nums)\n",
    "    if len(nums)==0:\n",
    "        return [[]]\n",
    "    if len(nums)==1:\n",
    "        return [nums]\n",
    "    l =[]\n",
    "    for i in range(len(nums)):\n",
    "        L = permute(nums[:i]+nums[i+1:])\n",
    "        for j in range(len(L)):\n",
    "            l.append([nums[i]]+L[j])\n",
    "    return l    \n",
    "    \n",
    "nums=[1,2,3,4]\n",
    "permute(nums)    "
   ]
  },
  {
   "cell_type": "code",
   "execution_count": 2,
   "metadata": {},
   "outputs": [
    {
     "name": "stdout",
     "output_type": "stream",
     "text": [
      "aa\n"
     ]
    }
   ],
   "source": [
    "a= \"a\"\n",
    "print(a*2)"
   ]
  },
  {
   "cell_type": "code",
   "execution_count": 38,
   "metadata": {},
   "outputs": [
    {
     "name": "stdout",
     "output_type": "stream",
     "text": [
      "['10', '[']\n",
      "['10', '[', 'k']\n",
      "['kkkkkkkkkk']\n"
     ]
    },
    {
     "data": {
      "text/plain": [
       "'kkkkkkkkkk'"
      ]
     },
     "execution_count": 38,
     "metadata": {},
     "output_type": "execute_result"
    }
   ],
   "source": [
    "def decodeString(s):\n",
    "    stack =[]\n",
    "    num=\"\"\n",
    "    for i in range(len(s)):\n",
    "        ch = s[i]\n",
    "        \n",
    "        if ch.isdigit():\n",
    "              num =  num+ch\n",
    "              continue\n",
    "        \n",
    "        \n",
    "\n",
    "        elif ch ==\"]\" :\n",
    "            a=\"\"\n",
    "            string=a\n",
    "            while a!=\"[\":\n",
    "                string=a+string\n",
    "                a=stack.pop() \n",
    "                #print(a)\n",
    "            k = stack.pop()\n",
    "            #print(k)\n",
    "            string = string*int(k)\n",
    "            stack.append(string)\n",
    "            \n",
    "        elif ch ==\"[\":\n",
    "            stack.append(num)\n",
    "            stack.append(ch)\n",
    "            num=\"\"\n",
    "        else:\n",
    "            stack.append(ch)\n",
    "        #print(stack)\n",
    "            \n",
    "    return ''.join(stack)\n",
    "\n",
    "decodeString(\"10[k]\")        \n",
    "#decodeString(\"3[5[b]2[a]]2[c]\")"
   ]
  },
  {
   "cell_type": "code",
   "execution_count": 66,
   "metadata": {},
   "outputs": [
    {
     "data": {
      "text/plain": [
       "'aa'"
      ]
     },
     "execution_count": 66,
     "metadata": {},
     "output_type": "execute_result"
    }
   ],
   "source": [
    "a=\"a\"\n",
    "b = int(2)\n",
    "a*b"
   ]
  },
  {
   "cell_type": "code",
   "execution_count": 67,
   "metadata": {},
   "outputs": [
    {
     "name": "stdout",
     "output_type": "stream",
     "text": [
      "<class 'str'> <class 'int'>\n"
     ]
    }
   ],
   "source": [
    "print(type(a), type(b))"
   ]
  },
  {
   "cell_type": "code",
   "execution_count": null,
   "metadata": {},
   "outputs": [],
   "source": [
    "def maxProfit(self, prices):\n",
    "        \"\"\"\n",
    "        :type prices: List[int]\n",
    "        :rtype: int\n",
    "        \"\"\"\n",
    "        profit_sum=0\n",
    "        for i in range(len(prices)-1):\n",
    "            profit =prices[i+1]- prices[i]\n",
    "            if profit>0:\n",
    "                profit_sum+=profit\n",
    "        return profit_sum    "
   ]
  },
  {
   "cell_type": "code",
   "execution_count": null,
   "metadata": {},
   "outputs": [],
   "source": [
    "def maxProfit(prices):\n",
    "        \"\"\"\n",
    "        :type prices: List[int]\n",
    "        :rtype: int\n",
    "        \"\"\"\n",
    "        profits=[0,0]\n",
    "        counter =1 \n",
    "        for i in range(len(prices)-1):\n",
    "            profit =prices[i+1]- prices[i]\n",
    "            if profit <0:\n",
    "                counter =0\n",
    "                continue\n",
    "            \n",
    "            if counter ==1:\n",
    "                profits[1]+=profit\n",
    "            \n",
    "            if counter ==0:\n",
    "                profits.remove(min(profits[0],profits[1]))\n",
    "                profits.append(profit)\n",
    "                counter =1\n",
    "                \n",
    "        return sum(profits)"
   ]
  },
  {
   "cell_type": "code",
   "execution_count": 19,
   "metadata": {},
   "outputs": [
    {
     "name": "stdout",
     "output_type": "stream",
     "text": [
      "<class 'list'> [(-2, 'i'), (-2, 'love'), (-1, 'leetcode'), (-1, 'coding')]\n",
      "<class 'list'> [(-2, 'i'), (-2, 'love'), (-1, 'leetcode'), (-1, 'coding')]\n"
     ]
    },
    {
     "data": {
      "text/plain": [
       "['i', 'love']"
      ]
     },
     "execution_count": 19,
     "metadata": {},
     "output_type": "execute_result"
    }
   ],
   "source": [
    "import collections\n",
    "import heapq\n",
    "words = [\"i\", \"love\", \"leetcode\", \"i\", \"love\", \"coding\"]\n",
    "k = 2\n",
    "\n",
    "def topKFrequent(words, k):\n",
    "    D = collections.Counter(words)\n",
    "    \n",
    "    heap = [(-count,word) for (word,count) in D.items()]\n",
    "    print(type(heap),heap)\n",
    "    \n",
    "    heapq.heapify(heap)\n",
    "    L=[]\n",
    "    print(type(heap),heap)\n",
    "    for i in range(k):\n",
    "        L.append(heapq.heappop(heap)[1])\n",
    "        heapq.heapify(heap)\n",
    "    return L\n",
    "    #return [heapq.heappop(heap)[1] for _ in range(k)]\n",
    "    \n",
    "    \n",
    "topKFrequent(words, k)"
   ]
  },
  {
   "cell_type": "code",
   "execution_count": 12,
   "metadata": {},
   "outputs": [
    {
     "name": "stdout",
     "output_type": "stream",
     "text": [
      "[-3, -2, -1, -5, -6, -4]\n"
     ]
    },
    {
     "data": {
      "text/plain": [
       "5"
      ]
     },
     "execution_count": 12,
     "metadata": {},
     "output_type": "execute_result"
    }
   ],
   "source": [
    "def findKthLargest(nums, k):\n",
    "    negs = [-num for num in nums]\n",
    "    print(negs)\n",
    "    heapq.heapify(negs)\n",
    "\n",
    "    for i in range(k):\n",
    "        Large = heapq.heappop(negs)\n",
    "        #print(Large)\n",
    "        \n",
    "    return -Large\n",
    "nums = [3,2,1,5,6,4]\n",
    "k = 2\n",
    "\n",
    "findKthLargest(nums, k)"
   ]
  },
  {
   "cell_type": "code",
   "execution_count": null,
   "metadata": {},
   "outputs": [],
   "source": [
    "# Definition for a binary tree node.\n",
    "# class TreeNode(object):\n",
    "#     def __init__(self, x):\n",
    "#         self.val = x\n",
    "#         self.left = None\n",
    "#         self.right = None\n",
    "\n",
    "class Codec:\n",
    "\n",
    "    def serialize(self, root):\n",
    "        def doit(node):\n",
    "            if node:\n",
    "                vals.append(str(node.val))\n",
    "                doit(node.left)\n",
    "                doit(node.right)\n",
    "            else:\n",
    "                vals.append('#')\n",
    "        vals = []\n",
    "        doit(root)\n",
    "        print(vals)\n",
    "        return ' '.join(vals)\n",
    "\n",
    "    def deserialize(self, data):\n",
    "        def doit():\n",
    "            val = next(vals)\n",
    "            if val == '#':\n",
    "                return None\n",
    "            node = TreeNode(int(val))\n",
    "            node.left = doit()\n",
    "            node.right = doit()\n",
    "            return node\n",
    "        vals = iter(data.split())\n",
    "        return doit()\n",
    "\n",
    "    "
   ]
  },
  {
   "cell_type": "code",
   "execution_count": 94,
   "metadata": {},
   "outputs": [
    {
     "name": "stdout",
     "output_type": "stream",
     "text": [
      "c 0 0 1 1 1\n",
      "c 0 1 1 2 2\n",
      "a 0 2 2 3 3\n",
      "a 0 3 2 4 4\n",
      "a [2, 3]\n",
      "b 2 4 2 4 3\n",
      "b 2 5 2 4 4\n",
      "b 2 6 2 5 5\n"
     ]
    },
    {
     "data": {
      "text/plain": [
       "5"
      ]
     },
     "execution_count": 94,
     "metadata": {},
     "output_type": "execute_result"
    }
   ],
   "source": [
    "import collections\n",
    "def lengthOfLongestSubstringTwoDistinct(s):\n",
    "    i,j=0,0\n",
    "    maxL = j-i+1\n",
    "    D ={}\n",
    "    for j in range(len(s)):\n",
    "        ch = s[j]\n",
    "        \n",
    "        if ch in D:\n",
    "            D[ch].append(j)\n",
    "            #curr=j-i+1\n",
    "        \n",
    "        if ch not in D:\n",
    "            if len(D)==2:\n",
    "                i, char = get_i(D,s[j-1])\n",
    "                del D[char]\n",
    "            D[ch]=[j]\n",
    "        curr = j-i+1\n",
    "        maxL=max(maxL,curr)\n",
    "            \n",
    "       # print(ch,i,j, len(D), maxL, curr)    \n",
    "    return maxL\n",
    "                \n",
    "def get_i(D,a):\n",
    "    \n",
    "    Min = float('inf')\n",
    "    ch = a\n",
    "    char = ch\n",
    "    arr= D[a]\n",
    "    print(ch,arr)\n",
    "    i = arr[0]\n",
    "    for k in range(len(arr)-1,0,-1):\n",
    "        if arr[k]-arr[k-1]>1:\n",
    "            i=arr[k]\n",
    "            break\n",
    "    for key, value in D.items():\n",
    "        if value[0] < Min and key!=ch: \n",
    "            Min = value[-1]\n",
    "            char = key\n",
    "        \n",
    "    return  i, char\n",
    "        \n",
    "s= \"bbabadccddeddd\" \n",
    "s= \"ccaabbb\"\n",
    "lengthOfLongestSubstringTwoDistinct(s)"
   ]
  },
  {
   "cell_type": "code",
   "execution_count": 99,
   "metadata": {},
   "outputs": [
    {
     "name": "stdout",
     "output_type": "stream",
     "text": [
      "a [0]\n",
      "0 a\n"
     ]
    },
    {
     "data": {
      "text/plain": [
       "2"
      ]
     },
     "execution_count": 99,
     "metadata": {},
     "output_type": "execute_result"
    }
   ],
   "source": [
    "import collections\n",
    "def lengthOfLongestSubstringkDistinct(s,k):\n",
    "    i,j=0,0\n",
    "    maxL = j-i+1\n",
    "    D ={}\n",
    "    for j in range(len(s)):\n",
    "        ch = s[j]\n",
    "        \n",
    "        if ch in D:\n",
    "            D[ch].append(j)\n",
    "            #curr=j-i+1\n",
    "        \n",
    "        if ch not in D:\n",
    "            if len(D)==k:\n",
    "                i, char = get_i(D,s[j-1])\n",
    "                del D[char]\n",
    "            D[ch]=[j]\n",
    "        curr = j-i+1\n",
    "        maxL=max(maxL,curr)\n",
    "    return maxL\n",
    "                \n",
    "def get_i(D,a):\n",
    "    \n",
    "    Min = float('inf')\n",
    "    ch = a\n",
    "    char = ch\n",
    "    arr= D[a]\n",
    "    print(ch,arr)\n",
    "    i = arr[0]\n",
    "    for k in range(len(arr)-1,0,-1):\n",
    "        if arr[k]-arr[k-1]>1:\n",
    "            i=arr[k]\n",
    "            break\n",
    "    for key, value in D.items():\n",
    "        if value[0] < Min and key!=ch: \n",
    "            Min = value[-1]\n",
    "            char = key\n",
    "    print(i,char)   \n",
    "    return  i, char\n",
    "        \n",
    "s= \"bbabadccddeddd\" \n",
    "s= \"ab\"\n",
    "lengthOfLongestSubstringkDistinct(s,1)"
   ]
  },
  {
   "cell_type": "code",
   "execution_count": 122,
   "metadata": {},
   "outputs": [
    {
     "name": "stdout",
     "output_type": "stream",
     "text": [
      "2\n",
      "6\n",
      "OrderedDict([(1, 2), (2, 6)])\n"
     ]
    }
   ],
   "source": [
    "from collections import OrderedDict\n",
    "class LRUCache(object):\n",
    "    \n",
    "    def __init__(self, capacity):\n",
    "        \"\"\"\n",
    "        :type capacity: int\n",
    "        \"\"\"\n",
    "        self.capacity = capacity\n",
    "        self.D=OrderedDict()\n",
    "#         self.rank_array=[\"\"]*capacity\n",
    "#         self.rank = 0\n",
    "        \n",
    "\n",
    "    def get(self, key):\n",
    "        if key not in self.D:\n",
    "            return -1\n",
    "        \n",
    "        value = self.D[key]\n",
    "        del self.D[key]\n",
    "        self.D[key]=value\n",
    "        \n",
    "        return value\n",
    "\n",
    "    def put(self, key, value):\n",
    "        \n",
    "        \n",
    "\n",
    "        if len(self.D)==self.capacity:\n",
    "            if key not in self.D:\n",
    "                self.D.popitem(last=False)\n",
    "                \n",
    "            else:\n",
    "                del self.D[key]\n",
    "        self.D[key]=value\n",
    "        \n",
    "                \n",
    "        \n",
    "\n",
    "cache = LRUCache(2);\n",
    "cache.get(2);\n",
    "cache.put(2, 6);\n",
    "cache.get(1);\n",
    "cache.put(1, 5);\n",
    "cache.put(1, 2);\n",
    "print(cache.get(1));\n",
    "print(cache.get(2));\n",
    "\n",
    "print(cache.D)\n",
    "\n",
    "# cache.put(3, 3);    // evicts key 2\n",
    "# cache.get(2);       // returns -1 (not found)\n",
    "#  cache.put(4, 4);    // evicts key 1\n",
    "# # cache.get(1);       // returns -1 (not found)\n",
    "# # cache.get(3);       // returns 3\n",
    "# # cache.get(4);       // returns 4"
   ]
  },
  {
   "cell_type": "code",
   "execution_count": null,
   "metadata": {},
   "outputs": [],
   "source": [
    "[\"LRUCache\",\"get\",\"put\",\"get\",\"put\",\"put\",\"get\",\"get\"]\n",
    "[[2],[2],[2,6],[1],[1,5],[1,2],[1],[2]]"
   ]
  },
  {
   "cell_type": "markdown",
   "metadata": {},
   "source": [
    "[//]: # Thi is a test"
   ]
  },
  {
   "cell_type": "code",
   "execution_count": 61,
   "metadata": {},
   "outputs": [],
   "source": [
    "def findMedianSortedArrays(nums1, nums2):\n",
    "    \n",
    "    med_1 = median(nums1)\n",
    "    med_2 = median(nums2)\n",
    "    print(nums1,med_1)\n",
    "    print(nums2,med_2)\n",
    "    if (med_1 == med_2):\n",
    "        return med_1\n",
    "    len1=len(nums1)\n",
    "    len2=len(nums2)\n",
    "    if (len1==1 and len2==1):\n",
    "        return (med_1+med_2)/2\n",
    "    if len1 ==0:\n",
    "        return med_2\n",
    "    if len2==0:\n",
    "        return med_1\n",
    "    if med_1>med_2:\n",
    "        print(med_1, nums1)\n",
    "        \n",
    "        return findMedianSortedArrays(nums1[:(len1)//2],nums2[(len2+1)//2:])\n",
    "    if med_1<med_2:\n",
    "        return findMedianSortedArrays(nums1[(len1+1)//2:],nums2[:(len2)//2])\n",
    "    \n",
    "    \n",
    "def median(array):\n",
    "    l= len(array)\n",
    "    if l==0:\n",
    "        return -1\n",
    "    if l%2 ==1:\n",
    "        return array[l//2]\n",
    "    if l%2 ==0:\n",
    "        #print(array)\n",
    "        return (array[l//2]+array[l//2 - 1])/2\n",
    "    "
   ]
  },
  {
   "cell_type": "code",
   "execution_count": 62,
   "metadata": {},
   "outputs": [
    {
     "name": "stdout",
     "output_type": "stream",
     "text": [
      "[1, 3] 2.0\n",
      "[2] 2\n",
      "Median: [1, 3] [2] 2.0\n",
      "[1, 2, 3, 4, 5, 9, 10] 4\n",
      "[3, 4, 5, 6, 7, 8] 5.5\n",
      "[5, 9, 10] 9\n",
      "[3, 4, 5] 4\n",
      "9 [5, 9, 10]\n",
      "[5] 5\n",
      "[5] 5\n",
      "Median: [1, 2, 3, 4, 5, 9, 10] [3, 4, 5, 6, 7, 8] 5\n",
      "[1, 2] 1.5\n",
      "[3, 4] 3.5\n",
      "[2] 2\n",
      "[3] 3\n",
      "Median: [1, 2] [3, 4] 2.5\n",
      "[3] 3\n",
      "[-2, -1] -1.5\n",
      "3 [3]\n",
      "[] -1\n",
      "[-1] -1\n",
      "Median: [3] [-2, -1] -1\n"
     ]
    }
   ],
   "source": [
    "nums1 = [1, 3]\n",
    "nums2 = [2]\n",
    "print(\"Median:\",nums1,nums2,findMedianSortedArrays(nums1, nums2))\n",
    "nums1 = [1, 2,3,4,5,9,10]\n",
    "nums2 = [3, 4,5,6,7,8]\n",
    "print(\"Median:\",nums1,nums2,findMedianSortedArrays(nums1, nums2))\n",
    "nums1 = [1, 2]\n",
    "nums2 = [3, 4]\n",
    "print(\"Median:\",nums1,nums2,findMedianSortedArrays(nums1, nums2))\n",
    "\n",
    "nums1=[3]\n",
    "nums2=[-2,-1]\n",
    "print(\"Median:\",nums1,nums2,findMedianSortedArrays(nums1, nums2))"
   ]
  },
  {
   "cell_type": "code",
   "execution_count": 64,
   "metadata": {},
   "outputs": [
    {
     "name": "stdout",
     "output_type": "stream",
     "text": [
      "[110, 5, 112, 113, 114]\n",
      "[210, 211, 5, 213, 214]\n",
      "[310, 311, 3, 313, 314]\n",
      "[410, 411, 412, 5, 414]\n",
      "[5, 1, 512, 3, 3]\n",
      "[610, 4, 1, 613, 614]\n",
      "[710, 1, 2, 713, 714]\n",
      "[810, 1, 2, 1, 1]\n",
      "[1, 1, 2, 2, 2]\n",
      "[4, 1, 4, 4, 1014]\n"
     ]
    }
   ],
   "source": [
    "board = [[110,5,112,113,114],[210,211,5,213,214],[310,311,3,313,314],[410,411,412,5,414],[5,1,512,3,3],[610,4,1,613,614],[710,1,2,713,714],[810,1,2,1,1],[1,1,2,2,2],[4,1,4,4,1014]]\n",
    "for x in board:\n",
    "    print(x)"
   ]
  },
  {
   "cell_type": "code",
   "execution_count": 28,
   "metadata": {},
   "outputs": [],
   "source": [
    "graph = [[1,2], [3], [3], []] \n",
    "def allPathsSourceTarget(graph):\n",
    "     \n",
    "        paths=[]\n",
    "        path=[]\n",
    "        for i in range(len(graph[0])):\n",
    "            #print(\"start\",graph[0][i])\n",
    "            DFS(graph,graph[0][i],path)\n",
    "            \n",
    "            if (path==len(graph)):\n",
    "                paths.append(path)\n",
    "                \n",
    "        return paths\n",
    "    \n",
    "def DFS(graph,i,path):\n",
    "    print(i, graph[i])\n",
    "\n",
    "    for k in range(len(graph[i])):\n",
    "        \n",
    "        DFS(graph,graph[i][k],path)\n",
    "        #print(graph[i][k])"
   ]
  },
  {
   "cell_type": "code",
   "execution_count": 29,
   "metadata": {},
   "outputs": [
    {
     "name": "stdout",
     "output_type": "stream",
     "text": [
      "1 [3]\n",
      "3 []\n",
      "2 [3]\n",
      "3 []\n",
      "[]\n"
     ]
    }
   ],
   "source": [
    "print(allPathsSourceTarget(graph))"
   ]
  },
  {
   "cell_type": "code",
   "execution_count": 5,
   "metadata": {},
   "outputs": [
    {
     "name": "stdout",
     "output_type": "stream",
     "text": [
      "0 1 3 0\n",
      "0 2 6 2\n",
      "1 2 5 2\n",
      "2\n"
     ]
    }
   ],
   "source": [
    "a=[1,2,3]\n",
    "k=4\n",
    "def bbg(a,k):\n",
    "    maxS,maxL =0,0\n",
    "    for i in range(len(a)):\n",
    "        s =a[i]\n",
    "        for j in range(i+1,len(a)):\n",
    "            s+=a[j]\n",
    "            print(i,j, s, maxL)\n",
    "            if(s<=k):\n",
    "                if (maxS <s):\n",
    "                    maxS = s\n",
    "                    maxL = j-i+1\n",
    "            else:\n",
    "                break\n",
    "    return maxL\n",
    "\n",
    "print(bbg(a,k))"
   ]
  },
  {
   "cell_type": "code",
   "execution_count": 8,
   "metadata": {},
   "outputs": [
    {
     "name": "stdout",
     "output_type": "stream",
     "text": [
      "{(0, 1), (1, 2), (0, 0), (2, 1), (2, 2), (1, 0)}\n"
     ]
    },
    {
     "data": {
      "text/plain": [
       "5"
      ]
     },
     "execution_count": 8,
     "metadata": {},
     "output_type": "execute_result"
    }
   ],
   "source": [
    "import collections\n",
    "def removeStones(stones):\n",
    "    Gx,Gy =  collections.defaultdict(list), collections.defaultdict(list)\n",
    "    points = {(i,j)for i,j in stones}\n",
    "    print(points)\n",
    "    for i,j in stones:\n",
    "        Gx[i].append(j)\n",
    "        Gy[j].append(i)\n",
    "\n",
    "    def dfs(i,j):\n",
    "        points.remove((i,j))\n",
    "        for k in Gx[i]:\n",
    "            if (i,k) in points:\n",
    "                dfs(i,k)\n",
    "        for k in Gy[j]:\n",
    "            if (k,j) in points:\n",
    "                dfs(k,j)\n",
    "    \n",
    "    c =0\n",
    "    for i,j in stones:\n",
    "        if (i,j) in points:\n",
    "            dfs(i,j)\n",
    "            c+=1\n",
    "        \n",
    "    return (len(stones) -c)\n",
    "        \n",
    "stones=[[0,0],[0,1],[1,0],[1,2],[2,1],[2,2]]\n",
    "removeStones(stones)"
   ]
  },
  {
   "cell_type": "code",
   "execution_count": 76,
   "metadata": {},
   "outputs": [
    {
     "name": "stdout",
     "output_type": "stream",
     "text": [
      "[9, 4, 3, 1]\n"
     ]
    }
   ],
   "source": [
    "time= \"19:34\"\n",
    "string = time.split(\":\")\n",
    "digits = [int(time[0]),int(time[1]), int(time[3]),int(time[4])]\n",
    "\n",
    "digits.sort(reverse=True)\n",
    "print(digits)       "
   ]
  },
  {
   "cell_type": "code",
   "execution_count": 78,
   "metadata": {},
   "outputs": [],
   "source": [
    " def nextClosestTime(time):\n",
    "        digits = [int(time[0]),int(time[1]), int(time[3]),int(time[4])]\n",
    "        digits.sort(reverse=True)\n",
    "        last_digit = int(time[4])\n",
    "        for i in range(0,3):\n",
    "            if digit[i]==last_digit:\n",
    "                pos =i\n",
    "                break\n",
    "        \n",
    "    \n",
    "        if pos >0  and digits[pos-1]>last_digit and isvalid(time[:5]+digits[pos]):\n",
    "                return time[:5]+digits[pos]\n",
    "        if pos ==0 :\n",
    "            if (isvalid(time[:4]+digits[pos]+digits[3])):\n",
    "                return time[:4]+digits[pos]+digits[3]\n",
    "            elif (isvalid(time[:3]+digits[2:])):\n",
    "                \n",
    "                \n",
    "            \n",
    "        \n",
    "        \n",
    "            "
   ]
  },
  {
   "cell_type": "code",
   "execution_count": 103,
   "metadata": {},
   "outputs": [
    {
     "name": "stdout",
     "output_type": "stream",
     "text": [
      "1839\n",
      "['1', '3', '8', '9']\n",
      "['1', '8', '3', '9']\n",
      "4\n",
      "['1', '8', '3', '1']\n",
      "2\n",
      "['1', '8', '1', '1']\n",
      "3\n"
     ]
    },
    {
     "data": {
      "text/plain": [
       "'19:11'"
      ]
     },
     "execution_count": 103,
     "metadata": {},
     "output_type": "execute_result"
    }
   ],
   "source": [
    "def nextClosestTime(time):# str) -> str:\n",
    "    print(time[:2] + time[3:])\n",
    "    words = sorted(list(set(time[:2] + time[3:])));print(words)\n",
    "    res = list(time[:2] + time[3:])\n",
    "    \n",
    "    for idx in range(4)[::-1]:\n",
    "        print(res)\n",
    "        next_idx = words.index(res[idx]) + 1\n",
    "        print(next_idx)\n",
    "        if next_idx < len(words):\n",
    "            # change to the next digit\n",
    "            res[idx] = words[next_idx]\n",
    "            hour, minute = divmod(int(''.join(res)), 100)\n",
    "            # if it is valid time, just return it\n",
    "            if hour < 24 and minute < 60:\n",
    "                return ''.join(res[:2]) + ':' + ''.join(res[2:])\n",
    "        # back to the first digit, and carry to high-position\n",
    "        res[idx] = words[0]\n",
    "    return ''.join(res[:2]) + ':' + ''.join(res[2:])\n",
    "nextClosestTime(\"18:39\")"
   ]
  },
  {
   "cell_type": "code",
   "execution_count": 22,
   "metadata": {},
   "outputs": [
    {
     "name": "stdout",
     "output_type": "stream",
     "text": [
      "[[1, 2, 3, 4], [5, 6, 7, 8], [9, 10, 11, 12], [13, 14, 15, 16]]\n",
      "\n"
     ]
    }
   ],
   "source": [
    "matrix = [[[1,2,3,4],[5,6,7,8],[9,10,11,12],[13,14,15,16]]]\n",
    "for i in range(len(matrix)):\n",
    "    print(matrix[i])\n",
    "    print(\"\")\n",
    "\n"
   ]
  },
  {
   "cell_type": "code",
   "execution_count": 33,
   "metadata": {},
   "outputs": [
    {
     "name": "stdout",
     "output_type": "stream",
     "text": [
      "[[[1, 2, 3, 4], [5, 6, 7, 8], [9, 10, 11, 12], [13, 14, 15, 16]]]\n",
      "a [[1, 2, 3, 4], [5, 6, 7, 8], [9, 10, 11, 12], [13, 14, 15, 16]]\n"
     ]
    }
   ],
   "source": [
    " def spiralOrder(matrix):\n",
    "        print(matrix)\n",
    "        m = len(matrix)\n",
    "        n = len(matrix[0])\n",
    "        arr=[]\n",
    "        r=0\n",
    "        c=0\n",
    "        \n",
    "        if m ==0 or n==0:\n",
    "            return []\n",
    "        \n",
    "        if m==1:\n",
    "            return matrix[0]\n",
    "        \n",
    "        if n==1:\n",
    "            return [matrix[i][0] for i in range(m)]\n",
    "        \n",
    "        #1st round\n",
    "        arr+=matrix[0][:n]\n",
    "        \n",
    "        for i in range(1,m-1):\n",
    "            arr.append(matrix[i][n-1])\n",
    "        \n",
    "        arr+=matrix[m-1][:][::-1]\n",
    "        \n",
    "        \n",
    "        for i in range(m-2,0,-1):\n",
    "            arr.append(matrix[i][0])\n",
    "            \n",
    "        sub_matrix = [[matrix[i][j] for i in range(1,m-1)] for j in range(1,n-1)]\n",
    "        print(arr)\n",
    "        return arr +spiralOrder(sub_matrix)\n",
    "print(\"a\",spiralOrder(matrix))    "
   ]
  },
  {
   "cell_type": "code",
   "execution_count": 55,
   "metadata": {},
   "outputs": [
    {
     "name": "stdout",
     "output_type": "stream",
     "text": [
      "['()()', '(())']\n"
     ]
    }
   ],
   "source": [
    " def generateParenthesis(n):\n",
    "        \"\"\"\n",
    "        :type n: int\n",
    "        :rtype: List[str]\n",
    "        \"\"\"\n",
    "        if n==0:\n",
    "            return \"\"\n",
    "        if n ==1:\n",
    "            return [\"()\"]\n",
    "        \n",
    "        parenthesis = generateParenthesis(n-1)\n",
    "        \n",
    "        for i in range(len(parenthesis)):\n",
    "            parenthesis.append(\"(\"+parenthesis[i]+\")\")\n",
    "            parenthesis.append(\"()\"+parenthesis[i])\n",
    "            \n",
    "            parenthesis[i] = parenthesis[i]+\"()\"\n",
    "        #print(parenthesis)   \n",
    "        return list(set(parenthesis))\n",
    "    \n",
    "shikha =generateParenthesis(2)\n",
    "print(shikha)"
   ]
  },
  {
   "cell_type": "code",
   "execution_count": 51,
   "metadata": {},
   "outputs": [
    {
     "name": "stdout",
     "output_type": "stream",
     "text": [
      "True\n"
     ]
    }
   ],
   "source": [
    "arun = [\"((())())\",\"(())()()\",\"(()(()))\",\"((()))()\",\"()(()())\",\"((()()))\",\"()(())()\",\"(()()())\",\"()()()()\",\"()()(())\",\"(()())()\",\"()((()))\",\"(((())))\"]\n",
    "print(set(arun)==set(shikha))"
   ]
  },
  {
   "cell_type": "code",
   "execution_count": 63,
   "metadata": {},
   "outputs": [
    {
     "name": "stdout",
     "output_type": "stream",
     "text": [
      "['0->2', '4->8']\n"
     ]
    }
   ],
   "source": [
    " def summaryRanges(nums):\n",
    "            \"\"\"\n",
    "            :type nums: List[int]\n",
    "            :rtype: List[str]\n",
    "            \"\"\"\n",
    "\n",
    "            ans =[]\n",
    "            start =nums[0]\n",
    "            end = nums[0]\n",
    "            for i in range(1,len(nums)):\n",
    "                if nums[i]==end+1:\n",
    "                    end = nums[i]\n",
    "                    continue\n",
    "                else:\n",
    "                    if start==end:\n",
    "                        ans.append(str(start))\n",
    "\n",
    "                    else:\n",
    "                        ans.append(str(start)+\"->\"+str(end))\n",
    "\n",
    "                    start =nums[i]\n",
    "                    end =nums[i]\n",
    "\n",
    "            if (start) == end:\n",
    "                ans.append(str(start))\n",
    "            else:\n",
    "                ans.append(str(start)+\"->\"+str(end))\n",
    "\n",
    "            return ans\n",
    "    \n",
    "nums =[0,1,2,4,5,6,7,8]    \n",
    "print(summaryRanges(nums))"
   ]
  },
  {
   "cell_type": "code",
   "execution_count": 73,
   "metadata": {},
   "outputs": [
    {
     "name": "stdout",
     "output_type": "stream",
     "text": [
      "0 0 1 3 0\n",
      "0 1 3 3 0\n",
      "1 1 2 3 1\n",
      "1 2 5 3 1\n",
      "2 2 3 3 1\n",
      "2\n"
     ]
    }
   ],
   "source": [
    " def subarraySum(nums, k):\n",
    "        \"\"\"\n",
    "        :type nums: List[int]\n",
    "        :type k: int\n",
    "        :rtype: int\n",
    "        \"\"\"\n",
    "        count =0\n",
    "        for i in range(len(nums)):\n",
    "            s = 0\n",
    "            for j in range(i,len(nums)):\n",
    "                s = s+nums[j]\n",
    "                #print(i,j,s,k,count)\n",
    "                                    \n",
    "                if s ==k:\n",
    "                    count+=1                    \n",
    "                    break\n",
    "                \n",
    "                if s > k:\n",
    "                    break\n",
    "                   \n",
    "        return count\n",
    "                \n",
    "            \n",
    "nums=[1,2,3]\n",
    "k=3\n",
    "print(subarraySum(nums,k))                \n",
    "            "
   ]
  },
  {
   "cell_type": "code",
   "execution_count": 12,
   "metadata": {},
   "outputs": [
    {
     "data": {
      "text/plain": [
       "11"
      ]
     },
     "execution_count": 12,
     "metadata": {},
     "output_type": "execute_result"
    }
   ],
   "source": [
    "11^0\n"
   ]
  },
  {
   "cell_type": "code",
   "execution_count": 9,
   "metadata": {},
   "outputs": [
    {
     "name": "stdout",
     "output_type": "stream",
     "text": [
      "2 7 5\n"
     ]
    }
   ],
   "source": [
    "a=[1,2,3,4,6]\n",
    "x1=a[0]\n",
    "x2=1\n",
    "for i in range(1,len(a)):\n",
    "    x1 = x1^a[i]\n",
    "for i in range(2,7):\n",
    "    x2 = x2^i\n",
    "print(x1,x2,x1^x2)    "
   ]
  },
  {
   "cell_type": "code",
   "execution_count": 26,
   "metadata": {},
   "outputs": [
    {
     "name": "stdout",
     "output_type": "stream",
     "text": [
      "2 1\n",
      "3 2\n",
      "4 4\n",
      "5 6\n",
      "6 3\n",
      "7 7\n",
      "8 8\n",
      "5\n"
     ]
    }
   ],
   "source": [
    "a =[1, 2, 4, 6, 3, 7, 8]\n",
    "t = 1\n",
    "s=0\n",
    "for i in range(len(a)):\n",
    "    print(i+2,a[i])\n",
    "    t+=i+2\n",
    "    s=s+a[i]\n",
    "    \n",
    "    \n",
    "print(t-s)    "
   ]
  },
  {
   "cell_type": "code",
   "execution_count": 36,
   "metadata": {},
   "outputs": [
    {
     "name": "stdout",
     "output_type": "stream",
     "text": [
      "[-4, -5, -6, -7, -1, -2, -2, 3]\n"
     ]
    },
    {
     "data": {
      "text/plain": [
       "[8]"
      ]
     },
     "execution_count": 36,
     "metadata": {},
     "output_type": "execute_result"
    }
   ],
   "source": [
    "nums=[4,3,2,7,8,2,3,1]\n",
    "nums= [4,5,6,7,1,2,2,3]\n",
    "def findDisappearedNumbers(nums):\n",
    "    for i in range(len(nums)):\n",
    "            index = abs(nums[i])  - 1\n",
    "            nums[index] = - abs(nums[index])\n",
    "    print(nums)\n",
    "    return [i + 1 for i in range(len(nums)) if nums[i] > 0]\n",
    "\n",
    "\n",
    "findDisappearedNumbers(nums)                "
   ]
  },
  {
   "cell_type": "code",
   "execution_count": 47,
   "metadata": {},
   "outputs": [
    {
     "name": "stdout",
     "output_type": "stream",
     "text": [
      "0\n"
     ]
    }
   ],
   "source": [
    "def search(nums, target):\n",
    "    pivot = 0\n",
    "    for i in range(1,len(nums)):\n",
    "        if nums[i]<nums[i-1]:\n",
    "            pivot = i\n",
    "            break\n",
    "    \n",
    "\n",
    "    l_dash = 0\n",
    "    r_dash =len(nums)-1\n",
    "    \n",
    "    while(l_dash <= r_dash):\n",
    "        mid_dash = (l_dash+r_dash)//2\n",
    "        mid = ( mid_dash + pivot)%len(nums)\n",
    "       # print(mid_dash, mid)\n",
    "        if nums[mid]==target:\n",
    "            return mid\n",
    "\n",
    "        if nums[mid]<target:\n",
    "            l_dash = mid_dash  +1\n",
    "        else:\n",
    "            r_dash= mid_dash - 1\n",
    "\n",
    "    return -1\n",
    "\n",
    "nums =[0,1,2,3,4]\n",
    "target =0  \n",
    "print(search(nums,target))"
   ]
  },
  {
   "cell_type": "code",
   "execution_count": null,
   "metadata": {},
   "outputs": [],
   "source": [
    "# Definition for a binary tree node.\n",
    "# class TreeNode(object):\n",
    "#     def __init__(self, x):\n",
    "#         self.val = x\n",
    "#         self.left = None\n",
    "#         self.right = None\n",
    "\n",
    "class Solution(object):\n",
    "    def zigzagLevelOrder(self, root):\n",
    "        i=0\n",
    "        Q = []\n",
    "        \n",
    "        if root==None:\n",
    "            return []\n",
    "        \n",
    "        Q.append(root)\n",
    "        res=[]\n",
    "        last=root\n",
    "        tmp=[]\n",
    "        current=None\n",
    "        while(len(Q)>0):\n",
    "            pop = Q.pop(0)\n",
    "            tmp.append(pop.val)\n",
    "            \n",
    "            if pop.left:\n",
    "                Q.append(pop.left)\n",
    "                current=pop.left\n",
    "            if pop.right:\n",
    "                Q.append(pop.right)\n",
    "                current=pop.right\n",
    "                \n",
    "            if pop==last:\n",
    "                i+=1\n",
    "                last=current\n",
    "                if i %2 == 1:\n",
    "                    res.append(tmp)\n",
    "                else:\n",
    "                    res.append(tmp[::-1])\n",
    "                tmp=[]\n",
    "                \n",
    "        return res"
   ]
  },
  {
   "cell_type": "code",
   "execution_count": null,
   "metadata": {},
   "outputs": [],
   "source": [
    "# Definition for a binary tree node.\n",
    "# class TreeNode(object):\n",
    "#     def __init__(self, x):\n",
    "#         self.val = x\n",
    "#         self.left = None\n",
    "#         self.right = None\n",
    "\n",
    "class Solution(object):\n",
    "    def levelOrder(self, root):\n",
    "        \"\"\"\n",
    "        :type root: TreeNode\n",
    "        :rtype: List[List[int]]\n",
    "        \"\"\"\n",
    "        \n",
    "        Q = []\n",
    "        \n",
    "        if root==None:\n",
    "            return []\n",
    "        \n",
    "        Q.append(root)\n",
    "        res=[]\n",
    "        last=root\n",
    "        tmp=[]\n",
    "        current=None\n",
    "        while(len(Q)>0):\n",
    "            \n",
    "            pop = Q.pop(0)\n",
    "            tmp.append(pop.val)\n",
    "            #res.append(pop.val)\n",
    "            if pop.left:\n",
    "                Q.append(pop.left)\n",
    "                current=pop.left\n",
    "            if pop.right:\n",
    "                Q.append(pop.right)\n",
    "                current=pop.right\n",
    "            if pop==last:\n",
    "                last=current\n",
    "                res.append(tmp)\n",
    "                tmp=[]\n",
    "                \n",
    "        return res"
   ]
  },
  {
   "cell_type": "code",
   "execution_count": null,
   "metadata": {},
   "outputs": [],
   "source": [
    "#Inorder Traversal\n",
    "# Definition for a binary tree node.\n",
    "# class TreeNode(object):\n",
    "#     def __init__(self, x):\n",
    "#         self.val = x\n",
    "#         self.left = None\n",
    "#         self.right = None\n",
    "\n",
    "class Solution(object):\n",
    "    def inorderTraversal(self, root):\n",
    "        \"\"\"\n",
    "        :type root: TreeNode\n",
    "        :rtype: List[int]\n",
    "        \"\"\"\n",
    "        res =[]\n",
    "        \n",
    "        if root:\n",
    "            res+=self.inorderTraversal(root.left)\n",
    "            res+=[root.val]\n",
    "            res+=self.inorderTraversal(root.right)\n",
    "        return res\n",
    "\n",
    "#iterative\n",
    "\n",
    "def inorderTraversal(self, root):\n",
    "    stack =[] \n",
    "    current =root\n",
    "    res = []\n",
    "\n",
    "    while(stack or current):\n",
    "        while current:\n",
    "            stack.append(current)\n",
    "            current=current.left\n",
    "\n",
    "        current = stack.pop()\n",
    "        res.append(current.val)\n",
    "        current=current.right\n",
    "\n",
    "    return res"
   ]
  },
  {
   "cell_type": "code",
   "execution_count": 6,
   "metadata": {},
   "outputs": [
    {
     "name": "stdout",
     "output_type": "stream",
     "text": [
      "[4, 5, 6]\n"
     ]
    }
   ],
   "source": [
    "a=[1,2,3,4,5,6]\n",
    "print(a[len(a)-3:])"
   ]
  },
  {
   "cell_type": "code",
   "execution_count": null,
   "metadata": {},
   "outputs": [],
   "source": [
    "    # Definition for a binary tree node.\n",
    "# class TreeNode(object):\n",
    "#     def __init__(self, x):\n",
    "#         self.val = x\n",
    "#         self.left = None\n",
    "#         self.right = None\n",
    "#105. Construct Binary Tree from Preorder and Inorder Traversal\n",
    "class Solution(object):\n",
    "    def buildTree(self, preorder, inorder):\n",
    "        if len(preorder)!=len(inorder) or len(preorder)==0 or len(inorder)==0:\n",
    "            return None\n",
    "        root = TreeNode(preorder[0])\n",
    "        curr = preorder[0]\n",
    "        pos=-1\n",
    "        for i in range(len(inorder)):\n",
    "            if curr==inorder[i]:\n",
    "                pos = i\n",
    "                break\n",
    "        i=pos \n",
    "        l = len(inorder[:i])  \n",
    "        if l>0:\n",
    "            root.left = self.buildTree(preorder[1:l+1],inorder[:i])\n",
    "        else:\n",
    "            root.left = None\n",
    "        l=len(inorder[i+1:])\n",
    "        if l >0:\n",
    "            root.right = self.buildTree(preorder[len(preorder)-l:],inorder[i+1:])\n",
    "        else:\n",
    "            root.right =None\n",
    "        return root\n",
    "    \n",
    "    \n",
    "# Definition for a binary tree node.\n",
    "# class TreeNode(object):\n",
    "#     def __init__(self, x):\n",
    "#         self.val = x\n",
    "#         self.left = None\n",
    "#         self.right = None\n",
    "\n",
    "class Solution(object):\n",
    "    def buildTree(self, preorder, inorder):\n",
    "        \n",
    "        \n",
    "        if inorder:\n",
    "            ind = inorder.index(preorder.pop(0))\n",
    "            root = TreeNode(inorder[ind])\n",
    "            root.left = self.buildTree(preorder, inorder[0:ind])\n",
    "            root.right = self.buildTree(preorder, inorder[ind+1:])\n",
    "            return root   "
   ]
  },
  {
   "cell_type": "code",
   "execution_count": 41,
   "metadata": {},
   "outputs": [
    {
     "name": "stdout",
     "output_type": "stream",
     "text": [
      "0 1 2\n",
      "3 4 6\n",
      "5\n"
     ]
    }
   ],
   "source": [
    "counts=[2,2,2,2]\n",
    "counts=[3,3,3,3,3,1,3]\n",
    "def socialGraphs(counts):\n",
    "    D={}\n",
    "    \n",
    "    for i in range(len(counts)):\n",
    "        if counts[i] in D:\n",
    "            D[counts[i]].append(i)\n",
    "        else:\n",
    "            D[counts[i]]=[i]\n",
    "            \n",
    "    res=[]\n",
    "    keylist = list(D.keys())\n",
    "   # keylist.sort(reverse=True)\n",
    "    \n",
    "    for key in keylist:\n",
    "        grpsize= key\n",
    "        \n",
    "        for i in range(0,len(D[key]),key):\n",
    "            res.append(D[key][i:key+i])\n",
    "            \n",
    "    \n",
    "    res.sort(key=lambda a: a[0])\n",
    "    ans=[]\n",
    "    for i in range(len(res)):\n",
    "       \n",
    "        res[i] = [str(a) for a in res[i]]\n",
    "        \n",
    "        ans=' '.join(res[i])\n",
    "        print(ans)\n",
    "socialGraphs(counts) "
   ]
  },
  {
   "cell_type": "code",
   "execution_count": 48,
   "metadata": {},
   "outputs": [
    {
     "name": "stdout",
     "output_type": "stream",
     "text": [
      "[15, 20, 10]\n",
      "[15, 10, 10]\n"
     ]
    },
    {
     "ename": "IndexError",
     "evalue": "list index out of range",
     "output_type": "error",
     "traceback": [
      "\u001b[0;31m---------------------------------------------------------------------------\u001b[0m",
      "\u001b[0;31mIndexError\u001b[0m                                Traceback (most recent call last)",
      "\u001b[0;32m<ipython-input-48-bc21fda824bc>\u001b[0m in \u001b[0;36m<module>\u001b[0;34m()\u001b[0m\n\u001b[1;32m     16\u001b[0m \u001b[0mnums\u001b[0m\u001b[0;34m=\u001b[0m\u001b[0;34m[\u001b[0m\u001b[0;36m10\u001b[0m\u001b[0;34m,\u001b[0m\u001b[0;36m20\u001b[0m\u001b[0;34m,\u001b[0m\u001b[0;36m30\u001b[0m\u001b[0;34m]\u001b[0m\u001b[0;34m\u001b[0m\u001b[0m\n\u001b[1;32m     17\u001b[0m \u001b[0mk\u001b[0m\u001b[0;34m=\u001b[0m\u001b[0;36m4\u001b[0m\u001b[0;34m\u001b[0m\u001b[0m\n\u001b[0;32m---> 18\u001b[0;31m \u001b[0mminSum\u001b[0m\u001b[0;34m(\u001b[0m\u001b[0mnums\u001b[0m\u001b[0;34m,\u001b[0m\u001b[0mk\u001b[0m\u001b[0;34m)\u001b[0m\u001b[0;34m\u001b[0m\u001b[0m\n\u001b[0m",
      "\u001b[0;32m<ipython-input-48-bc21fda824bc>\u001b[0m in \u001b[0;36mminSum\u001b[0;34m(nums, k)\u001b[0m\n\u001b[1;32m     10\u001b[0m             \u001b[0mnums\u001b[0m\u001b[0;34m[\u001b[0m\u001b[0mj\u001b[0m\u001b[0;34m]\u001b[0m\u001b[0;34m=\u001b[0m\u001b[0;34m(\u001b[0m\u001b[0mnums\u001b[0m\u001b[0;34m[\u001b[0m\u001b[0mj\u001b[0m\u001b[0;34m]\u001b[0m\u001b[0;34m+\u001b[0m\u001b[0;36m1\u001b[0m\u001b[0;34m)\u001b[0m\u001b[0;34m//\u001b[0m\u001b[0;36m2\u001b[0m\u001b[0;34m\u001b[0m\u001b[0m\n\u001b[1;32m     11\u001b[0m \u001b[0;34m\u001b[0m\u001b[0m\n\u001b[0;32m---> 12\u001b[0;31m         \u001b[0;32mif\u001b[0m \u001b[0mnums\u001b[0m\u001b[0;34m[\u001b[0m\u001b[0mj\u001b[0m\u001b[0;34m]\u001b[0m\u001b[0;34m<=\u001b[0m\u001b[0mnums\u001b[0m\u001b[0;34m[\u001b[0m\u001b[0mj\u001b[0m\u001b[0;34m+\u001b[0m\u001b[0;36m1\u001b[0m\u001b[0;34m]\u001b[0m \u001b[0;32mand\u001b[0m \u001b[0mj\u001b[0m\u001b[0;34m<\u001b[0m\u001b[0mlen\u001b[0m\u001b[0;34m(\u001b[0m\u001b[0mnums\u001b[0m\u001b[0;34m)\u001b[0m\u001b[0;34m-\u001b[0m\u001b[0;36m1\u001b[0m\u001b[0;34m:\u001b[0m\u001b[0;34m\u001b[0m\u001b[0m\n\u001b[0m\u001b[1;32m     13\u001b[0m             \u001b[0mj\u001b[0m\u001b[0;34m=\u001b[0m\u001b[0mj\u001b[0m\u001b[0;34m+\u001b[0m\u001b[0;36m1\u001b[0m\u001b[0;34m\u001b[0m\u001b[0m\n\u001b[1;32m     14\u001b[0m         \u001b[0mprint\u001b[0m\u001b[0;34m(\u001b[0m\u001b[0mnums\u001b[0m\u001b[0;34m)\u001b[0m\u001b[0;34m\u001b[0m\u001b[0m\n",
      "\u001b[0;31mIndexError\u001b[0m: list index out of range"
     ]
    }
   ],
   "source": [
    "def minSum(nums,k):\n",
    "    j =0\n",
    "    nums.sort(reverse=True)\n",
    "    for i in range(k):\n",
    "      #  nums.sort(reverse=True)\n",
    "        \n",
    "        if nums[j]%2==0:\n",
    "            nums[j]=nums[j]//2\n",
    "        else:\n",
    "            nums[j]=(nums[j]+1)//2\n",
    "        \n",
    "        if nums[j]<=nums[j+1] and j<len(nums)-1:\n",
    "            j=j+1        \n",
    "        print(nums)\n",
    "    return sum(nums)\n",
    "nums=[10,20,30]        \n",
    "k=4\n",
    "minSum(nums,k)"
   ]
  },
  {
   "cell_type": "code",
   "execution_count": 42,
   "metadata": {},
   "outputs": [
    {
     "ename": "TypeError",
     "evalue": "insert() takes exactly 2 arguments (1 given)",
     "output_type": "error",
     "traceback": [
      "\u001b[0;31m---------------------------------------------------------------------------\u001b[0m",
      "\u001b[0;31mTypeError\u001b[0m                                 Traceback (most recent call last)",
      "\u001b[0;32m<ipython-input-42-93939ce2cfd9>\u001b[0m in \u001b[0;36m<module>\u001b[0;34m()\u001b[0m\n\u001b[1;32m      1\u001b[0m \u001b[0ma\u001b[0m\u001b[0;34m=\u001b[0m\u001b[0;34m[\u001b[0m\u001b[0;36m1\u001b[0m\u001b[0;34m,\u001b[0m\u001b[0;36m2\u001b[0m\u001b[0;34m]\u001b[0m\u001b[0;34m\u001b[0m\u001b[0m\n\u001b[0;32m----> 2\u001b[0;31m \u001b[0ma\u001b[0m\u001b[0;34m.\u001b[0m\u001b[0minsert\u001b[0m\u001b[0;34m(\u001b[0m\u001b[0;36m3\u001b[0m\u001b[0;34m)\u001b[0m\u001b[0;34m\u001b[0m\u001b[0m\n\u001b[0m",
      "\u001b[0;31mTypeError\u001b[0m: insert() takes exactly 2 arguments (1 given)"
     ]
    }
   ],
   "source": [
    "a=[1,2]\n",
    "a.insert(3)"
   ]
  },
  {
   "cell_type": "code",
   "execution_count": 43,
   "metadata": {},
   "outputs": [],
   "source": [
    "def f(n,a,formations,win):\n",
    "    D={'PS' : 'S', 'SR' : 'R', 'RP' : 'P', 'SP' : 'S', 'RS' : 'R', 'PR' : 'P'}\n",
    "    formation=\"\"\n",
    "    for i in range(0,len(formations),2):\n",
    "\n",
    "        if formations[i:i+2] in D or formations[i:i+2][::-1] in D:\n",
    "            formation+= D[formations[i:i+2]]\n",
    "\n",
    "    if a%==1:\n",
    "        if formations[a]!=D[formations[a-1:a+1]]:\n",
    "            win.append(D[formations[a-1:a+1]])\n",
    "    else:\n",
    "        if formations[a]!=D[formations[a:a+1]]:\n",
    "            win.append(D[formations[a:a+1]])\n",
    "\n",
    "\n",
    "\n",
    "    return f(n/2,a/2,formations,win)\n",
    "\n"
   ]
  },
  {
   "cell_type": "code",
   "execution_count": 51,
   "metadata": {},
   "outputs": [
    {
     "name": "stdout",
     "output_type": "stream",
     "text": [
      "\n"
     ]
    }
   ],
   "source": [
    "string=\"#\"\n",
    "print(string[:-1])"
   ]
  },
  {
   "cell_type": "code",
   "execution_count": 7,
   "metadata": {},
   "outputs": [
    {
     "name": "stdout",
     "output_type": "stream",
     "text": [
      "0\n",
      "{0}\n",
      "0\n",
      "{0}\n",
      "0\n",
      "{0}\n",
      "0\n",
      "{0}\n",
      "0\n",
      "{0}\n",
      "0\n",
      "{0}\n",
      "0\n",
      "{0}\n",
      "0\n",
      "{0}\n",
      "0\n",
      "{0}\n",
      "0\n",
      "{0}\n",
      "0\n",
      "{0}\n",
      "0\n",
      "{0}\n",
      "0\n",
      "{0}\n",
      "0\n",
      "{0}\n",
      "0\n",
      "{0}\n",
      "0\n",
      "{0}\n",
      "0\n",
      "{0}\n",
      "0\n",
      "{0}\n",
      "0\n",
      "{0}\n",
      "0\n",
      "{0}\n",
      "0\n",
      "{0}\n",
      "0\n",
      "{0}\n",
      "0\n",
      "{0}\n",
      "0\n",
      "{0}\n",
      "0\n",
      "{0}\n",
      "0\n",
      "{0}\n",
      "0\n",
      "{0}\n",
      "0\n",
      "{0}\n",
      "0\n",
      "{0, 1}\n",
      "2\n",
      "{0, 1, 3}\n",
      "6\n",
      "{1, 2, 6}\n",
      "14\n",
      "{4, 2, 12, 5}\n"
     ]
    },
    {
     "data": {
      "text/plain": [
       "14"
      ]
     },
     "execution_count": 7,
     "metadata": {},
     "output_type": "execute_result"
    }
   ],
   "source": [
    "nums=[5,12,4,2]\n",
    "def findMaximumXOR(nums):\n",
    "    \n",
    "    answer = 0\n",
    "    for i in range(32)[::-1]:\n",
    "        \n",
    "        answer <<= 1\n",
    "        print(answer)\n",
    "        prefixes = {num >> i for num in nums}\n",
    "        print(prefixes)\n",
    "        answer += any(answer^1 ^ p in prefixes for p in prefixes)\n",
    "    return answer\n",
    "\n",
    "findMaximumXOR(nums)"
   ]
  },
  {
   "cell_type": "code",
   "execution_count": 4,
   "metadata": {},
   "outputs": [
    {
     "name": "stdout",
     "output_type": "stream",
     "text": [
      "0\n"
     ]
    }
   ],
   "source": [
    "answer =0\n",
    "answer<<=1\n",
    "print(answer)"
   ]
  },
  {
   "cell_type": "code",
   "execution_count": null,
   "metadata": {},
   "outputs": [],
   "source": [
    "#Hashmap #High time complexity #The second solution has less time \n",
    "#use list not array\n",
    "\n",
    "class MyHashMap(object):\n",
    "    def __init__(self):\n",
    "        \"\"\"\n",
    "        Initialize your data structure here.\n",
    "        \"\"\"\n",
    "        self.keys=[]\n",
    "        self.values=[]\n",
    "\n",
    "    def put(self, key, value):\n",
    "        \"\"\"\n",
    "        value will always be non-negative.\n",
    "        :type key: int\n",
    "        :type value: int\n",
    "        :rtype: None\n",
    "        \"\"\"\n",
    "        pos=-1\n",
    "        for i in range(len(self.keys)):\n",
    "            if key==self.keys[i]:\n",
    "                pos =i\n",
    "        if pos==-1:\n",
    "            self.keys.append(key)\n",
    "            self.values.append(value)\n",
    "        else:\n",
    "            self.values[pos]=value\n",
    "\n",
    "    def get(self, key):\n",
    "        \"\"\"\n",
    "        Returns the value to which the specified key is mapped, or -1 if this map contains no mapping for the key\n",
    "        :type key: int\n",
    "        :rtype: int\n",
    "        \"\"\"\n",
    "        pos =-1\n",
    "        for i in range(len(self.keys)):\n",
    "            if key==self.keys[i]:\n",
    "                pos =i\n",
    "        \n",
    "        if pos==-1:\n",
    "            return -1\n",
    "        else:\n",
    "            return self.values[pos]\n",
    "        \n",
    "        \n",
    "    def remove(self, key):\n",
    "       \n",
    "        \n",
    "#####This one has lesser time complexity\n",
    "        \n",
    "class MyHashMap(object):\n",
    "    def __init__(self):\n",
    "        self.items = [0] * 1000000\n",
    "        \n",
    "    def put(self, key, value):\n",
    "        self.items[key] = value + key + 1\n",
    "        \n",
    "    def get(self, key):\n",
    "        if self.items[key]:\n",
    "            return self.items[key] - key - 1\n",
    "        else:\n",
    "            return -1\n",
    "        \n",
    "    def remove(self, key):\n",
    "        self.items[key] = 0\n",
    "        \n",
    "\n",
    "# Your MyHashMap object will be instantiated and called as such:\n",
    "# obj = MyHashMap()\n",
    "# obj.put(key,value)\n",
    "# param_2 = obj.get(key)\n",
    "# obj.remove(key)"
   ]
  },
  {
   "cell_type": "code",
   "execution_count": 7,
   "metadata": {},
   "outputs": [
    {
     "name": "stdout",
     "output_type": "stream",
     "text": [
      "<class 'list'>\n"
     ]
    }
   ],
   "source": [
    "class Solution(object):\n",
    "    def largestNumber(self, nums):\n",
    "        \"\"\"\n",
    "        :type nums: List[int]\n",
    "        :rtype: str\n",
    "        \"\"\"\n",
    "        sarr=[str(a) for a in nums]\n",
    "        sarr.sort(cmp=lambda x, y: cmp(y+x, x+y))\n",
    "        \n",
    "        ans=\"\".join(sarr)\n",
    "        if int(ans)==0:\n",
    "            return '0'\n",
    "        else:\n",
    "            return ans"
   ]
  },
  {
   "cell_type": "code",
   "execution_count": null,
   "metadata": {},
   "outputs": [],
   "source": [
    "class Solution(object):\n",
    "    def largestNumber(self, nums):\n",
    "        \"\"\"\n",
    "        :type nums: List[int]\n",
    "        :rtype: str\n",
    "        \"\"\"\n",
    "        sarr=[str(a) for a in nums]\n",
    "        sarr.sort(cmp=lambda x, y: cmp(y+x, x+y))\n",
    "        \n",
    "        ans=\"\".join(sarr)\n",
    "        if int(ans)==0:\n",
    "            return '0'\n",
    "        else:\n",
    "            return ans"
   ]
  },
  {
   "cell_type": "code",
   "execution_count": 8,
   "metadata": {},
   "outputs": [],
   "source": [
    "class Solution(object):\n",
    "    def deleteDuplicates(self, head):\n",
    "        \"\"\"\n",
    "        :type head: ListNode\n",
    "        :rtype: ListNode\n",
    "        \"\"\"\n",
    "        D={}\n",
    "        dup={}\n",
    "        root =head\n",
    "        if root ==None:\n",
    "            return None\n",
    "        #D={root.val:1}\n",
    "        prev =root\n",
    "        while head:\n",
    "            k =head.val\n",
    "            if k in D:\n",
    "                D[k]+=1\n",
    "                prev.next = head.next\n",
    "            else:\n",
    "                D[k]=1\n",
    "                \n",
    "                prev= head\n",
    "            head =head.next\n",
    "        \n",
    "        node =ListNode(-1)\n",
    "        \n",
    "        node.next =root\n",
    "        \n",
    "        prev =node\n",
    "        head =node\n",
    "        while head:\n",
    "            k =head.val\n",
    "            if k in D and D[k]>1:\n",
    "                \n",
    "                prev.next = head.next\n",
    "            else:\n",
    "                               \n",
    "                prev= head\n",
    "            head =head.next\n",
    "            \n",
    "            \n",
    "        return node.next\n",
    "        "
   ]
  },
  {
   "cell_type": "code",
   "execution_count": 33,
   "metadata": {},
   "outputs": [
    {
     "name": "stdout",
     "output_type": "stream",
     "text": [
      "[(18, 0), (26, 1), (20, 2)]\n",
      "[(18, 0), (26, 1), (20, 2)]\n",
      "[[3, 3], [-2, 4]]\n"
     ]
    }
   ],
   "source": [
    "import heapq\n",
    "def kClosest(points, K):\n",
    "    \n",
    "    if (len(points)<=K):\n",
    "        return points\n",
    "\n",
    "    result =[]\n",
    "    distance = [ (points [i][0]**2 + points[i][1]**2, i) for i in range(len(points))]\n",
    "    print(distance)\n",
    "    heapq.heapify(distance) #heapifies in linear time\n",
    "    print(distance)\n",
    "    for i in range(K):\n",
    "        index = heapq.heappop(distance)[1]\n",
    "        \n",
    "        result.append(points[index])\n",
    "        #heapq.heapify(distance)\n",
    "\n",
    "    return result\n",
    "points = [[3,3],[5,-1],[-2,4]]\n",
    "K = 2\n",
    "print(kClosest(points, K))"
   ]
  },
  {
   "cell_type": "code",
   "execution_count": 2,
   "metadata": {},
   "outputs": [
    {
     "name": "stdout",
     "output_type": "stream",
     "text": [
      "[1, 3, 1]\n",
      "2\n",
      "[1, 2, 4, 1, 3, 1, 3, 1]\n",
      "9\n"
     ]
    }
   ],
   "source": [
    "\n",
    "def largestRectangleArea(heights):\n",
    "    widths=[0]*len(heights)\n",
    "    h=float('inf')\n",
    "    prev = 0\n",
    "\n",
    "    def update(heights, i, widths):\n",
    "        for j in range(i-1, -1, -1):\n",
    "            if heights[j]<=heights[j+1]:\n",
    "                widths[j]+=1\n",
    "            else:\n",
    "                return widths\n",
    "        return widths\n",
    "\n",
    "    for i in range(len(heights)):\n",
    "\n",
    "        if heights[i]>prev:\n",
    "            widths[i] =1 \n",
    "            widths = update(heights,i, widths)\n",
    "\n",
    "        else:\n",
    "            # update all heights > heights[i] until a height <height[i]\n",
    "\n",
    "\n",
    "            widths[i]=widths[i-1]+1\n",
    "\n",
    "        prev = heights[i]\n",
    "        \n",
    "    print(widths)\n",
    "\n",
    "    maxA =0\n",
    "    for i in range(len(heights)):\n",
    "        maxA=max(maxA,heights[i]*widths[i])\n",
    "\n",
    "    return maxA\n",
    "\n",
    "heights = [2,0,1]\n",
    "print(largestRectangleArea(heights))\n",
    "\n",
    "heights=[4,2,0,3,2,4,3,4]\n",
    "print(largestRectangleArea(heights))"
   ]
  },
  {
   "cell_type": "code",
   "execution_count": null,
   "metadata": {},
   "outputs": [],
   "source": [
    "def maximalSquare(matrix):\n",
    "    maxA=0\n",
    "    def get_max_sq(matrix,i,j):\n",
    "        area =0\n",
    "        k=0\n",
    "        print(\"!\",i,j, matrix[i][j])\n",
    "        if matrix[i][j]==str(1):\n",
    "            area+=2*k+1\n",
    "            k=1\n",
    "        else:\n",
    "            return area\n",
    "        x=j+1\n",
    "        y=i+1\n",
    "        while y <len(matrix)-1 and  x <len(matrix[0])-1 and j+k <len(matrix)-1 and i+k <len(matrix[0])-1:\n",
    "            \n",
    "            if all(matrix[i+l][x] ==str(1) for l in range(j,j+k) ) and all( matrix[y][j+l] ==str(1) for l in range(i,i+k)):\n",
    "                print(\"hellll\")\n",
    "                x+=1\n",
    "                y+=1\n",
    "                area+= 2*k+1                   \n",
    "                k+=1\n",
    "            else:\n",
    "                break\n",
    "        return area\n",
    "\n",
    "    for i in range(len(matrix)):\n",
    "        for j in range(len(matrix[0])):\n",
    "            A = get_max_sq(matrix,i,j)\n",
    "            print(i,j,A)\n",
    "            maxA= max(A,maxA)  \n",
    "    return maxA\n",
    "\n",
    "matrix = [[\"1\",\"0\",\"1\",\"0\",\"0\"],[\"1\",\"0\",\"1\",\"1\",\"1\"],[\"1\",\"1\",\"1\",\"1\",\"1\"],[\"1\",\"0\",\"0\",\"1\",\"0\"]]\n",
    "matrix=[[\"1\",\"1\",\"1\",\"0\",\"0\"],[\"1\",\"1\",\"1\",\"0\",\"0\"],[\"1\",\"1\",\"1\",\"1\",\"1\"],[\"0\",\"1\",\"1\",\"1\",\"1\"],[\"0\",\"1\",\"1\",\"1\",\"1\"],[\"0\",\"1\",\"1\",\"1\",\"1\"]]\n",
    "for x in matrix:\n",
    "    print(x)\n",
    "print(maximalSquare(matrix))"
   ]
  },
  {
   "cell_type": "code",
   "execution_count": 17,
   "metadata": {
    "scrolled": true
   },
   "outputs": [
    {
     "name": "stdout",
     "output_type": "stream",
     "text": [
      "['1', '1', '1', '0', '0']\n",
      "['1', '1', '1', '0', '0']\n",
      "['1', '1', '1', '1', '1']\n",
      "['0', '1', '1', '1', '1']\n",
      "['0', '1', '1', '1', '1']\n",
      "['0', '1', '1', '1', '1']\n",
      "\n",
      "\n",
      "['1', '1', '1', '0', '0']\n",
      "['1', '2', '2', '0', '0']\n",
      "['1', '2', '3', '1', '1']\n",
      "['0', '1', '3', '4', '2']\n",
      "['0', '1', '2', '4', '5']\n",
      "['0', '1', '2', '3', '5']\n"
     ]
    }
   ],
   "source": [
    "def maximalSquare(matrix):\n",
    "    \n",
    "    \n",
    "    def sq_condition(matrix, i,j):\n",
    "        \n",
    "        \n",
    "        \n",
    "    \n",
    "    for i in range(1,len(matrix)):\n",
    "        for j in range(1,len(matrix[0])):\n",
    "            \n",
    "            if sq_condition(matrix,i,j):\n",
    "                matrix[i][j]=str(int(matrix[i-1][j-1])+1)\n",
    "    return matrix\n",
    "\n",
    "matrix=[[\"1\",\"1\",\"1\",\"0\",\"0\"],[\"1\",\"1\",\"1\",\"0\",\"0\"],[\"1\",\"1\",\"1\",\"1\",\"1\"],[\"0\",\"1\",\"1\",\"1\",\"1\"],[\"0\",\"1\",\"1\",\"1\",\"1\"],[\"0\",\"1\",\"1\",\"1\",\"1\"]]\n",
    "for x in matrix:\n",
    "    print(x)\n",
    "print('\\n')    \n",
    "matrix = maximalSquare(matrix)\n",
    "for x in matrix:\n",
    "    print(x)\n",
    "\n",
    "    \n",
    "       \n",
    "    \n",
    "    "
   ]
  },
  {
   "cell_type": "code",
   "execution_count": 4,
   "metadata": {},
   "outputs": [
    {
     "data": {
      "text/plain": [
       "2"
      ]
     },
     "execution_count": 4,
     "metadata": {},
     "output_type": "execute_result"
    }
   ],
   "source": [
    "def binary_strings(s):\n",
    "    start =0\n",
    "    \n",
    "    ans =0\n",
    "    for i in range(len(s)):\n",
    "        if s[i]==\"0\":\n",
    "            start+=1\n",
    "        if s[i]==\"1\":\n",
    "            ans +=start\n",
    "    return ans\n",
    "\n",
    "binary_strings(\"0110\")"
   ]
  },
  {
   "cell_type": "code",
   "execution_count": null,
   "metadata": {},
   "outputs": [],
   "source": [
    "    \n",
    "\n",
    "\n",
    "def linkedin_connection(adj, p1,p2):\n",
    "    get = get_graph(adj)\n",
    "    \n",
    "    distance = BFS(p1,p2)\n",
    "    \n",
    "    return distance\n",
    "\n",
    "def get_graph(adj):\n",
    "    \n",
    "    "
   ]
  },
  {
   "cell_type": "code",
   "execution_count": null,
   "metadata": {},
   "outputs": [],
   "source": [
    "adj =[[1,1,1,0,1],[1,1,0,1,1],[1,0,1,0,1],[0,1,0,1,1],[1,1,1,1,1]] #3*2\n",
    "#bfs on adjacency list\n",
    "for i in range(len(adj)):\n",
    "    print(adj[i])\n",
    "def linkedin_connection(adj, p1,p2):\n",
    "    if p1==p2:\n",
    "        return 0\n",
    "    distance =0\n",
    "    q = [p1]\n",
    "    \n",
    "    visited = [0 for j in range(len(adj))]\n",
    "    while(q!=[]):\n",
    "        curr =q.pop(0)\n",
    "        \n",
    "        \n",
    "        for i in range(len(adj)):\n",
    "            if(adj[curr][i] == 1 and visited[i]==0 and i!=curr):\n",
    "                \n",
    "                q.append(i);\n",
    "                visited[i] = 1;\n",
    "                \n",
    "                if i==p2:\n",
    "                    return distance+1\n",
    "        distance+=1;\n",
    "        \n",
    "            \n",
    "        \n",
    "    return -1\n",
    "    \n",
    "linkedin_connection(adj,2,3)    "
   ]
  },
  {
   "cell_type": "code",
   "execution_count": 66,
   "metadata": {},
   "outputs": [
    {
     "name": "stdout",
     "output_type": "stream",
     "text": [
      "{'hot': {'dot', 'lot'}, 'dot': {'dog', 'lot', 'hot'}, 'lot': {'log', 'dot', 'hot'}, 'dog': {'log', 'dot', 'cog'}, 'log': {'cog', 'lot', 'dog'}, 'cog': {'log', 'dog'}}\n",
      "hot 2\n",
      "dot 3\n",
      "lot 4\n",
      "5\n",
      "{'b': {'c'}, 'c': {'b'}}\n",
      "2\n"
     ]
    }
   ],
   "source": [
    "def ladderLength(beginWord, endWord, wordList):\n",
    "    D = {}\n",
    "    def get_diff(w1,w2):\n",
    "        if len(w1)==len(w2):\n",
    "            return sum([e1!=e2 for e1,e2 in zip(w1,w2)])\n",
    "        return -1\n",
    "\n",
    "    def add_to_adj(word1,word2):\n",
    "        if word1==beginWord or  word2==beginWord:\n",
    "            return\n",
    "        if word1 in D:\n",
    "            D[word1].add(word2)\n",
    "        else:\n",
    "            D[word1]=set([word2])\n",
    "\n",
    "    def get_adj(wordList):\n",
    "\n",
    "        for word1 in wordList:\n",
    "            for word2 in wordList:\n",
    "                if get_diff(word1,word2)==1:\n",
    "                    add_to_adj(word1,word2)\n",
    "                    add_to_adj(word2,word1)\n",
    "\n",
    "        return D\n",
    "\n",
    "    D = get_adj(wordList)\n",
    "    print(D)\n",
    "    \n",
    "    \n",
    "    visited ={}\n",
    "    for w in D:\n",
    "        visited[w]=0\n",
    "    Q =[]\n",
    "    d=1\n",
    "    for w in wordList:\n",
    "        if get_diff(w,beginWord)==1:\n",
    "            if w==endWord:\n",
    "                return d+1\n",
    "            Q.append(w)\n",
    "            visited[w]=1\n",
    "    \n",
    "    d=d+1\n",
    "    while Q:\n",
    "        pop = Q.pop(0)\n",
    "\n",
    "        for w in D[pop]:\n",
    "            if visited[w]==0:\n",
    "                visited[w]=1\n",
    "                Q.append(w)\n",
    "\n",
    "                if w==endWord:\n",
    "                    return d\n",
    "        print(pop,d)\n",
    "        d+=1\n",
    "    return 0\n",
    "    \n",
    "    \n",
    "beginWord=\"hit\"\n",
    "endWord=\"cog\"\n",
    "wordList=[\"hot\",\"dot\",\"dog\",\"lot\",\"log\",\"cog\"]\n",
    "print(ladderLength(beginWord, endWord, wordList))\n",
    "beginWord=\"a\"\n",
    "endWord=\"c\"\n",
    "wordList=[\"a\",\"b\",\"c\"]\n",
    "print(ladderLength(beginWord, endWord, wordList))"
   ]
  },
  {
   "cell_type": "code",
   "execution_count": 37,
   "metadata": {},
   "outputs": [
    {
     "name": "stdout",
     "output_type": "stream",
     "text": [
      "[7, 3, 5, 1, 2, 4, 6, 5, 6, 2, 0, 3, 5, 6, 7, 11, 8, 10, 12] 7\n",
      "[6, 3, 5, 1, 2, 4, 5, 5, 3, 2, 0, 6, 6, 7, 7, 11, 8, 10, 12] 6\n",
      "[0, 3, 5, 1, 2, 4, 5, 5, 3, 2, 6, 6, 6, 7, 7, 11, 8, 10, 12] 3\n",
      "[0, 3, 5, 1, 2, 4, 5, 5, 3, 2, 6, 6, 6, 7, 7, 11, 8, 10, 12] 0\n",
      "[0, 3, 5, 1, 2, 4, 5, 5, 3, 2, 6, 6, 6, 7, 7, 11, 8, 10, 12] 6\n",
      "[0, 3, 2, 1, 2, 4, 5, 5, 3, 5, 6, 6, 6, 7, 7, 11, 8, 10, 12] 2\n",
      "[0, 3, 1, 2, 2, 4, 5, 5, 3, 5, 6, 6, 6, 7, 7, 11, 8, 10, 12] 2\n",
      "[0, 3, 1, 2, 2, 4, 5, 5, 3, 5, 6, 6, 6, 7, 7, 11, 8, 10, 12] 1\n",
      "[0, 3, 1, 2, 2, 4, 5, 5, 3, 5, 6, 6, 6, 7, 7, 11, 8, 10, 12] 2\n",
      "[0, 3, 1, 2, 2, 4, 5, 3, 5, 5, 6, 6, 6, 7, 7, 11, 8, 10, 12] 5\n",
      "[0, 3, 1, 2, 2, 3, 5, 4, 5, 5, 6, 6, 6, 7, 7, 11, 8, 10, 12] 5\n",
      "[0, 3, 1, 2, 2, 3, 5, 4, 5, 5, 6, 6, 6, 7, 7, 11, 8, 10, 12] 3\n",
      "[0, 3, 1, 2, 2, 3, 5, 4, 5, 5, 6, 6, 6, 7, 7, 11, 8, 10, 12] 4\n",
      "[0, 3, 1, 2, 2, 3, 5, 4, 5, 5, 6, 6, 6, 7, 7, 11, 8, 10, 12] 5\n",
      "[0, 3, 1, 2, 2, 3, 5, 4, 5, 5, 6, 6, 6, 7, 7, 11, 8, 10, 12] 6\n",
      "[0, 3, 1, 2, 2, 3, 5, 4, 5, 5, 6, 6, 6, 7, 7, 11, 8, 10, 12] 7\n",
      "[0, 3, 1, 2, 2, 3, 5, 4, 5, 5, 6, 6, 6, 7, 7, 11, 8, 10, 12] 6\n",
      "[0, 3, 1, 2, 2, 3, 5, 4, 5, 5, 6, 6, 6, 7, 7, 11, 8, 10, 12] 7\n",
      "[0, 3, 1, 2, 2, 3, 5, 4, 5, 5, 6, 6, 6, 7, 7, 11, 8, 10, 12] 12\n",
      "[0, 3, 1, 2, 2, 3, 5, 4, 5, 5, 6, 6, 6, 7, 7, 10, 8, 11, 12] 8\n",
      "[0, 3, 1, 2, 2, 3, 5, 4, 5, 5, 6, 6, 6, 7, 7, 10, 8, 11, 12] 10\n",
      "[0, 3, 1, 2, 2, 3, 5, 4, 5, 5, 6, 6, 6, 7, 7, 10, 8, 11, 12] 11\n"
     ]
    },
    {
     "ename": "IndexError",
     "evalue": "list index out of range",
     "output_type": "error",
     "traceback": [
      "\u001b[0;31m---------------------------------------------------------------------------\u001b[0m",
      "\u001b[0;31mIndexError\u001b[0m                                Traceback (most recent call last)",
      "\u001b[0;32m<ipython-input-37-f4bdae25528a>\u001b[0m in \u001b[0;36m<module>\u001b[0;34m()\u001b[0m\n\u001b[1;32m     52\u001b[0m \u001b[0marr\u001b[0m \u001b[0;34m=\u001b[0m\u001b[0;34m[\u001b[0m\u001b[0;36m12\u001b[0m\u001b[0;34m,\u001b[0m\u001b[0;36m3\u001b[0m\u001b[0;34m,\u001b[0m\u001b[0;36m5\u001b[0m\u001b[0;34m,\u001b[0m\u001b[0;36m1\u001b[0m\u001b[0;34m,\u001b[0m\u001b[0;36m2\u001b[0m\u001b[0;34m,\u001b[0m\u001b[0;36m10\u001b[0m\u001b[0;34m,\u001b[0m\u001b[0;36m6\u001b[0m\u001b[0;34m,\u001b[0m\u001b[0;36m5\u001b[0m\u001b[0;34m,\u001b[0m\u001b[0;36m6\u001b[0m\u001b[0;34m,\u001b[0m\u001b[0;36m8\u001b[0m\u001b[0;34m,\u001b[0m\u001b[0;36m0\u001b[0m\u001b[0;34m,\u001b[0m\u001b[0;36m3\u001b[0m\u001b[0;34m,\u001b[0m\u001b[0;36m5\u001b[0m\u001b[0;34m,\u001b[0m\u001b[0;36m6\u001b[0m\u001b[0;34m,\u001b[0m\u001b[0;36m7\u001b[0m\u001b[0;34m,\u001b[0m\u001b[0;36m11\u001b[0m\u001b[0;34m,\u001b[0m\u001b[0;36m2\u001b[0m\u001b[0;34m,\u001b[0m\u001b[0;36m4\u001b[0m\u001b[0;34m,\u001b[0m\u001b[0;36m7\u001b[0m\u001b[0;34m]\u001b[0m\u001b[0;34m\u001b[0m\u001b[0m\n\u001b[1;32m     53\u001b[0m \u001b[0ml\u001b[0m \u001b[0;34m=\u001b[0m \u001b[0mlen\u001b[0m\u001b[0;34m(\u001b[0m\u001b[0marr\u001b[0m\u001b[0;34m)\u001b[0m\u001b[0;34m\u001b[0m\u001b[0m\n\u001b[0;32m---> 54\u001b[0;31m \u001b[0mquickSort\u001b[0m\u001b[0;34m(\u001b[0m\u001b[0marr\u001b[0m\u001b[0;34m,\u001b[0m\u001b[0;36m0\u001b[0m\u001b[0;34m,\u001b[0m\u001b[0ml\u001b[0m\u001b[0;34m-\u001b[0m\u001b[0;36m1\u001b[0m\u001b[0;34m)\u001b[0m\u001b[0;34m\u001b[0m\u001b[0m\n\u001b[0m\u001b[1;32m     55\u001b[0m \u001b[0;34m\u001b[0m\u001b[0m\n",
      "\u001b[0;32m<ipython-input-37-f4bdae25528a>\u001b[0m in \u001b[0;36mquickSort\u001b[0;34m(arr, low, high)\u001b[0m\n\u001b[1;32m     48\u001b[0m     \u001b[0;32mif\u001b[0m \u001b[0mlow\u001b[0m \u001b[0;34m<\u001b[0m\u001b[0mhigh\u001b[0m\u001b[0;34m:\u001b[0m\u001b[0;34m\u001b[0m\u001b[0m\n\u001b[1;32m     49\u001b[0m         \u001b[0mquickSort\u001b[0m\u001b[0;34m(\u001b[0m\u001b[0marr\u001b[0m\u001b[0;34m,\u001b[0m\u001b[0mlow\u001b[0m\u001b[0;34m,\u001b[0m\u001b[0mpi\u001b[0m\u001b[0;34m-\u001b[0m\u001b[0;36m1\u001b[0m\u001b[0;34m)\u001b[0m\u001b[0;34m\u001b[0m\u001b[0m\n\u001b[0;32m---> 50\u001b[0;31m         \u001b[0mquickSort\u001b[0m\u001b[0;34m(\u001b[0m\u001b[0marr\u001b[0m\u001b[0;34m,\u001b[0m\u001b[0mpi\u001b[0m\u001b[0;34m+\u001b[0m\u001b[0;36m1\u001b[0m\u001b[0;34m,\u001b[0m\u001b[0mhigh\u001b[0m\u001b[0;34m)\u001b[0m\u001b[0;34m\u001b[0m\u001b[0m\n\u001b[0m\u001b[1;32m     51\u001b[0m \u001b[0;34m\u001b[0m\u001b[0m\n\u001b[1;32m     52\u001b[0m \u001b[0marr\u001b[0m \u001b[0;34m=\u001b[0m\u001b[0;34m[\u001b[0m\u001b[0;36m12\u001b[0m\u001b[0;34m,\u001b[0m\u001b[0;36m3\u001b[0m\u001b[0;34m,\u001b[0m\u001b[0;36m5\u001b[0m\u001b[0;34m,\u001b[0m\u001b[0;36m1\u001b[0m\u001b[0;34m,\u001b[0m\u001b[0;36m2\u001b[0m\u001b[0;34m,\u001b[0m\u001b[0;36m10\u001b[0m\u001b[0;34m,\u001b[0m\u001b[0;36m6\u001b[0m\u001b[0;34m,\u001b[0m\u001b[0;36m5\u001b[0m\u001b[0;34m,\u001b[0m\u001b[0;36m6\u001b[0m\u001b[0;34m,\u001b[0m\u001b[0;36m8\u001b[0m\u001b[0;34m,\u001b[0m\u001b[0;36m0\u001b[0m\u001b[0;34m,\u001b[0m\u001b[0;36m3\u001b[0m\u001b[0;34m,\u001b[0m\u001b[0;36m5\u001b[0m\u001b[0;34m,\u001b[0m\u001b[0;36m6\u001b[0m\u001b[0;34m,\u001b[0m\u001b[0;36m7\u001b[0m\u001b[0;34m,\u001b[0m\u001b[0;36m11\u001b[0m\u001b[0;34m,\u001b[0m\u001b[0;36m2\u001b[0m\u001b[0;34m,\u001b[0m\u001b[0;36m4\u001b[0m\u001b[0;34m,\u001b[0m\u001b[0;36m7\u001b[0m\u001b[0;34m]\u001b[0m\u001b[0;34m\u001b[0m\u001b[0m\n",
      "\u001b[0;32m<ipython-input-37-f4bdae25528a>\u001b[0m in \u001b[0;36mquickSort\u001b[0;34m(arr, low, high)\u001b[0m\n\u001b[1;32m     48\u001b[0m     \u001b[0;32mif\u001b[0m \u001b[0mlow\u001b[0m \u001b[0;34m<\u001b[0m\u001b[0mhigh\u001b[0m\u001b[0;34m:\u001b[0m\u001b[0;34m\u001b[0m\u001b[0m\n\u001b[1;32m     49\u001b[0m         \u001b[0mquickSort\u001b[0m\u001b[0;34m(\u001b[0m\u001b[0marr\u001b[0m\u001b[0;34m,\u001b[0m\u001b[0mlow\u001b[0m\u001b[0;34m,\u001b[0m\u001b[0mpi\u001b[0m\u001b[0;34m-\u001b[0m\u001b[0;36m1\u001b[0m\u001b[0;34m)\u001b[0m\u001b[0;34m\u001b[0m\u001b[0m\n\u001b[0;32m---> 50\u001b[0;31m         \u001b[0mquickSort\u001b[0m\u001b[0;34m(\u001b[0m\u001b[0marr\u001b[0m\u001b[0;34m,\u001b[0m\u001b[0mpi\u001b[0m\u001b[0;34m+\u001b[0m\u001b[0;36m1\u001b[0m\u001b[0;34m,\u001b[0m\u001b[0mhigh\u001b[0m\u001b[0;34m)\u001b[0m\u001b[0;34m\u001b[0m\u001b[0m\n\u001b[0m\u001b[1;32m     51\u001b[0m \u001b[0;34m\u001b[0m\u001b[0m\n\u001b[1;32m     52\u001b[0m \u001b[0marr\u001b[0m \u001b[0;34m=\u001b[0m\u001b[0;34m[\u001b[0m\u001b[0;36m12\u001b[0m\u001b[0;34m,\u001b[0m\u001b[0;36m3\u001b[0m\u001b[0;34m,\u001b[0m\u001b[0;36m5\u001b[0m\u001b[0;34m,\u001b[0m\u001b[0;36m1\u001b[0m\u001b[0;34m,\u001b[0m\u001b[0;36m2\u001b[0m\u001b[0;34m,\u001b[0m\u001b[0;36m10\u001b[0m\u001b[0;34m,\u001b[0m\u001b[0;36m6\u001b[0m\u001b[0;34m,\u001b[0m\u001b[0;36m5\u001b[0m\u001b[0;34m,\u001b[0m\u001b[0;36m6\u001b[0m\u001b[0;34m,\u001b[0m\u001b[0;36m8\u001b[0m\u001b[0;34m,\u001b[0m\u001b[0;36m0\u001b[0m\u001b[0;34m,\u001b[0m\u001b[0;36m3\u001b[0m\u001b[0;34m,\u001b[0m\u001b[0;36m5\u001b[0m\u001b[0;34m,\u001b[0m\u001b[0;36m6\u001b[0m\u001b[0;34m,\u001b[0m\u001b[0;36m7\u001b[0m\u001b[0;34m,\u001b[0m\u001b[0;36m11\u001b[0m\u001b[0;34m,\u001b[0m\u001b[0;36m2\u001b[0m\u001b[0;34m,\u001b[0m\u001b[0;36m4\u001b[0m\u001b[0;34m,\u001b[0m\u001b[0;36m7\u001b[0m\u001b[0;34m]\u001b[0m\u001b[0;34m\u001b[0m\u001b[0m\n",
      "\u001b[0;32m<ipython-input-37-f4bdae25528a>\u001b[0m in \u001b[0;36mquickSort\u001b[0;34m(arr, low, high)\u001b[0m\n\u001b[1;32m     45\u001b[0m \u001b[0;34m\u001b[0m\u001b[0m\n\u001b[1;32m     46\u001b[0m     \u001b[0mpi\u001b[0m \u001b[0;34m=\u001b[0m \u001b[0mpartition\u001b[0m\u001b[0;34m(\u001b[0m\u001b[0marr\u001b[0m\u001b[0;34m,\u001b[0m \u001b[0mlow\u001b[0m\u001b[0;34m,\u001b[0m \u001b[0mhigh\u001b[0m \u001b[0;34m)\u001b[0m\u001b[0;34m\u001b[0m\u001b[0m\n\u001b[0;32m---> 47\u001b[0;31m     \u001b[0mprint\u001b[0m\u001b[0;34m(\u001b[0m\u001b[0marr\u001b[0m\u001b[0;34m,\u001b[0m\u001b[0marr\u001b[0m\u001b[0;34m[\u001b[0m\u001b[0mpi\u001b[0m\u001b[0;34m]\u001b[0m\u001b[0;34m)\u001b[0m\u001b[0;34m\u001b[0m\u001b[0m\n\u001b[0m\u001b[1;32m     48\u001b[0m     \u001b[0;32mif\u001b[0m \u001b[0mlow\u001b[0m \u001b[0;34m<\u001b[0m\u001b[0mhigh\u001b[0m\u001b[0;34m:\u001b[0m\u001b[0;34m\u001b[0m\u001b[0m\n\u001b[1;32m     49\u001b[0m         \u001b[0mquickSort\u001b[0m\u001b[0;34m(\u001b[0m\u001b[0marr\u001b[0m\u001b[0;34m,\u001b[0m\u001b[0mlow\u001b[0m\u001b[0;34m,\u001b[0m\u001b[0mpi\u001b[0m\u001b[0;34m-\u001b[0m\u001b[0;36m1\u001b[0m\u001b[0;34m)\u001b[0m\u001b[0;34m\u001b[0m\u001b[0m\n",
      "\u001b[0;31mIndexError\u001b[0m: list index out of range"
     ]
    }
   ],
   "source": [
    "def quickSort(arr,low,high):\n",
    "    \n",
    "#     def partition(arr, low, high):\n",
    "#         print(\"here\", arr, high)\n",
    "#         pivot = arr[high]\n",
    "        \n",
    "#         f=0\n",
    "#         while(low<high):\n",
    "#             print(low,high)\n",
    "#             if arr[low]>pivot:\n",
    "#                 f+=1\n",
    "#             else:\n",
    "#                 low+=1\n",
    "#             if arr[high]<pivot:\n",
    "#                 f+=1\n",
    "#             else:\n",
    "#                 high-=1\n",
    "#             if f==2:\n",
    "#                 f=0\n",
    "#                 arr[low], arr[high]= arr[high],arr[low]\n",
    "#                 low+=1\n",
    "#                 high-=1\n",
    "        \n",
    "#         arr[-1]=arr[low]\n",
    "#         arr[low]=pivot\n",
    "    \n",
    "#         return low\n",
    "    \n",
    "    \n",
    "    \n",
    "    def partition(arr, low, high):\n",
    "        \n",
    "        pivot =arr[high]\n",
    "        while low<high:\n",
    "            while arr[low]<pivot:\n",
    "                low+=1\n",
    "            while arr[high]>pivot:\n",
    "                high-=1\n",
    "            if low<high:\n",
    "                arr[low],arr[high]=arr[high],arr[low]\n",
    "                low+=1\n",
    "                high-=1\n",
    "\n",
    "        return low\n",
    "    \n",
    "    pi = partition(arr, low, high )  \n",
    "    print(arr,arr[pi])\n",
    "    if low <high:\n",
    "        quickSort(arr,low,pi-1)\n",
    "        quickSort(arr,pi+1,high)\n",
    "\n",
    "arr =[12,3,5,1,2,10,6,5,6,8,0,3,5,6,7,11,2,4,7]\n",
    "l = len(arr)\n",
    "quickSort(arr,0,l-1)        \n",
    "        "
   ]
  },
  {
   "cell_type": "code",
   "execution_count": 28,
   "metadata": {},
   "outputs": [
    {
     "name": "stdout",
     "output_type": "stream",
     "text": [
      "c c\n",
      "False\n",
      "a u\n",
      "True\n",
      "t t\n",
      "False\n"
     ]
    },
    {
     "data": {
      "text/plain": [
       "1"
      ]
     },
     "execution_count": 28,
     "metadata": {},
     "output_type": "execute_result"
    }
   ],
   "source": [
    "def get_diff(w1,w2):\n",
    "    for e1,e2 in zip(w1,w2):\n",
    "        print(e1,e2)\n",
    "        print(e1!=e2)\n",
    "    \n",
    "    \n",
    "    return sum([e1!=e2 for e1,e2 in zip(w1,w2)])\n",
    "#     if len(w1)==len(w2):\n",
    "#         d1 =collections.Counter(w1)\n",
    "#         d2 =collections.Counter(w2)\n",
    "#         return sum([ for s in d1])\n",
    "                \n",
    "#     return -1\n",
    "\n",
    "get_diff(\"cat\", \"cut\")"
   ]
  },
  {
   "cell_type": "code",
   "execution_count": null,
   "metadata": {},
   "outputs": [],
   "source": [
    "\"\"\"isSymmetric(Tree)\n",
    "1. Iterative BFS\n",
    "2. Recursive DFS\n",
    "3. Recursive BFS\n",
    "4. Iterative DFS\n",
    "\n",
    "\"\"\"\n",
    "\n",
    "class Solution(object): ### Iterative bfs\n",
    "    def isSymmetric(self, root):\n",
    "        \n",
    "        if root ==None:\n",
    "            return True\n",
    "        def palin_arr(arr):\n",
    "            l=0\n",
    "            r = len(arr)-1\n",
    "            while l<r:\n",
    "                if arr[l]!=arr[r]:\n",
    "                    return False    \n",
    "                l=l+1\n",
    "                r=r-1\n",
    "            return True\n",
    "        \n",
    "        Q= [root]\n",
    "        last = root\n",
    "        current = None\n",
    "        arr=[]\n",
    "        while Q: \n",
    "            pop = Q.pop(0)\n",
    "             \n",
    "            if pop.left:\n",
    "                Q.append(pop.left)\n",
    "                current =  pop.left\n",
    "                arr.append(pop.left.val)\n",
    "            else:\n",
    "                arr.append(None)\n",
    "             \n",
    "            if pop.right:\n",
    "                Q.append(pop.right)\n",
    "                current =  pop.right\n",
    "                arr.append(pop.right.val)\n",
    "            else:\n",
    "                arr.append(None)\n",
    "                \n",
    "            if pop == last:\n",
    "                \n",
    "                if palin_arr(arr)!=True:\n",
    "                    return False\n",
    "                last = current\n",
    "                \n",
    "                arr=[]\n",
    "                \n",
    "        return True\n",
    "    \n",
    "    \n",
    "class Solution(object): ###Recursive DFS\n",
    "    def isSymmetric(self, root):\n",
    "        if root == None:\n",
    "            return True\n",
    "        return self.dfs(root.left, root.right)\n",
    "    \n",
    "    def dfs(self, l,r):\n",
    "        if l and r:\n",
    "            return l.val == r.val and self.dfs(l.left,r.right) and self.dfs(r.left,l.right) \n",
    "        return l==r\n",
    "      "
   ]
  },
  {
   "cell_type": "code",
   "execution_count": 7,
   "metadata": {},
   "outputs": [
    {
     "name": "stdout",
     "output_type": "stream",
     "text": [
      "[0, 0, 1, 2, 3]\n",
      "[0, 0, 0, 2, 0]\n"
     ]
    }
   ],
   "source": [
    "\n",
    "def jump(nums):\n",
    "    \"\"\"\n",
    "    :type nums: List[int]\n",
    "    :rtype: int\n",
    "    \"\"\"\n",
    "    a=[0]*len(nums)\n",
    "\n",
    "    for i in range(len(nums)): \n",
    "        if (nums[i]+i)<len(nums):\n",
    "            a[nums[i]+i]=1+a[i]\n",
    "        \n",
    "    print(a)\n",
    "nums    =[2,3,1,1,4]\n",
    "jump(nums)\n",
    "nums    =[3,2,1,0,4]\n",
    "jump(nums)\n",
    "\n"
   ]
  },
  {
   "cell_type": "code",
   "execution_count": 12,
   "metadata": {},
   "outputs": [
    {
     "name": "stdout",
     "output_type": "stream",
     "text": [
      "[0, 1, 0, 1, 1, 0, 0, 1] [0, 0, 0, 0, 0, 0, 0, 0]\n",
      "[0, 1, 0, 1, 1, 0, 0, 1] [0, 1, 0, 0, 0, 0, 0, 0]\n",
      "[0, 1, 0, 1, 1, 0, 0, 1] [0, 1, 1, 0, 0, 0, 0, 0]\n",
      "[0, 1, 0, 1, 1, 0, 0, 1] [0, 1, 1, 0, 0, 0, 0, 0]\n",
      "[0, 1, 0, 1, 1, 0, 0, 1] [0, 1, 1, 0, 0, 0, 0, 0]\n",
      "[0, 1, 0, 1, 1, 0, 0, 1] [0, 1, 1, 0, 0, 0, 0, 0]\n"
     ]
    },
    {
     "data": {
      "text/plain": [
       "[0, 1, 1, 0, 0, 0, 0, 0]"
      ]
     },
     "execution_count": 12,
     "metadata": {},
     "output_type": "execute_result"
    }
   ],
   "source": [
    "def prisonAfterNDays(cells, N):\n",
    "\n",
    "    tmp=[0]*len(cells)\n",
    "\n",
    "\n",
    "    for i in range(N):\n",
    "\n",
    "        tmp[0]=0\n",
    "\n",
    "        for j in range(1,len(cells)-1):\n",
    "            print(cells,tmp)\n",
    "            if (cells[j-1] == cells[j+1]):\n",
    "                tmp[j] =1\n",
    "            else:\n",
    "                tmp[j] =0\n",
    "\n",
    "        cells =tmp\n",
    "        tmp[-1] =0\n",
    "    return cells\n",
    "cells= [0,1,0,1,1,0,0,1]\n",
    "prisonAfterNDays(cells, 1)"
   ]
  },
  {
   "cell_type": "code",
   "execution_count": null,
   "metadata": {},
   "outputs": [],
   "source": []
  }
 ],
 "metadata": {
  "kernelspec": {
   "display_name": "Python 3",
   "language": "python",
   "name": "python3"
  },
  "language_info": {
   "codemirror_mode": {
    "name": "ipython",
    "version": 3
   },
   "file_extension": ".py",
   "mimetype": "text/x-python",
   "name": "python",
   "nbconvert_exporter": "python",
   "pygments_lexer": "ipython3",
   "version": "3.6.5"
  }
 },
 "nbformat": 4,
 "nbformat_minor": 2
}
