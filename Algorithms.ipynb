{
 "cells": [
  {
   "cell_type": "code",
   "execution_count": 6,
   "metadata": {},
   "outputs": [
    {
     "name": "stdout",
     "output_type": "stream",
     "text": [
      "[3, 6]\n",
      "[3, 6, 2, 7]\n",
      "[7, 2, 6, 3]\n",
      "[3, 6, 2, 2]\n",
      "[3, 6, 2]\n",
      "[6, 2]\n",
      "[5, 7, 9]\n"
     ]
    }
   ],
   "source": [
    "##Lists \n",
    "a = [] \n",
    "a.append(3) \n",
    "a.append(6) \n",
    "\n",
    "print(a)\n",
    "b = [2,7]\n",
    "c =a + b     #add two lists\n",
    "print(c)\n",
    "print(c[::-1]) #list in reverse\n",
    "c.pop()  #list as stack #remove last item\n",
    "c.append(2)\n",
    "print(c)\n",
    "c.remove(2)  #remove first item of value in ()\n",
    "print(c)\n",
    "c.pop(0) #remove ith item (here first)\n",
    "print(c)\n",
    "\n",
    "#lambda function\n",
    "numbers1 = [1, 2, 3] \n",
    "numbers2 = [4, 5, 6] \n",
    "  \n",
    "result = map(lambda x, y: x + y, numbers1, numbers2) \n",
    "print(list(result))"
   ]
  },
  {
   "cell_type": "code",
   "execution_count": 7,
   "metadata": {},
   "outputs": [
    {
     "name": "stdout",
     "output_type": "stream",
     "text": [
      "None\n",
      "[2, 3, 5]\n"
     ]
    }
   ],
   "source": [
    "n = [5,2,3,]\n",
    "print(n.sort())\n",
    "print(n)"
   ]
  },
  {
   "cell_type": "code",
   "execution_count": 6,
   "metadata": {},
   "outputs": [
    {
     "name": "stdout",
     "output_type": "stream",
     "text": [
      "defaultdict(<class 'list'>, {})\n",
      "[]\n"
     ]
    },
    {
     "ename": "KeyError",
     "evalue": "0",
     "output_type": "error",
     "traceback": [
      "\u001b[0;31m---------------------------------------------------------------------------\u001b[0m",
      "\u001b[0;31mKeyError\u001b[0m                                  Traceback (most recent call last)",
      "\u001b[0;32m<ipython-input-6-f1f633695c91>\u001b[0m in \u001b[0;36m<module>\u001b[0;34m()\u001b[0m\n\u001b[1;32m      4\u001b[0m \u001b[0mprint\u001b[0m\u001b[0;34m(\u001b[0m\u001b[0mx\u001b[0m\u001b[0;34m[\u001b[0m\u001b[0;36m0\u001b[0m\u001b[0;34m]\u001b[0m\u001b[0;34m)\u001b[0m\u001b[0;34m\u001b[0m\u001b[0m\n\u001b[1;32m      5\u001b[0m \u001b[0mx\u001b[0m \u001b[0;34m=\u001b[0m \u001b[0;34m{\u001b[0m\u001b[0;36m1\u001b[0m\u001b[0;34m:\u001b[0m\u001b[0;36m0\u001b[0m\u001b[0;34m}\u001b[0m\u001b[0;34m\u001b[0m\u001b[0m\n\u001b[0;32m----> 6\u001b[0;31m \u001b[0mprint\u001b[0m\u001b[0;34m(\u001b[0m\u001b[0mx\u001b[0m\u001b[0;34m[\u001b[0m\u001b[0;36m0\u001b[0m\u001b[0;34m]\u001b[0m\u001b[0;34m)\u001b[0m\u001b[0;34m\u001b[0m\u001b[0m\n\u001b[0m",
      "\u001b[0;31mKeyError\u001b[0m: 0"
     ]
    }
   ],
   "source": [
    "from collections import defaultdict \n",
    "x = defaultdict(list)\n",
    "\n",
    "print(x[0])\n",
    "x = {1:0}\n",
    "print(x[0])"
   ]
  },
  {
   "cell_type": "code",
   "execution_count": 14,
   "metadata": {},
   "outputs": [],
   "source": [
    "# Definition for a binary tree node.\n",
    "class treenode_bst():\n",
    "    def _init_(self,val):\n",
    "        self.val = val\n",
    "        self.left = None\n",
    "        self.right = None\n",
    "        \n",
    "# Definition for a Node.for N-ary tree\n",
    "class Node(object):\n",
    "    def __init__(self, val, children):\n",
    "        self.val = val\n",
    "        self.children = children    "
   ]
  },
  {
   "cell_type": "code",
   "execution_count": 64,
   "metadata": {},
   "outputs": [],
   "source": [
    "def reverse(x):\n",
    "        \"\"\"\n",
    "        :type x: int\n",
    "        :rtype: int\n",
    "        \"\"\"\n",
    "        new_num =0\n",
    "        \n",
    "        while (x!=0):\n",
    "            dig = (int)(x % 10)\n",
    "            x = (int)(x/10)\n",
    "            new_num  =new_num*10+ dig\n",
    "        return new_num"
   ]
  },
  {
   "cell_type": "code",
   "execution_count": 67,
   "metadata": {},
   "outputs": [
    {
     "data": {
      "text/plain": [
       "21"
      ]
     },
     "execution_count": 67,
     "metadata": {},
     "output_type": "execute_result"
    }
   ],
   "source": [
    "reverse(120)"
   ]
  },
  {
   "cell_type": "code",
   "execution_count": 71,
   "metadata": {},
   "outputs": [
    {
     "name": "stdout",
     "output_type": "stream",
     "text": [
      "1534236469\n",
      "2147483648\n"
     ]
    }
   ],
   "source": [
    "y = 1534236469\n",
    "print(y)\n",
    "print(pow(2,31))"
   ]
  },
  {
   "cell_type": "code",
   "execution_count": 21,
   "metadata": {},
   "outputs": [],
   "source": [
    "\n",
    "def countPrimes(n):\n",
    "    \"\"\"\n",
    "    :type n: int\n",
    "    :rtype: int\n",
    "    \"\"\"\n",
    "    count =0\n",
    "    for i in range(2,n):\n",
    "        if (isprime(i)):\n",
    "            #print(i)\n",
    "            count+=1\n",
    "\n",
    "    return count                \n",
    "\n",
    "def isprime(m):\n",
    "    if (m<=3):\n",
    "        return m>1\n",
    "    else:\n",
    "        if (m % 2 ==0 or m % 3 ==0):\n",
    "            return False\n",
    "    i = 5\n",
    "    while(i*i<=m):\n",
    "        if(m % i ==0 or m %(i+2)==0):\n",
    "            return False\n",
    "        i=i+6\n",
    "    return True    "
   ]
  },
  {
   "cell_type": "code",
   "execution_count": 14,
   "metadata": {},
   "outputs": [
    {
     "name": "stdout",
     "output_type": "stream",
     "text": [
      "[7, 1, 2, 3, 4, 5, 6, 7]\n",
      "[7, 1, 2, 3, 4, 5, 6]\n",
      "[6, 7, 1, 2, 3, 4, 5, 6]\n",
      "[6, 7, 1, 2, 3, 4, 5]\n",
      "[5, 6, 7, 1, 2, 3, 4, 5]\n",
      "[5, 6, 7, 1, 2, 3, 4]\n",
      "[5, 6, 7, 1, 2, 3, 4]\n"
     ]
    }
   ],
   "source": [
    " def rotate(nums, k):\n",
    "        l = len(nums)\n",
    "        while (k!=0):\n",
    "            k=k-1\n",
    "            num = nums[l-1]\n",
    "            nums.insert(0,num)\n",
    "            nums.pop(l)\n",
    "            \n",
    "rotate([1,2,3,4,5,6,7],3)            "
   ]
  },
  {
   "cell_type": "code",
   "execution_count": 18,
   "metadata": {},
   "outputs": [
    {
     "name": "stdout",
     "output_type": "stream",
     "text": [
      "6\n",
      "5\n",
      "4\n",
      "3\n",
      "2\n"
     ]
    }
   ],
   "source": [
    "for i in range(6,1,-1):\n",
    "    print(i)"
   ]
  },
  {
   "cell_type": "code",
   "execution_count": 99,
   "metadata": {},
   "outputs": [],
   "source": [
    "def searchRange(nums, target):\n",
    "    \n",
    "    start= 0\n",
    "    end = len(nums)-1\n",
    "    pos =[-1,-1]\n",
    "    while(start<end):\n",
    "        mid = (int)((start + end)/2)\n",
    "        \n",
    "        if(nums[mid]>target):\n",
    "            end = mid\n",
    "\n",
    "        if(nums[mid]<target):\n",
    "            start = mid +1   \n",
    "\n",
    "        if(nums[mid]==target):\n",
    "            pos.pop(0)\n",
    "            pos.pop(0)\n",
    "            pos.append(mid)\n",
    "            print(pos)\n",
    "            k=mid+1\n",
    "            b=mid-1\n",
    "            \n",
    "            while(nums[k]==target):\n",
    "                pos.append(k)\n",
    "                if(k<len(nums)-1):\n",
    "                    \n",
    "                    k=k+1\n",
    "                else:    \n",
    "                    break;\n",
    "\n",
    "            while(nums[b]==target):\n",
    "                \n",
    "                if(b>0):\n",
    "                    pos.insert(0,b)\n",
    "                    b=b-1\n",
    "                else:    \n",
    "                    break;\n",
    "\n",
    "            return pos   \n",
    "\n",
    "    return pos"
   ]
  },
  {
   "cell_type": "code",
   "execution_count": 100,
   "metadata": {},
   "outputs": [
    {
     "name": "stdout",
     "output_type": "stream",
     "text": [
      "[0]\n",
      "[0, 1]\n"
     ]
    }
   ],
   "source": [
    "nums = [2,2]\n",
    "target = 2\n",
    "print(searchRange(nums, target))"
   ]
  },
  {
   "cell_type": "code",
   "execution_count": 92,
   "metadata": {},
   "outputs": [
    {
     "name": "stdout",
     "output_type": "stream",
     "text": [
      "2\n"
     ]
    }
   ],
   "source": [
    "print(nums[-2])"
   ]
  },
  {
   "cell_type": "code",
   "execution_count": 110,
   "metadata": {},
   "outputs": [
    {
     "name": "stdout",
     "output_type": "stream",
     "text": [
      "@ Z\n"
     ]
    }
   ],
   "source": [
    "print(chr(64),chr(64+26))"
   ]
  },
  {
   "cell_type": "code",
   "execution_count": 112,
   "metadata": {},
   "outputs": [
    {
     "name": "stdout",
     "output_type": "stream",
     "text": [
      "Z\n"
     ]
    }
   ],
   "source": [
    "string = 'ABCDEFGHIJKLMNOPQRSTUVWXYZ'\n",
    "print(string[25])"
   ]
  },
  {
   "cell_type": "code",
   "execution_count": 3,
   "metadata": {},
   "outputs": [
    {
     "name": "stdout",
     "output_type": "stream",
     "text": [
      "Counter({5: 2, 1: 1, 2: 1, 3: 1, 4: 1})\n"
     ]
    }
   ],
   "source": [
    "import collections\n",
    "nums = [1,2,3,4,5,5]\n",
    "dic = collections.Counter(nums)\n",
    "print(dic) #convert array to dic collections"
   ]
  },
  {
   "cell_type": "code",
   "execution_count": 5,
   "metadata": {},
   "outputs": [
    {
     "data": {
      "text/plain": [
       "4.0"
      ]
     },
     "execution_count": 5,
     "metadata": {},
     "output_type": "execute_result"
    }
   ],
   "source": [
    "#k pairs\n",
    "def findPairs(nums, k):\n",
    "    \"\"\"\n",
    "    :type nums: List[int]\n",
    "    :type k: int\n",
    "    :rtype: int\n",
    "    \"\"\"\n",
    "    count=0\n",
    "    dic={}\n",
    "    dic = collections.Counter(nums)\n",
    "\n",
    "    if (k<0):\n",
    "        return 0\n",
    "\n",
    "    if (k==0):\n",
    "        for i in dic:\n",
    "            if (dic[i]>1):\n",
    "                count+=1\n",
    "\n",
    "        return count        \n",
    "    else:                \n",
    "\n",
    "        for i in dic:\n",
    "            p1 = i+k\n",
    "            p2 = i-k\n",
    "            if(p1 in dic and p2 in dic ):\n",
    "                count+=2\n",
    "                continue\n",
    "            if(p1 in dic or p2 in dic ):\n",
    "                count+=1\n",
    "                continue\n",
    "        return count/2\n",
    "#k pairs    \n",
    "#findPairs([1,2,3,4,5],1)"
   ]
  },
  {
   "cell_type": "code",
   "execution_count": 138,
   "metadata": {},
   "outputs": [
    {
     "name": "stdout",
     "output_type": "stream",
     "text": [
      "abs f\n",
      "ABSf\n",
      "False\n",
      "True\n"
     ]
    }
   ],
   "source": [
    "s='ABS f'\n",
    "print(s.lower())\n",
    "print(s.replace(\" \",\"\"))\n",
    "result = yourString.replaceAll(\"[-+.^:,]\",\"\");\n",
    "\n",
    "s = \"caca a car\" \n",
    "s1 =\"A man, a plan, a canal: Panama\"\n",
    "s2 =\"fhreiufhurefer1232132\"\n",
    "print(s.isalnum())\n",
    "print(s2.isalnum()) #check alpha numeric "
   ]
  },
  {
   "cell_type": "code",
   "execution_count": 31,
   "metadata": {},
   "outputs": [
    {
     "name": "stdout",
     "output_type": "stream",
     "text": [
      "False\n",
      "True\n"
     ]
    }
   ],
   "source": [
    "def isPalindrome(s):\n",
    "        \"\"\"\n",
    "        :type s: str\n",
    "        :rtype: bool\n",
    "        \n",
    "        \"\"\"\n",
    "        s=s.lower()\n",
    "        for ch in s:\n",
    "            if(ch.isalnum()!=True):\n",
    "                s=s.replace(ch,\"\")\n",
    "        L =len(s)\n",
    "        start = 0\n",
    "        end = L-1\n",
    "        f=0\n",
    "        while(start<end):\n",
    "            if(s[start]==s[end]):\n",
    "                f=1\n",
    "            else:\n",
    "                f=0\n",
    "                break\n",
    "            start+=1\n",
    "            end=end-1\n",
    "                \n",
    "        return (f==1)\n",
    "            \n",
    "s = \"caca a car\" \n",
    "s1 =\"A man, a plan, a canal: Panama\"\n",
    "s2 =\"fhreiufhurefer1232132\"\n",
    "print(isPalindrome(s))\n",
    "print(isPalindrome(s1))"
   ]
  },
  {
   "cell_type": "code",
   "execution_count": 32,
   "metadata": {},
   "outputs": [
    {
     "name": "stdout",
     "output_type": "stream",
     "text": [
      "[0, 4]\n",
      "[0, 4]\n",
      "[0, 7]\n",
      "49\n"
     ]
    }
   ],
   "source": [
    "\n",
    "def robotSim(commands, obstacles):\n",
    "    \"\"\"\n",
    "    :type commands: List[int]\n",
    "    :type obstacles: List[List[int]]\n",
    "    :rtype: int\n",
    "    \"\"\"\n",
    "    state = [0,0]\n",
    "    T = 'N'\n",
    "    #turns =['N','E','S','W']\n",
    "    for c in commands:\n",
    "\n",
    "        if(c>0):\n",
    "            if (T=='N'):\n",
    "                state[0],state[1]=state[0],state[1]+c                \n",
    "            if (T=='S'):\n",
    "                state[0],state[1]=state[0],state[1]-c\n",
    "            if (T=='W'):\n",
    "                state[0],state[1]=state[0]-c,state[1]\n",
    "            if (T=='E'):\n",
    "                state[0],state[1]=state[0]+c,state[1]\n",
    "\n",
    "        if(c==-1): \n",
    "            \n",
    "            if (T=='N'):\n",
    "                T='E'\n",
    "                \n",
    "            elif (T=='E'):\n",
    "                T='S'\n",
    "            elif (T== 'S'):\n",
    "                T='W'\n",
    "            elif (T== 'W'):\n",
    "                T='N'\n",
    "             \n",
    "        if(c==-2):      \n",
    "            elif (T== 'N'):\n",
    "                T='W'\n",
    "            elif (T=='W'):\n",
    "                T='S'\n",
    "            elif (T== 'S'):\n",
    "                T='E'\n",
    "            elif (T=='E'):\n",
    "                T='N'\n",
    "        \n",
    "    return  state[0]*state[0] + state[1]*state[1]\n",
    "print(robotSim([4,-1,3],[]))"
   ]
  },
  {
   "cell_type": "code",
   "execution_count": 293,
   "metadata": {},
   "outputs": [
    {
     "name": "stdout",
     "output_type": "stream",
     "text": [
      "-1\n",
      "-1\n",
      "-1\n",
      "1\n",
      "-1\n",
      "3\n"
     ]
    }
   ],
   "source": [
    "class Node_S(object):\n",
    "    def __init__(self, data, next_node=None):\n",
    "        self.data=data\n",
    "        self.next_node=next_node\n",
    "        \n",
    "class LinkedList(object):\n",
    "    def __init__(self, head=None):\n",
    "        self.head=head\n",
    "        \n",
    "    def get(self, index):\n",
    "        i = 0\n",
    "        L = 0\n",
    "        temp = self.head\n",
    "        if(self.head == None):\n",
    "            return -1\n",
    "        while(temp.next_node!=None ):\n",
    "            L=L+1\n",
    "            if(index !=i):\n",
    "                temp = temp.next_node\n",
    "                i=i+1\n",
    "            else:\n",
    "                return temp.data\n",
    "        if(index==L):\n",
    "            return temp.data\n",
    "        return -1        \n",
    "        \n",
    "    def addAtTail(self, data): #How Many Args\n",
    "        new_node = Node_S(data) \n",
    "        if (self.head == None):            \n",
    "                self.head = new_node\n",
    "        else:\n",
    "            temp = self.head\n",
    "            while(temp.next_node!=None):\n",
    "                temp = temp.next_node\n",
    "            temp.next_node = new_node\n",
    "            \n",
    "    \n",
    "    def addAtHead(self,data):\n",
    "        new_node = Node_S(data)#,self.head)\n",
    "        new_node.next_node =self.head\n",
    "        self.head =new_node\n",
    "    \n",
    "    def addAtIndex(self,index, data): #How Many Args\n",
    "        new_node = Node_S(data) \n",
    "        i=0\n",
    "        L=0\n",
    "        temp = self.head\n",
    "        prev =None\n",
    "        if(index==0):\n",
    "            self.addAtHead(data)\n",
    "            return\n",
    "        else:\n",
    "            #while(temp.next_node!=None):\n",
    "            while(temp!=None):\n",
    "                L=L+1\n",
    "                if(index !=i):\n",
    "                    prev = temp\n",
    "                    temp = temp.next_node\n",
    "                    i=i+1\n",
    "                if(index ==i):     \n",
    "                    new_node.next_node = temp\n",
    "                    prev.next_node = new_node\n",
    "                    return;\n",
    "        return;     \n",
    "                    \n",
    "\n",
    "    def deleteAtIndex(self, index):\n",
    "        i = 0\n",
    "        L=0\n",
    "        temp = self.head\n",
    "        prev =self.head\n",
    "        if (index==0):\n",
    "            self.head = temp.next_node \n",
    "            return;\n",
    "        else :\n",
    "\n",
    "            while(temp.next_node!=None):\n",
    "                    L=L+1\n",
    "                    if(index !=i):\n",
    "                        prev = temp\n",
    "                        temp = temp.next_node\n",
    "                        i=i+1\n",
    "                    if(index ==i):     \n",
    "                        \n",
    "                        prev.next_node = temp.next_node\n",
    "                        temp.next_node =None\n",
    "                        return;\n",
    "        \n",
    "    def show(self):\n",
    "        temp = self.head\n",
    "        while(temp.next_node!=None):\n",
    "            print(temp.data)\n",
    "            temp=temp.next_node\n",
    "        print(temp.data)    \n",
    "        \n",
    "obj = LinkedList()\n",
    "print(obj.get(0))\n",
    "obj.addAtIndex(1,2)\n",
    "print(obj.get(0))\n",
    "print(obj.get(1))\n",
    "obj.addAtIndex(0,1)\n",
    "print(obj.get(0))\n",
    "print(obj.get(1))\n",
    "obj = LinkedList()\n",
    "obj.addAtTail(4)\n",
    "obj.addAtTail(5)\n",
    "obj.addAtTail(6)\n",
    "obj.addAtHead(3)\n",
    "obj.addAtIndex(1,2)\n",
    "print(obj.get(0))\n",
    "#obj.show()"
   ]
  },
  {
   "cell_type": "code",
   "execution_count": 3,
   "metadata": {},
   "outputs": [
    {
     "name": "stdout",
     "output_type": "stream",
     "text": [
      "Counter({'h': 2, 'S': 1, 'i': 1, 'k': 1, 'a': 1})\n",
      "Shi\n"
     ]
    }
   ],
   "source": [
    "s = \"Shikha\"\n",
    "import collections\n",
    "Dict = collections.Counter(s)\n",
    "print(Dict)\n",
    "print(s[0:3])"
   ]
  },
  {
   "cell_type": "code",
   "execution_count": 36,
   "metadata": {},
   "outputs": [],
   "source": [
    "l,r=0,0\n",
    "maxlen =0 \n",
    "def longestPalindrome(s):\n",
    "    \"\"\"\n",
    "    :type s: str\n",
    "    :rtype: str\n",
    "    \"\"\"\n",
    "    global maxlen, l,r\n",
    "    if (len(s)<2):\n",
    "        return s\n",
    "    for i in range(len(s)):\n",
    "        extendPalindrome(i,i)\n",
    "        extendPalindrome(i,i+1)\n",
    "    print(maxlen,l,r)\n",
    "    return s[l:r+1]\n",
    "\n",
    "def extendPalindrome(i,j):\n",
    "    global maxlen, l,r\n",
    "    while(i>=0 and j<len(s) and s[i]==s[j]):\n",
    "        i=i-1\n",
    "        j=j+1\n",
    "        print(i,j)\n",
    "    \n",
    "    if(maxlen < j-i+1):\n",
    "       # print(\"m: \",i,j)\n",
    "        l,r=i+1,j+1\n",
    "        maxlen = j-i+1"
   ]
  },
  {
   "cell_type": "code",
   "execution_count": 52,
   "metadata": {},
   "outputs": [
    {
     "name": "stdout",
     "output_type": "stream",
     "text": [
      "aba\n",
      "aba\n"
     ]
    }
   ],
   "source": [
    "def longestPalindrome(s):\n",
    "    \"\"\"\n",
    "    :type s: str\n",
    "    :rtype: str\n",
    "    \"\"\"\n",
    "    l,r,maxlen =0,0,0\n",
    "    if (len(s)<2):\n",
    "        return s\n",
    "    for i in range(len(s)):\n",
    "        l,r,maxlen=extendPalindrome(s,i,i,l,r,maxlen)\n",
    "        l,r,maxlen=extendPalindrome(s,i,i+1,l,r,maxlen)\n",
    "    return s[l:r+1]\n",
    "\n",
    "def extendPalindrome(s,i,j,l,r,maxlen):\n",
    "    while(i>=0 and j<len(s) and s[i]==s[j]):\n",
    "        i=i-1\n",
    "        j=j+1\n",
    "\n",
    "    if(maxlen <= j-i+1):\n",
    "        l,r=i+1,j-1\n",
    "        maxlen = j-i+1\n",
    "\n",
    "    return l,r,maxlen    \n",
    "print(longestPalindrome(\"abac\"))\n",
    "print(longestPalindrome(\"babad\"))\n"
   ]
  },
  {
   "cell_type": "code",
   "execution_count": 97,
   "metadata": {},
   "outputs": [
    {
     "name": "stdout",
     "output_type": "stream",
     "text": [
      "[0, 1]\n",
      "[3, 4]\n"
     ]
    }
   ],
   "source": [
    " def twoSum(nums, target):\n",
    "        d ={}\n",
    "        for i in range(len(nums)):\n",
    "            p1 = nums[i]\n",
    "            po = target - p1\n",
    "            if (po in d):\n",
    "                return [d[po],i]\n",
    "            \n",
    "            d[nums[i]] = i\n",
    "        return [-1,-1]\n",
    "print(twoSum([3,3],6))            \n",
    "print(twoSum([3,1,3,4,7],11))"
   ]
  },
  {
   "cell_type": "code",
   "execution_count": 137,
   "metadata": {},
   "outputs": [
    {
     "name": "stdout",
     "output_type": "stream",
     "text": [
      "True\n"
     ]
    }
   ],
   "source": [
    "# Definition for a binary tree node.\n",
    "class TreeNode(object):\n",
    "    def __init__(self, x,left,right):\n",
    "         self.val = x\n",
    "         self.left = left\n",
    "         self.right = right\n",
    "\n",
    "\n",
    "def isValidBST1(root):\n",
    "    \"\"\"\n",
    "    :type root: TreeNode\n",
    "    :rtype: bool\n",
    "    \"\"\"\n",
    "    return isValidBST(root, float(\"-inf\"), float(\"inf\"))\n",
    "\n",
    "def isValidBST(root, mini, maxi):\n",
    "    if (root == None):\n",
    "        return True\n",
    "    if (root.val >= maxi or root.val <= mini ):\n",
    "        return False\n",
    "    \n",
    "    return (isValidBST(root.left,  mini,root.val ) and isValidBST(root.right, root.val, maxi))\n",
    "\n",
    "\n",
    "node_l = TreeNode(1,None,None)\n",
    "node_r = TreeNode(3,None,None)\n",
    "root = TreeNode(2,node_l,node_r)\n",
    "print(isValidBST1(root))"
   ]
  },
  {
   "cell_type": "code",
   "execution_count": 118,
   "metadata": {},
   "outputs": [],
   "source": [
    "# Definition for a binary tree node.\n",
    "# class TreeNode(object):\n",
    "#     def __init__(self, x):\n",
    "#         self.val = x\n",
    "#         self.left = None\n",
    "#         self.right = None\n",
    "\n",
    "class Solution(object):\n",
    "    def isValidBST(self, root):\n",
    "        \"\"\"\n",
    "        :type root: TreeNode\n",
    "        :rtype: bool\n",
    "        \"\"\"\n",
    "        \n",
    "        if root == None :\n",
    "            return True:\n",
    "        \n",
    "        \n",
    "        while(root.left != None or root.right != None):\n",
    "            if(root.left != None):\n",
    "                if (root.left.val <=root.val):\n",
    "                    root = root.left\n",
    "                    #l = self.isValidBST(root.left)\n",
    "                else: \n",
    "                    l= False\n",
    "            if(root.right != None):\n",
    "                if (root.right.val >=root.val):\n",
    "                    root = root.right\n",
    "                    #r = self.isValidBST(root.right)                    \n",
    "                else:\n",
    "                    r= False\n",
    "                    \n",
    "                \n",
    "        return (self.isValidBST(root.left) and self.isValidBST(root.right) )    \n",
    "        "
   ]
  },
  {
   "cell_type": "code",
   "execution_count": 209,
   "metadata": {},
   "outputs": [
    {
     "name": "stdout",
     "output_type": "stream",
     "text": [
      "Counter({'bob': 1})\n",
      "bob\n"
     ]
    }
   ],
   "source": [
    "def mostCommonWord( paragraph, banned):\n",
    "    \"\"\"\n",
    "    :type paragraph: str\n",
    "    :type banned: List[str]\n",
    "    :rtype: str\n",
    "    \"\"\"\n",
    "    para=\"\"\n",
    "    for e in paragraph:\n",
    "        if e.isalnum():\n",
    "            para = para+e\n",
    "        else:\n",
    "            para = para+\" \"\n",
    "    para = para.lower()\n",
    "    \n",
    "               \n",
    "    dic = collections.Counter(para.split())\n",
    "    max_count = float('-inf')\n",
    "    mc=''\n",
    "    print(dic)\n",
    "    for word in dic:\n",
    "      \n",
    "        if max_count < dic[word] and word not in banned:\n",
    "            max_count = dic[word]\n",
    "            mc=word\n",
    "            \n",
    "\n",
    "    return mc                \n",
    "\n",
    "\n",
    "paragraph = \"Bob hit a ball, the hit BALL flew far after it was hit.\"\n",
    "banned = [\"hit\"]\n",
    "paragraph =\"a, a, a, a, b,b,b,c, c\"\n",
    "banned=[\"a\"]\n",
    "paragraph =[\"bob\"]\n",
    "banned=[]\n",
    "#print(mostCommonWord( paragraph, banned))"
   ]
  },
  {
   "cell_type": "code",
   "execution_count": 190,
   "metadata": {},
   "outputs": [],
   "source": [
    "a = \"a\"\n",
    "b= ','.join(a)"
   ]
  },
  {
   "cell_type": "code",
   "execution_count": 210,
   "metadata": {},
   "outputs": [
    {
     "name": "stdout",
     "output_type": "stream",
     "text": [
      "[4, 5]\n"
     ]
    }
   ],
   "source": [
    "b=[4]\n",
    "b.append(5)\n",
    "print(b)"
   ]
  },
  {
   "cell_type": "code",
   "execution_count": 26,
   "metadata": {},
   "outputs": [
    {
     "name": "stdout",
     "output_type": "stream",
     "text": [
      "63245986\n"
     ]
    }
   ],
   "source": [
    "  def climbStairs(n):\n",
    "        \"\"\"\n",
    "        :type n: int\n",
    "        :rtype: int\n",
    "        \"\"\"\n",
    "        if n<=2:\n",
    "            return n\n",
    "        \n",
    "        return (climbStairs(n-1) +climbStairs(n-2))\n",
    "    \n",
    "print(climbStairs(38))\n",
    "        \n",
    "            "
   ]
  },
  {
   "cell_type": "code",
   "execution_count": 22,
   "metadata": {},
   "outputs": [
    {
     "name": "stdout",
     "output_type": "stream",
     "text": [
      "-2\n"
     ]
    }
   ],
   "source": [
    "def maxSubArray(nums):\n",
    "        max_sum = nums[0]\n",
    "        rec_sum = 0\n",
    "        for i in range(0,len(nums)):\n",
    "            rec_sum = rec_sum +nums[i]\n",
    "                \n",
    "            if(rec_sum > max_sum):\n",
    "                 max_sum =rec_sum\n",
    "                    \n",
    "            if (rec_sum < 0) :\n",
    "                rec_sum = 0\n",
    "            \n",
    "                    \n",
    "        return max_sum                    \n",
    "\n",
    "print(maxSubArray([-2]))            \n",
    "            "
   ]
  },
  {
   "cell_type": "code",
   "execution_count": 74,
   "metadata": {},
   "outputs": [
    {
     "name": "stdout",
     "output_type": "stream",
     "text": [
      "20\n",
      "-2\n",
      "-3\n",
      "0\n",
      "2\n",
      "4\n",
      "3\n"
     ]
    }
   ],
   "source": [
    " def maxProduct(nums):\n",
    "        max_prod = nums[0]\n",
    "        rec_prod1=1\n",
    "        rec_prod2=1\n",
    "        for i in range(0,len(nums)):\n",
    "            rec_prod1= rec_prod1*nums[i]  #2\n",
    "            #rec_prod2= rec_prod2*nums[i]\n",
    "            max_prod = max(rec_prod1,max_prod)#,rec_prod2)\n",
    "            if(nums[i]==0 or rec_prod1<0):\n",
    "                rec_prod1 =1\n",
    "           # if(nums[i]==0 and rec_prod2>0):\n",
    "                rec_prod2=1\n",
    "        rec_prod1=1\n",
    "        \n",
    "        #rec_prod2=1\n",
    "               \n",
    "        for i in range(len(nums)-1,-1,-1):\n",
    "            rec_prod1= rec_prod1*nums[i]  #2\n",
    "           # rec_prod2= rec_prod2*nums[i]\n",
    "            max_prod = max(rec_prod1,max_prod)#,rec_prod2)\n",
    "            if(nums[i]==0 or rec_prod1<0):\n",
    "                rec_prod1 =1\n",
    "           # if(nums[i]==0 and rec_prod2>0):\n",
    "            #    rec_prod2=1\n",
    "        return max_prod   \n",
    "    \n",
    "nums = [2,3,-2,4,5]\n",
    "print(maxProduct(nums))\n",
    "nums = [-2]\n",
    "print(maxProduct(nums))\n",
    "nums = [-4,-3]\n",
    "print(maxProduct(nums))\n",
    "nums = [-2,0,-1]\n",
    "print(maxProduct(nums))\n",
    "nums = [0,2]\n",
    "print(maxProduct(nums))\n",
    "nums = [3,-1,4]\n",
    "print(maxProduct(nums))\n",
    "nums =[2,-5,-2,-4,3]\n",
    "print(maxProduct(nums))"
   ]
  },
  {
   "cell_type": "code",
   "execution_count": 55,
   "metadata": {},
   "outputs": [
    {
     "data": {
      "text/plain": [
       "3"
      ]
     },
     "execution_count": 55,
     "metadata": {},
     "output_type": "execute_result"
    }
   ],
   "source": [
    "max(2,3)"
   ]
  },
  {
   "cell_type": "code",
   "execution_count": 75,
   "metadata": {},
   "outputs": [
    {
     "name": "stdout",
     "output_type": "stream",
     "text": [
      "20\n",
      "-2\n",
      "12\n",
      "0\n",
      "2\n",
      "4\n",
      "24\n"
     ]
    }
   ],
   "source": [
    " def maxProduct(nums):\n",
    "        max_prod = nums[0]\n",
    "        rec_prod1=1\n",
    "        rec_prod2=1\n",
    "        for i in range(0,len(nums)):\n",
    "            rec_prod1= rec_prod1*nums[i]  #2\n",
    "            rec_prod2= rec_prod2*nums[i]\n",
    "            max_prod = max(rec_prod1,max_prod,rec_prod2)\n",
    "            if(nums[i]==0 or rec_prod1<0):\n",
    "                rec_prod1 =1\n",
    "            if(nums[i]==0 and rec_prod2>0):\n",
    "                rec_prod2=1\n",
    "        rec_prod1=1\n",
    "        \n",
    "        rec_prod2=1\n",
    "               \n",
    "        for i in range(len(nums)-1,-1,-1):\n",
    "            rec_prod1= rec_prod1*nums[i]  #2\n",
    "            rec_prod2= rec_prod2*nums[i]\n",
    "            max_prod = max(rec_prod1,max_prod,rec_prod2)\n",
    "            if(nums[i]==0 or rec_prod1<0):\n",
    "                rec_prod1 =1\n",
    "            if(nums[i]==0 and rec_prod2>0):\n",
    "                rec_prod2=1\n",
    "        return max_prod   \n",
    "    \n",
    "nums = [2,3,-2,4,5]\n",
    "print(maxProduct(nums))\n",
    "nums = [-2]\n",
    "print(maxProduct(nums))\n",
    "nums = [-4,-3]\n",
    "print(maxProduct(nums))\n",
    "nums = [-2,0,-1]\n",
    "print(maxProduct(nums))\n",
    "nums = [0,2]\n",
    "print(maxProduct(nums))\n",
    "nums = [3,-1,4]\n",
    "print(maxProduct(nums))\n",
    "nums =[2,-5,-2,-4,3]\n",
    "print(maxProduct(nums))"
   ]
  },
  {
   "cell_type": "code",
   "execution_count": 85,
   "metadata": {},
   "outputs": [
    {
     "name": "stdout",
     "output_type": "stream",
     "text": [
      "24\n"
     ]
    }
   ],
   "source": [
    "l = [2,3,4]    \n",
    "\n",
    "\n",
    "from numpy import prod\n",
    "print(prod(l))"
   ]
  },
  {
   "cell_type": "code",
   "execution_count": 93,
   "metadata": {},
   "outputs": [
    {
     "name": "stdout",
     "output_type": "stream",
     "text": [
      "20\n",
      "-2\n",
      "12\n",
      "1\n",
      "2\n",
      "4\n",
      "24\n",
      "1\n"
     ]
    }
   ],
   "source": [
    "\n",
    "\n",
    "class Solution(object):\n",
    "    def prod(self,l):\n",
    "            pro=1\n",
    "            for i in range(len(l)):\n",
    "                pro=pro*l[i]\n",
    "            return pro                \n",
    "    def maxProduct(self,nums):\n",
    "        max1 = nums[0]\n",
    "        prod1=1\n",
    "        prod2=1\n",
    "        pdt = self.prod(nums)\n",
    "        l = len(nums)\n",
    "        if(l==1):\n",
    "            return nums[0]\n",
    "        if(pdt>0):\n",
    "            return pdt\n",
    "        if(pdt<0):\n",
    "             for i in range(len(nums)):\n",
    "                    prod1=prod1*nums[i]\n",
    "                    prod2=prod2*nums[l-1-i]\n",
    "                    max1 = max(prod1,prod2,max1)\n",
    "        if(pdt==0):\n",
    "            for i in range(len(nums)):\n",
    "                    prod1=prod1*nums[i]\n",
    "                    prod2=prod2*nums[l-1-i]\n",
    "                    max1 = max(prod1,prod2,max1)\n",
    "                    if (nums[i]==0):\n",
    "                        prod1=1\n",
    "                        max1 = max(max1,0)\n",
    "                    if nums[l-1-i] ==0 :\n",
    "                        prod2=1\n",
    "                        max1 = max(max1,0)\n",
    "        \n",
    "        return max1   \n",
    "\n",
    "nums = [2,3,-2,4,5]\n",
    "print(maxProduct(nums))\n",
    "nums = [-2]\n",
    "print(maxProduct(nums))\n",
    "nums = [-4,-3]\n",
    "print(maxProduct(nums))\n",
    "nums = [-2,0,-1]\n",
    "print(maxProduct(nums))\n",
    "nums = [0,2]\n",
    "print(maxProduct(nums))\n",
    "nums = [3,-1,4]\n",
    "print(maxProduct(nums))\n",
    "nums =[2,-5,-2,-4,3]\n",
    "print(maxProduct(nums))\n",
    "nums = [-3,0,1,-2]\n",
    "print(maxProduct(nums))"
   ]
  },
  {
   "cell_type": "code",
   "execution_count": 45,
   "metadata": {},
   "outputs": [
    {
     "name": "stdout",
     "output_type": "stream",
     "text": [
      "ans: 4\n",
      "ans: 4\n",
      "ans: 4\n"
     ]
    }
   ],
   "source": [
    "import collections\n",
    "def maxSubArrayLen(nums, k):\n",
    "    C=[]\n",
    "    s=0\n",
    "    D ={0:-1}\n",
    "    L=0\n",
    "    for i in range(len(nums)):\n",
    "        s=nums[i]+s\n",
    "        C.append(s)\n",
    "        \n",
    "    for i in range(len(C)):\n",
    "        \n",
    "        p1 = C[i]\n",
    "        p0 = C[i] - k\n",
    "        \n",
    "        if p0 in D:\n",
    "            L = max(L,i-D[p0])\n",
    "            \n",
    "        if p1 not in D:\n",
    "            D[C[i]]=i \n",
    "        \n",
    "    return L\n",
    "\n",
    "# nums = [1, -1, 5, -2, 3]\n",
    "# k= 3         \n",
    "\n",
    "# print(\"ans:\",maxSubArrayLen( nums, k))\n",
    "# nums = [1, 2, 5, 1,-1, 3,4]\n",
    "# k= 7\n",
    "\n",
    "# print(\"ans:\",maxSubArrayLen( nums, k))\n",
    "# nums = [1, -1, 5, 0,3,4]\n",
    "# k= 5\n",
    "# nums=[1,-1,5,-2,3]\n",
    "# k=3\n",
    "# print(\"ans:\",maxSubArrayLen( nums, k))\n",
    "\n",
    "#optimized in one loop\n",
    "def maxSubArrayLen( nums, k):\n",
    "    ans, acc = 0, 0               # answer and the accumulative value of nums\n",
    "    mp = {0:-1}                 #key is acc value, and value is the index\n",
    "    for i in range(len(nums)):\n",
    "        acc += nums[i]\n",
    "        if acc not in mp:\n",
    "            mp[acc] = i \n",
    "        if acc-k in mp:\n",
    "            ans = max(ans, i-mp[acc-k])\n",
    "    return ans"
   ]
  },
  {
   "cell_type": "code",
   "execution_count": 55,
   "metadata": {},
   "outputs": [],
   "source": [
    "def minWindow(s, t):\n",
    "    S,T={},{}\n",
    "    count=0\n",
    "    for ch in t:\n",
    "        if ch not in T:\n",
    "            T[ch]=1\n",
    "        else:\n",
    "            T[ch]=+1\n",
    "        count=+1    \n",
    "    start,end  = 0, 0\n",
    "    min_l = len(s)\n",
    "    i=0\n",
    "    while(end!=len(s)-1 and begin!=len(s)-1):\n",
    "        end = i\n",
    "        if (S[i] in T and T[S[i]]!=0):\n",
    "            count=-1\n",
    "            T[S[i]]=T[S[i]]-1\n",
    "        \n",
    "        if (count==0):\n",
    "            min_l = min(min_l,end - start +1)\n",
    "            \n",
    "        \n",
    "        i=+1\n",
    "\n",
    "            "
   ]
  },
  {
   "cell_type": "code",
   "execution_count": 51,
   "metadata": {},
   "outputs": [],
   "source": []
  },
  {
   "cell_type": "code",
   "execution_count": 52,
   "metadata": {},
   "outputs": [
    {
     "data": {
      "text/plain": [
       "{'A': 1, 'B': 1, 'C': 1}"
      ]
     },
     "execution_count": 52,
     "metadata": {},
     "output_type": "execute_result"
    }
   ],
   "source": []
  },
  {
   "cell_type": "code",
   "execution_count": 15,
   "metadata": {},
   "outputs": [
    {
     "name": "stdout",
     "output_type": "stream",
     "text": [
      "0 0\n",
      "{'A': 1, 'B': 1, 'C': 1}\n",
      "0 1\n",
      "{'A': 1, 'B': 1, 'C': 1}\n",
      "0 2\n",
      "{'A': 1, 'B': 1, 'C': 1}\n",
      "0 3\n",
      "{'A': 1, 'B': 1, 'C': 1}\n",
      "0 4\n",
      "{'A': 1, 'B': 1, 'C': 1}\n",
      "0 5\n",
      "{'A': 1, 'B': 1, 'C': 1}\n",
      "0 6\n",
      "{'A': 1, 'B': 1, 'C': 1}\n",
      "0 7\n",
      "{'A': 1, 'B': 1, 'C': 1}\n",
      "0 8\n",
      "{'A': 1, 'B': 1, 'C': 1}\n",
      "0 9\n",
      "{'A': 1, 'B': 1, 'C': 1}\n",
      "0 10\n",
      "{'A': 1, 'B': 1, 'C': 1}\n",
      "0 11\n",
      "{'A': 1, 'B': 1, 'C': 1}\n",
      "0 12\n",
      "{'A': 1, 'B': 1, 'C': 1}\n",
      "13\n"
     ]
    }
   ],
   "source": [
    "def minWindow(s, t):\n",
    "    S,T={},{}\n",
    "    count=0\n",
    "    for ch in t:\n",
    "        if ch not in T:\n",
    "            T[ch]=1\n",
    "        else:\n",
    "            T[ch]=+1\n",
    "        count=+1  \n",
    "    \n",
    "    start,end  = 0, 0\n",
    "    min_l = len(s)\n",
    "    i=0\n",
    "    found =0\n",
    "    while(end!=len(s)):\n",
    "        print(start,end)\n",
    "        print(T)\n",
    "        ch_e = s[end]\n",
    "        ch_b= s[start]\n",
    "        \n",
    "       \n",
    "        if(ch_e in T):\n",
    "            count=-1\n",
    "            found+=1\n",
    "        end+=1\n",
    "        \n",
    "        if (ch_e in T and found==0):\n",
    "            count=-1\n",
    "            T[ch_e]=T[ch_e]-1\n",
    "            found=+1\n",
    "            #start = start\n",
    "        \n",
    "        if (count==0):\n",
    "            min_l = min(min_l,end - start +1)\n",
    "            start=+1\n",
    "            T[ch_b]+=1\n",
    "            count+=1\n",
    "            found+=1\n",
    "            continue\n",
    "            \n",
    "        \n",
    "        \n",
    "        \n",
    "        \n",
    "    return min_l\n",
    "            \n",
    "            \n",
    "s = \"ADOBECODEBANC\"         \n",
    "t=\"ABC\"\n",
    "print(minWindow(s, t))\n"
   ]
  },
  {
   "cell_type": "code",
   "execution_count": null,
   "metadata": {},
   "outputs": [],
   "source": [
    "def minWindow(s, t):\n",
    "    S,T={},{}\n",
    "    count=0\n",
    "    for ch in t:\n",
    "        if ch not in T:\n",
    "            T[ch]=1\n",
    "        else:\n",
    "            T[ch]+=1\n",
    "        count+=1  \n",
    "    \n",
    "    start,end  = 0, 0\n",
    "    min_l = len(s)\n",
    "    i=0\n",
    "    found =0\n",
    "    while(end!=len(s)):\n",
    "        print(start,end,count)\n",
    "        print(T)\n",
    "        ch_e = s[end]\n",
    "        ch_b= s[start]\n",
    "        \n",
    "        if (ch_e in T and found==0):\n",
    "            print(\"f1\")\n",
    "            count-=1\n",
    "            #print(count)\n",
    "            T[ch_e]=T[ch_e]-1\n",
    "            found+=1\n",
    "            start = end\n",
    "            end = end+1\n",
    "            #print(count)\n",
    "            continue\n",
    "            \n",
    "        if(ch_e in T):\n",
    "            print(\"f2\")\n",
    "            count-=1\n",
    "            found+=1\n",
    "            end+=1\n",
    "        if(ch_e not in T):\n",
    "            print(\"f3\")\n",
    "            end+=1\n",
    "        \n",
    "        if (count==0):\n",
    "            print(\"f4\")\n",
    "            min_l = min(min_l,end - start +1)\n",
    "            start+=1\n",
    "            T[ch_b]+=1\n",
    "            count+=1\n",
    "            found+=1\n",
    "            continue\n",
    "    return min_l\n",
    "s = \"ADOBECODEBANC\"         \n",
    "t=\"ABC\"\n",
    "print(minWindow(s, t))"
   ]
  },
  {
   "cell_type": "code",
   "execution_count": 37,
   "metadata": {},
   "outputs": [
    {
     "name": "stdout",
     "output_type": "stream",
     "text": [
      "{0: 1}\n",
      "3\n",
      "{0: 1, 1: 3}\n",
      "{0: 1, 1: 2}\n"
     ]
    }
   ],
   "source": [
    "x ={0:1}\n",
    "x.get(1,3)+1\n",
    "print(x)\n",
    "x[1]=x.get(1,3)\n",
    "print(x.get(2,3))\n",
    "print(x)\n",
    "x[1]=x.pop(1,0)-1\n",
    "print(x)\n",
    "#print(x.pop(2))"
   ]
  },
  {
   "cell_type": "code",
   "execution_count": null,
   "metadata": {},
   "outputs": [],
   "source": [
    "import collections\n",
    "def findAnagrams( s, p):\n",
    "    P = collections.Counter(p)\n",
    "    L = sum(P.values())\n",
    "    S = collections.Counter(s[0:L])\n",
    "    res =[]\n",
    "    if(S==P):\n",
    "        res.append(0)\n",
    "    end = L    \n",
    "    while(end<len(s)):\n",
    "        pos = end-L+1\n",
    "        ch = s[pos]\n",
    "        \n",
    "        if(S[s[end-L]]==1):\n",
    "            del S[s[end-L]]\n",
    "        else:\n",
    "            S[s[end-L]]=S[s[end-L]]-1\n",
    "        \n",
    "        S[s[end]] = S.get(s[end],0)+1\n",
    "        \n",
    "        end+=1\n",
    "        if (S==P):\n",
    "            res.append(pos)\n",
    "            \n",
    "    return res   \n",
    "s= \"cbaebabacd\" \n",
    "p= \"abc\"\n",
    "\n",
    "print(findAnagrams(s, p))\n",
    "s= \"abab\" \n",
    "p= \"ab\"\n",
    "\n",
    "\n",
    "print(findAnagrams(s, p))    "
   ]
  },
  {
   "cell_type": "code",
   "execution_count": 7,
   "metadata": {},
   "outputs": [
    {
     "name": "stdout",
     "output_type": "stream",
     "text": [
      "2\n",
      "[[0, 1], [0, 1], [0, 1]] 2 range(0, 3)\n",
      "[[1, 2], [2, 3], [4, 5]]\n"
     ]
    }
   ],
   "source": [
    "V = [[1,2],[2,3],[4,5]]\n",
    "print(V[0][1])\n",
    "nodes = [[ i for i in range(2)] for j in range(3)]\n",
    "print(nodes, len(V[0]),range(len(V)))\n",
    "nodes = [ [V[j][i] for i in range(len(V[0]))] for j in range(len(V))]\n",
    "print(nodes)"
   ]
  },
  {
   "cell_type": "code",
   "execution_count": 10,
   "metadata": {},
   "outputs": [],
   "source": [
    "\n",
    "V =[]\n",
    "V.append([1,2])"
   ]
  },
  {
   "cell_type": "code",
   "execution_count": 11,
   "metadata": {},
   "outputs": [
    {
     "name": "stdout",
     "output_type": "stream",
     "text": [
      "[[1, 2]]\n"
     ]
    }
   ],
   "source": [
    "print(V)"
   ]
  },
  {
   "cell_type": "code",
   "execution_count": null,
   "metadata": {},
   "outputs": [],
   "source": [
    "#islands #connected components in an undirected graph\n",
    "class Node(object):\n",
    "    def __init__(self, num):\n",
    "        self.num=num\n",
    "        self.start = -1\n",
    "        self.visit =\"\"\n",
    "        self.finish = -1\n",
    "\n",
    "class Graph(object):\n",
    "    def __init__(self, V):\n",
    "        self.V = V\n",
    "        self.nodes = [ [Node(V[i][j])for j in range(len(V[0]))] for i in range(len(V))]\n",
    "    \n",
    "    def DFS(self):\n",
    "        time=0\n",
    "        land =0\n",
    "        V=self.V\n",
    "        for i in range(len(V)):\n",
    "            for j in range(len(V[0])):\n",
    "                self.nodes[i][j].visit=\"white\"\n",
    "        for i in range(len(V)):\n",
    "            for j in range(len(V[0])):\n",
    "                if (self.nodes[i][j].visit==\"white\" and self.nodes[i][j].num ==1):\n",
    "                        self.DFS_visit(i,j,time)\n",
    "                        \n",
    "                        land+=1\n",
    "                        \n",
    "        return land                \n",
    "\n",
    "        \n",
    "    def DFS_visit(self,i,j,time):\n",
    "        time +=1\n",
    "        \n",
    "        self.nodes[i][j].start = time\n",
    "        self.nodes[i][j].visit = \"grey\"\n",
    "        \n",
    "        surrounding_nodes = self.sn(i,j)\n",
    "        for n in surrounding_nodes:\n",
    "            x,y = n[0],n[1]\n",
    "            \n",
    "            if (self.nodes[x][y].visit==\"white\" and self.nodes[x][y].num ==1):\n",
    "                self.DFS_visit(x,y,time)\n",
    "                \n",
    "        self.nodes[i][j].visit =\"black\"\n",
    "        time +=1\n",
    "        self.nodes[i][j].finish = time\n",
    "\n",
    "    def sn(self,i,j):\n",
    "        l1 = [i-1,i,i+1]\n",
    "        l2 = [j-1,j,j+1]\n",
    "        surrounding_nodes=[[i-1,j],[i+1,j],[i,j+1],[i,j-1]]\n",
    "        eligible_sn =[]\n",
    "        V=self.V\n",
    "        for k in range(len(surrounding_nodes)):\n",
    "            nodes=surrounding_nodes[k]\n",
    "            x = nodes[0]\n",
    "            y = nodes[1]\n",
    "            if(x>=0 and y>=0  and y<=len(V[0])-1 and x<=len(V)-1):\n",
    "                if (self.nodes[x][y].num ==1):\n",
    "                    eligible_sn.append([x,y])\n",
    "                    continue\n",
    "        return eligible_sn\n",
    "    \n",
    "def numIslands(grid):\n",
    "    graph = Graph(grid)        \n",
    "    land = graph.DFS()\n",
    "    return land\n",
    "\n",
    "grid=[[1,1,0,0,0],[1,1,0,0,0],[0,0,1,0,0],[0,0,0,1,1]]\n",
    "grid = [[\"1\",\"1\",\"1\",\"1\",\"0\"],[\"1\",\"1\",\"0\",\"1\",\"0\"],[\"1\",\"1\",\"0\",\"0\",\"0\"],[\"0\",\"0\",\"0\",\"0\",\"0\"]]\n",
    "print(numIslands(grid))\n",
    "\n",
    "# 11000\n",
    "# 11000\n",
    "# 00100\n",
    "# 00011"
   ]
  },
  {
   "cell_type": "code",
   "execution_count": 36,
   "metadata": {},
   "outputs": [
    {
     "name": "stdout",
     "output_type": "stream",
     "text": [
      "3\n"
     ]
    }
   ],
   "source": [
    "##islands #optimized code #connected components in an undirected graph\n",
    "def DFS_visit(i,j,V):\n",
    "    if(i>=0 and i<len(V) and j>=0 and j<len(V[0])):\n",
    "        if(V[i][j]==1):\n",
    "            V[i][j]=0\n",
    "            DFS_visit(i-1,j,V)\n",
    "            DFS_visit(i+1,j,V)\n",
    "            DFS_visit(i,j-1,V)\n",
    "            DFS_visit(i,j+1,V)\n",
    "\n",
    "def numIslands(V):\n",
    "    land=0\n",
    "    for i in range(len(V)):\n",
    "        for j in range(len(V[0])):\n",
    "            if (V[i][j]==1):\n",
    "                    DFS_visit(i,j,V)\n",
    "                    land+=1\n",
    "    return land\n",
    "\n",
    "grid=[[1,1,0,0,0],[1,1,0,0,0],[0,0,1,0,0],[0,0,0,1,1]]\n",
    "#grid = [[\"1\",\"1\",\"1\",\"1\",\"0\"],[\"1\",\"1\",\"0\",\"1\",\"0\"],[\"1\",\"1\",\"0\",\"0\",\"0\"],[\"0\",\"0\",\"0\",\"0\",\"0\"]]\n",
    "print(numIslands(grid))\n",
    "\n",
    "# 11000\n",
    "# 11000\n",
    "# 00100\n",
    "# 00011\n"
   ]
  },
  {
   "cell_type": "code",
   "execution_count": 26,
   "metadata": {},
   "outputs": [
    {
     "name": "stdout",
     "output_type": "stream",
     "text": [
      "3\n"
     ]
    }
   ],
   "source": [
    "#connected components in an undirected graph\n",
    "class Node(object):\n",
    "    def __init__(self, num):\n",
    "        self.num=num\n",
    "        self.start = -1\n",
    "        self.visit =\"\"\n",
    "        self.finish = -1\n",
    "\n",
    "class Graph(object):\n",
    "    def __init__(self, V):\n",
    "        self.V = V\n",
    "        self.nodes = [ [Node(V[i][j])for j in range(len(V[0]))] for i in range(len(V))]\n",
    "    \n",
    "    def DFS(self):\n",
    "        time=0\n",
    "        land =0\n",
    "        V=self.V\n",
    "        for i in range(len(V)):\n",
    "            for j in range(len(V[0])):\n",
    "                self.nodes[i][j].visit=\"white\"\n",
    "        for i in range(len(V)):\n",
    "            for j in range(len(V[0])):\n",
    "                if (self.nodes[i][j].visit==\"white\" and self.nodes[i][j].num ==1):\n",
    "                        self.DFS_visit(i,j,time)\n",
    "                        \n",
    "                        land+=1\n",
    "                        \n",
    "        return land                \n",
    "\n",
    "        \n",
    "    def DFS_visit(self,i,j,time):\n",
    "        time +=1\n",
    "        \n",
    "        self.nodes[i][j].start = time\n",
    "        self.nodes[i][j].visit = \"grey\"\n",
    "        \n",
    "        surrounding_nodes = self.sn(i,j)\n",
    "        for n in surrounding_nodes:\n",
    "            x,y = n[0],n[1]\n",
    "            \n",
    "            if (self.nodes[x][y].visit==\"white\" and self.nodes[x][y].num ==1):\n",
    "                self.DFS_visit(x,y,time)\n",
    "                \n",
    "        self.nodes[i][j].visit =\"black\"\n",
    "        time +=1\n",
    "        self.nodes[i][j].finish = time\n",
    "\n",
    "    def sn(self,i,j):\n",
    "        l1 = [i-1,i,i+1]\n",
    "        l2 = [j-1,j,j+1]\n",
    "        surrounding_nodes=[[i-1,j],[i+1,j],[i,j+1],[i,j-1]]\n",
    "        eligible_sn =[]\n",
    "        V=self.V\n",
    "        for k in range(len(surrounding_nodes)):\n",
    "            nodes=surrounding_nodes[k]\n",
    "            x = nodes[0]\n",
    "            y = nodes[1]\n",
    "            if(x>=0 and y>=0  and y<=len(V[0])-1 and x<=len(V)-1):\n",
    "                if (self.nodes[x][y].num ==1):\n",
    "                    eligible_sn.append([x,y])\n",
    "                    continue\n",
    "        return eligible_sn\n",
    "    \n",
    "def numIslands(grid):\n",
    "    graph = Graph(grid)        \n",
    "    land = graph.DFS()\n",
    "    return land\n",
    "\n",
    "grid=[[1,1,0,0,0],[1,1,0,0,0],[0,0,1,0,0],[0,0,0,1,1]]\n",
    "grid = [[\"1\",\"1\",\"1\",\"1\",\"0\"],[\"1\",\"1\",\"0\",\"1\",\"0\"],[\"1\",\"1\",\"0\",\"0\",\"0\"],[\"0\",\"0\",\"0\",\"0\",\"0\"]]\n",
    "print(numIslands(grid))\n",
    "\n",
    "# 11000\n",
    "# 11000\n",
    "# 00100\n",
    "# 00011\n"
   ]
  },
  {
   "cell_type": "code",
   "execution_count": 92,
   "metadata": {},
   "outputs": [
    {
     "name": "stdout",
     "output_type": "stream",
     "text": [
      "678\n"
     ]
    },
    {
     "data": {
      "text/plain": [
       "4"
      ]
     },
     "execution_count": 92,
     "metadata": {},
     "output_type": "execute_result"
    }
   ],
   "source": [
    "def multiply( num1, num2):\n",
    "    \n",
    "    n1 =convertToNum(num1)\n",
    "    n2 =convertToNum(num2)\n",
    "    n = n1*n2\n",
    "    s = convertToString(n)\n",
    "    return s\n",
    "    \n",
    "def convertToNum(num):\n",
    "    n=0\n",
    "    L = len(num)\n",
    "    for i in range(len(num)-1,-1,-1):\n",
    "        n = int(num[i])*(10**(L-i-1)) + n \n",
    "    return n    \n",
    "\n",
    "def convertToString(n):\n",
    "    L=n\n",
    "    s=\"\"\n",
    "    while(n!=0):\n",
    "        r= n%10\n",
    "        n=n//10\n",
    "        s=str(r)+s\n",
    "        \n",
    "    return s\n",
    "\n",
    "\n",
    "print(convertToNum(\"678\"))\n",
    "int(\"4\")    "
   ]
  },
  {
   "cell_type": "code",
   "execution_count": 43,
   "metadata": {},
   "outputs": [
    {
     "name": "stdout",
     "output_type": "stream",
     "text": [
      "0\n",
      "1\n",
      "3\n",
      "3\n",
      "5\n"
     ]
    }
   ],
   "source": [
    "#initialize \n",
    "#i...j\n",
    "#if ch in D..reinitialize D and i==j , update max\n",
    "#if not D[]\n",
    "\n",
    "def lengthOfLongestSubstring(s):\n",
    "        i,j= 0,0\n",
    "        max_l = j-i+1\n",
    "        D={}\n",
    "        if(len(s)==0):\n",
    "            return 0\n",
    "        while(j<len(s)):\n",
    "            ch = s[j]\n",
    "            if ch in D:\n",
    "                max_l=max(max_l,j-i)\n",
    "                i=D[ch]+1\n",
    "                for c in list(D):\n",
    "                    if D[c] <=i-1:\n",
    "                        del D[c]\n",
    "            else:\n",
    "                max_l = max(max_l,j-i+1)\n",
    "            D[ch]=j\n",
    "            #print(j,ch,max_l,D,i)\n",
    "            j=j+1\n",
    "            \n",
    "            \n",
    "        return max_l\n",
    "print(lengthOfLongestSubstring(\"\"))   \n",
    "print(lengthOfLongestSubstring(\"w\"))        \n",
    "print(lengthOfLongestSubstring(\"pwwkew\"))    \n",
    "print(lengthOfLongestSubstring(\"dvdf\"))\n",
    "print(lengthOfLongestSubstring(\"nfpdmpi\"))"
   ]
  },
  {
   "cell_type": "code",
   "execution_count": null,
   "metadata": {},
   "outputs": [],
   "source": [
    "def mergeTwoLists( l1, l2):\n",
    "    prev = ListNode(-1)\n",
    "    head = prev \n",
    "    if (l1==None and l2==None):\n",
    "        return None\n",
    "    while(l1!=None and l2!=None):\n",
    "        if(l1.val <= l2.val):\n",
    "            prev.next = l1\n",
    "            l1 = l1.next\n",
    "        else: \n",
    "            prev.next = l2\n",
    "            l2 = l2.next\n",
    "        prev=prev.next\n",
    "    prev.next =l1 or l2        \n",
    "    head = head.next \n",
    "    return head\n",
    "\n",
    "\n",
    "# recursively    \n",
    "def mergeTwoLists2(self, l1, l2):\n",
    "    if not l1 or not l2:\n",
    "        return l1 or l2\n",
    "    if l1.val < l2.val:\n",
    "        l1.next = self.mergeTwoLists(l1.next, l2)\n",
    "        return l1\n",
    "    else:\n",
    "        l2.next = self.mergeTwoLists(l1, l2.next)\n",
    "        return l2\n",
    "        \n",
    "# in-place, iteratively        \n",
    "def mergeTwoLists(self, l1, l2):\n",
    "    if None in (l1, l2):\n",
    "        return l1 or l2\n",
    "    dummy = cur = ListNode(0)\n",
    "    dummy.next = l1\n",
    "    while l1 and l2:\n",
    "        if l1.val < l2.val:\n",
    "            l1 = l1.next\n",
    "        else:\n",
    "            nxt = cur.next\n",
    "            cur.next = l2\n",
    "            tmp = l2.next\n",
    "            l2.next = nxt\n",
    "            l2 = tmp\n",
    "        cur = cur.next\n",
    "    cur.next = l1 or l2\n",
    "    return dummy.next"
   ]
  },
  {
   "cell_type": "code",
   "execution_count": null,
   "metadata": {},
   "outputs": [],
   "source": [
    "def myPow(x, n):\n",
    "    if n==0:\n",
    "        return 1\n",
    "    if n==1:\n",
    "        return x\n",
    "    \n",
    "    prod = myPow(x,n//2)\n",
    "    m = myPow(x,n%2)\n",
    "    return prod*prod*m\n",
    "print(myPow(2,10))"
   ]
  },
  {
   "cell_type": "code",
   "execution_count": null,
   "metadata": {},
   "outputs": [],
   "source": [
    "def search( nums, target):\n",
    "        i =0 \n",
    "        \n",
    "        j = len(nums) -1\n",
    "        \n",
    "        \n",
    "        while(i<j):\n",
    "            mid = (i+j)//2\n",
    "            \n",
    "            if(nums[mid]==target):\n",
    "               \n",
    "                return mid\n",
    "            \n",
    "            if nums[i]<=target< nums[mid]:\n",
    "                j =mid-1\n",
    "                \n",
    "            else :\n",
    "                if nums[mid]>target<=nums[j]:\n",
    "                    j = mid+1 \n",
    "            \n",
    "nums =[4,5,6,7,0,1,2]\n",
    "target =0\n",
    "print(search( nums, target))"
   ]
  },
  {
   "cell_type": "code",
   "execution_count": 4,
   "metadata": {},
   "outputs": [],
   "source": [
    "def threeSum( nums):\n",
    "    \"\"\"\n",
    "    :type nums: List[int]\n",
    "    :rtype: List[List[int]]\n",
    "    \"\"\"\n",
    "    res =[]\n",
    "    nums.sort()\n",
    "    for i in range(len(nums)):\n",
    "\n",
    "        tar1 = 0-nums[i]\n",
    "        D ={}\n",
    "        for j in range(i+1,len(nums)):\n",
    "\n",
    "            p1 = nums[j]\n",
    "            p0 = tar1-nums[j]\n",
    "\n",
    "            if p0 in D:\n",
    "                triplet =  [nums[j],nums[i],p0]\n",
    "                triplet.sort()\n",
    "\n",
    "                if triplet not in res:\n",
    "                    res.append(triplet)\n",
    "\n",
    "            if p1 not in D:\n",
    "                D[p1] = j\n",
    "\n",
    "    return res"
   ]
  },
  {
   "cell_type": "code",
   "execution_count": null,
   "metadata": {},
   "outputs": [],
   "source": [
    "#trapping rain water\n",
    "def trap(height):\n",
    "    #print(height)\n",
    "    L= len(height)\n",
    "    d_left,d_right = [0]*L, [0]*L\n",
    "    \n",
    "    depth=[0]*L\n",
    "    ml=0\n",
    "    mr=0\n",
    "    for i in range(L):\n",
    "        ml = max(ml,height[i])\n",
    "        mr = max(mr,height[L-i-1])\n",
    "        d_left[i] = ml - height[i]\n",
    "        d_right[L-i-1] = mr - height[L-i-1]\n",
    "   # print(d_left)\n",
    "   # print(d_right)\n",
    "    for i in range(L):\n",
    "        \n",
    "        depth[i] = min(d_left[i],d_right[i])\n",
    "        #depth[L-i-1] = max(0,d[L-i-1])\n",
    "            \n",
    "    #print(depth)\n",
    "    return sum(depth)         \n",
    "\n",
    "height = [0,1,2,1,0,1,3,2,1,2,1]\n",
    "print(trap(height))        \n",
    "height = [0,1,0,2,1,0,1,3,2,1,2,1]\n",
    "print(trap(height))        \n",
    "\n",
    "\n",
    "        "
   ]
  },
  {
   "cell_type": "code",
   "execution_count": 31,
   "metadata": {},
   "outputs": [
    {
     "data": {
      "text/plain": [
       "True"
      ]
     },
     "execution_count": 31,
     "metadata": {},
     "output_type": "execute_result"
    }
   ],
   "source": [
    "#paranthesis\n",
    "s =\"[{}{}(())]\"\n",
    "\n",
    "def isValid( s):\n",
    "    stack=[]\n",
    "    mapping1 = { '{':'}','(':')','[':']'}\n",
    "    mapping2 = { '}':'{',')':'(',']':'['}\n",
    "    for x in s:\n",
    "        if x in mapping1:\n",
    "            stack.append(x)\n",
    "            \n",
    "        if x not in mapping1:\n",
    "            b=stack.pop()\n",
    "            if(mapping1[b]!=x):\n",
    "                return False\n",
    "            \n",
    "       \n",
    "    return (stack==[])\n",
    "isValid(s)          "
   ]
  },
  {
   "cell_type": "code",
   "execution_count": 32,
   "metadata": {},
   "outputs": [
    {
     "name": "stdout",
     "output_type": "stream",
     "text": [
      "[1, 2]\n"
     ]
    }
   ],
   "source": [
    "l=[1,2,3]\n",
    "x=l.pop()\n",
    "print(l)"
   ]
  },
  {
   "cell_type": "code",
   "execution_count": 30,
   "metadata": {},
   "outputs": [
    {
     "name": "stdout",
     "output_type": "stream",
     "text": [
      "5\n",
      "0\n",
      "6\n",
      "0\n"
     ]
    }
   ],
   "source": [
    "def maxProfit(prices):\n",
    "    Min,Max,max_price = float('inf'),float('-inf'),-1\n",
    "    D={}\n",
    "    \n",
    "    L=len(prices)\n",
    "    min_array,max_array=[0]*L,[0]*L\n",
    "    for i in range(len(prices)):\n",
    "        Min=min(Min,prices[i])\n",
    "        min_array[i]=Min\n",
    "        Max=max(Max,prices[L-i-1])\n",
    "        max_array[L-i-1]=Max\n",
    "    \n",
    "    for i in range(len(prices)):\n",
    "        \n",
    "        max_price=max(max_price,max_array[i]-min_array[i])\n",
    "    return max_price\n",
    "\n",
    "\n",
    "prices =[7,1,5,3,6,4]\n",
    "print(maxProfit(prices))\n",
    "prices =[7,6,5,4,3,2,1]\n",
    "print(maxProfit(prices))\n",
    "prices =[7,2,8,1,6,4]\n",
    "print(maxProfit(prices))\n",
    "prices =[10,8,7,6,5]\n",
    "print(maxProfit(prices))"
   ]
  },
  {
   "cell_type": "code",
   "execution_count": 74,
   "metadata": {},
   "outputs": [],
   "source": [
    "#quantum \n",
    "# n=10\n",
    "# import pandas as pd\n",
    "# data = pd.read_csv('sample.csv')\n",
    "# data['Typical Price'] = (data['Low']+data['Close'] +data['High'])/3\n",
    "# for i in range(1, len(data)):\n",
    "#     if (data.loc[i, 'Typical Price']-data.loc[i-1, 'Typical Price']>0):\n",
    "#         data.loc[i, 'Positive Money Flow'] = data.loc[i, 'Typical Price'] * data.loc[i, 'Volume'] \n",
    "#         data.loc[i, 'Negative Money Flow'] = 0\n",
    "        \n",
    "#    # if (data.loc[i, 'Typical Price']-data.loc[i-1, 'Typical Price']>0):\n",
    "#     else:\n",
    "#         data.loc[i, 'Negative Money Flow'] = data.loc[i, 'Typical Price'] * data.loc[i, 'Volume'] \n",
    "#         data.loc[i, 'Positive Money Flow'] = 0\n",
    "# #for i in range(11, len(data)):\n",
    "# data['Positive Money Flow Sum']=data['Positive Money Flow'].rolling(n).sum()\n",
    "# data['Negative Money Flow Sum']=data['Negative Money Flow'].rolling(n).sum()\n",
    "\n",
    "# data['Money Ratio']=data['Positive Money Flow Sum']/data['Negative Money Flow Sum']\n",
    "# data['Money Flow Index']=data['Money Ratio']*100/(1+data['Money Ratio'])\n",
    "        \n",
    "# data=data.drop(columns=['Money Ratio'])\n",
    "# for i in range(1, len(data)):\n",
    "#     if data.loc[i, 'Negative Money Flow'] == 0:\n",
    "#         data.loc[i, 'Negative Money Flow']=''\n",
    "#     if data.loc[i, 'Positive Money Flow'] == 0:\n",
    "#         data.loc[i, 'Positive Money Flow']=''\n",
    "\n",
    "        \n",
    "# data =data.fillna('')"
   ]
  },
  {
   "cell_type": "code",
   "execution_count": 29,
   "metadata": {},
   "outputs": [],
   "source": [
    "#print(data)"
   ]
  },
  {
   "cell_type": "code",
   "execution_count": 34,
   "metadata": {},
   "outputs": [],
   "source": [
    "def findUnsortedSubarray(nums):\n",
    "    \n",
    "    m=0\n",
    "    for i in range(1,len(nums)):\n",
    "        if nums    return m"
   ]
  },
  {
   "cell_type": "code",
   "execution_count": 35,
   "metadata": {},
   "outputs": [
    {
     "data": {
      "text/plain": [
       "6"
      ]
     },
     "execution_count": 35,
     "metadata": {},
     "output_type": "execute_result"
    }
   ],
   "source": [
    "nums = [2, 6, 4, 8, 10, 9, 15]\n",
    "findUnsortedSubarray(nums)"
   ]
  },
  {
   "cell_type": "code",
   "execution_count": null,
   "metadata": {},
   "outputs": [],
   "source": []
  }
 ],
 "metadata": {
  "kernelspec": {
   "display_name": "Python 3",
   "language": "python",
   "name": "python3"
  },
  "language_info": {
   "codemirror_mode": {
    "name": "ipython",
    "version": 3
   },
   "file_extension": ".py",
   "mimetype": "text/x-python",
   "name": "python",
   "nbconvert_exporter": "python",
   "pygments_lexer": "ipython3",
   "version": "3.6.5"
  }
 },
 "nbformat": 4,
 "nbformat_minor": 2
}
