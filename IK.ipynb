{
 "cells": [
  {
   "cell_type": "code",
   "execution_count": 31,
   "id": "duplicate-tower",
   "metadata": {},
   "outputs": [
    {
     "data": {
      "text/plain": [
       "[1, 2, 3, 4, 5, 6, 8]"
      ]
     },
     "execution_count": 31,
     "metadata": {},
     "output_type": "execute_result"
    }
   ],
   "source": [
    "#Quicksort in place Lamuto's\n",
    "\n",
    "def qs(A, start, end):\n",
    "    if start >= end:\n",
    "        return \n",
    "    #print(A, start, end)\n",
    "    smaller, bigger = start, start #pivot is the first element\n",
    "    pivot = A[start] \n",
    "    #pivot is random\n",
    "    #pivot = A[random.randint(start,end)]\n",
    "    \n",
    "    for bigger in range(start+1, end+1):\n",
    "        if A[bigger] < pivot:\n",
    "            smaller+=1      \n",
    "            A[smaller], A[bigger]= A[bigger],  A[smaller]\n",
    "            \n",
    "    A[start], A[smaller]=   A[smaller],  A[start]\n",
    "    \n",
    "    qs(A, start, smaller-1)\n",
    "    qs(A, smaller+1, end)\n",
    "        \n",
    "def Quicksort(A):\n",
    "    qs(A, 0, len(A)-1)\n",
    "    return A\n",
    "\n",
    "A = [4,2,6,8,5,1,3]\n",
    "Quicksort(A)"
   ]
  },
  {
   "cell_type": "code",
   "execution_count": 32,
   "id": "compound-mystery",
   "metadata": {},
   "outputs": [],
   "source": [
    "#Quicksort in place Hoar's\n",
    "def qsort(l, start, end):\n",
    "    if start >= end:\n",
    "        return\n",
    "    pivot = A[start]\n",
    "    smaller = start +1 \n",
    "    bigger = end\n",
    "    while smaller <=bigger:\n",
    "        if A[smaller]<pivot:\n",
    "            smaller+=1\n",
    "        if A[bigger]>pivot:\n",
    "            bigger-=1\n",
    "        else:\n",
    "            A[smaller], A[bigger]= A[bigger], A[smaller]\n",
    "            smaller+=1\n",
    "            bigger-=1\n",
    "            \n",
    "\n",
    "\n",
    "    qsort(l, start, smaller - 1)\n",
    "    qsort(l, smaller + 1, end)\n",
    "\n",
    "def quicksort(A):\n",
    "    qsort(A,0,len(A)-1)\n",
    "    return A\n",
    "\n",
    "quicksort(A)"
   ]
  },
  {
   "cell_type": "code",
   "execution_count": 14,
   "id": "special-parcel",
   "metadata": {},
   "outputs": [
    {
     "data": {
      "text/plain": [
       "[1, 2, 3, 4, 5, 6, 8]"
      ]
     },
     "execution_count": 14,
     "metadata": {},
     "output_type": "execute_result"
    }
   ],
   "source": [
    "### MergeSort\n",
    "\n",
    "def merge(arr, start, end, mid):\n",
    "    aux = []\n",
    "    i, j = start, mid+1\n",
    "    while i<=mid and j<=end:\n",
    "        if arr[i]<= arr[j]:  ### <= responsible for stability\n",
    "            aux.append(arr[i])\n",
    "            i+=1\n",
    "        else:\n",
    "            aux.append(arr[j])\n",
    "            j+=1\n",
    "\n",
    "    while i<=mid:\n",
    "        aux.append(arr[i])\n",
    "        i+=1\n",
    "    while j<=end:\n",
    "        aux.append(arr[j])\n",
    "        j+=1\n",
    "\n",
    "    arr[start:end+1]=aux\n",
    "#    print(start, end, mid, aux)\n",
    "    return\n",
    "\n",
    "def ms(arr, start, end):\n",
    "    if start>=end:\n",
    "        return \n",
    "    \n",
    "    mid = start+(end-start)//2\n",
    "   \n",
    "    ms(arr, start, mid)\n",
    "    ms(arr, mid+1, end)\n",
    "    merge(arr, start, end, mid)\n",
    "\n",
    "def merge_sort(arr):\n",
    "    \"\"\"\n",
    "    Args:\n",
    "     arr(list_int32)\n",
    "    Returns:\n",
    "     list_int32\n",
    "    \"\"\"\n",
    "    # Write your code here.\n",
    "    \n",
    "    ms(arr, 0, len(arr)-1)\n",
    "    return arr\n",
    "A = [4,2,6,8,5,1,3]\n",
    "merge_sort(A)"
   ]
  },
  {
   "cell_type": "code",
   "execution_count": 34,
   "id": "aa416aa6",
   "metadata": {},
   "outputs": [
    {
     "data": {
      "text/plain": [
       "[[0, 30], [5, 10], [15, 20]]"
      ]
     },
     "execution_count": 34,
     "metadata": {},
     "output_type": "execute_result"
    }
   ],
   "source": [
    "intervals = [[0,30],[5,10],[15,20]]\n",
    "intervals.sort(key=lambda x: x[0])\n",
    "intervals"
   ]
  },
  {
   "cell_type": "code",
   "execution_count": 21,
   "id": "21c2aa0e",
   "metadata": {},
   "outputs": [],
   "source": [
    "\n",
    "def dutch_flag_sort(balls):\n",
    "    \"\"\"\n",
    "    Args:\n",
    "     balls(list_char)\n",
    "    Returns:\n",
    "     list_char\n",
    "    \"\"\"\n",
    "    # Write your code here.\n",
    "    \n",
    "    right = len(balls) -1 \n",
    "    left = 0\n",
    "    curr =0 \n",
    "    while curr<=right:\n",
    "        if balls[right]==\"B\":\n",
    "            right-=1\n",
    "        if balls[left]==\"R\":\n",
    "            left+=1\n",
    "            curr+=1\n",
    "        if balls[curr]==\"G\":\n",
    "            curr+=1\n",
    "        if balls[curr]==\"B\" and balls[right]==\"G\":   \n",
    "            \n",
    "    \n",
    "    return []\n"
   ]
  },
  {
   "cell_type": "code",
   "execution_count": 25,
   "id": "187614b3",
   "metadata": {},
   "outputs": [
    {
     "data": {
      "text/html": [
       "<div>\n",
       "<style scoped>\n",
       "    .dataframe tbody tr th:only-of-type {\n",
       "        vertical-align: middle;\n",
       "    }\n",
       "\n",
       "    .dataframe tbody tr th {\n",
       "        vertical-align: top;\n",
       "    }\n",
       "\n",
       "    .dataframe thead th {\n",
       "        text-align: right;\n",
       "    }\n",
       "</style>\n",
       "<table border=\"1\" class=\"dataframe\">\n",
       "  <thead>\n",
       "    <tr style=\"text-align: right;\">\n",
       "      <th></th>\n",
       "      <th>apples</th>\n",
       "      <th>bananas</th>\n",
       "      <th>cherries</th>\n",
       "      <th>pears</th>\n",
       "    </tr>\n",
       "  </thead>\n",
       "  <tbody>\n",
       "    <tr>\n",
       "      <th>weight</th>\n",
       "      <td>5</td>\n",
       "      <td>8</td>\n",
       "      <td>2</td>\n",
       "      <td>4</td>\n",
       "    </tr>\n",
       "    <tr>\n",
       "      <th>count</th>\n",
       "      <td>20</td>\n",
       "      <td>30</td>\n",
       "      <td>120</td>\n",
       "      <td>16</td>\n",
       "    </tr>\n",
       "  </tbody>\n",
       "</table>\n",
       "</div>"
      ],
      "text/plain": [
       "        apples  bananas  cherries  pears\n",
       "weight       5        8         2      4\n",
       "count       20       30       120     16"
      ]
     },
     "execution_count": 25,
     "metadata": {},
     "output_type": "execute_result"
    }
   ],
   "source": [
    "# pd.read_json(json_index)#, orient=\"split\")"
   ]
  },
  {
   "cell_type": "code",
   "execution_count": 42,
   "id": "1eb024e3",
   "metadata": {},
   "outputs": [
    {
     "name": "stdout",
     "output_type": "stream",
     "text": [
      "0 0 7 ['G', 'B', 'G', 'G', 'R', 'B', 'R', 'G']\n",
      "1 0 7 ['G', 'B', 'G', 'G', 'R', 'B', 'R', 'G']\n",
      "1 0 6 ['G', 'G', 'G', 'G', 'R', 'B', 'R', 'B']\n",
      "2 0 6 ['G', 'G', 'G', 'G', 'R', 'B', 'R', 'B']\n",
      "3 0 6 ['G', 'G', 'G', 'G', 'R', 'B', 'R', 'B']\n",
      "4 0 6 ['G', 'G', 'G', 'G', 'R', 'B', 'R', 'B']\n",
      "4 1 6 ['R', 'G', 'G', 'G', 'G', 'B', 'R', 'B']\n",
      "5 1 6 ['R', 'G', 'G', 'G', 'G', 'B', 'R', 'B']\n",
      "5 1 5 ['R', 'G', 'G', 'G', 'G', 'R', 'B', 'B']\n",
      "5 2 5 ['R', 'R', 'G', 'G', 'G', 'G', 'B', 'B']\n",
      "['R', 'R', 'G', 'G', 'G', 'G', 'B', 'B']\n",
      "_____\n",
      "0 0 7 ['R', 'B', 'G', 'B', 'R', 'B', 'R', 'G']\n",
      "1 1 7 ['R', 'B', 'G', 'B', 'R', 'B', 'R', 'G']\n",
      "1 1 6 ['R', 'G', 'G', 'B', 'R', 'B', 'R', 'B']\n",
      "2 1 6 ['R', 'G', 'G', 'B', 'R', 'B', 'R', 'B']\n",
      "3 1 6 ['R', 'G', 'G', 'B', 'R', 'B', 'R', 'B']\n",
      "3 1 5 ['R', 'G', 'G', 'R', 'R', 'B', 'B', 'B']\n",
      "3 1 4 ['R', 'G', 'G', 'R', 'R', 'B', 'B', 'B']\n",
      "3 2 4 ['R', 'R', 'G', 'G', 'R', 'B', 'B', 'B']\n",
      "4 2 4 ['R', 'R', 'G', 'G', 'R', 'B', 'B', 'B']\n",
      "4 3 4 ['R', 'R', 'R', 'G', 'G', 'B', 'B', 'B']\n",
      "['R', 'R', 'R', 'G', 'G', 'B', 'B', 'B']\n",
      "_____\n",
      "0 0 8 ['G', 'B', 'G', 'G', 'R', 'B', 'R', 'G', 'G']\n",
      "1 0 8 ['G', 'B', 'G', 'G', 'R', 'B', 'R', 'G', 'G']\n",
      "1 0 7 ['G', 'G', 'G', 'G', 'R', 'B', 'R', 'G', 'B']\n",
      "2 0 7 ['G', 'G', 'G', 'G', 'R', 'B', 'R', 'G', 'B']\n",
      "3 0 7 ['G', 'G', 'G', 'G', 'R', 'B', 'R', 'G', 'B']\n",
      "4 0 7 ['G', 'G', 'G', 'G', 'R', 'B', 'R', 'G', 'B']\n",
      "4 1 7 ['R', 'G', 'G', 'G', 'G', 'B', 'R', 'G', 'B']\n",
      "5 1 7 ['R', 'G', 'G', 'G', 'G', 'B', 'R', 'G', 'B']\n",
      "5 1 6 ['R', 'G', 'G', 'G', 'G', 'G', 'R', 'B', 'B']\n",
      "6 1 6 ['R', 'G', 'G', 'G', 'G', 'G', 'R', 'B', 'B']\n",
      "6 2 6 ['R', 'R', 'G', 'G', 'G', 'G', 'G', 'B', 'B']\n",
      "['R', 'R', 'G', 'G', 'G', 'G', 'G', 'B', 'B']\n",
      "_____\n",
      "0 0 8 ['R', 'R', 'G', 'G', 'R', 'B', 'R', 'B', 'G']\n",
      "1 1 8 ['R', 'R', 'G', 'G', 'R', 'B', 'R', 'B', 'G']\n",
      "2 2 8 ['R', 'R', 'G', 'G', 'R', 'B', 'R', 'B', 'G']\n",
      "3 2 8 ['R', 'R', 'G', 'G', 'R', 'B', 'R', 'B', 'G']\n",
      "4 2 8 ['R', 'R', 'G', 'G', 'R', 'B', 'R', 'B', 'G']\n",
      "4 3 8 ['R', 'R', 'R', 'G', 'G', 'B', 'R', 'B', 'G']\n",
      "5 3 8 ['R', 'R', 'R', 'G', 'G', 'B', 'R', 'B', 'G']\n",
      "5 3 7 ['R', 'R', 'R', 'G', 'G', 'G', 'R', 'B', 'B']\n",
      "5 3 6 ['R', 'R', 'R', 'G', 'G', 'G', 'R', 'B', 'B']\n",
      "6 3 6 ['R', 'R', 'R', 'G', 'G', 'G', 'R', 'B', 'B']\n",
      "6 4 6 ['R', 'R', 'R', 'R', 'G', 'G', 'G', 'B', 'B']\n",
      "['R', 'R', 'R', 'R', 'G', 'G', 'G', 'B', 'B']\n",
      "_____\n",
      "0 0 2 ['R', 'G', 'B']\n",
      "0 0 1 ['R', 'G', 'B']\n",
      "1 1 1 ['R', 'G', 'B']\n"
     ]
    },
    {
     "data": {
      "text/plain": [
       "['R', 'G', 'B']"
      ]
     },
     "execution_count": 42,
     "metadata": {},
     "output_type": "execute_result"
    }
   ],
   "source": [
    "\n",
    "def dutch_flag_sort(balls):\n",
    "    \"\"\"\n",
    "    Args:\n",
    "     balls(list_char)\n",
    "    Returns:\n",
    "     list_char\n",
    "    \"\"\"\n",
    "    # Write your code here.\n",
    "    \n",
    "    right = len(balls) -1 \n",
    "    left = 0\n",
    "    curr =0 \n",
    "    while curr<=right:\n",
    "        print(curr, left, right, balls)\n",
    "        if balls[right]==\"B\":\n",
    "            right-=1\n",
    "            continue\n",
    "        if balls[left]==\"R\":\n",
    "            left+=1\n",
    "            curr=left\n",
    "            continue\n",
    "\n",
    "        if balls[curr] == \"G\":\n",
    "            curr+=1\n",
    "        \n",
    "        elif balls[curr]==\"B\": \n",
    "            balls[curr], balls[right]= balls[right], balls[curr]\n",
    "            right-=1\n",
    "\n",
    "        elif balls[curr]==\"R\":\n",
    "            balls[curr], balls[left]= balls[left], balls[curr]\n",
    "            left+=1\n",
    "\n",
    " \n",
    "    return balls\n",
    "\n",
    "balls = [\"G\", \"B\", \"G\", \"G\", \"R\", \"B\", \"R\", \"G\"]\n",
    "print(dutch_flag_sort(balls))\n",
    "print(\"_____\")\n",
    "balls = [\"R\", \"B\", \"G\", \"B\", \"R\", \"B\", \"R\", \"G\"]\n",
    "print(dutch_flag_sort(balls))\n",
    "print(\"_____\")\n",
    "balls = [\"G\", \"B\", \"G\", \"G\", \"R\", \"B\", \"R\", \"G\",\"G\"]\n",
    "print(dutch_flag_sort(balls))\n",
    "print(\"_____\")\n",
    "balls = [\"R\", \"R\", \"G\", \"G\", \"R\", \"B\", \"R\", \"B\",\"G\"]\n",
    "print(dutch_flag_sort(balls))\n",
    "\n",
    "\n",
    "print(\"_____\")\n",
    "balls = [\"R\",\"G\", \"B\",]\n",
    "dutch_flag_sort(balls)"
   ]
  },
  {
   "cell_type": "code",
   "execution_count": 6,
   "id": "0b82a98f",
   "metadata": {},
   "outputs": [
    {
     "data": {
      "text/plain": [
       "{1: 3, 2: 2, 3: 1}"
      ]
     },
     "execution_count": 6,
     "metadata": {},
     "output_type": "execute_result"
    }
   ],
   "source": [
    "nums=[1,1,1,2,2,3]\n",
    "D={}\n",
    "for i in range(len(nums)):\n",
    "    D[nums[i]]=D.get(nums[i],0)+1\n",
    "D\n",
    "    "
   ]
  },
  {
   "cell_type": "code",
   "execution_count": 9,
   "id": "broken-invention",
   "metadata": {},
   "outputs": [
    {
     "data": {
      "text/plain": [
       "Counter({1: 3, 2: 2, 3: 1})"
      ]
     },
     "execution_count": 9,
     "metadata": {},
     "output_type": "execute_result"
    }
   ],
   "source": [
    "import collections,heapq\n",
    "collections.Counter(nums)"
   ]
  },
  {
   "cell_type": "code",
   "execution_count": 18,
   "id": "essential-worry",
   "metadata": {},
   "outputs": [
    {
     "name": "stdout",
     "output_type": "stream",
     "text": [
      "[(-3, 1), (-2, 2), (-1, 3)]\n"
     ]
    },
    {
     "data": {
      "text/plain": [
       "[(-3, 1), (-2, 2), (-1, 3)]"
      ]
     },
     "execution_count": 18,
     "metadata": {},
     "output_type": "execute_result"
    }
   ],
   "source": [
    "heap = [(-count,num) for (num,count) in D.items()]\n",
    "#heap = [-num for (num,count) in D.items()]\n",
    "print(heap)\n",
    "heapq.heapify(heap)\n",
    "heap"
   ]
  },
  {
   "cell_type": "code",
   "execution_count": 15,
   "id": "initial-analyst",
   "metadata": {},
   "outputs": [
    {
     "name": "stdout",
     "output_type": "stream",
     "text": [
      "<class 'list'> [(-3, 1), (-2, 2), (-1, 3)]\n"
     ]
    },
    {
     "ename": "NameError",
     "evalue": "name 'k' is not defined",
     "output_type": "error",
     "traceback": [
      "\u001b[0;31m---------------------------------------------------------------------------\u001b[0m",
      "\u001b[0;31mNameError\u001b[0m                                 Traceback (most recent call last)",
      "\u001b[0;32m<ipython-input-15-f6c08ac51345>\u001b[0m in \u001b[0;36m<module>\u001b[0;34m\u001b[0m\n\u001b[1;32m      1\u001b[0m \u001b[0mL\u001b[0m\u001b[0;34m=\u001b[0m\u001b[0;34m[\u001b[0m\u001b[0;34m]\u001b[0m\u001b[0;34m\u001b[0m\u001b[0;34m\u001b[0m\u001b[0m\n\u001b[1;32m      2\u001b[0m \u001b[0mprint\u001b[0m\u001b[0;34m(\u001b[0m\u001b[0mtype\u001b[0m\u001b[0;34m(\u001b[0m\u001b[0mheap\u001b[0m\u001b[0;34m)\u001b[0m\u001b[0;34m,\u001b[0m\u001b[0mheap\u001b[0m\u001b[0;34m)\u001b[0m\u001b[0;34m\u001b[0m\u001b[0;34m\u001b[0m\u001b[0m\n\u001b[0;32m----> 3\u001b[0;31m \u001b[0;32mfor\u001b[0m \u001b[0mi\u001b[0m \u001b[0;32min\u001b[0m \u001b[0mrange\u001b[0m\u001b[0;34m(\u001b[0m\u001b[0mk\u001b[0m\u001b[0;34m)\u001b[0m\u001b[0;34m:\u001b[0m\u001b[0;34m\u001b[0m\u001b[0;34m\u001b[0m\u001b[0m\n\u001b[0m\u001b[1;32m      4\u001b[0m     \u001b[0mL\u001b[0m\u001b[0;34m.\u001b[0m\u001b[0mappend\u001b[0m\u001b[0;34m(\u001b[0m\u001b[0mheapq\u001b[0m\u001b[0;34m.\u001b[0m\u001b[0mheappop\u001b[0m\u001b[0;34m(\u001b[0m\u001b[0mheap\u001b[0m\u001b[0;34m)\u001b[0m\u001b[0;34m[\u001b[0m\u001b[0;36m1\u001b[0m\u001b[0;34m]\u001b[0m\u001b[0;34m)\u001b[0m\u001b[0;34m\u001b[0m\u001b[0;34m\u001b[0m\u001b[0m\n\u001b[1;32m      5\u001b[0m     \u001b[0mheapq\u001b[0m\u001b[0;34m.\u001b[0m\u001b[0mheapify\u001b[0m\u001b[0;34m(\u001b[0m\u001b[0mheap\u001b[0m\u001b[0;34m)\u001b[0m\u001b[0;34m\u001b[0m\u001b[0;34m\u001b[0m\u001b[0m\n",
      "\u001b[0;31mNameError\u001b[0m: name 'k' is not defined"
     ]
    }
   ],
   "source": [
    "L=[]\n",
    "print(type(heap),heap)\n",
    "for i in range(k):\n",
    "    L.append(heapq.heappop(heap)[1])\n",
    "    heapq.heapify(heap)\n",
    "return L"
   ]
  },
  {
   "cell_type": "code",
   "execution_count": 28,
   "id": "warming-immigration",
   "metadata": {},
   "outputs": [
    {
     "name": "stdout",
     "output_type": "stream",
     "text": [
      "[[], [], [], [], [], [], [], []]\n",
      "{1: 2, 2: 2, 3: 2, 4: 1}\n",
      "[[], [4], [1, 2, 3], [], [], [], [], []]\n",
      "[1, 2]\n"
     ]
    }
   ],
   "source": [
    "nums = [1, 2, 3, 2, 4, 3, 1]\n",
    "k=2\n",
    "count = {}\n",
    "\n",
    "freq = [[] for i in range(len(nums) + 1)]\n",
    "print(freq)\n",
    "for n in nums:\n",
    "    count[n] = 1 + count.get(n,0)\n",
    "print(count)\n",
    "\n",
    "for n, c in count.items():\n",
    "    freq[c].append(n)\n",
    "print(freq)\n",
    "\n",
    "\n",
    "ans = []\n",
    "for i in range (len(freq)-1, 0, -1):\n",
    "    for n in freq[i]:\n",
    "        ans.append(n)\n",
    "        if (len(ans)) == k:\n",
    "               print( ans)\n"
   ]
  },
  {
   "cell_type": "code",
   "execution_count": 2,
   "id": "solar-sydney",
   "metadata": {},
   "outputs": [
    {
     "data": {
      "text/plain": [
       "9"
      ]
     },
     "execution_count": 2,
     "metadata": {},
     "output_type": "execute_result"
    }
   ],
   "source": [
    "#How Many Binary Search Trees With N Nodes\n",
    "#if n==1, res=1; if n==2, res=2; if n==3, res=5\n",
    "\n",
    "def how_many_bsts(n):\n",
    "\n",
    "    # Write your code here.\n",
    "    if n==0:\n",
    "        return 0\n",
    "    if n ==1:\n",
    "        return 1\n",
    "    \n",
    "    nodes = range(1, n+1)\n",
    "    count=0\n",
    " \n",
    "    for i  in range(2, n+1):\n",
    "        l_count = how_many_bsts(i-1)\n",
    "        r_count = how_many_bsts(n-i)\n",
    "        \n",
    "        if l_count!=0 and r_count!=0:\n",
    "            count+=l_count*r_count\n",
    "            \n",
    "        elif l_count ==0:\n",
    "            count+=r_count\n",
    "        elif r_count==0:\n",
    "            count+=l_count\n",
    "    return count\n",
    "\n",
    "how_many_bsts(5)"
   ]
  },
  {
   "cell_type": "code",
   "execution_count": 40,
   "id": "opposed-trance",
   "metadata": {},
   "outputs": [
    {
     "data": {
      "text/plain": [
       "12"
      ]
     },
     "execution_count": 40,
     "metadata": {},
     "output_type": "execute_result"
    }
   ],
   "source": [
    "def how_many_bsts(n):\n",
    "    if n==0:\n",
    "        return 1\n",
    "    if n ==1:\n",
    "        return 1\n",
    "    res=[0]*(n+1)\n",
    "    res[0], res[1]=1,1\n",
    "    \n",
    "    for i  in range(2, n+1):\n",
    "        for j in range(1, i+1):\n",
    "            res[i]+=res[j-1]+res[i-j]\n",
    "\n",
    "    return res[n]\n",
    "how_many_bsts(3)"
   ]
  },
  {
   "cell_type": "code",
   "execution_count": 129,
   "id": "recovered-shade",
   "metadata": {},
   "outputs": [
    {
     "name": "stdout",
     "output_type": "stream",
     "text": [
      "[[3]]\n",
      "[3]\n",
      "[[2, 3], [3, 2]]\n",
      "[2, 3]\n",
      "[3, 2]\n"
     ]
    },
    {
     "data": {
      "text/plain": [
       "[[1, 2, 3], [2, 1, 3], [2, 3, 1], [1, 3, 2], [3, 1, 2], [3, 2, 1]]"
      ]
     },
     "execution_count": 129,
     "metadata": {},
     "output_type": "execute_result"
    }
   ],
   "source": [
    "\n",
    "def get_permutations(arr):\n",
    "\n",
    "    if len(arr)==1:\n",
    "        return [arr]\n",
    "    if len(arr)==0:\n",
    "        return []\n",
    "    \n",
    "    res=[]\n",
    "    prev = get_permutations(arr[1:])\n",
    "\n",
    "    for p in prev:\n",
    "\n",
    "        for i in range(0,len(p)+1):\n",
    "            \n",
    "            res.append(p[:i]+[arr[0]]+p[i:])\n",
    "           \n",
    "    return res\n",
    "\n",
    "get_permutations([1,2,3])"
   ]
  },
  {
   "cell_type": "code",
   "execution_count": 10,
   "id": "bibliographic-applicant",
   "metadata": {},
   "outputs": [
    {
     "data": {
      "text/plain": [
       "'shikh'"
      ]
     },
     "execution_count": 10,
     "metadata": {},
     "output_type": "execute_result"
    }
   ],
   "source": [
    "a=[1,2,3]\n",
    "a[:0]+a[0:]\n",
    "s=\"shikha\"\n",
    "sorted(s)\n",
    "\"shikha\"[:-1]"
   ]
  },
  {
   "cell_type": "code",
   "execution_count": 46,
   "id": "corresponding-forth",
   "metadata": {},
   "outputs": [
    {
     "data": {
      "text/plain": [
       "['', '1', '12', '122', '1223', '123', '13', '2', '22', '223', '23', '3']"
      ]
     },
     "execution_count": 46,
     "metadata": {},
     "output_type": "execute_result"
    }
   ],
   "source": [
    "\n",
    "def get_distinct_subsets(s):\n",
    "    res=[\"\"]\n",
    "    s=sorted(s)\n",
    "#    print(s)\n",
    "    def backtrack(i, subset):\n",
    "        if i==len(s):\n",
    "            return \n",
    "        \n",
    "        subset.append(s[i])\n",
    "        \n",
    "        #res.append(subset)\n",
    "        res.append(''.join([x for x in subset]))\n",
    "        backtrack(i+1, subset)\n",
    "        subset.pop()\n",
    "        \n",
    "        while i<len(s)-1 and s[i]==s[i+1]:\n",
    "            i+=1\n",
    "        backtrack(i+1, subset)\n",
    "    backtrack(0,[])\n",
    "        \n",
    "    \n",
    "    return res\n",
    "get_distinct_subsets(\"1223\")"
   ]
  },
  {
   "cell_type": "code",
   "execution_count": 59,
   "id": "received-suspect",
   "metadata": {},
   "outputs": [
    {
     "name": "stdout",
     "output_type": "stream",
     "text": [
      "[[8], [4], [4, 8], [2], [2, 8], [2, 4], [2, 4, 8]]\n"
     ]
    },
    {
     "data": {
      "text/plain": [
       "True"
      ]
     },
     "execution_count": 59,
     "metadata": {},
     "output_type": "execute_result"
    }
   ],
   "source": [
    "def check_if_sum_possible(arr, k):\n",
    "    \"\"\"\n",
    "    Args:\n",
    "     arr(list_int64)\n",
    "     k(int64)\n",
    "    Returns:\n",
    "     bool\n",
    "    \"\"\"\n",
    "    # Write your code here.\n",
    "    def get_subsets(arr):\n",
    "        \n",
    "        if len(arr)==0:\n",
    "            return []\n",
    "        \n",
    "        if len(arr)==1:\n",
    "            return [arr]\n",
    "        \n",
    "        res = get_subsets(arr[1:])\n",
    "        curr=[[arr[0]]]\n",
    "\n",
    "        for r in res:\n",
    "            curr.append([arr[0]]+r)\n",
    "        res+=curr\n",
    "        return res\n",
    "    \n",
    "    subsets =get_subsets(arr)\n",
    "    print(subsets)\n",
    "    for subset in subsets:\n",
    "        \n",
    "        if sum(subset)==k and len(subset)!=0: \n",
    "            return True\n",
    "    \n",
    "    \n",
    "    return False\n",
    "check_if_sum_possible([2,4,8], 6)"
   ]
  },
  {
   "cell_type": "code",
   "execution_count": 64,
   "id": "democratic-bolivia",
   "metadata": {},
   "outputs": [
    {
     "name": "stdout",
     "output_type": "stream",
     "text": [
      "(())(())\n"
     ]
    }
   ],
   "source": [
    "a=[\"(()()())\", \"()(())()\", \"()()()()\", \"(((())))\", \"()()(())\", \"((()))()\", \"()((()))\", \"(())()()\", \"()(()())\", \"((())())\", \"(()(()))\", \"(()())()\", \"((()()))\"]\n",
    "b=[\"(((())))\", \"((()()))\", \"((())())\", \"((()))()\", \"(()(()))\", \"(()()())\", \"(()())()\", \"(())(())\", \"(())()()\", \"()((()))\", \"()(()())\", \"()(())()\", \"()()(())\", \"()()()()\"]\n",
    "for x in b:\n",
    "    if x not in a:\n",
    "        print(x)"
   ]
  },
  {
   "cell_type": "code",
   "execution_count": null,
   "id": "clinical-monitoring",
   "metadata": {},
   "outputs": [],
   "source": [
    "# Permute Array Of Integers Duplicates Allowed\n",
    "# Given an array of numbers with possible duplicates, return all of its permutations in any order.\n",
    "\n",
    "# Example\n",
    "# {\n",
    "# \"arr\": [1, 2, 2]\n",
    "# }\n",
    "# Output:\n",
    "\n",
    "# [\n",
    "# [1, 2, 2],\n",
    "# [2, 1, 2],\n",
    "# [2, 2, 1]\n",
    "\n",
    "\n",
    "def get_permutations(arr):\n",
    "    \n",
    "    \n",
    "    return []\n"
   ]
  }
 ],
 "metadata": {
  "kernelspec": {
   "display_name": "Python 3",
   "language": "python",
   "name": "python3"
  },
  "language_info": {
   "codemirror_mode": {
    "name": "ipython",
    "version": 3
   },
   "file_extension": ".py",
   "mimetype": "text/x-python",
   "name": "python",
   "nbconvert_exporter": "python",
   "pygments_lexer": "ipython3",
   "version": "3.8.5"
  }
 },
 "nbformat": 4,
 "nbformat_minor": 5
}
