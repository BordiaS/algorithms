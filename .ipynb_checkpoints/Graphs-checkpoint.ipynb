{
 "cells": [
  {
   "cell_type": "code",
   "execution_count": 3,
   "id": "colonial-plymouth",
   "metadata": {},
   "outputs": [
    {
     "name": "stdout",
     "output_type": "stream",
     "text": [
      "defaultdict(<class 'list'>, {}) defaultdict(<class 'list'>, {})\n",
      "{(0, 1), (1, 2), (2, 1), (0, 0), (2, 2)}\n",
      "defaultdict(<class 'list'>, {0: [0, 1], 1: [2], 2: [1, 2]}) defaultdict(<class 'list'>, {0: [0], 1: [0, 2], 2: [1, 2]})\n"
     ]
    },
    {
     "data": {
      "text/plain": [
       "4"
      ]
     },
     "execution_count": 3,
     "metadata": {},
     "output_type": "execute_result"
    }
   ],
   "source": [
    "import collections\n",
    "def removeStones( stones):\n",
    "    Gx,Gy =  collections.defaultdict(list), collections.defaultdict(list)\n",
    "    print(Gx, Gy)\n",
    "    points = {(i,j)for i,j in stones}\n",
    "    print(points)\n",
    "    for i,j in stones:\n",
    "        Gx[i].append(j)\n",
    "        Gy[j].append(i)\n",
    "    print(Gx,Gy)\n",
    "    \n",
    "    def dfs(i,j):\n",
    "        points.remove((i,j))\n",
    "        for k in Gx[i]:\n",
    "            if (i,k) in points:\n",
    "                dfs(i,k)\n",
    "        for k in Gy[j]:\n",
    "            if (k,j) in points:\n",
    "                dfs(k,j)\n",
    "\n",
    "    c =0\n",
    "    for i,j in stones:\n",
    "        if (i,j) in points:\n",
    "            dfs(i,j)\n",
    "            c+=1\n",
    "\n",
    "    return (len(stones) -c)\n",
    "\n",
    "stones = [[0,0],[0,1],[1,2],[2,1],[2,2]]\n",
    "removeStones( stones)"
   ]
  },
  {
   "cell_type": "markdown",
   "id": "theoretical-cooling",
   "metadata": {},
   "source": [
    "# Minimum Spanning Tree\n",
    "\n",
    "Prims (works only in connected graph):\n",
    "* mst is always formed using n-1 edges\n",
    "* use priority_queue to get edge of minimum weight\n",
    "* mark them visited and add their weight to res\n",
    "\n",
    "Kruskal (works faster in disconected, sparse graph) :\n",
    "* sort the edges wrt weights\n",
    "* loop over the edges and connect them one by one\n",
    "* if it does not form cycle (use DSU to detect)"
   ]
  },
  {
   "cell_type": "code",
   "execution_count": 16,
   "id": "interesting-vacuum",
   "metadata": {},
   "outputs": [
    {
     "name": "stdout",
     "output_type": "stream",
     "text": [
      "[((1, 3), 3), ((0, 1), 4), ((3, 4), 4), ((0, 3), 7), ((0, 4), 7), ((1, 4), 7), ((1, 2), 9), ((2, 3), 10), ((0, 2), 13), ((2, 4), 14)] defaultdict(<class 'list'>, {1: [(3, 3), (4, 7), (2, 9)], 0: [(1, 4), (3, 7), (4, 7), (2, 13)], 3: [(4, 4)], 2: [(3, 10), (4, 14)]}) defaultdict(<class 'list'>, {3: [(1, 3), (0, 7), (2, 10)], 1: [(0, 4)], 4: [(3, 4), (0, 7), (1, 7), (2, 14)], 2: [(1, 9), (0, 13)]})\n"
     ]
    }
   ],
   "source": [
    "def get_cost(points):\n",
    "    costs = [[0]*len(points) for i in range(len(points))]\n",
    "    edges = []  \n",
    "    edges_x,  edges_y = collections.defaultdict(list), collections.defaultdict(list)\n",
    "    for i in range(len(points)): \n",
    "        x1,y1 = points[i]\n",
    "        for j in range(i+1,len(points)): \n",
    "            x2,y2 = points[j]\n",
    "            cost = abs(x2-x1) + abs(y2-y1)\n",
    "            costs[i][j] = cost\n",
    "            costs[j][i] = cost\n",
    "            edges.append( (((i,j), cost) ))\n",
    "    \n",
    "    \n",
    "            \n",
    "    edges.sort(key=lambda x: x[1])\n",
    "    for e in edges:\n",
    "        (i,o),c = e\n",
    "        #print(i,o,c)\n",
    "        edges_x[i].append((o, c))\n",
    "        edges_y[o].append((i, c))\n",
    "    \n",
    "   # print(edges)\n",
    "    return   edges,edges_x,  edges_y\n",
    "    \n",
    "    \n",
    "def dfs(p,points,edges_x,  edges_y):\n",
    "    points.remove(p)\n",
    "    \n",
    "    \n",
    "    \n",
    "def minCostConnectPoints(points):\n",
    "    edges,edges_x,  edges_y = get_cost(points)\n",
    "    #edges.sort(key=lambda x: x[1])\n",
    "   # print(edges)\n",
    "    print(edges,edges_x,  edges_y)\n",
    "    \n",
    "    cost = []\n",
    "    for e in edges:\n",
    "        \n",
    "        dfs(p, points, x, y)\n",
    "        \n",
    "        \n",
    "    \n",
    "    \n",
    "\n",
    "\n",
    "\n",
    "    \n",
    "points = [[0,0],[2,2],[3,10],[5,2],[7,0]]\n",
    "minCostConnectPoints(points)"
   ]
  },
  {
   "cell_type": "markdown",
   "id": "solar-freedom",
   "metadata": {},
   "source": [
    "### Valid Tree  \n",
    "A graph is a valid tree if there is one component and it does not have any cycle"
   ]
  },
  {
   "cell_type": "code",
   "execution_count": 50,
   "id": "automatic-blind",
   "metadata": {},
   "outputs": [
    {
     "name": "stdout",
     "output_type": "stream",
     "text": [
      "True\n",
      "False\n"
     ]
    }
   ],
   "source": [
    "# Valid Tree\n",
    "# O(n+m) just added another array of size n\n",
    "# O(n+m) added constant time else block check\n",
    "# 1. no cycles\n",
    "# 2. 1 connected component\n",
    "def get_adjacency_list(edges):\n",
    "    graph = {} \n",
    "    for edge in edges:\n",
    "        if edge[0] in graph:\n",
    "            graph[edge[0]].append(edge[1])\n",
    "        else:\n",
    "            graph[edge[0]]=[edge[1]]\n",
    "        \n",
    "        if edge[1] in graph:\n",
    "            graph[edge[1]].append(edge[0])\n",
    "        else:\n",
    "            graph[edge[1]]=[edge[0]]        \n",
    "    return graph\n",
    "\n",
    "def validTree(n, edges):\n",
    "    adj_map=get_adjacency_list(edges)\n",
    "    visited = [-1] * n\n",
    "    parent = [-1] * n\n",
    "    components = 0    \n",
    "    def dfs(node):\n",
    "        visited[node] = 1\n",
    "        for neighbor in adj_map[node]:\n",
    "            if visited[neighbor] == -1:\n",
    "                parent[neighbor] = node\n",
    "                dfs(neighbor)\n",
    "            else:\n",
    "                if parent[node] !=  neighbor:\n",
    "                    return False                   #\n",
    "        return True\n",
    "    \n",
    "    for i in range(n):\n",
    "        if visited[i] == -1:\n",
    "            if not dfs(i):   #if there is a cycle , return False\n",
    "                return False\n",
    "            components+=1\n",
    "    if components != 1:\n",
    "        return False\n",
    "    return True\n",
    "\n",
    "n = 5; edges = [[0,1],[0,2],[0,3],[1,4]]\n",
    "print(validTree(n, edges))\n",
    "n = 5; edges = [[0,1],[1,2],[2,3],[1,3],[1,4]]\n",
    "print(validTree(n, edges))"
   ]
  },
  {
   "cell_type": "code",
   "execution_count": 2,
   "id": "grave-wisconsin",
   "metadata": {},
   "outputs": [
    {
     "data": {
      "text/plain": [
       "7"
      ]
     },
     "execution_count": 2,
     "metadata": {},
     "output_type": "execute_result"
    }
   ],
   "source": [
    "#islands #connected components in an undirected graph\n",
    "\n",
    "def dfs_visit(i,j,matrix):\n",
    "    if i>=0 and i<len(matrix) and j>=0 and j<len(matrix[0]):\n",
    "        if matrix[i][j] ==1 :\n",
    "            matrix[i][j] = 0\n",
    "            dfs_visit(i-1,j,matrix)\n",
    "            dfs_visit(i+1,j,matrix)\n",
    "            dfs_visit(i,j-1,matrix)\n",
    "            dfs_visit(i,j+1,matrix)\n",
    "        \n",
    "\n",
    "def count_islands(matrix):\n",
    "    land =0\n",
    "    for i in range(len(matrix)):\n",
    "        for j in range(len(matrix[0])):\n",
    "        #    print(matrix)\n",
    "            if matrix[i][j]==1:\n",
    "                dfs_visit(i,j,matrix)\n",
    "                land+=1\n",
    "    return land\n",
    "\n",
    "grid =  [\n",
    "[1, 0, 0, 0, 0],\n",
    "[0, 1, 0, 0, 0],\n",
    "[0, 0, 1, 0, 1],\n",
    "[0, 1, 0, 1, 0],\n",
    "[0, 1, 0, 0, 0],\n",
    "[0, 0, 1, 1, 1],\n",
    "[0, 0, 0, 0, 0]\n",
    "]\n",
    "count_islands(grid)\n"
   ]
  },
  {
   "cell_type": "code",
   "execution_count": 6,
   "id": "false-shame",
   "metadata": {},
   "outputs": [
    {
     "name": "stdout",
     "output_type": "stream",
     "text": [
      "0 0 [(0, 0)]\n",
      "3 1 [(3, 1), (4, 1)]\n",
      "5 2 [(5, 2), (5, 3), (5, 4)]\n"
     ]
    },
    {
     "data": {
      "text/plain": [
       "3"
      ]
     },
     "execution_count": 6,
     "metadata": {},
     "output_type": "execute_result"
    }
   ],
   "source": [
    "def dfs(i,j,grid,land_coordinates):\n",
    "    if i>=0 and i<len(grid) and  j>=0 and j<len(grid[i]):\n",
    "\n",
    "        if grid[i][j]==1:\n",
    "\n",
    "            land_coordinates.append((i,j))\n",
    "            grid[i][j]=0\n",
    "            land_coordinates=dfs(i-1,j,grid,land_coordinates)\n",
    "            land_coordinates=dfs(i+1,j,grid,land_coordinates)\n",
    "            land_coordinates=dfs(i,j-1,grid,land_coordinates)\n",
    "            land_coordinates=dfs(i,j+1,grid,land_coordinates)\n",
    "    return land_coordinates\n",
    "\n",
    "def max_island_size(grid):\n",
    "    max_land= 0\n",
    "    land_coordinates=[]\n",
    "    for i in range(len(grid)):\n",
    "        for j in range(len(grid[i])):\n",
    "            if grid[i][j]==1:\n",
    "                \n",
    "                land_coordinates=dfs(i,j,grid,land_coordinates)    \n",
    "                if len(land_coordinates) > max_land:\n",
    "                    max_land=len(land_coordinates)\n",
    "                    print(i,j, land_coordinates)\n",
    "                land_coordinates=[]\n",
    "\n",
    "    return max_land\n",
    "\n",
    "grid = [\n",
    "[1, 1, 0],\n",
    "[1, 1, 0],\n",
    "[0, 0, 1]\n",
    "]\n",
    "\n",
    "grid =  [\n",
    "[1, 0, 0, 0, 0],\n",
    "[0, 1, 0, 0, 0],\n",
    "[0, 0, 1, 0, 1],\n",
    "[0, 1, 0, 1, 0],\n",
    "[0, 1, 0, 0, 0],\n",
    "[0, 0, 1, 1, 1],\n",
    "[0, 0, 0, 0, 0]\n",
    "]\n",
    "max_island_size(grid)\n"
   ]
  },
  {
   "cell_type": "code",
   "execution_count": null,
   "id": "tracked-numbers",
   "metadata": {},
   "outputs": [],
   "source": [
    "\n",
    "def dfs(graph, D, node):\n",
    "    if D[node] ==0:\n",
    "        D[node] =1\n",
    "        if node in graph: ## for corner case when there are no edges from a node\n",
    "            for nodes in graph[node]:\n",
    "                dfs(graph, D, nodes)\n",
    "\n",
    "\n",
    "def get_adjacency_list(edges):\n",
    "    graph = {} \n",
    "    for edge in edges:\n",
    "        if edge[0] in graph:\n",
    "            graph[edge[0]].append(edge[1])\n",
    "        else:\n",
    "            graph[edge[0]]=[edge[1]]\n",
    "        \n",
    "        if edge[1] in graph:\n",
    "            graph[edge[1]].append(edge[0])\n",
    "        else:\n",
    "            graph[edge[1]]=[edge[0]]\n",
    "        \n",
    "    return graph\n",
    "        \n",
    "def number_of_connected_components(n, edges):\n",
    "\n",
    "    # Dictionary to keep a track whether the node has been visited or not\n",
    "    D={}\n",
    "    for i in range(n):\n",
    "        D[i]=0\n",
    "    # make an adjacency list \n",
    "    graph = get_adjacency_list(edges)\n",
    "    #print(graph)\n",
    "    \n",
    "    cc = 0\n",
    "    \n",
    "    for node in D:\n",
    "        if D[node] == 0:\n",
    "            dfs(graph, D, node)\n",
    "            cc+=1\n",
    "        \n",
    "    \n",
    "    return cc\n"
   ]
  }
 ],
 "metadata": {
  "kernelspec": {
   "display_name": "Python 3",
   "language": "python",
   "name": "python3"
  },
  "language_info": {
   "codemirror_mode": {
    "name": "ipython",
    "version": 3
   },
   "file_extension": ".py",
   "mimetype": "text/x-python",
   "name": "python",
   "nbconvert_exporter": "python",
   "pygments_lexer": "ipython3",
   "version": "3.8.5"
  }
 },
 "nbformat": 4,
 "nbformat_minor": 5
}
