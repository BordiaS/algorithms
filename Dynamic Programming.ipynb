{
 "cells": [
  {
   "cell_type": "code",
   "execution_count": 1,
   "id": "adverse-folder",
   "metadata": {},
   "outputs": [
    {
     "ename": "IndexError",
     "evalue": "list index out of range",
     "output_type": "error",
     "traceback": [
      "\u001b[0;31m---------------------------------------------------------------------------\u001b[0m",
      "\u001b[0;31mIndexError\u001b[0m                                Traceback (most recent call last)",
      "\u001b[0;32m<ipython-input-1-05e77bc563ef>\u001b[0m in \u001b[0;36m<module>\u001b[0;34m\u001b[0m\n\u001b[1;32m     13\u001b[0m \u001b[0;34m\u001b[0m\u001b[0m\n\u001b[1;32m     14\u001b[0m \u001b[0mprofits\u001b[0m \u001b[0;34m=\u001b[0m \u001b[0;34m[\u001b[0m\u001b[0;36m1\u001b[0m\u001b[0;34m,\u001b[0m\u001b[0;36m5\u001b[0m\u001b[0;34m,\u001b[0m\u001b[0;36m8\u001b[0m\u001b[0;34m,\u001b[0m\u001b[0;36m9\u001b[0m\u001b[0;34m]\u001b[0m\u001b[0;34m\u001b[0m\u001b[0;34m\u001b[0m\u001b[0m\n\u001b[0;32m---> 15\u001b[0;31m \u001b[0mget_maximum_profit\u001b[0m\u001b[0;34m(\u001b[0m\u001b[0mprofits\u001b[0m\u001b[0;34m)\u001b[0m\u001b[0;34m\u001b[0m\u001b[0;34m\u001b[0m\u001b[0m\n\u001b[0m",
      "\u001b[0;32m<ipython-input-1-05e77bc563ef>\u001b[0m in \u001b[0;36mget_maximum_profit\u001b[0;34m(price)\u001b[0m\n\u001b[1;32m      5\u001b[0m     \u001b[0mmax_array\u001b[0m \u001b[0;34m=\u001b[0m \u001b[0;34m[\u001b[0m\u001b[0;36m0\u001b[0m\u001b[0;34m]\u001b[0m\u001b[0;34m*\u001b[0m\u001b[0mlen\u001b[0m\u001b[0;34m(\u001b[0m\u001b[0mprices\u001b[0m\u001b[0;34m)\u001b[0m\u001b[0;34m\u001b[0m\u001b[0;34m\u001b[0m\u001b[0m\n\u001b[1;32m      6\u001b[0m     \u001b[0;32mfor\u001b[0m \u001b[0mi\u001b[0m \u001b[0;32min\u001b[0m \u001b[0mrange\u001b[0m\u001b[0;34m(\u001b[0m\u001b[0;36m1\u001b[0m\u001b[0;34m,\u001b[0m\u001b[0mlen\u001b[0m\u001b[0;34m(\u001b[0m\u001b[0mprices\u001b[0m\u001b[0;34m)\u001b[0m\u001b[0;34m+\u001b[0m\u001b[0;36m1\u001b[0m\u001b[0;34m)\u001b[0m\u001b[0;34m:\u001b[0m\u001b[0;34m\u001b[0m\u001b[0;34m\u001b[0m\u001b[0m\n\u001b[0;32m----> 7\u001b[0;31m         \u001b[0mp\u001b[0m \u001b[0;34m=\u001b[0m \u001b[0mprices\u001b[0m\u001b[0;34m[\u001b[0m\u001b[0mi\u001b[0m\u001b[0;34m]\u001b[0m\u001b[0;34m\u001b[0m\u001b[0;34m\u001b[0m\u001b[0m\n\u001b[0m\u001b[1;32m      8\u001b[0m         \u001b[0;32mfor\u001b[0m \u001b[0mj\u001b[0m \u001b[0;32min\u001b[0m \u001b[0mrange\u001b[0m\u001b[0;34m(\u001b[0m\u001b[0mi\u001b[0m\u001b[0;34m)\u001b[0m\u001b[0;34m:\u001b[0m\u001b[0;34m\u001b[0m\u001b[0;34m\u001b[0m\u001b[0m\n\u001b[1;32m      9\u001b[0m             \u001b[0mp\u001b[0m\u001b[0;34m=\u001b[0m \u001b[0mmax\u001b[0m\u001b[0;34m(\u001b[0m\u001b[0mp\u001b[0m\u001b[0;34m,\u001b[0m \u001b[0mprices\u001b[0m\u001b[0;34m[\u001b[0m\u001b[0mj\u001b[0m\u001b[0;34m]\u001b[0m\u001b[0;34m+\u001b[0m\u001b[0mprices\u001b[0m\u001b[0;34m[\u001b[0m\u001b[0mi\u001b[0m\u001b[0;34m-\u001b[0m\u001b[0mj\u001b[0m\u001b[0;34m]\u001b[0m\u001b[0;34m)\u001b[0m\u001b[0;34m\u001b[0m\u001b[0;34m\u001b[0m\u001b[0m\n",
      "\u001b[0;31mIndexError\u001b[0m: list index out of range"
     ]
    }
   ],
   "source": [
    "# cutting the rod\n",
    "def get_maximum_profit(price):\n",
    "    \n",
    "    prices=[0]+price\n",
    "    max_array = [0]*len(prices)\n",
    "    for i in range(1,len(prices)+1):\n",
    "        p = prices[i]\n",
    "        for j in range(i):\n",
    "            p= max(p, prices[j]+prices[i-j])       \n",
    "            \n",
    "        max_array[i]=p\n",
    "    return max_array\n",
    "\n",
    "profits = [1,5,8,9]\n",
    "get_maximum_profit(profits)"
   ]
  },
  {
   "cell_type": "code",
   "execution_count": 30,
   "id": "impressed-airplane",
   "metadata": {},
   "outputs": [
    {
     "name": "stdout",
     "output_type": "stream",
     "text": [
      "1 0 1 1 -inf\n",
      "2 0 2 5 -inf\n",
      "2 1 1 2 5\n",
      "3 0 3 8 -inf\n",
      "3 1 2 6 8\n",
      "3 2 1 6 8\n",
      "4 0 4 9 -inf\n",
      "4 1 3 9 9\n",
      "4 2 2 10 9\n",
      "4 3 1 9 10\n"
     ]
    },
    {
     "data": {
      "text/plain": [
       "10"
      ]
     },
     "execution_count": 30,
     "metadata": {},
     "output_type": "execute_result"
    }
   ],
   "source": [
    "def get_maximum_profit(price):\n",
    "    \n",
    "    prices=[0]+price\n",
    "    for i in range(1, len(price)+1):\n",
    "        maxi = float('-inf')\n",
    "        for j in range(0, i):\n",
    "           # print(i, j, i-j, prices[j] + prices[i-j], maxi)\n",
    "            maxi=max(prices[j] + prices[i-j], maxi)\n",
    "\n",
    "        prices[i] = maxi\n",
    "    return prices[len(price)]\n",
    "profits = [1,5,8,9]\n",
    "get_maximum_profit(profits)"
   ]
  },
  {
   "cell_type": "code",
   "execution_count": 52,
   "id": "novel-continent",
   "metadata": {},
   "outputs": [
    {
     "name": "stdout",
     "output_type": "stream",
     "text": [
      "[9223372036854775807, 9223372036854775807, 9223372036854775807, 9223372036854775807, 9223372036854775807, 9223372036854775807, 9223372036854775807, 9223372036854775807, 9223372036854775807, 9223372036854775807, 9223372036854775807, 9223372036854775807]\n",
      "[9223372036854775807, 1, 1, 9223372036854775807, 9223372036854775807, 1, 9223372036854775807, 9223372036854775807, 9223372036854775807, 9223372036854775807, 9223372036854775807, 9223372036854775807]\n"
     ]
    },
    {
     "data": {
      "text/plain": [
       "[-1, 1, 1, 2, 2, 1, 2, 2, 3, 3, 2, 3]"
      ]
     },
     "execution_count": 52,
     "metadata": {},
     "output_type": "execute_result"
    }
   ],
   "source": [
    "#https://leetcode.com/problems/coin-change/\n",
    "import sys\n",
    "def coinChange(coins, amount):\n",
    "    \n",
    "    num_coins = [ sys.maxsize]*(amount+1)\n",
    "    print(num_coins)\n",
    "    for i in range(len(coins)):\n",
    "        if coins[i] <=amount:\n",
    "            num_coins[coins[i]]=1\n",
    "    print(num_coins)\n",
    "    for i in range(1,len(num_coins)):\n",
    "\n",
    "        \n",
    "        l=1\n",
    "        r=i-1\n",
    "        while l<=r :\n",
    "\n",
    "                num_coins[i] = min(num_coins[i], num_coins[l]+num_coins[r])\n",
    "\n",
    "                l+=1\n",
    "                r=r-1\n",
    "    \n",
    "    for i in range(len( num_coins )):\n",
    "        \n",
    "        if num_coins[i] ==sys.maxsize:\n",
    "            num_coins[i] = -1\n",
    "\n",
    "    return num_coins\n",
    "            \n",
    "        \n",
    "\n",
    "coinChange([1,2,5], 11)       "
   ]
  },
  {
   "cell_type": "code",
   "execution_count": 53,
   "id": "portuguese-philippines",
   "metadata": {},
   "outputs": [
    {
     "name": "stdout",
     "output_type": "stream",
     "text": [
      "[9223372036854775807]\n",
      "[9223372036854775807]\n"
     ]
    },
    {
     "data": {
      "text/plain": [
       "[-1]"
      ]
     },
     "execution_count": 53,
     "metadata": {},
     "output_type": "execute_result"
    }
   ],
   "source": [
    "coinChange([1], 0)       "
   ]
  },
  {
   "cell_type": "code",
   "execution_count": 19,
   "id": "twelve-bones",
   "metadata": {},
   "outputs": [
    {
     "name": "stdout",
     "output_type": "stream",
     "text": [
      "[0, 1, 1, 2, 2, 1, 2, 2, 3, 3, 2, 3]\n"
     ]
    },
    {
     "data": {
      "text/plain": [
       "3"
      ]
     },
     "execution_count": 19,
     "metadata": {},
     "output_type": "execute_result"
    }
   ],
   "source": [
    "\n",
    "def minimum_coins(coins, value):\n",
    "    num_coins = [0]+[float('+inf')]*value\n",
    "    \n",
    "    for i in range(1,len(num_coins)):\n",
    "        for j in coins:\n",
    "            if j <=i:\n",
    "                num_coins[i]=min(num_coins[i - j], num_coins[i])\n",
    "        num_coins[i]+=1            \n",
    "    #num_coins[n] = min(num_coins[n-5], num_coins[n-3], num_coins[n-1]) +1\n",
    "    return num_coins[value]\n",
    "minimum_coins([1,2,5], 11)       "
   ]
  },
  {
   "cell_type": "code",
   "execution_count": 20,
   "id": "inner-obligation",
   "metadata": {},
   "outputs": [
    {
     "data": {
      "text/plain": [
       "(1, 2, 3)"
      ]
     },
     "execution_count": 20,
     "metadata": {},
     "output_type": "execute_result"
    }
   ],
   "source": [
    "def count_ways_to_climb(steps, n):\n",
    "    \n",
    "    num_ways = [0]+[0]*n\n",
    "    for step in steps:\n",
    "        if step <= n:\n",
    "            num_ways[step]=1\n",
    "    \n",
    "    for j in range(1,n+1):        \n",
    "        for step in steps:\n",
    "            if step <=j : \n",
    "                num_ways[j]+= num_ways[j-step]\n",
    "                        \n",
    "    return num_ways[n]\n",
    "\n",
    "count_ways_to_climb([1,2], 1),count_ways_to_climb([1,2], 2),count_ways_to_climb([2,3], 7)"
   ]
  },
  {
   "cell_type": "code",
   "execution_count": 35,
   "id": "coupled-landing",
   "metadata": {},
   "outputs": [
    {
     "name": "stdout",
     "output_type": "stream",
     "text": [
      "0 3 [True, True, True, True, False, False]\n",
      "1 1 [True, True, True, True, False, False]\n",
      "2 1 [True, True, True, True, False, False]\n",
      "3 0 [True, True, True, True, False, False]\n",
      "4 2 [True, True, True, True, False, False]\n",
      "5 4 [True, True, True, True, False, False]\n",
      "  ..... \n",
      "0 2 [True, True, True, False, False, False]\n",
      "1 3 [True, True, True, True, True, False]\n",
      "2 1 [True, True, True, True, True, False]\n",
      "3 0 [True, True, True, True, True, False]\n",
      "4 4 [True, True, True, True, True, True]\n",
      "5 7 [True, True, True, True, True, True]\n",
      "  ..... \n"
     ]
    },
    {
     "data": {
      "text/plain": [
       "(False, True)"
      ]
     },
     "execution_count": 35,
     "metadata": {},
     "output_type": "execute_result"
    }
   ],
   "source": [
    "\n",
    "def canJump( nums):\n",
    "    n=len(nums)\n",
    "    bool_array= [True]+[False]*(len(nums)-1)\n",
    "    \n",
    "    for i in range(n):\n",
    "        if bool_array[i]==True:\n",
    "            for j in range(i+1, i+nums[i]+1):\n",
    "                if j <n:\n",
    "                    bool_array[j]=True\n",
    "    return bool_array[-1]\n",
    "\n",
    "canJump([3, 1, 1, 0, 2, 4]), canJump([2, 3, 1, 0, 4, 7])\n",
    "\n",
    "##Exceeds time limit"
   ]
  },
  {
   "cell_type": "code",
   "execution_count": 36,
   "id": "colored-fossil",
   "metadata": {},
   "outputs": [
    {
     "data": {
      "text/plain": [
       "(False, True)"
      ]
     },
     "execution_count": 36,
     "metadata": {},
     "output_type": "execute_result"
    }
   ],
   "source": [
    "\n",
    "def canJump( nums):\n",
    "    n=len(nums)\n",
    "    leftmost_good_index = n-1\n",
    "    for i in range(n-2, -1, -1):\n",
    "        \n",
    "        if nums[i] + i >= leftmost_good_index:\n",
    "            leftmost_good_index=i\n",
    "        \n",
    "    return  leftmost_good_index==0\n",
    "\n",
    "canJump([3, 1, 1, 0, 2, 4]), canJump([2, 3, 1, 0, 4, 7])\n",
    "\n",
    "##Exceeds time limit"
   ]
  },
  {
   "cell_type": "code",
   "execution_count": 50,
   "id": "vertical-navigator",
   "metadata": {},
   "outputs": [
    {
     "data": {
      "text/plain": [
       "(4, 12, 13)"
      ]
     },
     "execution_count": 50,
     "metadata": {},
     "output_type": "execute_result"
    }
   ],
   "source": [
    "def rob(nums):\n",
    "  \n",
    "\n",
    "        if len(nums)==1:\n",
    "            return nums[0]\n",
    "        if len(nums)==2:\n",
    "            return max(nums[0],nums[1])\n",
    "        res = [0]*(len(nums))\n",
    "        res[0] = nums[0]\n",
    "        res[1] = max(nums[0], nums[1])\n",
    "\n",
    "        for i in range(2, len(res)):        \n",
    "            res[i] = max(nums[i]+res[i-2], res[i-1])\n",
    "        return res[-1]\n",
    "rob([1,2,3,1])   , rob([2,7,9,3,1]), rob ([6, 1, 2, 7])"
   ]
  },
  {
   "cell_type": "code",
   "execution_count": 51,
   "id": "bored-local",
   "metadata": {},
   "outputs": [],
   "source": [
    "move = {1: [6, 8], 2:[9,7], 3:[4,8], 4:[3,9,0], 5:[], 6:[1,7,0], 7:[2,6], 8:[1,3], 9:[4,2], 0:[4,6]}"
   ]
  },
  {
   "cell_type": "code",
   "execution_count": 52,
   "id": "constitutional-terror",
   "metadata": {},
   "outputs": [
    {
     "data": {
      "text/plain": [
       "[6, 8]"
      ]
     },
     "execution_count": 52,
     "metadata": {},
     "output_type": "execute_result"
    }
   ],
   "source": [
    "move[1]"
   ]
  },
  {
   "cell_type": "code",
   "execution_count": 59,
   "id": "earned-wildlife",
   "metadata": {},
   "outputs": [
    {
     "name": "stdout",
     "output_type": "stream",
     "text": [
      "1\n",
      "6\n",
      "1\n",
      "7\n",
      "0\n",
      "8\n",
      "1\n",
      "3\n"
     ]
    },
    {
     "data": {
      "text/plain": [
       "5"
      ]
     },
     "execution_count": 59,
     "metadata": {},
     "output_type": "execute_result"
    }
   ],
   "source": [
    "## recursive exponential timing\n",
    "def count_phone_numbers_of_given_length(startdigit, phonenumberlength):\n",
    "\n",
    "    move = {1: [6, 8], 2:[9,7], 3:[4,8], 4:[3,9,0], 5:[], 6:[1,7,0], 7:[2,6], 8:[1,3], 9:[4,2], 0:[4,6]}\n",
    "    n = 0\n",
    "    \n",
    "    if phonenumberlength ==1:\n",
    "        return 1\n",
    "    for i in move[startdigit]:\n",
    "        n+=count_phone_numbers_of_given_length(i, phonenumberlength-1) \n",
    "        \n",
    "    \n",
    "    return n\n",
    "count_phone_numbers_of_given_length(1, 3)"
   ]
  },
  {
   "cell_type": "code",
   "execution_count": 60,
   "id": "sophisticated-dallas",
   "metadata": {},
   "outputs": [
    {
     "data": {
      "text/plain": [
       "5"
      ]
     },
     "execution_count": 60,
     "metadata": {},
     "output_type": "execute_result"
    }
   ],
   "source": [
    "## recursive exponential timing\n",
    "def count_phone_numbers_of_given_length(startdigit, phonenumberlength):\n",
    "\n",
    "    move = [[4,6],[6, 8], [9,7], [4,8], [3,9,0], [], [1,7,0], [2,6], [1,3], [4,2], ]\n",
    "    n = 0\n",
    "    \n",
    "    if phonenumberlength ==1:\n",
    "        return 1\n",
    "    for i in move[startdigit]:\n",
    "        n+=count_phone_numbers_of_given_length(i, phonenumberlength-1) \n",
    "        \n",
    "    \n",
    "    return n\n",
    "count_phone_numbers_of_given_length(1, 3)"
   ]
  },
  {
   "cell_type": "code",
   "execution_count": 68,
   "id": "single-norman",
   "metadata": {},
   "outputs": [],
   "source": [
    "#T=(O(phonenumberlength))\n",
    "def count_phone_numbers_of_given_length(startdigit, phonenumberlength):\n",
    "    move = [[4,6],[6, 8], [9,7], [4,8], [3,9,0], [], [1,7,0], [2,6], [1,3], [4,2], ]\n",
    "    dp=[]\n",
    "    \n",
    "    dp.append([0]*10)\n",
    "    dp.append([1]*10)\n",
    "    for i in range(2,phonenumberlength+1):\n",
    "        arr=[0]*10\n",
    "        for j in range(10):\n",
    "            for p in move[j]:\n",
    "                arr[j]+=dp[i-1][p]\n",
    "        dp.append(arr)\n",
    "    \n",
    "    return dp[phonenumberlength][startdigit]\n"
   ]
  },
  {
   "cell_type": "code",
   "execution_count": 119,
   "id": "alone-ceremony",
   "metadata": {},
   "outputs": [
    {
     "name": "stdout",
     "output_type": "stream",
     "text": [
      "True\n",
      "False\n",
      "True\n",
      "True\n"
     ]
    }
   ],
   "source": [
    "#https://leetcode.com/problems/word-break/\n",
    "def wordBreak(s, wordDict):\n",
    "        L =len(s)+1\n",
    "        arr = [0]*L\n",
    "        arr[0]=1\n",
    "        for i in range(1,L):\n",
    "            for j in range(i,L):\n",
    "                #print(s[i-1:j] )\n",
    "                \n",
    "                if arr[i-1]==1 and s[i-1:j] in wordDict:\n",
    "                    arr[j]=1\n",
    "                 #   print(i-1,j,s[i-1:j] )\n",
    "    #print(\"__________\")\n",
    "        return arr[-1]==1\n",
    "    \n",
    "s = \"applepenapple\"\n",
    "wordDict = [\"apple\",\"pen\"]\n",
    "print(wordBreak(s, wordDict))\n",
    "s = \"catsandog\"\n",
    "wordDict = [\"cats\",\"dog\",\"sand\",\"and\",\"cat\"]\n",
    "print(wordBreak(s, wordDict))\n",
    "s = \"leetcode\"\n",
    "wordDict = [\"leet\",\"code\"]\n",
    "print(wordBreak(s, wordDict))\n",
    "wordDict= [\"kick\", \"start\", \"kickstart\", \"is\", \"awe\", \"some\", \"awesome\"]\n",
    "s= \"kickstartisawesome\"\n",
    "print(wordBreak(s, wordDict))"
   ]
  },
  {
   "cell_type": "code",
   "execution_count": 125,
   "id": "threatened-blocking",
   "metadata": {},
   "outputs": [
    {
     "name": "stdout",
     "output_type": "stream",
     "text": [
      "kick\n",
      "kickstart\n",
      "start\n",
      "is\n",
      "awe\n",
      "awesome\n",
      "some\n"
     ]
    },
    {
     "data": {
      "text/plain": [
       "4"
      ]
     },
     "execution_count": 125,
     "metadata": {},
     "output_type": "execute_result"
    }
   ],
   "source": [
    "def word_break_count(wordDict, s):\n",
    "    L=len(s)+1\n",
    "    arr = [0]*(len(s)+1)\n",
    "    arr[0]=1\n",
    "    for i in range(1,L):\n",
    "        for j in range(i,L):\n",
    "            #print(s[i-1:j])\n",
    "            if arr[i-1]>=1 and s[i-1:j] in wordDict:\n",
    "                print(s[i-1:j])\n",
    "                arr[j]+=arr[i-1]\n",
    "                \n",
    "    return arr[-1]\n",
    "dictionary= [\"kick\", \"start\", \"kickstart\", \"is\", \"awe\", \"some\", \"awesome\"]\n",
    "txt= \"kickstartisawesome\"\n",
    "word_break_count(dictionary, txt)"
   ]
  },
  {
   "cell_type": "code",
   "execution_count": 128,
   "id": "isolated-benchmark",
   "metadata": {},
   "outputs": [],
   "source": [
    "a =[1,2,4]\n",
    "b = {5,6}\n",
    "a.extend(b)"
   ]
  },
  {
   "cell_type": "code",
   "execution_count": 129,
   "id": "specific-jaguar",
   "metadata": {},
   "outputs": [
    {
     "data": {
      "text/plain": [
       "[1, 2, 4, 5, 6]"
      ]
     },
     "execution_count": 129,
     "metadata": {},
     "output_type": "execute_result"
    }
   ],
   "source": [
    "a"
   ]
  },
  {
   "cell_type": "code",
   "execution_count": 139,
   "id": "pacific-stamp",
   "metadata": {},
   "outputs": [
    {
     "name": "stdout",
     "output_type": "stream",
     "text": [
      "[7, 3, 6] [6, 6, 22] [2, 8, 21]\n"
     ]
    }
   ],
   "source": [
    "# Paint House\n",
    "\n",
    "def minCost( costs):\n",
    "    \"\"\"\n",
    "    :type costs: List[List[int]]\n",
    "    :rtype: int\n",
    "    \"\"\"\n",
    "    red  = [0]*len(costs)\n",
    "    green = [0]*len(costs)\n",
    "    blue  = [0]*len(costs)\n",
    "    \n",
    "    red[0] = costs[0][0]\n",
    "    green[0] = costs[0][1]\n",
    "    blue[0] = costs[0][2]\n",
    "    \n",
    "    for i in range(1,len(costs)):\n",
    "        red[i]= costs[i][0] + min(blue[i-1], green [i-1])\n",
    "        green[i]= costs[i][1] + min(blue[i-1], red [i-1])\n",
    "        blue[i]= costs[i][2] +  min(red[i-1], green [i-1])\n",
    "        \n",
    "    print(red, green, blue)\n",
    "costs = [[17,2,17],[16,16,5],[14,3,19]]\n",
    "costs = [[7,6,2],[1,4,2],[0,19,18]]\n",
    "minCost( costs)\n",
    "#minCost( costs)"
   ]
  },
  {
   "cell_type": "code",
   "execution_count": 142,
   "id": "express-employment",
   "metadata": {},
   "outputs": [
    {
     "data": {
      "text/plain": [
       "[1, 2, 3, 4, 5]"
      ]
     },
     "execution_count": 142,
     "metadata": {},
     "output_type": "execute_result"
    }
   ],
   "source": [
    "record_id =0 \n",
    "[record_id +x for  x in list(range(1,6))]"
   ]
  },
  {
   "cell_type": "code",
   "execution_count": 143,
   "id": "noted-twenty",
   "metadata": {},
   "outputs": [
    {
     "data": {
      "text/plain": [
       "['shikha', 'bordia']"
      ]
     },
     "execution_count": 143,
     "metadata": {},
     "output_type": "execute_result"
    }
   ],
   "source": [
    "\"shikha bordia\".split()"
   ]
  },
  {
   "cell_type": "code",
   "execution_count": 144,
   "id": "silver-fusion",
   "metadata": {},
   "outputs": [
    {
     "data": {
      "text/plain": [
       "['shikha', 'bordia']"
      ]
     },
     "execution_count": 144,
     "metadata": {},
     "output_type": "execute_result"
    }
   ],
   "source": [
    "\"shikha  bordia\".split()"
   ]
  },
  {
   "cell_type": "code",
   "execution_count": 145,
   "id": "general-tuner",
   "metadata": {},
   "outputs": [
    {
     "data": {
      "text/plain": [
       "['shikha', 'bordia']"
      ]
     },
     "execution_count": 145,
     "metadata": {},
     "output_type": "execute_result"
    }
   ],
   "source": [
    "\"shikha bordia\".split()"
   ]
  },
  {
   "cell_type": "code",
   "execution_count": null,
   "id": "valid-narrative",
   "metadata": {},
   "outputs": [],
   "source": []
  }
 ],
 "metadata": {
  "kernelspec": {
   "display_name": "Python 3",
   "language": "python",
   "name": "python3"
  },
  "language_info": {
   "codemirror_mode": {
    "name": "ipython",
    "version": 3
   },
   "file_extension": ".py",
   "mimetype": "text/x-python",
   "name": "python",
   "nbconvert_exporter": "python",
   "pygments_lexer": "ipython3",
   "version": "3.8.5"
  }
 },
 "nbformat": 4,
 "nbformat_minor": 5
}
